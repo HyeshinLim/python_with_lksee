{
 "cells": [
  {
   "cell_type": "markdown",
   "id": "7fddaace-76c6-47b1-af5e-7cd2ec4e054e",
   "metadata": {
    "tags": []
   },
   "source": [
    "# Pandas"
   ]
  },
  {
   "cell_type": "markdown",
   "id": "100ca12f-cc40-4a21-8046-97a14996a768",
   "metadata": {
    "tags": []
   },
   "source": [
    "### DataFrame"
   ]
  },
  {
   "cell_type": "markdown",
   "id": "d07a7e3b-4470-4b03-b669-935366c3f185",
   "metadata": {},
   "source": [
    "첫번째 줄 문장<br>\n",
    "두번째 줄 문장"
   ]
  },
  {
   "cell_type": "markdown",
   "id": "4bf3286d-b618-446e-9ee4-b08c606db03a",
   "metadata": {},
   "source": [
    "- 내용\n",
    "- 내용"
   ]
  },
  {
   "cell_type": "markdown",
   "id": "53b09d89-f7b9-46ad-b45d-7e3a006a593e",
   "metadata": {},
   "source": [
    "1. 내용\n",
    "---\n",
    "2. 내용"
   ]
  }
 ],
 "metadata": {
  "kernelspec": {
   "display_name": "Python 3 (ipykernel)",
   "language": "python",
   "name": "python3"
  },
  "language_info": {
   "codemirror_mode": {
    "name": "ipython",
    "version": 3
   },
   "file_extension": ".py",
   "mimetype": "text/x-python",
   "name": "python",
   "nbconvert_exporter": "python",
   "pygments_lexer": "ipython3",
   "version": "3.9.13"
  }
 },
 "nbformat": 4,
 "nbformat_minor": 5
}
