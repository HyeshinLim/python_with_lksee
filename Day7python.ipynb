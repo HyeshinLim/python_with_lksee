{
 "cells": [
  {
   "cell_type": "code",
   "execution_count": 4,
   "id": "0ff9fb50-bf76-42d8-be82-39f2155f79ed",
   "metadata": {},
   "outputs": [
    {
     "name": "stdout",
     "output_type": "stream",
     "text": [
      "[6, 12, 18, 24]\n"
     ]
    }
   ],
   "source": [
    "a = [i*2 for i in range(1,13) if i % 3 ==0 ]\n",
    "print(a)"
   ]
  },
  {
   "cell_type": "code",
   "execution_count": 9,
   "id": "d9d8e72b-603b-468c-9a09-30aef1f8c62f",
   "metadata": {},
   "outputs": [
    {
     "name": "stdout",
     "output_type": "stream",
     "text": [
      "{75, 45, 15, 90, 60, 30}\n"
     ]
    }
   ],
   "source": [
    "# 100이하 3의 배수 구하고 a라는 변수에 리스트로 담기\n",
    "a = [i for i in range(3,101,3)]\n",
    "# 100이하 5의 배수 구하고 b라는 변수에 리스트로 담기\n",
    "b = [i for i in range(5,101,5)]\n",
    "# 리스트를 set로 변환하기\n",
    "set_3 = set(a)\n",
    "set_5 = set(b)\n",
    "\n",
    "# '3의 배수 set'와 '5의 배수 set'의 교집합\n",
    "result_set = set_3 & set_5\n",
    "print(result_set)"
   ]
  },
  {
   "cell_type": "code",
   "execution_count": 14,
   "id": "8bde8483-96e7-4b0b-b180-eafd2d69e92f",
   "metadata": {},
   "outputs": [
    {
     "name": "stdout",
     "output_type": "stream",
     "text": [
      "{75, 45, 15, 90, 60, 30}\n"
     ]
    }
   ],
   "source": [
    "set_3 = {i for i in range(1,101) if i%3==0}\n",
    "set_5 = {i for i in range(1,101) if i%5==0}\n",
    "\n",
    "result_set = set_3 & set_5\n",
    "print(result_set)"
   ]
  },
  {
   "cell_type": "code",
   "execution_count": 4,
   "id": "0368ad04-40c8-4052-948c-dbca3cb6ad92",
   "metadata": {},
   "outputs": [
    {
     "name": "stdout",
     "output_type": "stream",
     "text": [
      "시스템 관리, 회계 관리, 인사 관리, 개인정보 조회, 근태 관리, 구매 관리\n"
     ]
    }
   ],
   "source": [
    "role_admin = (\"회계 관리\", \"인사 관리\", \"구매 관리\", \"시스템 관리\")\n",
    "role_hr = (\"인사 관리\", \"개인정보 조회\", \"회계 관리\", \"근태 관리\")\n",
    "role_user = (\"개인정보 조회\", \"근태 관리\")\n",
    "\n",
    "a = list(set(role_admin+role_hr+role_user))\n",
    "sorted(a)\n",
    "\n",
    "print(', '.join(a))"
   ]
  },
  {
   "cell_type": "code",
   "execution_count": 2,
   "id": "2d316716-030b-488b-b22f-dad167bfe420",
   "metadata": {},
   "outputs": [
    {
     "name": "stdout",
     "output_type": "stream",
     "text": [
      "['개인정보 조회', '구매 관리', '근태 관리', '시스템 관리', '인사 관리', '회계 관리']\n"
     ]
    }
   ],
   "source": [
    "role_admin = (\"회계 관리\", \"인사 관리\", \"구매 관리\", \"시스템 관리\")\n",
    "role_hr = (\"인사 관리\", \"개인정보 조회\", \"회계 관리\", \"근태 관리\")\n",
    "role_user = (\"개인정보 조회\", \"근태 관리\")\n",
    "\n",
    "a = set(role_admin+role_hr+role_user)\n",
    "b = list(a)\n",
    "b = sorted(b)\n",
    "\n",
    "print(b)"
   ]
  },
  {
   "cell_type": "code",
   "execution_count": 8,
   "id": "a226a62d-f1ea-42c9-9fcd-04a790d49b95",
   "metadata": {},
   "outputs": [
    {
     "name": "stdout",
     "output_type": "stream",
     "text": [
      "Welcome!\n",
      "Welcome!\n",
      "Welcome!\n",
      "Welcome!\n",
      "Welcome!\n",
      "Welcome!을 5번 출력합니다\n"
     ]
    },
    {
     "data": {
      "text/plain": [
       "'Welcome!을 5번 출력합니다'"
      ]
     },
     "execution_count": 8,
     "metadata": {},
     "output_type": "execute_result"
    }
   ],
   "source": [
    "def greeting():\n",
    "    \"\"\"Welcome!을 5번 출력합니다\"\"\"\n",
    "    for _ in range(5):\n",
    "        print(\"Welcome!\")\n",
    "\n",
    "greeting()\n",
    "print(greeting.__doc__)\n",
    "greeting.__doc__"
   ]
  },
  {
   "cell_type": "code",
   "execution_count": 11,
   "id": "04fdef81-acf6-4863-ad7e-24ae64e5f9f4",
   "metadata": {},
   "outputs": [
    {
     "name": "stdout",
     "output_type": "stream",
     "text": [
      "혜신씨, 반갑습니다. 23살이시군요!\n"
     ]
    },
    {
     "data": {
      "text/plain": [
       "'이름과 나이를 받습니다'"
      ]
     },
     "execution_count": 11,
     "metadata": {},
     "output_type": "execute_result"
    }
   ],
   "source": [
    "def greeting(name,age):\n",
    "    \"\"\"이름과 나이를 받습니다\"\"\"\n",
    "    print(f\"{name}씨, 반갑습니다. {age}살이시군요!\")\n",
    "\n",
    "greeting('혜신',23)\n",
    "greeting.__doc__"
   ]
  },
  {
   "cell_type": "code",
   "execution_count": 17,
   "id": "46a07628-135d-4fb9-b814-801adc1d4d41",
   "metadata": {},
   "outputs": [
    {
     "name": "stdout",
     "output_type": "stream",
     "text": [
      "채윤씨, 반갑습니다. 22살이시군요!\n"
     ]
    },
    {
     "data": {
      "text/plain": [
       "'이름과 나이를 받습니다'"
      ]
     },
     "execution_count": 17,
     "metadata": {},
     "output_type": "execute_result"
    }
   ],
   "source": [
    "def greeting(name,age):\n",
    "    \"\"\"이름과 나이를 받습니다\"\"\"\n",
    "    print(f\"{name}씨, 반갑습니다. {age}살이시군요!\")\n",
    "\n",
    "greeting('채윤',age = 22)\n",
    "greeting.__doc__"
   ]
  },
  {
   "cell_type": "code",
   "execution_count": 18,
   "id": "38ea0e67-d033-408b-a96d-2d4f98881c80",
   "metadata": {},
   "outputs": [
    {
     "ename": "SyntaxError",
     "evalue": "positional argument follows keyword argument (2996955595.py, line 5)",
     "output_type": "error",
     "traceback": [
      "\u001b[1;36m  File \u001b[1;32m\"C:\\Users\\user\\AppData\\Local\\Temp\\ipykernel_15952\\2996955595.py\"\u001b[1;36m, line \u001b[1;32m5\u001b[0m\n\u001b[1;33m    greeting(name='채윤',22)\u001b[0m\n\u001b[1;37m                         ^\u001b[0m\n\u001b[1;31mSyntaxError\u001b[0m\u001b[1;31m:\u001b[0m positional argument follows keyword argument\n"
     ]
    }
   ],
   "source": [
    "# 오류 이유: 위치 인자 다음에 키워드 인자 순서로 와야 하는데, 순서가 반대가 되었기 때문이다.\n",
    "\n",
    "def greeting(name,age):\n",
    "    \"\"\"이름과 나이를 받습니다\"\"\"\n",
    "    print(f\"{name}씨, 반갑습니다. {age}살이시군요!\")\n",
    "\n",
    "greeting(name='채윤',22)\n",
    "greeting.__doc__"
   ]
  },
  {
   "cell_type": "code",
   "execution_count": 13,
   "id": "0bf52e95-c09a-4484-8869-ed9f4ba77db1",
   "metadata": {},
   "outputs": [
    {
     "name": "stdout",
     "output_type": "stream",
     "text": [
      "찬우씨, 반갑습니다. 10살이시군요!\n"
     ]
    },
    {
     "data": {
      "text/plain": [
       "'이름과 나이를 받습니다'"
      ]
     },
     "execution_count": 13,
     "metadata": {},
     "output_type": "execute_result"
    }
   ],
   "source": [
    "def greeting(name,age):\n",
    "    \"\"\"이름과 나이를 받습니다\"\"\"\n",
    "    print(f\"{name}씨, 반갑습니다. {age}살이시군요!\")\n",
    "\n",
    "greeting(age=10,name='찬우')\n",
    "greeting.__doc__"
   ]
  },
  {
   "cell_type": "code",
   "execution_count": 20,
   "id": "8160dd6b-4c12-492c-9c8b-fe89d982690a",
   "metadata": {},
   "outputs": [
    {
     "name": "stdout",
     "output_type": "stream",
     "text": [
      "재욱씨, 반갑습니다. 23살이시군요!\n",
      "석진씨, 반갑습니다. 23살이시군요!\n"
     ]
    },
    {
     "data": {
      "text/plain": [
       "'이름과 나이를 받습니다'"
      ]
     },
     "execution_count": 20,
     "metadata": {},
     "output_type": "execute_result"
    }
   ],
   "source": [
    "def greeting(name,age=23):\n",
    "    \"\"\"이름과 나이를 받습니다\"\"\"\n",
    "    print(f\"{name}씨, 반갑습니다. {age}살이시군요!\")\n",
    "\n",
    "# 인자(parameters)에 기본 값이 있다면 인수 전달을 생략 할 수 있다.\n",
    "greeting(name='재욱')\n",
    "greeting('석진')\n",
    "greeting.__doc__"
   ]
  },
  {
   "cell_type": "code",
   "execution_count": 21,
   "id": "140a227f-b82d-4dd1-95f8-d02c4cc355b7",
   "metadata": {},
   "outputs": [
    {
     "name": "stdout",
     "output_type": "stream",
     "text": [
      "재욱씨, 반갑습니다. 23살이시군요!\n",
      "세진씨, 반갑습니다. 32살이시군요!\n"
     ]
    },
    {
     "data": {
      "text/plain": [
       "'이름과 나이를 받습니다'"
      ]
     },
     "execution_count": 21,
     "metadata": {},
     "output_type": "execute_result"
    }
   ],
   "source": [
    "def greeting(name,age=23):\n",
    "    \"\"\"이름과 나이를 받습니다\"\"\"\n",
    "    print(f\"{name}씨, 반갑습니다. {age}살이시군요!\")\n",
    "\n",
    "# 인자(parameters)에 기본 값이 있다면 인수 전달을 생략 할 수 있다.\n",
    "greeting(name='재욱')\n",
    "# 기본 값이 있어도 호출 할 때 바꿔서 할 수 있다.\n",
    "greeting('세진',32)\n",
    "greeting.__doc__"
   ]
  },
  {
   "cell_type": "code",
   "execution_count": 24,
   "id": "dd6b0456-c957-4ab4-af85-7d18ca4dedf7",
   "metadata": {},
   "outputs": [
    {
     "ename": "TypeError",
     "evalue": "name() got some positional-only arguments passed as keyword arguments: 'name'",
     "output_type": "error",
     "traceback": [
      "\u001b[1;31m---------------------------------------------------------------------------\u001b[0m",
      "\u001b[1;31mTypeError\u001b[0m                                 Traceback (most recent call last)",
      "\u001b[1;32m~\\AppData\\Local\\Temp\\ipykernel_15952\\3486171062.py\u001b[0m in \u001b[0;36m<module>\u001b[1;34m\u001b[0m\n\u001b[0;32m      2\u001b[0m     \u001b[0mprint\u001b[0m\u001b[1;33m(\u001b[0m\u001b[0mname\u001b[0m\u001b[1;33m)\u001b[0m\u001b[1;33m\u001b[0m\u001b[1;33m\u001b[0m\u001b[0m\n\u001b[0;32m      3\u001b[0m \u001b[1;33m\u001b[0m\u001b[0m\n\u001b[1;32m----> 4\u001b[1;33m \u001b[0mname\u001b[0m\u001b[1;33m(\u001b[0m\u001b[0mname\u001b[0m\u001b[1;33m=\u001b[0m\u001b[1;34m'혜신'\u001b[0m\u001b[1;33m)\u001b[0m\u001b[1;33m\u001b[0m\u001b[1;33m\u001b[0m\u001b[0m\n\u001b[0m",
      "\u001b[1;31mTypeError\u001b[0m: name() got some positional-only arguments passed as keyword arguments: 'name'"
     ]
    }
   ],
   "source": [
    "def name(name,/):\n",
    "    print(name)\n",
    "    \n",
    "name(name='혜신')"
   ]
  },
  {
   "cell_type": "code",
   "execution_count": 25,
   "id": "b9c28c19-c1a2-4cd7-b7d3-f6583e53819c",
   "metadata": {},
   "outputs": [
    {
     "name": "stdout",
     "output_type": "stream",
     "text": [
      "혜신\n"
     ]
    }
   ],
   "source": [
    "def name(name,/):\n",
    "    print(name)\n",
    "    \n",
    "name('혜신')"
   ]
  },
  {
   "cell_type": "code",
   "execution_count": 28,
   "id": "1be8ece9-e804-4998-8bf6-9c2e975af74e",
   "metadata": {},
   "outputs": [
    {
     "name": "stdout",
     "output_type": "stream",
     "text": [
      "임혜신\n",
      "Cindy\n"
     ]
    }
   ],
   "source": [
    "def name(*,name=\"임혜신\"):\n",
    "    print(name)\n",
    "    \n",
    "name()\n",
    "name(name='Cindy')"
   ]
  },
  {
   "cell_type": "code",
   "execution_count": 32,
   "id": "fbff2a23-1428-4051-bbd3-00969329a2b4",
   "metadata": {},
   "outputs": [
    {
     "name": "stdout",
     "output_type": "stream",
     "text": [
      "<class 'tuple'>\n",
      "10\n"
     ]
    }
   ],
   "source": [
    "def total_number(*arg):\n",
    "    print(type(arg))\n",
    "    return sum([_ for _ in arg])\n",
    "\n",
    "print(total_number(1,2,3,4))"
   ]
  },
  {
   "cell_type": "code",
   "execution_count": 33,
   "id": "11ddb126-67a9-4731-98fd-045ef1309acf",
   "metadata": {},
   "outputs": [
    {
     "name": "stdout",
     "output_type": "stream",
     "text": [
      "<class 'tuple'>\n",
      "0\n"
     ]
    }
   ],
   "source": [
    "def total_number(*arg):\n",
    "    print(type(arg))\n",
    "# 해당 변수에 값을 전달하는 인수가 아예 없어도\n",
    "# 함수가 동작하는데 문제 없도록\n",
    "# 함수 바디를 작성하는 것이 좋습니다.\n",
    "    return sum([_ for _ in arg])\n",
    "\n",
    "print(total_number())"
   ]
  },
  {
   "cell_type": "code",
   "execution_count": 33,
   "id": "18341494-9599-4085-a461-36082120f9f5",
   "metadata": {},
   "outputs": [
    {
     "name": "stdout",
     "output_type": "stream",
     "text": [
      "<class 'tuple'>\n",
      "0\n"
     ]
    }
   ],
   "source": [
    "def total_number(*arg):\n",
    "    print(type(arg))\n",
    "    return sum([_ for _ in arg])\n",
    "# return은 키워드를 만나면 함수를 빠져나간다.\n",
    "# return을 여러번 쓸 수 있다.\n",
    "# for문과 if문의 break와 비슷하다.\n",
    "\n",
    "print(total_number())"
   ]
  },
  {
   "cell_type": "code",
   "execution_count": 46,
   "id": "775685f4-d0b1-4e2b-ac7f-fc18a4a287d4",
   "metadata": {},
   "outputs": [
    {
     "name": "stdout",
     "output_type": "stream",
     "text": [
      "반환 값: 80\n",
      "반환 값: 80\n"
     ]
    },
    {
     "data": {
      "text/plain": [
       "NoneType"
      ]
     },
     "execution_count": 46,
     "metadata": {},
     "output_type": "execute_result"
    }
   ],
   "source": [
    "def plus_ten(number):\n",
    "    result = number + 10\n",
    "    print(f\"반환 값: {result}\")\n",
    "    \n",
    "plus_ten(70)\n",
    "type(plus_ten(70))"
   ]
  },
  {
   "cell_type": "code",
   "execution_count": 44,
   "id": "911795b8-d996-48bd-810e-070a02ff4667",
   "metadata": {},
   "outputs": [
    {
     "name": "stdout",
     "output_type": "stream",
     "text": [
      "반환 값: 80\n",
      "<class 'str'>\n"
     ]
    }
   ],
   "source": [
    "def plus_ten(number):\n",
    "    result = number + 10\n",
    "    return(f\"반환 값: {result}\")\n",
    "    \n",
    "print(plus_ten(70))\n",
    "print(type(plus_ten(70)))"
   ]
  },
  {
   "cell_type": "code",
   "execution_count": 52,
   "id": "cecafdcc-31eb-4a47-a84d-fa81ca4cd1e1",
   "metadata": {},
   "outputs": [
    {
     "name": "stdout",
     "output_type": "stream",
     "text": [
      "<class 'int'>\n"
     ]
    },
    {
     "data": {
      "text/plain": [
       "80"
      ]
     },
     "execution_count": 52,
     "metadata": {},
     "output_type": "execute_result"
    }
   ],
   "source": [
    "def plus_ten(number):\n",
    "    return(number+10)\n",
    "\n",
    "print(type(plus_ten(70)))\n",
    "plus_ten(70)"
   ]
  },
  {
   "cell_type": "code",
   "execution_count": 56,
   "id": "e297630b-3b66-4778-8c11-d631ec655af4",
   "metadata": {},
   "outputs": [
    {
     "name": "stdout",
     "output_type": "stream",
     "text": [
      "<class 'float'>\n"
     ]
    },
    {
     "data": {
      "text/plain": [
       "26.11111111111111"
      ]
     },
     "execution_count": 56,
     "metadata": {},
     "output_type": "execute_result"
    }
   ],
   "source": [
    "def to_celsious(fahrenheit):\n",
    "    \"\"\"화씨를 섭씨로 전환하는 함수\"\"\"\n",
    "    return((fahrenheit-23)*5/9)\n",
    "\n",
    "print(type(to_celsious(70)))\n",
    "to_celsious(70)"
   ]
  },
  {
   "cell_type": "code",
   "execution_count": 59,
   "id": "5448435a-bae8-4434-9a39-1ae614e39c28",
   "metadata": {},
   "outputs": [
    {
     "name": "stdout",
     "output_type": "stream",
     "text": [
      "26.11111111111111\n",
      "<class 'NoneType'>\n",
      "26.11111111111111\n"
     ]
    }
   ],
   "source": [
    "def to_celsious(fahrenheit):\n",
    "    print((fahrenheit-23)*5/9)\n",
    "    \n",
    "print(type(to_celsious(70)))\n",
    "to_celsious(70)"
   ]
  },
  {
   "cell_type": "code",
   "execution_count": 84,
   "id": "2c7ac1d5-dccb-4991-9387-5058b4d9b77d",
   "metadata": {},
   "outputs": [
    {
     "name": "stdout",
     "output_type": "stream",
     "text": [
      "number가 짝수면 \"짝수\", 홀수면 \"홀수\" 반환\n",
      "짝수\n",
      "홀수\n",
      "None\n"
     ]
    }
   ],
   "source": [
    "def odd_number(number):\n",
    "    \"\"\"number가 짝수면 \"짝수\", 홀수면 \"홀수\" 반환\"\"\"\n",
    "    if type(number)==int:\n",
    "        if number%2==0 and number>0:\n",
    "            return(\"짝수\")\n",
    "        elif number%2==1 and number>0:\n",
    "            return(\"홀수\")\n",
    "        return\n",
    "    \n",
    "print(odd_number.__doc__)\n",
    "print(odd_number(10))\n",
    "print(odd_number(9))\n",
    "print(odd_number(\"가\"))"
   ]
  },
  {
   "cell_type": "code",
   "execution_count": 84,
   "id": "c6ddcae6-4ead-4960-b56f-05dabc196397",
   "metadata": {},
   "outputs": [
    {
     "name": "stdout",
     "output_type": "stream",
     "text": [
      "number가 짝수면 \"짝수\", 홀수면 \"홀수\" 반환\n",
      "짝수\n",
      "홀수\n",
      "None\n"
     ]
    }
   ],
   "source": [
    "def odd_number(number):\n",
    "    \"\"\"number가 짝수면 \"짝수\", 홀수면 \"홀수\" 반환\"\"\"\n",
    "    if type(number) is int and number >0 :\n",
    "        if number%2==0 and number>0:\n",
    "            return(\"짝수\")\n",
    "        elif number%2==1 and number>0:\n",
    "            return(\"홀수\")\n",
    "        return\n",
    "    \n",
    "print(odd_number.__doc__)\n",
    "print(odd_number(10))\n",
    "print(odd_number(9))\n",
    "print(odd_number(\"가\"))"
   ]
  },
  {
   "cell_type": "code",
   "execution_count": 100,
   "id": "27c5f34b-36aa-444c-b9cf-37ae7fdc0dd6",
   "metadata": {},
   "outputs": [
    {
     "data": {
      "text/plain": [
       "'평년'"
      ]
     },
     "execution_count": 100,
     "metadata": {},
     "output_type": "execute_result"
    }
   ],
   "source": [
    "def check_leap_year(year):\n",
    "    if year%100==0 and year%400!=0:\n",
    "        return \"평년\"\n",
    "    elif year%4==0:\n",
    "        return \"윤년\"\n",
    "    else:\n",
    "        return \"평년\"\n",
    "    \n",
    "# check_leap_year(2004)\n",
    "# check_leap_year(2000)\n",
    "check_leap_year(1900)      "
   ]
  },
  {
   "cell_type": "code",
   "execution_count": null,
   "id": "20e53739-d23c-4531-961c-79e55d2c7489",
   "metadata": {},
   "outputs": [],
   "source": [
    "# 코드 수정중\n",
    "def check_leap_year(year):\n",
    "    if year%100==0 and year%400==0):\n",
    "        return \"윤년\"\n",
    "    else:\n",
    "        return \"평년\"\n",
    "    \n",
    "# check_leap_year(2004)\n",
    "# check_leap_year(2000)\n",
    "check_leap_year(1900)      "
   ]
  },
  {
   "cell_type": "code",
   "execution_count": 115,
   "id": "c7795a67-9192-4b20-b4bd-de2fd35dc63e",
   "metadata": {},
   "outputs": [
    {
     "name": "stdout",
     "output_type": "stream",
     "text": [
      "30\n"
     ]
    }
   ],
   "source": [
    "def days(month):\n",
    "    if month in (1,3,5,7,8,10,12):\n",
    "        print(31)\n",
    "    elif month in (4,6,9,11):\n",
    "        print(30)\n",
    "    else:\n",
    "        print(28)\n",
    "\n",
    "days(11)"
   ]
  },
  {
   "cell_type": "code",
   "execution_count": 119,
   "id": "c241afed-555e-4aac-a6e4-782770ac0d30",
   "metadata": {},
   "outputs": [
    {
     "name": "stdout",
     "output_type": "stream",
     "text": [
      "28\n"
     ]
    }
   ],
   "source": [
    "def days(year,month):\n",
    "    \"\"\"년,월을 입력했을 때 해당 월의 일 수를 출력. 윤년 2월에는 29일 출력\"\"\"\n",
    "    if month in (1,3,5,7,8,10,12):\n",
    "        print(31)\n",
    "    elif month in (4,6,9,11):\n",
    "        print(30)\n",
    "    elif ((year%100==0 and year%400!=0) or year/4==0) and month==2:\n",
    "        print(29)\n",
    "    else:\n",
    "        print(28)\n",
    "\n",
    "days(1900,11)"
   ]
  },
  {
   "cell_type": "code",
   "execution_count": 124,
   "id": "ec7ccb94-07c5-4438-8891-52833ea8da00",
   "metadata": {},
   "outputs": [],
   "source": [
    "# 기영 오빠가 준 코드\n",
    "# 윤년이라면 0값이 되어서 28*0이 되고, 그래서 29를 return하게 만든 코드\n",
    "    \n",
    "def days(y, m):\n",
    "    d30 = [4, 6, 9, 11]\n",
    "    if m==2:\n",
    "        return 28*(y%4!=0 or (y%100==0 and y%400!=0)) or 29\n",
    "    elif m in d30:\n",
    "        return 30\n",
    "    return 31"
   ]
  },
  {
   "cell_type": "code",
   "execution_count": 126,
   "id": "57280cce-56bd-47fb-96ab-31944f2e2901",
   "metadata": {},
   "outputs": [],
   "source": [
    "# global 키워드는 전역 범위의 변수를 매칭\n",
    "# nonlocal 키워드는 상위 범위의 변수를 매칭"
   ]
  },
  {
   "cell_type": "code",
   "execution_count": 133,
   "id": "60daf90c-dffe-4102-82be-12f332422ff8",
   "metadata": {},
   "outputs": [],
   "source": [
    "# lambda는 한 번 쓸 때, 그래서 def를 굳이 만들 필요가 없을 때 쓰는 것. 약간 일회용 느낌"
   ]
  },
  {
   "cell_type": "code",
   "execution_count": 137,
   "id": "833e888b-d874-4a8a-b146-a4ec5d4f0474",
   "metadata": {},
   "outputs": [
    {
     "name": "stdout",
     "output_type": "stream",
     "text": [
      "John\n",
      "36\n"
     ]
    }
   ],
   "source": [
    "class Person:\n",
    "    def __init__(self, name, age):\n",
    "        self.name = name\n",
    "        self.age = age\n",
    "\n",
    "p1 = Person(\"John\", 36)\n",
    "\n",
    "print(p1.name)\n",
    "print(p1.age)"
   ]
  }
 ],
 "metadata": {
  "kernelspec": {
   "display_name": "Python 3 (ipykernel)",
   "language": "python",
   "name": "python3"
  },
  "language_info": {
   "codemirror_mode": {
    "name": "ipython",
    "version": 3
   },
   "file_extension": ".py",
   "mimetype": "text/x-python",
   "name": "python",
   "nbconvert_exporter": "python",
   "pygments_lexer": "ipython3",
   "version": "3.9.13"
  }
 },
 "nbformat": 4,
 "nbformat_minor": 5
}
