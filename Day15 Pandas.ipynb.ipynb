{
 "cells": [
  {
   "cell_type": "code",
   "execution_count": 3,
   "id": "aa6703a4-5205-4659-afab-8ee6d9fa44b7",
   "metadata": {},
   "outputs": [],
   "source": [
    "import numpy as np\n",
    "import pandas as pd"
   ]
  },
  {
   "cell_type": "code",
   "execution_count": 10,
   "id": "3ac43703-9e65-4cfe-b653-6b757b18c269",
   "metadata": {},
   "outputs": [
    {
     "data": {
      "text/plain": [
       "0    0\n",
       "1    1\n",
       "2    2\n",
       "3    3\n",
       "4    4\n",
       "5    5\n",
       "6    6\n",
       "7    7\n",
       "8    8\n",
       "9    9\n",
       "dtype: int64"
      ]
     },
     "execution_count": 10,
     "metadata": {},
     "output_type": "execute_result"
    }
   ],
   "source": [
    "name = pd.Series(range(500))\n",
    "name.tail()\n",
    "name.head(10)"
   ]
  },
  {
   "cell_type": "code",
   "execution_count": 12,
   "id": "2410547e-82b3-4632-af27-8ed355897ec2",
   "metadata": {},
   "outputs": [
    {
     "data": {
      "text/plain": [
       "0    1.0\n",
       "1    2.0\n",
       "2    NaN\n",
       "3    4.0\n",
       "4    5.0\n",
       "dtype: float64"
      ]
     },
     "execution_count": 12,
     "metadata": {},
     "output_type": "execute_result"
    }
   ],
   "source": [
    "nums = pd.Series([1,2,np.nan,4,5])\n",
    "nums"
   ]
  },
  {
   "cell_type": "code",
   "execution_count": 14,
   "id": "1c5b7a00-ad13-42b0-b596-526e399e955a",
   "metadata": {},
   "outputs": [
    {
     "data": {
      "text/plain": [
       "0    h\n",
       "1    e\n",
       "2    l\n",
       "3    l\n",
       "4    o\n",
       "dtype: object"
      ]
     },
     "execution_count": 14,
     "metadata": {},
     "output_type": "execute_result"
    }
   ],
   "source": [
    "hello = pd.Series(list(\"hello\"))\n",
    "hello"
   ]
  },
  {
   "cell_type": "code",
   "execution_count": null,
   "id": "6488c075-ddd1-4883-adf6-179ad0589f36",
   "metadata": {},
   "outputs": [],
   "source": [
    "a = hello.nunique()\n",
    "# 4"
   ]
  },
  {
   "cell_type": "code",
   "execution_count": 20,
   "id": "c0f5cc18-8ee1-46cc-bab4-5558ca9ecc3a",
   "metadata": {},
   "outputs": [],
   "source": [
    "b = len(hello)\n",
    "# 5"
   ]
  },
  {
   "cell_type": "code",
   "execution_count": 21,
   "id": "2153daad-7697-44e4-96e6-776783757ba9",
   "metadata": {},
   "outputs": [
    {
     "data": {
      "text/plain": [
       "1"
      ]
     },
     "execution_count": 21,
     "metadata": {},
     "output_type": "execute_result"
    }
   ],
   "source": [
    "b-a"
   ]
  },
  {
   "cell_type": "code",
   "execution_count": 25,
   "id": "85ae5455-926f-427c-ac82-fc8fff816b59",
   "metadata": {},
   "outputs": [
    {
     "data": {
      "text/plain": [
       "nan"
      ]
     },
     "execution_count": 25,
     "metadata": {},
     "output_type": "execute_result"
    }
   ],
   "source": [
    "nums.count()\n",
    "# nan값을 제외한 데이터 개수를 알려줌\n",
    "\n",
    "len(nums)\n",
    "# 제외하는 데이터 없이 길이를 계산함\n",
    "\n",
    "nums.sum()\n",
    "# nan값은 제외하고 총합을 구함\n",
    "\n",
    "nums.sum(skipna=False)\n",
    "# nan값을 스킵하는 거 하지 말라는 뜻"
   ]
  },
  {
   "cell_type": "code",
   "execution_count": 29,
   "id": "b180857f-e129-4726-a9d5-3717012a2eb4",
   "metadata": {},
   "outputs": [
    {
     "data": {
      "text/plain": [
       "1.8257418583505538"
      ]
     },
     "execution_count": 29,
     "metadata": {},
     "output_type": "execute_result"
    }
   ],
   "source": [
    "nums.std()"
   ]
  },
  {
   "cell_type": "code",
   "execution_count": 30,
   "id": "c6fd7089-dd24-449f-8a2d-9bcc9a374fbc",
   "metadata": {},
   "outputs": [
    {
     "data": {
      "text/plain": [
       "0    A\n",
       "1    a\n",
       "2    B\n",
       "3    b\n",
       "4    C\n",
       "5    c\n",
       "dtype: object"
      ]
     },
     "execution_count": 30,
     "metadata": {},
     "output_type": "execute_result"
    }
   ],
   "source": [
    "somechar = pd.Series(list('AaBbCc'))\n",
    "somechar"
   ]
  },
  {
   "cell_type": "code",
   "execution_count": 32,
   "id": "148478ba-7a5b-410e-a768-9afee45e34f4",
   "metadata": {},
   "outputs": [
    {
     "data": {
      "text/plain": [
       "'c'"
      ]
     },
     "execution_count": 32,
     "metadata": {},
     "output_type": "execute_result"
    }
   ],
   "source": [
    "somechar.max()"
   ]
  },
  {
   "cell_type": "code",
   "execution_count": 34,
   "id": "71a95cc3-a80f-403a-aa34-c8c62f743951",
   "metadata": {},
   "outputs": [
    {
     "data": {
      "text/plain": [
       "count     5\n",
       "unique    4\n",
       "top       l\n",
       "freq      2\n",
       "dtype: object"
      ]
     },
     "execution_count": 34,
     "metadata": {},
     "output_type": "execute_result"
    }
   ],
   "source": [
    "hello.describe()"
   ]
  },
  {
   "cell_type": "code",
   "execution_count": 36,
   "id": "6d6034e1-3d13-475b-92e6-db7134b4b648",
   "metadata": {},
   "outputs": [
    {
     "data": {
      "text/plain": [
       "count    4.000000\n",
       "mean     3.000000\n",
       "std      1.825742\n",
       "min      1.000000\n",
       "25%      1.750000\n",
       "50%      3.000000\n",
       "75%      4.250000\n",
       "max      5.000000\n",
       "dtype: float64"
      ]
     },
     "execution_count": 36,
     "metadata": {},
     "output_type": "execute_result"
    }
   ],
   "source": [
    "nums.describe()"
   ]
  },
  {
   "cell_type": "code",
   "execution_count": 37,
   "id": "4a8139f9-5d1e-4ba6-87f0-42bf6cdfafc8",
   "metadata": {},
   "outputs": [
    {
     "data": {
      "text/plain": [
       "0    1.0\n",
       "1    2.0\n",
       "2    NaN\n",
       "3    4.0\n",
       "4    5.0\n",
       "dtype: float64"
      ]
     },
     "execution_count": 37,
     "metadata": {},
     "output_type": "execute_result"
    }
   ],
   "source": [
    "nums"
   ]
  },
  {
   "cell_type": "code",
   "execution_count": 39,
   "id": "f31b040f-75a7-481c-9f5f-4557e6e95bf5",
   "metadata": {},
   "outputs": [
    {
     "data": {
      "text/plain": [
       "[1.0, 2.0, nan, 4.0, 5.0]"
      ]
     },
     "execution_count": 39,
     "metadata": {},
     "output_type": "execute_result"
    }
   ],
   "source": [
    "list(nums)"
   ]
  },
  {
   "cell_type": "code",
   "execution_count": 41,
   "id": "fb2b282e-44bc-4371-9aec-e24ddf1b0f1c",
   "metadata": {},
   "outputs": [
    {
     "data": {
      "text/plain": [
       "{0: 1.0, 1: 2.0, 2: nan, 3: 4.0, 4: 5.0}"
      ]
     },
     "execution_count": 41,
     "metadata": {},
     "output_type": "execute_result"
    }
   ],
   "source": [
    "dict(nums)"
   ]
  },
  {
   "cell_type": "code",
   "execution_count": 44,
   "id": "dd16ebe5-f3ad-499e-a3e2-1535e98d04c2",
   "metadata": {},
   "outputs": [
    {
     "data": {
      "text/plain": [
       "100             Batman\n",
       "120           Superman\n",
       "90          Spider-Man\n",
       "95            Iron Man\n",
       "110    Captain America\n",
       "120       Wonder Woman\n",
       "dtype: object"
      ]
     },
     "execution_count": 44,
     "metadata": {},
     "output_type": "execute_result"
    }
   ],
   "source": [
    "superheros = [\n",
    "    \"Batman\",\n",
    "    \"Superman\",\n",
    "    \"Spider-Man\",\n",
    "    \"Iron Man\",\n",
    "    \"Captain America\",\n",
    "    \"Wonder Woman\"\n",
    "]\n",
    "strength_levels = (100, 120, 90, 95, 110, 120)\n",
    "\n",
    "a = pd.Series(superheros,strength_levels)\n",
    "a"
   ]
  },
  {
   "cell_type": "code",
   "execution_count": 46,
   "id": "f90c6f5b-88ba-479e-81b8-11d7027d7078",
   "metadata": {},
   "outputs": [
    {
     "data": {
      "text/plain": [
       "90          Spider-Man\n",
       "95            Iron Man\n",
       "110    Captain America\n",
       "120       Wonder Woman\n",
       "dtype: object"
      ]
     },
     "execution_count": 46,
     "metadata": {},
     "output_type": "execute_result"
    }
   ],
   "source": [
    "a.tail(4)"
   ]
  },
  {
   "cell_type": "code",
   "execution_count": 49,
   "id": "7a932299-5f0a-4696-8b4f-a36d4ec89cde",
   "metadata": {},
   "outputs": [
    {
     "data": {
      "text/plain": [
       "6"
      ]
     },
     "execution_count": 49,
     "metadata": {},
     "output_type": "execute_result"
    }
   ],
   "source": [
    "a.nunique()"
   ]
  },
  {
   "cell_type": "code",
   "execution_count": 58,
   "id": "aa349046-8dda-4892-a803-2205fffde489",
   "metadata": {},
   "outputs": [
    {
     "data": {
      "text/plain": [
       "{100: 'Batman',\n",
       " 120: 120        Superman\n",
       " 120    Wonder Woman\n",
       " dtype: object,\n",
       " 90: 'Spider-Man',\n",
       " 95: 'Iron Man',\n",
       " 110: 'Captain America'}"
      ]
     },
     "execution_count": 58,
     "metadata": {},
     "output_type": "execute_result"
    }
   ],
   "source": [
    "dict(a)"
   ]
  },
  {
   "cell_type": "code",
   "execution_count": 73,
   "id": "40dd30ac-47e6-47d1-abd6-7d85968d83e3",
   "metadata": {},
   "outputs": [
    {
     "data": {
      "text/plain": [
       "Pokemon\n",
       "Bulbasaur      Grass / Poison\n",
       "Ivysaur        Grass / Poison\n",
       "Venusaur       Grass / Poison\n",
       "Charmander               Fire\n",
       "Charmeleon               Fire\n",
       "                    ...      \n",
       "Stakataka        Rock / Steel\n",
       "Blacephalon      Fire / Ghost\n",
       "Zeraora              Electric\n",
       "Meltan                  Steel\n",
       "Melmetal                Steel\n",
       "Name: Type, Length: 809, dtype: object"
      ]
     },
     "execution_count": 73,
     "metadata": {},
     "output_type": "execute_result"
    }
   ],
   "source": [
    "pokemons = pd.read_csv('datas/pokemon.csv', index_col='Pokemon').squeeze()\n",
    "pokemons"
   ]
  },
  {
   "cell_type": "code",
   "execution_count": 92,
   "id": "d49c5711-917d-4470-8dfd-94b235e30c19",
   "metadata": {},
   "outputs": [
    {
     "data": {
      "text/plain": [
       "count        809\n",
       "unique       159\n",
       "top       Normal\n",
       "freq          65\n",
       "Name: Type, dtype: object"
      ]
     },
     "execution_count": 92,
     "metadata": {},
     "output_type": "execute_result"
    }
   ],
   "source": [
    "pokemons.count()\n",
    "pokemons.nunique()\n",
    "pokemons.max()\n",
    "pokemons.describe()"
   ]
  },
  {
   "cell_type": "code",
   "execution_count": 99,
   "id": "0b31f109-5678-48b3-a3be-0eb8002843b8",
   "metadata": {},
   "outputs": [
    {
     "data": {
      "text/plain": [
       "Pokemon\n",
       "Empoleon      Water / Steel\n",
       "Corsola        Water / Rock\n",
       "Relicanth      Water / Rock\n",
       "Carracosta     Water / Rock\n",
       "Tirtouga       Water / Rock\n",
       "                  ...      \n",
       "Kricketune              Bug\n",
       "Cascoon                 Bug\n",
       "Scatterbug              Bug\n",
       "Kricketot               Bug\n",
       "Grubbin                 Bug\n",
       "Name: Type, Length: 809, dtype: object"
      ]
     },
     "execution_count": 99,
     "metadata": {},
     "output_type": "execute_result"
    }
   ],
   "source": [
    "# 내림차순 정렬\n",
    "pokemons.sort_values(ascending=False)"
   ]
  },
  {
   "cell_type": "code",
   "execution_count": 104,
   "id": "82c6a2dc-9f5e-4227-b9bf-3d4e1d92540a",
   "metadata": {},
   "outputs": [
    {
     "data": {
      "text/plain": [
       "<bound method Series.sort_values of Date\n",
       "2004-08-19      49.98\n",
       "2004-08-20      53.95\n",
       "2004-08-23      54.50\n",
       "2004-08-24      52.24\n",
       "2004-08-25      52.80\n",
       "               ...   \n",
       "2019-10-21    1246.15\n",
       "2019-10-22    1242.80\n",
       "2019-10-23    1259.13\n",
       "2019-10-24    1260.99\n",
       "2019-10-25    1265.13\n",
       "Name: Close, Length: 3824, dtype: float64>"
      ]
     },
     "execution_count": 104,
     "metadata": {},
     "output_type": "execute_result"
    }
   ],
   "source": [
    "google = pd.read_csv('datas/google_stocks.csv',\n",
    "                    parse_dates=['Date'],\n",
    "                    index_col='Date').squeeze('columns')\n",
    "google.sort_values"
   ]
  },
  {
   "cell_type": "code",
   "execution_count": 111,
   "id": "a73c26a5-bdac-43fe-9b71-96346a8c116c",
   "metadata": {},
   "outputs": [
    {
     "name": "stderr",
     "output_type": "stream",
     "text": [
      "C:\\Users\\user\\AppData\\Local\\Temp\\ipykernel_2452\\510573329.py:1: FutureWarning: The squeeze argument has been deprecated and will be removed in a future version. Append .squeeze(\"columns\") to the call to squeeze.\n",
      "\n",
      "\n",
      "  war = pd.read_csv('datas/revolutionary_war.csv',\n"
     ]
    },
    {
     "data": {
      "text/plain": [
       "Start Date\n",
       "1774-09-01    Massachusetts\n",
       "1774-12-14    New Hampshire\n",
       "1775-04-19    Massachusetts\n",
       "1775-04-19    Massachusetts\n",
       "1775-04-20         Virginia\n",
       "                  ...      \n",
       "1782-09-11         Virginia\n",
       "1782-09-13              NaN\n",
       "1782-10-18              NaN\n",
       "1782-12-06              NaN\n",
       "1783-01-22         Virginia\n",
       "Name: State, Length: 232, dtype: object"
      ]
     },
     "execution_count": 111,
     "metadata": {},
     "output_type": "execute_result"
    }
   ],
   "source": [
    "war = pd.read_csv('datas/revolutionary_war.csv',\n",
    "                 parse_dates=['Start Date'],\n",
    "                 index_col='Start Date',\n",
    "                 usecols=['Start Date','State'],\n",
    "                 squeeze=True)\n",
    "war"
   ]
  },
  {
   "cell_type": "code",
   "execution_count": null,
   "id": "baf09053-936f-4c62-9dca-47034d4f9ed6",
   "metadata": {},
   "outputs": [],
   "source": [
    "war = pd.read_csv('datas/revolutionary_war.csv',\n",
    "                 parse_dates=['Start Date'],\n",
    "                 index_col='Start Date',\n",
    "                 usecols=['Start Date','State'],\n",
    "                 squeeze=True)\n",
    "# 결측치를 제외 값의 개수(162)\n",
    "a=war[war.notnull()]\n",
    "a.count()\n",
    "\n",
    "war.count()\n",
    "# 유일한 값의 개수(17)\n",
    "war.nunique()\n",
    "# nan값 데이터 개수(70)\n",
    "a=war.isnull()\n",
    "a.count()\n",
    "\n",
    "war.isnull().sum()\n",
    "\n",
    "len(war)-war.count()"
   ]
  },
  {
   "cell_type": "code",
   "execution_count": 130,
   "id": "8f83e4ce-d2bd-4326-bdd1-d57b9c229b98",
   "metadata": {},
   "outputs": [
    {
     "data": {
      "text/plain": [
       "Start Date\n",
       "1775-09-17         NaN\n",
       "1775-12-31         NaN\n",
       "1776-03-03         NaN\n",
       "1776-03-25         NaN\n",
       "1776-05-18         NaN\n",
       "                ...   \n",
       "1781-07-06    Virginia\n",
       "1781-07-01    Virginia\n",
       "1781-06-26    Virginia\n",
       "1781-04-25    Virginia\n",
       "1783-01-22    Virginia\n",
       "Name: State, Length: 232, dtype: object"
      ]
     },
     "execution_count": 130,
     "metadata": {},
     "output_type": "execute_result"
    }
   ],
   "source": [
    "war.sort_values(na_position='first')"
   ]
  },
  {
   "cell_type": "code",
   "execution_count": 132,
   "id": "d6e14d38-ddb6-4b31-941b-c2488e23c513",
   "metadata": {},
   "outputs": [
    {
     "data": {
      "text/plain": [
       "Start Date\n",
       "1781-09-06    Connecticut\n",
       "1779-07-05    Connecticut\n",
       "1777-04-27    Connecticut\n",
       "1777-09-03       Delaware\n",
       "1777-05-17        Florida\n",
       "                 ...     \n",
       "1782-08-08            NaN\n",
       "1782-08-25            NaN\n",
       "1782-09-13            NaN\n",
       "1782-10-18            NaN\n",
       "1782-12-06            NaN\n",
       "Name: State, Length: 232, dtype: object"
      ]
     },
     "execution_count": 132,
     "metadata": {},
     "output_type": "execute_result"
    }
   ],
   "source": [
    "war.sort_values(na_position='last')"
   ]
  },
  {
   "cell_type": "code",
   "execution_count": 134,
   "id": "c0dfe556-98e9-455d-a183-b7f4a4b573d7",
   "metadata": {},
   "outputs": [
    {
     "data": {
      "text/plain": [
       "Start Date\n",
       "1774-09-01     Massachusetts\n",
       "1774-12-14     New Hampshire\n",
       "1775-04-19     Massachusetts\n",
       "1775-04-19     Massachusetts\n",
       "1775-04-20          Virginia\n",
       "                   ...      \n",
       "1782-08-15          Virginia\n",
       "1782-08-19          Virginia\n",
       "1782-08-26    South Carolina\n",
       "1782-09-11          Virginia\n",
       "1783-01-22          Virginia\n",
       "Name: State, Length: 162, dtype: object"
      ]
     },
     "execution_count": 134,
     "metadata": {},
     "output_type": "execute_result"
    }
   ],
   "source": [
    "war.dropna()"
   ]
  },
  {
   "cell_type": "code",
   "execution_count": 139,
   "id": "b18c84f3-2fac-4fc3-be4e-576b0d4d999b",
   "metadata": {},
   "outputs": [
    {
     "data": {
      "text/plain": [
       "Pokemon\n",
       "Zygarde      Dragon / Ground\n",
       "Zweilous       Dark / Dragon\n",
       "Zubat        Poison / Flying\n",
       "Zorua                   Dark\n",
       "Zoroark                 Dark\n",
       "                  ...       \n",
       "Aegislash      Steel / Ghost\n",
       "Accelgor                 Bug\n",
       "Absol                   Dark\n",
       "Abra                 Psychic\n",
       "Abomasnow        Grass / Ice\n",
       "Name: Type, Length: 809, dtype: object"
      ]
     },
     "execution_count": 139,
     "metadata": {},
     "output_type": "execute_result"
    }
   ],
   "source": [
    "pokemons.sort_index(ascending=False)"
   ]
  },
  {
   "cell_type": "code",
   "execution_count": 146,
   "id": "8a70a5d5-97b6-4604-aaa6-76669eb38b91",
   "metadata": {},
   "outputs": [
    {
     "data": {
      "text/plain": [
       "Start Date\n",
       "1774-09-01    Massachusetts\n",
       "1774-12-14    New Hampshire\n",
       "1775-04-19    Massachusetts\n",
       "1775-04-19    Massachusetts\n",
       "1775-04-20         Virginia\n",
       "                  ...      \n",
       "1782-09-11         Virginia\n",
       "1782-09-13              NaN\n",
       "1782-10-18              NaN\n",
       "1782-12-06              NaN\n",
       "1783-01-22         Virginia\n",
       "Name: State, Length: 228, dtype: object"
      ]
     },
     "execution_count": 146,
     "metadata": {},
     "output_type": "execute_result"
    }
   ],
   "source": [
    "# 인덱스에서 NaT을 없애는 방법 두 가지\n",
    "war.loc[war.index.dropna()]\n",
    "\n",
    "# 1:1 maping으로 없애는 것이기 때문에 notnull이 더 정확함\n",
    "war.loc[war.index.notnull()]"
   ]
  },
  {
   "cell_type": "code",
   "execution_count": 152,
   "id": "256a7b5f-c1bb-4b4e-9856-2ebd45be06fc",
   "metadata": {},
   "outputs": [
    {
     "data": {
      "text/plain": [
       "Date\n",
       "2004-09-03    49.82\n",
       "2004-09-01    49.94\n",
       "2004-08-19    49.98\n",
       "2004-09-02    50.57\n",
       "2004-09-07    50.60\n",
       "2004-08-30    50.81\n",
       "2004-09-08    50.96\n",
       "2004-09-09    50.96\n",
       "2004-08-31    50.99\n",
       "2004-08-24    52.24\n",
       "Name: Close, dtype: float64"
      ]
     },
     "execution_count": 152,
     "metadata": {},
     "output_type": "execute_result"
    }
   ],
   "source": [
    "# 가장 작은 값 10개\n",
    "google.sort_values().head(10)"
   ]
  },
  {
   "cell_type": "code",
   "execution_count": 155,
   "id": "cf0ac609-8238-4561-9b74-da4711a9b6dd",
   "metadata": {},
   "outputs": [
    {
     "data": {
      "text/plain": [
       "Date\n",
       "2019-04-29    1287.58\n",
       "2019-04-26    1272.18\n",
       "2018-07-26    1268.33\n",
       "2019-10-25    1265.13\n",
       "2019-04-23    1264.55\n",
       "2018-07-25    1263.70\n",
       "2019-04-25    1263.45\n",
       "2019-10-24    1260.99\n",
       "2019-10-23    1259.13\n",
       "2019-04-24    1256.00\n",
       "Name: Close, dtype: float64"
      ]
     },
     "execution_count": 155,
     "metadata": {},
     "output_type": "execute_result"
    }
   ],
   "source": [
    "# 가장 큰 값 10개\n",
    "google.sort_values(ascending=False).head(10)"
   ]
  },
  {
   "cell_type": "code",
   "execution_count": 157,
   "id": "913393d3-6fc4-4091-b259-e2754ca3650d",
   "metadata": {},
   "outputs": [
    {
     "data": {
      "text/plain": [
       "Date\n",
       "2019-04-29    1287.58\n",
       "2019-04-26    1272.18\n",
       "2018-07-26    1268.33\n",
       "2019-10-25    1265.13\n",
       "2019-04-23    1264.55\n",
       "2018-07-25    1263.70\n",
       "2019-04-25    1263.45\n",
       "2019-10-24    1260.99\n",
       "2019-10-23    1259.13\n",
       "2019-04-24    1256.00\n",
       "Name: Close, dtype: float64"
      ]
     },
     "execution_count": 157,
     "metadata": {},
     "output_type": "execute_result"
    }
   ],
   "source": [
    "# Top 10 Biggiest Numbers\n",
    "google.nlargest(10)"
   ]
  },
  {
   "cell_type": "code",
   "execution_count": 159,
   "id": "c21fd218-549c-4b00-b154-5851d5c159cf",
   "metadata": {},
   "outputs": [
    {
     "data": {
      "text/plain": [
       "Date\n",
       "2004-09-03    49.82\n",
       "2004-09-01    49.94\n",
       "2004-08-19    49.98\n",
       "2004-09-02    50.57\n",
       "2004-09-07    50.60\n",
       "2004-08-30    50.81\n",
       "2004-09-08    50.96\n",
       "2004-09-09    50.96\n",
       "2004-08-31    50.99\n",
       "2004-08-24    52.24\n",
       "Name: Close, dtype: float64"
      ]
     },
     "execution_count": 159,
     "metadata": {},
     "output_type": "execute_result"
    }
   ],
   "source": [
    "# Bottom 10 samllest numbers\n",
    "google.nsmallest(10)"
   ]
  },
  {
   "cell_type": "code",
   "execution_count": 161,
   "id": "d1291626-7471-4bc0-b5c7-ee55eb633d56",
   "metadata": {},
   "outputs": [
    {
     "data": {
      "text/plain": [
       "Normal                65\n",
       "Water                 61\n",
       "Grass                 38\n",
       "Psychic               35\n",
       "Fire                  30\n",
       "                      ..\n",
       "Fire / Psychic         1\n",
       "Normal / Ground        1\n",
       "Psychic / Fighting     1\n",
       "Dark / Ghost           1\n",
       "Fire / Ghost           1\n",
       "Name: Type, Length: 159, dtype: int64"
      ]
     },
     "execution_count": 161,
     "metadata": {},
     "output_type": "execute_result"
    }
   ],
   "source": [
    "pokemons.value_counts()"
   ]
  },
  {
   "cell_type": "code",
   "execution_count": 163,
   "id": "fd60a79c-73ac-409c-98a7-2ae1659d7720",
   "metadata": {},
   "outputs": [
    {
     "data": {
      "text/plain": [
       "array([   0.,  200.,  400.,  600.,  800., 1000., 1200., 1400.])"
      ]
     },
     "execution_count": 163,
     "metadata": {},
     "output_type": "execute_result"
    }
   ],
   "source": [
    "bins = np.linspace(0,1400,8)\n",
    "bins"
   ]
  },
  {
   "cell_type": "code",
   "execution_count": 166,
   "id": "ad6c4de3-5696-4edf-94d9-677afef225fb",
   "metadata": {},
   "outputs": [
    {
     "data": {
      "text/plain": [
       "(200.0, 400.0]      1568\n",
       "(-0.001, 200.0]      595\n",
       "(400.0, 600.0]       575\n",
       "(1000.0, 1200.0]     406\n",
       "(600.0, 800.0]       380\n",
       "(800.0, 1000.0]      207\n",
       "(1200.0, 1400.0]      93\n",
       "Name: Close, dtype: int64"
      ]
     },
     "execution_count": 166,
     "metadata": {},
     "output_type": "execute_result"
    }
   ],
   "source": [
    "bins = np.linspace(0,1400,8)\n",
    "# bins\n",
    "# array([   0.,  200.,  400.,  600.,  800., 1000., 1200., 1400.])\n",
    "google.value_counts(bins=bins)\n",
    "# bins라는 인수 안에 구간을 넣는다"
   ]
  },
  {
   "cell_type": "code",
   "execution_count": 174,
   "id": "b2459822-de6e-4d14-80df-bf67da4378be",
   "metadata": {},
   "outputs": [
    {
     "data": {
      "text/plain": [
       "(-0.001, 200.0]     0\n",
       "(200.0, 400.0]      2\n",
       "(400.0, 600.0]      3\n",
       "(600.0, 800.0]      0\n",
       "(800.0, 1000.0]     0\n",
       "(1000.0, 1200.0]    0\n",
       "Name: Close, dtype: int64"
      ]
     },
     "execution_count": 174,
     "metadata": {},
     "output_type": "execute_result"
    }
   ],
   "source": [
    "a = np.arange(0,1201,200)\n",
    "google = google.value_counts(bins=a)\n",
    "google.sort_index()"
   ]
  },
  {
   "cell_type": "code",
   "execution_count": 177,
   "id": "e30684aa-d534-45ec-9222-876bafb89578",
   "metadata": {},
   "outputs": [
    {
     "data": {
      "text/plain": [
       "(-0.004, 0.375]    4\n",
       "(0.375, 0.75]      0\n",
       "(0.75, 1.125]      0\n",
       "(1.125, 1.5]       0\n",
       "(1.5, 1.875]       0\n",
       "(1.875, 2.25]      1\n",
       "(2.25, 2.625]      0\n",
       "(2.625, 3.0]       1\n",
       "Name: Close, dtype: int64"
      ]
     },
     "execution_count": 177,
     "metadata": {},
     "output_type": "execute_result"
    }
   ],
   "source": [
    "google.value_counts(bins=8, sort=False)"
   ]
  },
  {
   "cell_type": "code",
   "execution_count": 181,
   "id": "6e4a09af-d72d-42a2-a365-7f00d5ed0af5",
   "metadata": {},
   "outputs": [
    {
     "data": {
      "text/plain": [
       "(48.581, 204.54]       651\n",
       "(204.54, 359.26]      1435\n",
       "(359.26, 513.98]       263\n",
       "(513.98, 668.7]        466\n",
       "(668.7, 823.42]        334\n",
       "(823.42, 978.14]       161\n",
       "(978.14, 1132.86]      283\n",
       "(1132.86, 1287.58]     231\n",
       "Name: Close, dtype: int64"
      ]
     },
     "execution_count": 181,
     "metadata": {},
     "output_type": "execute_result"
    }
   ],
   "source": [
    "google = pd.read_csv('datas/google_stocks.csv',\n",
    "                    parse_dates=['Date'],\n",
    "                    index_col='Date').squeeze('columns')\n",
    "google.value_counts(bins=8, sort=False)"
   ]
  },
  {
   "cell_type": "code",
   "execution_count": 183,
   "id": "d0fdcdba-acb5-49be-9317-1a389fa4c7e1",
   "metadata": {},
   "outputs": [
    {
     "data": {
      "text/plain": [
       "(204.54, 359.26]      1435\n",
       "(48.581, 204.54]       651\n",
       "(513.98, 668.7]        466\n",
       "(668.7, 823.42]        334\n",
       "(978.14, 1132.86]      283\n",
       "(359.26, 513.98]       263\n",
       "(1132.86, 1287.58]     231\n",
       "(823.42, 978.14]       161\n",
       "Name: Close, dtype: int64"
      ]
     },
     "execution_count": 183,
     "metadata": {},
     "output_type": "execute_result"
    }
   ],
   "source": [
    "google = pd.read_csv('datas/google_stocks.csv',\n",
    "                    parse_dates=['Date'],\n",
    "                    index_col='Date').squeeze('columns')\n",
    "google.value_counts(bins=8)"
   ]
  },
  {
   "cell_type": "code",
   "execution_count": 193,
   "id": "58251ed8-9d9d-48e6-8c8c-334a2de220a2",
   "metadata": {},
   "outputs": [
    {
     "data": {
      "text/html": [
       "<div>\n",
       "<style scoped>\n",
       "    .dataframe tbody tr th:only-of-type {\n",
       "        vertical-align: middle;\n",
       "    }\n",
       "\n",
       "    .dataframe tbody tr th {\n",
       "        vertical-align: top;\n",
       "    }\n",
       "\n",
       "    .dataframe thead th {\n",
       "        text-align: right;\n",
       "    }\n",
       "</style>\n",
       "<table border=\"1\" class=\"dataframe\">\n",
       "  <thead>\n",
       "    <tr style=\"text-align: right;\">\n",
       "      <th></th>\n",
       "      <th>c1</th>\n",
       "      <th>c2</th>\n",
       "      <th>c3</th>\n",
       "    </tr>\n",
       "  </thead>\n",
       "  <tbody>\n",
       "    <tr>\n",
       "      <th>0</th>\n",
       "      <td>1</td>\n",
       "      <td>1.11</td>\n",
       "      <td>one</td>\n",
       "    </tr>\n",
       "    <tr>\n",
       "      <th>1</th>\n",
       "      <td>2</td>\n",
       "      <td></td>\n",
       "      <td>two</td>\n",
       "    </tr>\n",
       "    <tr>\n",
       "      <th>2</th>\n",
       "      <td>누락</td>\n",
       "      <td>3.33</td>\n",
       "      <td>three</td>\n",
       "    </tr>\n",
       "  </tbody>\n",
       "</table>\n",
       "</div>"
      ],
      "text/plain": [
       "   c1    c2     c3\n",
       "0   1  1.11    one\n",
       "1   2          two\n",
       "2  누락  3.33  three"
      ]
     },
     "execution_count": 193,
     "metadata": {},
     "output_type": "execute_result"
    }
   ],
   "source": [
    "df_csv = pd.DataFrame({'c1':[1,2,'누락'],'c2':[1.11,'',3.33], 'c3':['one','two','three']})\n",
    "df_csv"
   ]
  },
  {
   "cell_type": "code",
   "execution_count": 199,
   "id": "2bd88c4a-f885-4238-8010-26c01f88ece0",
   "metadata": {},
   "outputs": [],
   "source": [
    "df_csv.to_csv('datas/sample1.csv', index=False)"
   ]
  },
  {
   "cell_type": "code",
   "execution_count": 202,
   "id": "1a2dab5a-c86e-4d90-b418-5d0db26f73a9",
   "metadata": {},
   "outputs": [
    {
     "data": {
      "text/plain": [
       "'c:\\\\python'"
      ]
     },
     "execution_count": 202,
     "metadata": {},
     "output_type": "execute_result"
    }
   ],
   "source": [
    "%pwd"
   ]
  },
  {
   "cell_type": "code",
   "execution_count": 201,
   "id": "576d067d-766a-4cd5-b6fd-8427f86ab1ad",
   "metadata": {},
   "outputs": [
    {
     "name": "stdout",
     "output_type": "stream",
     "text": [
      "c:\\python\n"
     ]
    }
   ],
   "source": [
    "%cd c:\\\\python"
   ]
  },
  {
   "cell_type": "code",
   "execution_count": 205,
   "id": "4eac865e-81c6-4b24-829d-d767f410852e",
   "metadata": {},
   "outputs": [
    {
     "data": {
      "text/html": [
       "<div>\n",
       "<style scoped>\n",
       "    .dataframe tbody tr th:only-of-type {\n",
       "        vertical-align: middle;\n",
       "    }\n",
       "\n",
       "    .dataframe tbody tr th {\n",
       "        vertical-align: top;\n",
       "    }\n",
       "\n",
       "    .dataframe thead th {\n",
       "        text-align: right;\n",
       "    }\n",
       "</style>\n",
       "<table border=\"1\" class=\"dataframe\">\n",
       "  <thead>\n",
       "    <tr style=\"text-align: right;\">\n",
       "      <th></th>\n",
       "      <th>c1</th>\n",
       "      <th>c2</th>\n",
       "      <th>c3</th>\n",
       "    </tr>\n",
       "  </thead>\n",
       "  <tbody>\n",
       "    <tr>\n",
       "      <th>0</th>\n",
       "      <td>1</td>\n",
       "      <td>1.11</td>\n",
       "      <td>one</td>\n",
       "    </tr>\n",
       "    <tr>\n",
       "      <th>1</th>\n",
       "      <td>2</td>\n",
       "      <td>NaN</td>\n",
       "      <td>two</td>\n",
       "    </tr>\n",
       "    <tr>\n",
       "      <th>2</th>\n",
       "      <td>누락</td>\n",
       "      <td>3.33</td>\n",
       "      <td>three</td>\n",
       "    </tr>\n",
       "  </tbody>\n",
       "</table>\n",
       "</div>"
      ],
      "text/plain": [
       "   c1    c2     c3\n",
       "0   1  1.11    one\n",
       "1   2   NaN    two\n",
       "2  누락  3.33  three"
      ]
     },
     "execution_count": 205,
     "metadata": {},
     "output_type": "execute_result"
    }
   ],
   "source": [
    "df_read=pd.read_csv('datas/sample1.csv')\n",
    "df_read"
   ]
  },
  {
   "cell_type": "code",
   "execution_count": 212,
   "id": "d862b65a-59bf-4432-a46a-f782647f75c7",
   "metadata": {},
   "outputs": [],
   "source": [
    "# 저장할 때\n",
    "df_csv.to_csv('sample2.csv', index=False, header=False)"
   ]
  },
  {
   "cell_type": "code",
   "execution_count": 214,
   "id": "304ae3d7-463f-419e-9531-a36fd02825c6",
   "metadata": {},
   "outputs": [
    {
     "data": {
      "text/html": [
       "<div>\n",
       "<style scoped>\n",
       "    .dataframe tbody tr th:only-of-type {\n",
       "        vertical-align: middle;\n",
       "    }\n",
       "\n",
       "    .dataframe tbody tr th {\n",
       "        vertical-align: top;\n",
       "    }\n",
       "\n",
       "    .dataframe thead th {\n",
       "        text-align: right;\n",
       "    }\n",
       "</style>\n",
       "<table border=\"1\" class=\"dataframe\">\n",
       "  <thead>\n",
       "    <tr style=\"text-align: right;\">\n",
       "      <th></th>\n",
       "      <th>c1</th>\n",
       "      <th>c2</th>\n",
       "      <th>c3</th>\n",
       "    </tr>\n",
       "  </thead>\n",
       "  <tbody>\n",
       "    <tr>\n",
       "      <th>0</th>\n",
       "      <td>1</td>\n",
       "      <td>1.11</td>\n",
       "      <td>one</td>\n",
       "    </tr>\n",
       "    <tr>\n",
       "      <th>1</th>\n",
       "      <td>2</td>\n",
       "      <td>NaN</td>\n",
       "      <td>two</td>\n",
       "    </tr>\n",
       "    <tr>\n",
       "      <th>2</th>\n",
       "      <td>누락</td>\n",
       "      <td>3.33</td>\n",
       "      <td>three</td>\n",
       "    </tr>\n",
       "  </tbody>\n",
       "</table>\n",
       "</div>"
      ],
      "text/plain": [
       "   c1    c2     c3\n",
       "0   1  1.11    one\n",
       "1   2   NaN    two\n",
       "2  누락  3.33  three"
      ]
     },
     "execution_count": 214,
     "metadata": {},
     "output_type": "execute_result"
    }
   ],
   "source": [
    "# 불러올 때\n",
    "pd.read_csv('sample2.csv', names=['c1','c2','c3'])"
   ]
  },
  {
   "cell_type": "code",
   "execution_count": 215,
   "id": "31e5a56a-ef5e-40cd-a0ff-94174872bf62",
   "metadata": {},
   "outputs": [
    {
     "name": "stdout",
     "output_type": "stream",
     "text": [
      "Writing sample3.txt\n"
     ]
    }
   ],
   "source": [
    "%%writefile sample3.txt\n",
    "c1        c2        c3        c4\n",
    "0.179181 -1.538472  1.347553  0.43381\n",
    "1.024209  0.087307 -1.281997  0.49265\n",
    "0.417899 -2.002308  0.255245 -1.10515"
   ]
  },
  {
   "cell_type": "code",
   "execution_count": 217,
   "id": "92b34e9c-299c-4a8d-b5a8-8906f57fe59b",
   "metadata": {},
   "outputs": [
    {
     "data": {
      "text/html": [
       "<div>\n",
       "<style scoped>\n",
       "    .dataframe tbody tr th:only-of-type {\n",
       "        vertical-align: middle;\n",
       "    }\n",
       "\n",
       "    .dataframe tbody tr th {\n",
       "        vertical-align: top;\n",
       "    }\n",
       "\n",
       "    .dataframe thead th {\n",
       "        text-align: right;\n",
       "    }\n",
       "</style>\n",
       "<table border=\"1\" class=\"dataframe\">\n",
       "  <thead>\n",
       "    <tr style=\"text-align: right;\">\n",
       "      <th></th>\n",
       "      <th>c1</th>\n",
       "      <th>c2</th>\n",
       "      <th>c3</th>\n",
       "      <th>c4</th>\n",
       "    </tr>\n",
       "  </thead>\n",
       "  <tbody>\n",
       "    <tr>\n",
       "      <th>0</th>\n",
       "      <td>0.179181</td>\n",
       "      <td>-1.538472</td>\n",
       "      <td>1.347553</td>\n",
       "      <td>0.43381</td>\n",
       "    </tr>\n",
       "    <tr>\n",
       "      <th>1</th>\n",
       "      <td>1.024209</td>\n",
       "      <td>0.087307</td>\n",
       "      <td>-1.281997</td>\n",
       "      <td>0.49265</td>\n",
       "    </tr>\n",
       "    <tr>\n",
       "      <th>2</th>\n",
       "      <td>0.417899</td>\n",
       "      <td>-2.002308</td>\n",
       "      <td>0.255245</td>\n",
       "      <td>-1.10515</td>\n",
       "    </tr>\n",
       "  </tbody>\n",
       "</table>\n",
       "</div>"
      ],
      "text/plain": [
       "         c1        c2        c3       c4\n",
       "0  0.179181 -1.538472  1.347553  0.43381\n",
       "1  1.024209  0.087307 -1.281997  0.49265\n",
       "2  0.417899 -2.002308  0.255245 -1.10515"
      ]
     },
     "execution_count": 217,
     "metadata": {},
     "output_type": "execute_result"
    }
   ],
   "source": [
    "pd.read_table('sample3.txt',sep='\\s+')"
   ]
  },
  {
   "cell_type": "code",
   "execution_count": 218,
   "id": "b5aec5fd-14af-47b9-8997-1373cee98228",
   "metadata": {},
   "outputs": [
    {
     "name": "stdout",
     "output_type": "stream",
     "text": [
      "Writing datas/sample4.txt\n"
     ]
    }
   ],
   "source": [
    "%%writefile datas/sample4.txt\n",
    "파일 제목: sample4.txt\n",
    "데이터 포맷의 설명:\n",
    "c1, c2, c3\n",
    "1, 1.11, one\n",
    "2, 2.22, two\n",
    "3, 3.33, three"
   ]
  },
  {
   "cell_type": "code",
   "execution_count": 221,
   "id": "fa9b0a7e-eee1-4758-bfdf-0727ef663b2c",
   "metadata": {},
   "outputs": [
    {
     "data": {
      "text/html": [
       "<div>\n",
       "<style scoped>\n",
       "    .dataframe tbody tr th:only-of-type {\n",
       "        vertical-align: middle;\n",
       "    }\n",
       "\n",
       "    .dataframe tbody tr th {\n",
       "        vertical-align: top;\n",
       "    }\n",
       "\n",
       "    .dataframe thead th {\n",
       "        text-align: right;\n",
       "    }\n",
       "</style>\n",
       "<table border=\"1\" class=\"dataframe\">\n",
       "  <thead>\n",
       "    <tr style=\"text-align: right;\">\n",
       "      <th></th>\n",
       "      <th>c1</th>\n",
       "      <th>c2</th>\n",
       "      <th>c3</th>\n",
       "    </tr>\n",
       "  </thead>\n",
       "  <tbody>\n",
       "    <tr>\n",
       "      <th>0</th>\n",
       "      <td>1</td>\n",
       "      <td>1.11</td>\n",
       "      <td>one</td>\n",
       "    </tr>\n",
       "    <tr>\n",
       "      <th>1</th>\n",
       "      <td>2</td>\n",
       "      <td>2.22</td>\n",
       "      <td>two</td>\n",
       "    </tr>\n",
       "    <tr>\n",
       "      <th>2</th>\n",
       "      <td>3</td>\n",
       "      <td>3.33</td>\n",
       "      <td>three</td>\n",
       "    </tr>\n",
       "  </tbody>\n",
       "</table>\n",
       "</div>"
      ],
      "text/plain": [
       "   c1    c2      c3\n",
       "0   1  1.11     one\n",
       "1   2  2.22     two\n",
       "2   3  3.33   three"
      ]
     },
     "execution_count": 221,
     "metadata": {},
     "output_type": "execute_result"
    }
   ],
   "source": [
    "pd.read_csv('datas/sample4.txt', skiprows=[0,1])"
   ]
  },
  {
   "cell_type": "code",
   "execution_count": 225,
   "id": "3eaefa04-53ad-4c3e-b863-c6b0dcec9874",
   "metadata": {},
   "outputs": [
    {
     "data": {
      "text/html": [
       "<div>\n",
       "<style scoped>\n",
       "    .dataframe tbody tr th:only-of-type {\n",
       "        vertical-align: middle;\n",
       "    }\n",
       "\n",
       "    .dataframe tbody tr th {\n",
       "        vertical-align: top;\n",
       "    }\n",
       "\n",
       "    .dataframe thead th {\n",
       "        text-align: right;\n",
       "    }\n",
       "</style>\n",
       "<table border=\"1\" class=\"dataframe\">\n",
       "  <thead>\n",
       "    <tr style=\"text-align: right;\">\n",
       "      <th></th>\n",
       "      <th>c1</th>\n",
       "      <th>c2</th>\n",
       "      <th>c3</th>\n",
       "    </tr>\n",
       "  </thead>\n",
       "  <tbody>\n",
       "    <tr>\n",
       "      <th>0</th>\n",
       "      <td>1.0</td>\n",
       "      <td>1.11</td>\n",
       "      <td>one</td>\n",
       "    </tr>\n",
       "    <tr>\n",
       "      <th>1</th>\n",
       "      <td>2.0</td>\n",
       "      <td>NaN</td>\n",
       "      <td>two</td>\n",
       "    </tr>\n",
       "    <tr>\n",
       "      <th>2</th>\n",
       "      <td>NaN</td>\n",
       "      <td>3.33</td>\n",
       "      <td>three</td>\n",
       "    </tr>\n",
       "  </tbody>\n",
       "</table>\n",
       "</div>"
      ],
      "text/plain": [
       "    c1    c2     c3\n",
       "0  1.0  1.11    one\n",
       "1  2.0   NaN    two\n",
       "2  NaN  3.33  three"
      ]
     },
     "execution_count": 225,
     "metadata": {},
     "output_type": "execute_result"
    }
   ],
   "source": [
    "df_na_val = pd.read_csv('datas/sample1.csv', na_values=['누락'])\n",
    "df_na_val"
   ]
  },
  {
   "cell_type": "code",
   "execution_count": 228,
   "id": "b8d126b3-1422-4f78-9ba8-2125c7a1ef0d",
   "metadata": {},
   "outputs": [],
   "source": [
    "df_na_val.to_csv('sample5.txt', sep='|')"
   ]
  },
  {
   "cell_type": "code",
   "execution_count": 230,
   "id": "4501c7b9-5d02-421c-81a5-abf24d5625a0",
   "metadata": {},
   "outputs": [],
   "source": [
    "df_na_val.to_csv('sample6.csv', na_rep='누락')"
   ]
  },
  {
   "cell_type": "code",
   "execution_count": 232,
   "id": "605d9f1d-8ad5-4fac-a6ae-c6d9736865ba",
   "metadata": {},
   "outputs": [],
   "source": [
    "titanic = pd.read_csv(\"https://storage.googleapis.com/tf-datasets/titanic/train.csv\"\n",
    "\n",
    ")"
   ]
  },
  {
   "cell_type": "code",
   "execution_count": null,
   "id": "8b15305e-20dc-4414-b9c5-ef2c7a2f788b",
   "metadata": {},
   "outputs": [],
   "source": [
    "titanic"
   ]
  },
  {
   "cell_type": "code",
   "execution_count": null,
   "id": "82b15a4f-aa4b-41d7-a354-e20814a499f0",
   "metadata": {},
   "outputs": [],
   "source": [
    "titanic.head(20)"
   ]
  },
  {
   "cell_type": "code",
   "execution_count": null,
   "id": "88361cf5-ca39-44bc-8257-052e40d6d546",
   "metadata": {},
   "outputs": [],
   "source": [
    "financial_data = pd.read_csv('business-financial-data-september-2022-quarter.csv')\n",
    "financial_data"
   ]
  },
  {
   "cell_type": "code",
   "execution_count": 261,
   "id": "9d59f41b-3f60-4219-986a-a57a47f2f3e0",
   "metadata": {},
   "outputs": [
    {
     "data": {
      "text/html": [
       "<div>\n",
       "<style scoped>\n",
       "    .dataframe tbody tr th:only-of-type {\n",
       "        vertical-align: middle;\n",
       "    }\n",
       "\n",
       "    .dataframe tbody tr th {\n",
       "        vertical-align: top;\n",
       "    }\n",
       "\n",
       "    .dataframe thead th {\n",
       "        text-align: right;\n",
       "    }\n",
       "</style>\n",
       "<table border=\"1\" class=\"dataframe\">\n",
       "  <thead>\n",
       "    <tr style=\"text-align: right;\">\n",
       "      <th></th>\n",
       "      <th>cdatetime</th>\n",
       "      <th>address</th>\n",
       "      <th>district</th>\n",
       "      <th>beat</th>\n",
       "      <th>grid</th>\n",
       "      <th>crimedescr</th>\n",
       "      <th>ucr_ncic_code</th>\n",
       "      <th>latitude</th>\n",
       "      <th>longitude</th>\n",
       "    </tr>\n",
       "  </thead>\n",
       "  <tbody>\n",
       "    <tr>\n",
       "      <th>0</th>\n",
       "      <td>1/1/06 0:00</td>\n",
       "      <td>3108 OCCIDENTAL DR</td>\n",
       "      <td>3</td>\n",
       "      <td>3C</td>\n",
       "      <td>1115</td>\n",
       "      <td>10851(A)VC TAKE VEH W/O OWNER</td>\n",
       "      <td>2404</td>\n",
       "      <td>38.550420</td>\n",
       "      <td>-121.391416</td>\n",
       "    </tr>\n",
       "    <tr>\n",
       "      <th>1</th>\n",
       "      <td>1/1/06 0:00</td>\n",
       "      <td>2082 EXPEDITION WAY</td>\n",
       "      <td>5</td>\n",
       "      <td>5A</td>\n",
       "      <td>1512</td>\n",
       "      <td>459 PC  BURGLARY RESIDENCE</td>\n",
       "      <td>2204</td>\n",
       "      <td>38.473501</td>\n",
       "      <td>-121.490186</td>\n",
       "    </tr>\n",
       "    <tr>\n",
       "      <th>2</th>\n",
       "      <td>1/1/06 0:00</td>\n",
       "      <td>4 PALEN CT</td>\n",
       "      <td>2</td>\n",
       "      <td>2A</td>\n",
       "      <td>212</td>\n",
       "      <td>10851(A)VC TAKE VEH W/O OWNER</td>\n",
       "      <td>2404</td>\n",
       "      <td>38.657846</td>\n",
       "      <td>-121.462101</td>\n",
       "    </tr>\n",
       "    <tr>\n",
       "      <th>3</th>\n",
       "      <td>1/1/06 0:00</td>\n",
       "      <td>22 BECKFORD CT</td>\n",
       "      <td>6</td>\n",
       "      <td>6C</td>\n",
       "      <td>1443</td>\n",
       "      <td>476 PC PASS FICTICIOUS CHECK</td>\n",
       "      <td>2501</td>\n",
       "      <td>38.506774</td>\n",
       "      <td>-121.426951</td>\n",
       "    </tr>\n",
       "    <tr>\n",
       "      <th>4</th>\n",
       "      <td>1/1/06 0:00</td>\n",
       "      <td>3421 AUBURN BLVD</td>\n",
       "      <td>2</td>\n",
       "      <td>2A</td>\n",
       "      <td>508</td>\n",
       "      <td>459 PC  BURGLARY-UNSPECIFIED</td>\n",
       "      <td>2299</td>\n",
       "      <td>38.637448</td>\n",
       "      <td>-121.384613</td>\n",
       "    </tr>\n",
       "    <tr>\n",
       "      <th>...</th>\n",
       "      <td>...</td>\n",
       "      <td>...</td>\n",
       "      <td>...</td>\n",
       "      <td>...</td>\n",
       "      <td>...</td>\n",
       "      <td>...</td>\n",
       "      <td>...</td>\n",
       "      <td>...</td>\n",
       "      <td>...</td>\n",
       "    </tr>\n",
       "    <tr>\n",
       "      <th>7579</th>\n",
       "      <td>1/31/06 23:36</td>\n",
       "      <td>26TH ST / G ST</td>\n",
       "      <td>3</td>\n",
       "      <td>3B</td>\n",
       "      <td>728</td>\n",
       "      <td>594(B)(2)(A) VANDALISM/ -$400</td>\n",
       "      <td>2999</td>\n",
       "      <td>38.577832</td>\n",
       "      <td>-121.470460</td>\n",
       "    </tr>\n",
       "    <tr>\n",
       "      <th>7580</th>\n",
       "      <td>1/31/06 23:40</td>\n",
       "      <td>4011 FREEPORT BLVD</td>\n",
       "      <td>4</td>\n",
       "      <td>4A</td>\n",
       "      <td>957</td>\n",
       "      <td>459 PC  BURGLARY BUSINESS</td>\n",
       "      <td>2203</td>\n",
       "      <td>38.537591</td>\n",
       "      <td>-121.492591</td>\n",
       "    </tr>\n",
       "    <tr>\n",
       "      <th>7581</th>\n",
       "      <td>1/31/06 23:41</td>\n",
       "      <td>30TH ST / K ST</td>\n",
       "      <td>3</td>\n",
       "      <td>3C</td>\n",
       "      <td>841</td>\n",
       "      <td>TRAFFIC-ACCIDENT INJURY</td>\n",
       "      <td>5400</td>\n",
       "      <td>38.572030</td>\n",
       "      <td>-121.467012</td>\n",
       "    </tr>\n",
       "    <tr>\n",
       "      <th>7582</th>\n",
       "      <td>1/31/06 23:45</td>\n",
       "      <td>5303 FRANKLIN BLVD</td>\n",
       "      <td>4</td>\n",
       "      <td>4B</td>\n",
       "      <td>969</td>\n",
       "      <td>3056 PAROLE VIO - I RPT</td>\n",
       "      <td>7000</td>\n",
       "      <td>38.527187</td>\n",
       "      <td>-121.471248</td>\n",
       "    </tr>\n",
       "    <tr>\n",
       "      <th>7583</th>\n",
       "      <td>1/31/06 23:50</td>\n",
       "      <td>COBBLE COVE LN / COBBLE SHORES DR</td>\n",
       "      <td>4</td>\n",
       "      <td>4C</td>\n",
       "      <td>1294</td>\n",
       "      <td>TRAFFIC-ACCIDENT-NON INJURY</td>\n",
       "      <td>5400</td>\n",
       "      <td>38.479628</td>\n",
       "      <td>-121.528634</td>\n",
       "    </tr>\n",
       "  </tbody>\n",
       "</table>\n",
       "<p>7584 rows × 9 columns</p>\n",
       "</div>"
      ],
      "text/plain": [
       "          cdatetime                            address  district        beat  \\\n",
       "0       1/1/06 0:00                 3108 OCCIDENTAL DR         3  3C           \n",
       "1       1/1/06 0:00                2082 EXPEDITION WAY         5  5A           \n",
       "2       1/1/06 0:00                         4 PALEN CT         2  2A           \n",
       "3       1/1/06 0:00                     22 BECKFORD CT         6  6C           \n",
       "4       1/1/06 0:00                   3421 AUBURN BLVD         2  2A           \n",
       "...             ...                                ...       ...         ...   \n",
       "7579  1/31/06 23:36                     26TH ST / G ST         3  3B           \n",
       "7580  1/31/06 23:40                 4011 FREEPORT BLVD         4  4A           \n",
       "7581  1/31/06 23:41                     30TH ST / K ST         3  3C           \n",
       "7582  1/31/06 23:45                 5303 FRANKLIN BLVD         4  4B           \n",
       "7583  1/31/06 23:50  COBBLE COVE LN / COBBLE SHORES DR         4  4C           \n",
       "\n",
       "      grid                     crimedescr  ucr_ncic_code   latitude  \\\n",
       "0     1115  10851(A)VC TAKE VEH W/O OWNER           2404  38.550420   \n",
       "1     1512     459 PC  BURGLARY RESIDENCE           2204  38.473501   \n",
       "2      212  10851(A)VC TAKE VEH W/O OWNER           2404  38.657846   \n",
       "3     1443   476 PC PASS FICTICIOUS CHECK           2501  38.506774   \n",
       "4      508   459 PC  BURGLARY-UNSPECIFIED           2299  38.637448   \n",
       "...    ...                            ...            ...        ...   \n",
       "7579   728  594(B)(2)(A) VANDALISM/ -$400           2999  38.577832   \n",
       "7580   957      459 PC  BURGLARY BUSINESS           2203  38.537591   \n",
       "7581   841        TRAFFIC-ACCIDENT INJURY           5400  38.572030   \n",
       "7582   969        3056 PAROLE VIO - I RPT           7000  38.527187   \n",
       "7583  1294    TRAFFIC-ACCIDENT-NON INJURY           5400  38.479628   \n",
       "\n",
       "       longitude  \n",
       "0    -121.391416  \n",
       "1    -121.490186  \n",
       "2    -121.462101  \n",
       "3    -121.426951  \n",
       "4    -121.384613  \n",
       "...          ...  \n",
       "7579 -121.470460  \n",
       "7580 -121.492591  \n",
       "7581 -121.467012  \n",
       "7582 -121.471248  \n",
       "7583 -121.528634  \n",
       "\n",
       "[7584 rows x 9 columns]"
      ]
     },
     "execution_count": 261,
     "metadata": {},
     "output_type": "execute_result"
    }
   ],
   "source": [
    "crimes = pd.read_csv('SacramentocrimeJanuary2006.csv')\n",
    "crimes"
   ]
  },
  {
   "cell_type": "code",
   "execution_count": 266,
   "id": "7085f770-5d42-4a4c-89c7-de0c0ea64288",
   "metadata": {},
   "outputs": [
    {
     "data": {
      "text/plain": [
       "['10851(A)VC TAKE VEH W/O OWNER',\n",
       " '459 PC  BURGLARY RESIDENCE',\n",
       " '10851(A)VC TAKE VEH W/O OWNER',\n",
       " '476 PC PASS FICTICIOUS CHECK',\n",
       " '459 PC  BURGLARY-UNSPECIFIED',\n",
       " '530.5 PC USE PERSONAL ID INFO',\n",
       " '459 PC  BURGLARY VEHICLE',\n",
       " '484 PC   PETTY THEFT/INSIDE',\n",
       " '459 PC  BURGLARY BUSINESS',\n",
       " '1708 US   THEFT OF MAIL',\n",
       " 'ASSAULT WITH WEAPON - I RPT',\n",
       " '530.5 PC USE PERSONAL ID INFO',\n",
       " 'SUSP PERS-NO CRIME - I RPT',\n",
       " '530.5 PC USE PERSONAL ID INFO',\n",
       " '484G(B) PC ACCESS CARD FRAUD',\n",
       " '487(A) PC GRAND THEFT',\n",
       " 'TELEPEST -I RPT',\n",
       " '487(A) GRAND THEFT-INSIDE',\n",
       " '530.5 PC USE PERSONAL ID INFO',\n",
       " '484J PC PUBLISH CARD INFO',\n",
       " '459 PC  BURGLARY VEHICLE',\n",
       " '484G(B) PC ACCESS CARD FRAUD',\n",
       " '484 PC PETTY THEFT',\n",
       " '459 PC  BURGLARY VEHICLE',\n",
       " 'TRAFFIC - I RPT',\n",
       " '594(B)(1)PC  VANDALISM +$400',\n",
       " '484G(B) PC ACCESS CARD FRAUD',\n",
       " '484 PC  PETTY THEFT/ OUTSIDE',\n",
       " 'HARASSMENT - I RPT',\n",
       " '484 PC PETTY THEFT',\n",
       " 'LOST PROPERTY - I RPT',\n",
       " '459 PC  BURGLARY RESIDENCE',\n",
       " '484G(A)PC USE FORGED CARD',\n",
       " '503 PC   EMBEZZLEMENT',\n",
       " 'TELEPEST -I RPT',\n",
       " '487(A) GRAND THEFT-INSIDE',\n",
       " '653M(A) PC OBSCENE/THREAT CALL',\n",
       " '484 PETTY THEFT/LICENSE PLATE',\n",
       " 'FOUND PROPERTY - I RPT',\n",
       " '530.5 PC USE PERSONAL ID INFO',\n",
       " '530.5 PC USE PERSONAL ID INFO',\n",
       " '484J PC PUBLISH CARD INFO',\n",
       " 'THREATS - I RPT',\n",
       " '530 PC FALSE PERS. REC PROP',\n",
       " '246 PC SHOOT OCCUP DWELL/VEH',\n",
       " '10851(A)VC TAKE VEH W/O OWNER',\n",
       " 'SHOOT INTO OCCUP DWELL - I RPT',\n",
       " 'FOUND PROPERTY - I RPT',\n",
       " '243(E)1 BATTERY NONCOHAB SPOUS',\n",
       " 'MISCELLANEOUS I RPT (ZMISC)',\n",
       " 'TOWED/STORED VEH-14602.6',\n",
       " '10851(A)VC TAKE VEH W/O OWNER',\n",
       " '10851(A)VC TAKE VEH W/O OWNER',\n",
       " '10851(A)VC TAKE VEH W/O OWNER',\n",
       " '211 PC ROBBERY- BUSINESS',\n",
       " 'CASUALTY REPORT',\n",
       " '459 PC  BURGLARY BUSINESS',\n",
       " '246 PC SHOOT OCCUP DWELL/VEH',\n",
       " '23152(A) VC DUI-ALCOHOL/DRUGS',\n",
       " 'TRAFFIC-ACCIDENT INJURY',\n",
       " 'DUI I RPT',\n",
       " '484 PETTY THEFT/LICENSE PLATE',\n",
       " '23152(A) VC DUI-ALCOHOL/DRUGS',\n",
       " '459 PC  BURGLARY VEHICLE',\n",
       " '10851(A)VC TAKE VEH W/O OWNER',\n",
       " '459 PC  BURGLARY VEHICLE',\n",
       " '459 PC  BURGLARY RESIDENCE',\n",
       " '243(D) PC BATT/CIVILIAN W/INJ',\n",
       " '10851(A)VC TAKE VEH W/O OWNER',\n",
       " '246.3 PC NEGL DISCH FIREARM',\n",
       " '487(A) PC GRAND THEFT',\n",
       " 'CASUALTY REPORT',\n",
       " '246 PC SHOOT OCCUP DWELL/VEH',\n",
       " 'LOST PROPERTY - I RPT',\n",
       " 'CASUALTY REPORT',\n",
       " '11351.5 HS POSS SALE RCK COCAI',\n",
       " '211 PC  ROBBERY UNSPECIFIED',\n",
       " '594(B)(2)(A) VANDALISM/ -$400',\n",
       " '243(E)1 BATTERY NONCOHAB SPOUS',\n",
       " '10851(A)VC TAKE VEH W/O OWNER',\n",
       " '594(B)(2)(A) VANDALISM/ -$400',\n",
       " '459 PC  BURGLARY RESIDENCE',\n",
       " 'TRAFFIC-ACCIDENT-NON INJURY',\n",
       " '475(C) PASS FORGED NOTE',\n",
       " '245(A)(2) AWDW/FIREARM/CIVILIA',\n",
       " '11377(A)HS POSS AMPHETAMINES',\n",
       " '487(A) GRAND THEFT-INSIDE',\n",
       " '459 PC  BURGLARY VEHICLE',\n",
       " '459 PC  BURGLARY VEHICLE',\n",
       " 'TRAFFIC-ACCIDENT-NON INJURY',\n",
       " '484 PC   PETTY THEFT/INSIDE',\n",
       " 'TOWED/STORED VEH-14602.6',\n",
       " '10851(A)VC TAKE VEH W/O OWNER',\n",
       " '20002(A) HIT/RUN',\n",
       " '5150 WI DANGER SELF/OTHERS',\n",
       " 'TOWED/STORED VEHICLE',\n",
       " '487(A) PC GRAND THEFT',\n",
       " 'IMPOUNDED VEHICLE',\n",
       " '10851(A)VC TAKE VEH W/O OWNER',\n",
       " '20002(A) HIT/RUN',\n",
       " '459 PC  BURGLARY RESIDENCE',\n",
       " 'PERSON INFORMATION - I RPT',\n",
       " '653M(B) PC ANNOY/RPT CALL HOME',\n",
       " '459 PC  BURGLARY VEHICLE',\n",
       " '20002(A) HIT/RUN',\n",
       " '211 PC ROBBERY- BUSINESS',\n",
       " 'CASUALTY REPORT',\n",
       " '594(B)(2)(A) VANDALISM/ -$400',\n",
       " 'LOST PROPERTY - I RPT',\n",
       " 'LOST PROPERTY - I RPT',\n",
       " 'LOST PROPERTY - I RPT',\n",
       " '484J PC PUBLISH CARD INFO',\n",
       " 'LOST PROPERTY - I RPT',\n",
       " '530 PC FALSE PERS. REC PROP',\n",
       " '459 PC  BURGLARY BUSINESS',\n",
       " '1708 US   THEFT OF MAIL',\n",
       " 'LOST PROPERTY - I RPT',\n",
       " '530.5 PC USE PERSONAL ID INFO',\n",
       " '484 PETTY THEFT CLOUT UNLOCKED',\n",
       " '484G(B) PC ACCESS CARD FRAUD',\n",
       " '530 PC FALSE PERS. REC PROP',\n",
       " 'TELEPEST -I RPT',\n",
       " 'SUSP PERS-NO CRIME - I RPT',\n",
       " '530 PC FALSE PERS. REC PROP',\n",
       " '10851 VC AUTO THEFT LOCATE',\n",
       " 'TOWED/STORED VEHICLE',\n",
       " '653M(B) PC ANNOY/RPT CALL HOME',\n",
       " '242 PC  BATTERY CIVILIAN',\n",
       " '11377(A)HS POSS AMPHETAMINES',\n",
       " 'TOWED/STORED VEHICLE',\n",
       " 'TOWED/STORED VEHICLE',\n",
       " '506 PC EMBEZZLEMENT/CONTRACTOR',\n",
       " 'MISSING PERSON I RPT',\n",
       " 'BURGLARY - I RPT',\n",
       " 'TOWED/STORED VEHICLE',\n",
       " 'THREATS - I RPT',\n",
       " 'MISSING PERSON',\n",
       " '459 PC  BURGLARY RESIDENCE',\n",
       " '594(B)(2)(A) VANDALISM/ -$400',\n",
       " '459 PC  BURGLARY RESIDENCE',\n",
       " '11364 HS POSS DRUG PARAPH',\n",
       " 'TOWED/STORED VEHICLE',\n",
       " 'CASUALTY REPORT',\n",
       " '484 PETTY THEFT-SHOPLIFT',\n",
       " 'MISSING PERSON',\n",
       " '11364 HS POSS DRUG PARAPH',\n",
       " 'MISSING PERSON',\n",
       " 'HARASSMENT - I RPT',\n",
       " 'O/S AGENCY -ASSISTANCE- I RPT',\n",
       " 'MISSING PERSON',\n",
       " '10851(A)VC TAKE VEH W/O OWNER',\n",
       " '487(D)GRAND THEFT FIREARM/ANIM',\n",
       " '484G(B) PC ACCESS CARD FRAUD',\n",
       " 'LOST PROPERTY - I RPT',\n",
       " '530.5 PC USE PERSONAL ID INFO',\n",
       " '653M(A) PC OBSCENE/THREAT CALL',\n",
       " '459 PC  BURGLARY BUSINESS',\n",
       " '647(A) PC LEWD CONDUCT',\n",
       " 'TOWED/STORED VEHICLE',\n",
       " 'GANG ACTIVITY - I RPT',\n",
       " '11364 HS POSS DRUG PARAPH',\n",
       " '459 PC  BURGLARY-UNSPECIFIED',\n",
       " '530.5 PC USE PERSONAL ID INFO',\n",
       " 'HARASSMENT - I RPT',\n",
       " '422 PC THREAT/INTENT TO TERROR',\n",
       " 'CASUALTY REPORT',\n",
       " '10851(A)VC TAKE VEH W/O OWNER',\n",
       " '484J PC PUBLISH CARD INFO',\n",
       " '20001(A) VC HIT/RUN INJ/DEATH',\n",
       " '10851(A)VC TAKE VEH W/O OWNER',\n",
       " '484 PETTY THEFT-SHOPLIFT',\n",
       " 'LOST PROPERTY - I RPT',\n",
       " 'FOUND PROPERTY - I RPT',\n",
       " 'TOWED/STORED VEHICLE',\n",
       " '484 PC   PETTY THEFT/INSIDE',\n",
       " 'MISSING PERSON',\n",
       " '459 PC  BURGLARY RESIDENCE',\n",
       " '487(A) PC GRAND THEFT',\n",
       " '484 PC   PETTY THEFT/INSIDE',\n",
       " 'NON INJ HR/MAIL OUT REPORT',\n",
       " 'TOWED/STORED VEHICLE',\n",
       " 'TRAFFIC-ACCIDENT-NON INJURY',\n",
       " '10851(A)VC TAKE VEH W/O OWNER',\n",
       " '11364 HS POSS DRUG PARAPH',\n",
       " 'TRAFFIC-ACCIDENT-NON INJURY',\n",
       " '10851(A)VC TAKE VEH W/O OWNER',\n",
       " '484 PETTY THEFT/LICENSE PLATE',\n",
       " '459 PC  BURGLARY RESIDENCE',\n",
       " 'LOST PROPERTY - I RPT',\n",
       " '197 JUSTIFIABLE HOMI-CIVILIAN',\n",
       " 'TRAFFIC-ACCIDENT-NON INJURY',\n",
       " '20001(A) VC HIT/RUN INJ/DEATH',\n",
       " '23153(A) VC DUI CAUSE INJURY',\n",
       " '245(A)(1)AWDW/NO FIREARM/CIVIL',\n",
       " 'MISSING PERSON',\n",
       " '594(B)(1)PC  VANDALISM +$400',\n",
       " '594(B)(2)(A) VANDALISM/ -$400',\n",
       " 'TRAFFIC-ACCIDENT-NON INJURY',\n",
       " 'TOWED/STORED VEHICLE',\n",
       " '484 PETTY THEFT-SHOPLIFT',\n",
       " '211 PC  ROBBERY UNSPECIFIED',\n",
       " '1551(A) FUGITIVE FROM JUSTICE',\n",
       " 'MISSING PERSON',\n",
       " 'MISSING PERSON',\n",
       " '10851(A)VC TAKE VEH W/O OWNER',\n",
       " '459 PC  BURGLARY VEHICLE',\n",
       " '484 PC   PETTY THEFT/INSIDE',\n",
       " 'MISCELLANEOUS I RPT (ZMISC)',\n",
       " '459 PC  BURGLARY VEHICLE',\n",
       " '484 PC   PETTY THEFT/INSIDE',\n",
       " '10851(A)VC TAKE VEH W/O OWNER',\n",
       " '459 PC  BURGLARY VEHICLE',\n",
       " '459 PC  BURGLARY VEHICLE',\n",
       " 'TELEPEST -I RPT',\n",
       " '459 PC  BURGLARY RESIDENCE',\n",
       " 'THREATS - I RPT',\n",
       " 'TOWED/STORED VEHICLE',\n",
       " 'THREATS - I RPT',\n",
       " '10851(A)VC TAKE VEH W/O OWNER',\n",
       " '487(A) GRAND THEFT-INSIDE',\n",
       " '20001(A) VC HIT/RUN INJ/DEATH',\n",
       " '20002(A) HIT/RUN',\n",
       " '12020(A)(4) PC DIRK/DAGGER',\n",
       " '20001(A) VC HIT/RUN INJ/DEATH',\n",
       " '10851(A)VC TAKE VEH W/O OWNER',\n",
       " '10851(A)VC TAKE VEH W/O OWNER',\n",
       " '11364 HS POSS DRUG PARAPH',\n",
       " '20002(A) HIT/RUN',\n",
       " '20002(A) HIT/RUN',\n",
       " '459 PC  BURGLARY VEHICLE',\n",
       " '459 PC  BURGLARY VEHICLE',\n",
       " '594(B)(2)(A) VANDALISM/ -$400',\n",
       " '245(A)(1)AWDW/NO FIREARM/CIVIL',\n",
       " 'VANDALISM - I RPT',\n",
       " '10851(A)VC TAKE VEH W/O OWNER',\n",
       " '11364 HS POSS DRUG PARAPH',\n",
       " '10851(A)VC TAKE VEH W/O OWNER',\n",
       " '243(D) PC BATT/CIVILIAN W/INJ',\n",
       " '245(A)(1)AWDW/NO FIREARM/CIVIL',\n",
       " 'THREATS - I RPT',\n",
       " '242 PC  BATTERY CIVILIAN',\n",
       " '487(A) PC GRAND THEFT',\n",
       " '10851 VC AUTO THEFT LOCATE',\n",
       " '20001(A) VC HIT/RUN INJ/DEATH',\n",
       " '10851 VC AUTO THEFT LOCATE',\n",
       " '10851(A)VC TAKE VEH W/O OWNER',\n",
       " 'TOWED/STORED VEH-14602.6',\n",
       " 'ROBBERY - I RPT',\n",
       " '459 PC  BURGLARY VEHICLE',\n",
       " '459 PC  BURGLARY VEHICLE',\n",
       " 'POSS STOLEN VEHICLE- I RPT',\n",
       " '487(A) GRAND THEFT-AUTO PARTS',\n",
       " '459 PC  BURGLARY RESIDENCE',\n",
       " '594(B)(1)PC  VANDALISM +$400',\n",
       " '594(B)(2)(A) VANDALISM/ -$400',\n",
       " '484 PC  PETTY THEFT AUTO PART',\n",
       " '594(B)(2)(A) VANDALISM/ -$400',\n",
       " '459 PC  BURGLARY VEHICLE',\n",
       " '484 PC  PETTY THEFT/ OUTSIDE',\n",
       " '529 PC FALSE PERSONATION',\n",
       " '11364 HS POSS DRUG PARAPH',\n",
       " '459 PC  BURGLARY RESIDENCE',\n",
       " 'VANDALISM - I RPT',\n",
       " '459 PC  BURGLARY RESIDENCE',\n",
       " '487(A) GRAND THEFT-AUTO PARTS',\n",
       " '496(A) RECEIVE STOLEN PROPERTY',\n",
       " '11357(B)HS POSS -28.5GR MARIJ',\n",
       " 'TRAFFIC-ACCIDENT-NON INJURY',\n",
       " 'FOUND PROPERTY - I RPT',\n",
       " '594(B)(1)PC  VANDALISM +$400',\n",
       " '459 PC  BURGLARY BUSINESS',\n",
       " '459 PC  BURGLARY VEHICLE',\n",
       " 'NON INJ HR/MAIL OUT REPORT',\n",
       " 'TOWED/STORED VEHICLE',\n",
       " 'TOWED/STORED VEHICLE',\n",
       " '243(E)1 BATTERY NONCOHAB SPOUS',\n",
       " '10851(A)VC TAKE VEH W/O OWNER',\n",
       " '459 PC  BURGLARY VEHICLE',\n",
       " '11364 HS POSS DRUG PARAPH',\n",
       " '484 PETTY THEFT/LICENSE PLATE',\n",
       " '290(A)(1)(D) FAIL TO REG-5 DAY',\n",
       " '594(B)(1)VANDALISM GRAF +$400',\n",
       " 'TRAFFIC-ACCIDENT-NON INJURY',\n",
       " '10851(A)VC TAKE VEH W/O OWNER',\n",
       " '11350(A)HS POSS CNTRL SUBST',\n",
       " 'TOWED/STORED VEHICLE',\n",
       " '10851 VC AUTO THEFT LOCATE',\n",
       " '290(A)(1)(D) FAIL TO REG-5 DAY',\n",
       " '242 PC  BATTERY CIVILIAN',\n",
       " '459 PC  BURGLARY VEHICLE',\n",
       " 'MISSING PERSON',\n",
       " 'THREATS - I RPT',\n",
       " 'MISSING PERSON',\n",
       " '20001(A) VC HIT/RUN INJ/DEATH',\n",
       " '10851 VC AUTO THEFT LOCATE',\n",
       " 'TRAFFIC-ACCIDENT-NON INJURY',\n",
       " 'BATTERY - I RPT',\n",
       " '20002(A) HIT/RUN',\n",
       " 'MISSING PERSON',\n",
       " '1708 US   THEFT OF MAIL',\n",
       " 'HARASSMENT - I RPT',\n",
       " '11351.5 HS POSS SALE RCK COCAI',\n",
       " 'TOWED/STORED VEH-14602.6',\n",
       " '10851 VC AUTO THEFT LOCATE',\n",
       " '10851(A)VC TAKE VEH W/O OWNER',\n",
       " '530.5 PC USE PERSONAL ID INFO',\n",
       " '245(A)(1)AWDW/NO FIREARM/CIVIL',\n",
       " '459 PC  BURGLARY VEHICLE',\n",
       " '487(A) PC GRAND THEFT',\n",
       " '20002(A) HIT/RUN',\n",
       " '20002(A) HIT/RUN',\n",
       " '215(A) PC    CARJACKING',\n",
       " '459 PC  BURGLARY VEHICLE',\n",
       " '484 PC  PETTY THEFT/ OUTSIDE',\n",
       " '602(K)TRESPASS:INJURE PROPERTY',\n",
       " '459 PC  BURGLARY BUSINESS',\n",
       " '459 PC  BURGLARY VEHICLE',\n",
       " '11377(A)HS POSS AMPHETAMINES',\n",
       " 'TRAFFIC-ACCIDENT INJURY',\n",
       " '484 PETTY THEFT/LICENSE PLATE',\n",
       " 'TRAFFIC-ACCIDENT INJURY',\n",
       " '503 PC   EMBEZZLEMENT',\n",
       " '459 PC  BURGLARY BUSINESS',\n",
       " '10851(A)VC TAKE VEH W/O OWNER',\n",
       " '242 PC  BATTERY CIVILIAN',\n",
       " '594(B)(2)(A) VANDALISM/ -$400',\n",
       " '20002(A) HIT/RUN',\n",
       " 'TRAFFIC-ACCIDENT INJURY',\n",
       " '9.04.050 A DRINKING IN PUBLIC',\n",
       " '459 PC  BURGLARY RESIDENCE',\n",
       " 'TOWED/STORED VEHICLE',\n",
       " '459 PC  BURGLARY RESIDENCE',\n",
       " 'TOWED/STORED VEH-14602.6',\n",
       " '10851(A)VC TAKE VEH W/O OWNER',\n",
       " '314.1 PC   INDECENT EXPOSURE',\n",
       " '10851(A)VC TAKE VEH W/O OWNER',\n",
       " 'THREATS - I RPT',\n",
       " '459 PC  BURGLARY VEHICLE',\n",
       " 'TOWED/STORED VEHICLE',\n",
       " '459 PC  BURGLARY VEHICLE',\n",
       " '484 PC   PETTY THEFT/INSIDE',\n",
       " '487(A) PC GRAND THEFT',\n",
       " '11364 HS POSS DRUG PARAPH',\n",
       " '10851(A)VC TAKE VEH W/O OWNER',\n",
       " 'CASUALTY REPORT',\n",
       " 'MISCELLANEOUS I RPT (ZMISC)',\n",
       " 'TRAFFIC-ACCIDENT INJURY',\n",
       " '10851(A)VC TAKE VEH W/O OWNER',\n",
       " '459 PC  BURGLARY RESIDENCE',\n",
       " '459 PC  BURGLARY VEHICLE',\n",
       " 'PETTY THEFT - I RPT',\n",
       " '484 PC   PETTY THEFT/INSIDE',\n",
       " '5150 WI DANGER SELF/OTHERS',\n",
       " 'TOWED/STORED VEH-14602.6',\n",
       " 'MISSING PERSON',\n",
       " '245(A)(1)AWDW/NO FIREARM/CIVIL',\n",
       " 'TRAFFIC-ACCIDENT-NON INJURY',\n",
       " '211 PC  ROBBERY UNSPECIFIED',\n",
       " '5150 WI DANGER SELF/OTHERS',\n",
       " '10851(A)VC TAKE VEH W/O OWNER',\n",
       " '10851(A)VC TAKE VEH W/O OWNER',\n",
       " 'TOWED/STORED VEHICLE',\n",
       " 'FAMILY DISTURBANCE - I RPT',\n",
       " '148.9 PC FALSE ID TO OFFICER',\n",
       " 'MISSING PERSON',\n",
       " '459 PC  BURGLARY VEHICLE',\n",
       " '10851(A)VC TAKE VEH W/O OWNER',\n",
       " '594(B)(2)(A) VANDALISM/ -$400',\n",
       " '10851(A)VC TAKE VEH W/O OWNER',\n",
       " '459 PC  BURGLARY VEHICLE',\n",
       " '211 PC ROBBERY- BUSINESS',\n",
       " '211 PC  ROBBERY UNSPECIFIED',\n",
       " '243(E)1 BATTERY NONCOHAB SPOUS',\n",
       " '10851 VC AUTO THEFT LOCATE',\n",
       " '10851(A)VC TAKE VEH W/O OWNER',\n",
       " 'PROTECTIVE CUSTODY-I RPT',\n",
       " 'PROTECTIVE CUSTODY-I RPT',\n",
       " '211 PC  ROBBERY UNSPECIFIED',\n",
       " '211 PC  ROBBERY UNSPECIFIED',\n",
       " 'CASUALTY REPORT',\n",
       " '10851(A)VC TAKE VEH W/O OWNER',\n",
       " '10851(A)VC TAKE VEH W/O OWNER',\n",
       " 'CASUALTY REPORT',\n",
       " 'CHILD WELFARE - I RPT',\n",
       " 'FOUND PROPERTY - I RPT',\n",
       " 'TRAFFIC-ACCIDENT INJURY',\n",
       " '459 PC  BURGLARY VEHICLE',\n",
       " '484 PETTY THEFT CLOUT UNLOCKED',\n",
       " '11364 HS POSS DRUG PARAPH',\n",
       " '10851(A)VC TAKE VEH W/O OWNER',\n",
       " '11350(A)HS POSS CNTRL SUBST',\n",
       " '487(A) GRAND THEFT-INSIDE',\n",
       " '459 PC  BURGLARY VEHICLE',\n",
       " '245(A)(1)AWDW/NO FIREARM/CIVIL',\n",
       " '11377(A)HS POSS AMPHETAMINES',\n",
       " 'CASUALTY REPORT',\n",
       " '459 PC  BURGLARY VEHICLE',\n",
       " '530.5 PC USE PERSONAL ID INFO',\n",
       " '10851(A)VC TAKE VEH W/O OWNER',\n",
       " '459 PC  BURGLARY VEHICLE',\n",
       " '484 PC-PETTY THEFT-COIN MACHIN',\n",
       " '484 PC-PETTY THEFT-COIN MACHIN',\n",
       " '484 PC-PETTY THEFT-COIN MACHIN',\n",
       " '459 PC  BURGLARY VEHICLE',\n",
       " '459 PC  BURGLARY VEHICLE',\n",
       " '484 PC   PETTY THEFT/INSIDE',\n",
       " '530.5 PC USE PERSONAL ID INFO',\n",
       " '20002(A) HIT/RUN',\n",
       " 'TOWED/STORED VEH-14602.6',\n",
       " '211 PC  ROBBERY UNSPECIFIED',\n",
       " '243(E)1 BATTERY NONCOHAB SPOUS',\n",
       " '10851 VC AUTO THEFT LOCATE',\n",
       " '12420 PC SELL/TRANSP TEAR GAS',\n",
       " '594(B)(1)PC  VANDALISM +$400',\n",
       " '10851 VC AUTO THEFT LOCATE',\n",
       " 'MISCELLANEOUS I RPT (ZMISC)',\n",
       " '487(A) GRAND THEFT-CLOUT-UNLOC',\n",
       " '10851(A)VC TAKE VEH W/O OWNER',\n",
       " '459 PC  BURGLARY BUSINESS',\n",
       " '459 PC  BURGLARY VEHICLE',\n",
       " '11364 HS POSS DRUG PARAPH',\n",
       " '459 PC  BURGLARY VEHICLE',\n",
       " '594(B)(1)PC  VANDALISM +$400',\n",
       " 'THREATS - I RPT',\n",
       " '211 PC  ROBBERY UNSPECIFIED',\n",
       " '10851 VC AUTO THEFT LOCATE',\n",
       " '594(B)(1)PC  VANDALISM +$400',\n",
       " '487(A) PC GRAND THEFT',\n",
       " 'BATTERY - I RPT',\n",
       " '187(A)  HOMICIDE',\n",
       " 'MISSING PERSON',\n",
       " 'ACCIDENTAL FIRES/ARSON -I RPT',\n",
       " '10851(A)VC TAKE VEH W/O OWNER',\n",
       " '5150 WI DANGER SELF/OTHERS',\n",
       " '459 PC  BURGLARY RESIDENCE',\n",
       " '496(A) RECEIVE STOLEN PROPERTY',\n",
       " 'BUSINESS PERMITS - I RPT',\n",
       " 'TOWED/STORED VEHICLE',\n",
       " '459 PC  BURGLARY RESIDENCE',\n",
       " '594(B)(2)(A) VANDALISM/ -$400',\n",
       " '10851 VC AUTO THEFT LOCATE',\n",
       " '10851(A)VC TAKE VEH W/O OWNER',\n",
       " 'FOUND PROPERTY - I RPT',\n",
       " '459 PC  BURGLARY VEHICLE',\n",
       " 'TRAFFIC-ACCIDENT INJURY',\n",
       " '459 PC  BURGLARY BUSINESS',\n",
       " '484G(B) PC ACCESS CARD FRAUD',\n",
       " '484 PETTY THEFT/LICENSE PLATE',\n",
       " '10851 VC AUTO THEFT LOCATE',\n",
       " '11357(B)HS POSS -28.5GR MARIJ',\n",
       " 'TRAFFIC-ACCIDENT INJURY',\n",
       " 'TOWED/STORED VEHICLE',\n",
       " 'TRAFFIC-ACCIDENT INJURY',\n",
       " 'FOUND PROPERTY - I RPT',\n",
       " 'TOWED/STORED VEH-14602.6',\n",
       " 'TOWED/STORED VEH-14602.6',\n",
       " '10851 VC AUTO THEFT LOCATE',\n",
       " '10851(A)VC TAKE VEH W/O OWNER',\n",
       " '594(B)(2)(A) VANDALISM/ -$400',\n",
       " 'SUSP PERS-NO CRIME - I RPT',\n",
       " '10851(A)VC TAKE VEH W/O OWNER',\n",
       " 'TOWED/STORED VEH-14602.6',\n",
       " '10851 VC AUTO THEFT LOCATE',\n",
       " '10851(A)VC TAKE VEH W/O OWNER',\n",
       " '20002(A) HIT/RUN',\n",
       " '484 PETTY THEFT CLOUT UNLOCKED',\n",
       " '530.5 PC USE PERSONAL ID INFO',\n",
       " '484G(B) PC ACCESS CARD FRAUD',\n",
       " '530.5 PC USE PERSONAL ID INFO',\n",
       " 'LOST PROPERTY - I RPT',\n",
       " 'TOWED/STORED VEH-14602.6',\n",
       " '459 PC  BURGLARY RESIDENCE',\n",
       " '9.04.070 URINATE/DEFECATE PUB',\n",
       " 'TOWED/STORED VEH-14602.6',\n",
       " '487(A) PC GRAND THEFT',\n",
       " 'CASUALTY REPORT',\n",
       " 'TOWED/STORED VEHICLE',\n",
       " '10851 VC AUTO THEFT LOCATE',\n",
       " '10851 VC AUTO THEFT LOCATE',\n",
       " 'TOWED/STORED VEHICLE',\n",
       " 'TOWED/STORED VEHICLE',\n",
       " '487(A) GRAND THEFT-INSIDE',\n",
       " 'TOWED/STORED VEHICLE',\n",
       " 'TOWED/STORED VEH-14602.6',\n",
       " '422 PC THREAT/INTENT TO TERROR',\n",
       " 'TOWED/STORED VEHICLE',\n",
       " 'TRAFFIC-ACCIDENT-NON INJURY',\n",
       " 'TOWED/STORED VEHICLE',\n",
       " '594(B)(1)PC  VANDALISM +$400',\n",
       " '10851(A)VC TAKE VEH W/O OWNER',\n",
       " '10851(A)VC TAKE VEH W/O OWNER',\n",
       " '484 PC PETTY THEFT',\n",
       " '9.04.050 A DRINKING IN PUBLIC',\n",
       " 'TOWED/STORED VEHICLE',\n",
       " '459 PC  BURGLARY RESIDENCE',\n",
       " '594(B)(2)(A) VANDALISM/ -$400',\n",
       " 'TOWED/STORED VEH-14602.6',\n",
       " 'TRAFFIC-ACCIDENT INJURY',\n",
       " '5150 WI DANGER SELF/OTHERS',\n",
       " '10851(A)VC TAKE VEH W/O OWNER',\n",
       " '459 PC  BURGLARY RESIDENCE',\n",
       " '475(C) PASS FORGED NOTE',\n",
       " 'TOWED/STORED VEH-14602.6',\n",
       " '475(C) PASS FORGED NOTE',\n",
       " 'FORGERY-COUNTERFEITING',\n",
       " 'TRAFFIC-ACCIDENT INJURY',\n",
       " 'TRAFFIC-ACCIDENT-NON INJURY',\n",
       " '459 PC  BURGLARY RESIDENCE',\n",
       " 'TOWED/STORED VEHICLE',\n",
       " '10851(A)VC TAKE VEH W/O OWNER',\n",
       " '459 PC  BURGLARY RESIDENCE',\n",
       " 'TOWED/STORED VEH-14602.6',\n",
       " 'FOUND PROPERTY - I RPT',\n",
       " 'TOWED/STORED VEH-14602.6',\n",
       " 'MISSING PERSON I RPT',\n",
       " '459 PC  BURGLARY VEHICLE',\n",
       " 'HARASSMENT - I RPT',\n",
       " '487(D)GRAND THEFT FIREARM/ANIM',\n",
       " 'TOWED/STORED VEH-14602.6',\n",
       " '290(F)1 W/I 5 DAYS ADD CHANGE',\n",
       " '487(A) GRAND THEFT-INSIDE',\n",
       " '459 PC  BURGLARY RESIDENCE',\n",
       " 'TRAFFIC-ACCIDENT INJURY',\n",
       " 'TRAFFIC-ACCIDENT INJURY',\n",
       " 'TOWED/STORED VEHICLE',\n",
       " '5150 WI DANGER SELF/OTHERS',\n",
       " 'TRAFFIC-ACCIDENT INJURY',\n",
       " '459 PC  BURGLARY RESIDENCE',\n",
       " '242 PC  BATTERY CIVILIAN',\n",
       " '487(A) PC GRAND THEFT',\n",
       " '10851 VC AUTO THEFT LOCATE',\n",
       " 'POSS STOLEN VEHICLE- I RPT',\n",
       " '459 PC  BURGLARY RESIDENCE',\n",
       " '459 PC  BURGLARY RESIDENCE',\n",
       " 'FOUND PROPERTY - I RPT',\n",
       " 'MISSING PERSON',\n",
       " 'NON INJ HR/MAIL OUT REPORT',\n",
       " 'TOWED/STORED VEHICLE',\n",
       " '290(F)1 W/I 5 DAYS ADD CHANGE',\n",
       " 'MISSING PERSON',\n",
       " '530.5 PC USE PERSONAL ID INFO',\n",
       " 'ASSAULT WITH WEAPON - I RPT',\n",
       " '245(A)(1)AWDW/NO FIREARM/CIVIL',\n",
       " 'FOUND PROPERTY - I RPT',\n",
       " 'BURGLARY - I RPT',\n",
       " 'TOWED/STORED VEHICLE',\n",
       " '496(A) RECEIVE STOLEN PROPERTY',\n",
       " '484 PETTY THEFT-SHOPLIFT',\n",
       " '459 PC  BURGLARY RESIDENCE',\n",
       " '484 PC PETTY THEFT',\n",
       " '11357(B)HS POSS -28.5GR MARIJ',\n",
       " 'MISSING PERSON',\n",
       " '459 PC  BURGLARY VEHICLE',\n",
       " 'MISSING PERSON',\n",
       " 'TOWED/STORED VEHICLE',\n",
       " '484 PC  PETTY THEFT/ OUTSIDE',\n",
       " 'POSSIBLE MENTAL - I RPT',\n",
       " '20002(A) HIT/RUN',\n",
       " 'MISCELLANEOUS I RPT (ZMISC)',\n",
       " '5150 WI DANGER SELF/OTHERS',\n",
       " 'TRAFFIC-ACCIDENT INJURY',\n",
       " 'MISCELLANEOUS I RPT (ZMISC)',\n",
       " 'TOWED/STORED VEHICLE',\n",
       " '11357(B)HS POSS -28.5GR MARIJ',\n",
       " 'THREATS - I RPT',\n",
       " '459 PC  BURGLARY RESIDENCE',\n",
       " '23152(A) VC DUI-ALCOHOL/DRUGS',\n",
       " '11377(A)HS POSS AMPHETAMINES',\n",
       " '10851 VC AUTO THEFT LOCATE',\n",
       " '20002(A) HIT/RUN',\n",
       " '459 PC  BURGLARY VEHICLE',\n",
       " '459 PC  BURGLARY BUSINESS',\n",
       " '487(A) PC GRAND THEFT',\n",
       " 'NON INJ HR/MAIL OUT REPORT',\n",
       " '5150 WI DANGER SELF/OTHERS',\n",
       " '5150 WI DANGER SELF/OTHERS',\n",
       " '529 PC FALSE PERSONATION',\n",
       " 'TOWED/STORED VEHICLE',\n",
       " '10851(A)VC TAKE VEH W/O OWNER',\n",
       " '10851(A)VC TAKE VEH W/O OWNER',\n",
       " '459 PC  BURGLARY VEHICLE',\n",
       " '211 PC ROBBERY- BUSINESS',\n",
       " '487(A) PC GRAND THEFT',\n",
       " '487(A) PC GRAND THEFT',\n",
       " 'TOWED/STORED VEHICLE',\n",
       " '422 PC THREAT/INTENT TO TERROR',\n",
       " '459 PC  BURGLARY VEHICLE',\n",
       " '459 PC  BURGLARY VEHICLE',\n",
       " '484 PC   PETTY THEFT/INSIDE',\n",
       " 'FAMILY DISTURBANCE - I RPT',\n",
       " '487(A) PC GRAND THEFT',\n",
       " '10851 VC AUTO THEFT LOCATE',\n",
       " '459 PC  BURGLARY RESIDENCE',\n",
       " '594(B)(2)(A) VANDALISM/ -$400',\n",
       " 'THREATS - I RPT',\n",
       " '459 PC  BURGLARY VEHICLE',\n",
       " '211 PC  ROBBERY UNSPECIFIED',\n",
       " '211 PC ROBBERY- BUSINESS',\n",
       " '10851(A)VC TAKE VEH W/O OWNER',\n",
       " 'NARCOTICS SUSP/EVID/ACT- I RPT',\n",
       " '459 PC  BURGLARY RESIDENCE',\n",
       " '459 PC  BURGLARY BUSINESS',\n",
       " 'MISSING PERSON',\n",
       " '11357(B)HS POSS -28.5GR MARIJ',\n",
       " '243(D) PC BATT/CIVILIAN W/INJ',\n",
       " '5150 WI DANGER SELF/OTHERS',\n",
       " '496(A) RECEIVE STOLEN PROPERTY',\n",
       " '10851(A)VC TAKE VEH W/O OWNER',\n",
       " 'MISSING PERSON',\n",
       " '484 PC   PETTY THEFT/INSIDE',\n",
       " '476 PC PASS FICTICIOUS CHECK',\n",
       " 'TOWED/STORED VEHICLE',\n",
       " '11351.5 HS POSS SALE RCK COCAI',\n",
       " 'SUSP PERS-NO CRIME - I RPT',\n",
       " 'TRAFFIC-ACCIDENT INJURY',\n",
       " '459 PC  BURGLARY RESIDENCE',\n",
       " '10851 VC AUTO THEFT LOCATE',\n",
       " 'MISCELLANEOUS I RPT (ZMISC)',\n",
       " '10851(A)VC TAKE VEH W/O OWNER',\n",
       " 'PROTECTIVE CUSTODY-I RPT',\n",
       " '459 PC  BURGLARY RESIDENCE',\n",
       " '10851(A)VC TAKE VEH W/O OWNER',\n",
       " 'CASUALTY REPORT',\n",
       " '484 PC   PETTY THEFT/INSIDE',\n",
       " 'CASUALTY REPORT',\n",
       " '484 PETTY THEFT/LICENSE PLATE',\n",
       " '10851(A)VC TAKE VEH W/O OWNER',\n",
       " '459 PC  BURGLARY VEHICLE',\n",
       " '459 PC  BURGLARY VEHICLE',\n",
       " 'WARRANT SERVED - I RPT',\n",
       " '10851(A)VC TAKE VEH W/O OWNER',\n",
       " '10851 VC AUTO THEFT LOCATE',\n",
       " '459 PC  BURGLARY RESIDENCE',\n",
       " 'TOWED/STORED VEHICLE',\n",
       " 'TOWED/STORED VEH-14602.6',\n",
       " '10851 VC AUTO THEFT LOCATE',\n",
       " '10851(A)VC TAKE VEH W/O OWNER',\n",
       " '10851(A)VC TAKE VEH W/O OWNER',\n",
       " '5150 WI DANGER SELF/OTHERS',\n",
       " '243(E)1 BATTERY NONCOHAB SPOUS',\n",
       " 'TOWED/STORED VEHICLE',\n",
       " '5150 WI DANGER SELF/OTHERS',\n",
       " 'TOWED/STORED VEH-14602.6',\n",
       " '245(A)(2) AWDW/FIREARM/CIVILIA',\n",
       " 'CASUALTY REPORT',\n",
       " '484 PETTY THEFT CLOUT UNLOCKED',\n",
       " '476 PC PASS FICTICIOUS CHECK',\n",
       " '484 PETTY THEFT CLOUT UNLOCKED',\n",
       " '3056 PAROLE VIO - I RPT',\n",
       " 'CHILD WELFARE - I RPT',\n",
       " 'LOST PROPERTY - I RPT',\n",
       " '10851(A)VC TAKE VEH W/O OWNER',\n",
       " '459 PC  BURGLARY VEHICLE',\n",
       " '594(B)(2)(A) VANDALISM/ -$400',\n",
       " '459 PC  BURGLARY VEHICLE',\n",
       " '594(B)(1)PC  VANDALISM +$400',\n",
       " '594(B)(1)PC  VANDALISM +$400',\n",
       " '459 PC  BURGLARY VEHICLE',\n",
       " 'TELEPEST -I RPT',\n",
       " '484 PETTY THEFT/LICENSE PLATE',\n",
       " '594(B)(2)(A) VANDALISM/ -$400',\n",
       " '459 PC  BURGLARY VEHICLE',\n",
       " 'PETTY THEFT - I RPT',\n",
       " '10855 VC LSE/RENT NOT RETURNED',\n",
       " '459 PC  BURGLARY RESIDENCE',\n",
       " 'TOWED/STORED VEHICLE',\n",
       " 'MISCELLANEOUS I RPT (ZMISC)',\n",
       " 'BOMBS/THREATS/EXPLOSIV- I RPT',\n",
       " '10851(A)VC TAKE VEH W/O OWNER',\n",
       " '5150 WI DANGER SELF/OTHERS',\n",
       " 'TOWED/STORED VEHICLE',\n",
       " '459 PC  BURGLARY RESIDENCE',\n",
       " '594(B)(1)PC  VANDALISM +$400',\n",
       " '459 PC  BURGLARY VEHICLE',\n",
       " '422 PC THREAT/INTENT TO TERROR',\n",
       " '594(B)(1)PC  VANDALISM +$400',\n",
       " '23152(A) VC DUI-ALCOHOL/DRUGS',\n",
       " 'JUVENILE PROBLEMS - I RPT',\n",
       " '459 PC  BURGLARY BUSINESS',\n",
       " '459 PC  BURGLARY VEHICLE',\n",
       " '243(E)1 BATTERY NONCOHAB SPOUS',\n",
       " '11364 HS POSS DRUG PARAPH',\n",
       " '417(A)1) PC BRANDISH NON-GUN',\n",
       " '594(B)(2)(A) VANDALISM/ -$400',\n",
       " '211 PC  ROBBERY UNSPECIFIED',\n",
       " 'VANDALISM - I RPT',\n",
       " '459 PC  BURGLARY VEHICLE',\n",
       " '215(A) PC    CARJACKING',\n",
       " '10851(A)VC TAKE VEH W/O OWNER',\n",
       " 'TRAFFIC-ACCIDENT-NON INJURY',\n",
       " '417(A)1) PC BRANDISH NON-GUN',\n",
       " '211 PC ROBBERY-PURSE SNATCH',\n",
       " 'TRAFFIC-ACCIDENT INJURY',\n",
       " '459 PC  BURGLARY RESIDENCE',\n",
       " 'TOWED/STORED VEH-14602.6',\n",
       " 'TOWED/STORED VEH-14602.6',\n",
       " 'MISSING PERSON',\n",
       " 'CASUALTY REPORT',\n",
       " '459 PC  BURGLARY RESIDENCE',\n",
       " '459 PC  BURGLARY RESIDENCE',\n",
       " '459 PC  BURGLARY RESIDENCE',\n",
       " '459 PC  BURGLARY RESIDENCE',\n",
       " 'TRAFFIC-ACCIDENT-NON INJURY',\n",
       " 'TOWED/STORED VEHICLE',\n",
       " '10851 VC AUTO THEFT LOCATE',\n",
       " 'TOWED/STORED VEH-14602.6',\n",
       " 'TOWED/STORED VEH-14602.6',\n",
       " '594(B)(2)(A) VANDALISM/ -$400',\n",
       " '484G(B) PC ACCESS CARD FRAUD',\n",
       " '487(A) PC GRAND THEFT',\n",
       " '484 PC  PETTY THEFT/ OUTSIDE',\n",
       " '459 PC  BURGLARY BUSINESS',\n",
       " '459 PC  BURGLARY RESIDENCE',\n",
       " '487(A) GRAND THEFT-CLOUT-UNLOC',\n",
       " 'TOWED/STORED VEH-14602.6',\n",
       " '459 PC  BURGLARY RESIDENCE',\n",
       " 'TRAFFIC-ACCIDENT INJURY',\n",
       " 'TOWED/STORED VEH-14602.6',\n",
       " 'TOWED/STORED VEHICLE',\n",
       " '484 PC   PETTY THEFT/INSIDE',\n",
       " '459 PC  BURGLARY RESIDENCE',\n",
       " '594(B)(2)(A) VANDALISM/ -$400',\n",
       " '10851 VC AUTO THEFT LOCATE',\n",
       " 'TOWED/STORED VEH-14602.6',\n",
       " 'TOWED/STORED VEH-14602.6',\n",
       " 'TOWED/STORED VEH-14602.6',\n",
       " '484 PETTY THEFT-SHOPLIFT',\n",
       " '10851 VC AUTO THEFT LOCATE',\n",
       " '484 PC   PETTY THEFT/INSIDE',\n",
       " '530.5 PC USE PERSONAL ID INFO',\n",
       " 'TOWED/STORED VEH-14602.6',\n",
       " '459 PC  BURGLARY RESIDENCE',\n",
       " '10851 VC AUTO THEFT LOCATE',\n",
       " 'TRAFFIC-ACCIDENT INJURY',\n",
       " 'TOWED/STORED VEH-14602.6',\n",
       " '459 PC  BURGLARY RESIDENCE',\n",
       " '10851 VC AUTO THEFT LOCATE',\n",
       " '5150 WI DANGER SELF/OTHERS',\n",
       " '211 PC ROBBERY- BUSINESS',\n",
       " 'TOWED/STORED VEH-14602.6',\n",
       " 'TOWED/STORED VEH-14602.6',\n",
       " '10851 VC AUTO THEFT LOCATE',\n",
       " '5150 WI DANGER SELF/OTHERS',\n",
       " 'TOWED/STORED VEHICLE',\n",
       " '211 PC ROBBERY- BUSINESS',\n",
       " 'TOWED/STORED VEHICLE',\n",
       " '459 PC  BURGLARY RESIDENCE',\n",
       " '653M(B) PC ANNOY/RPT CALL HOME',\n",
       " '484J PC PUBLISH CARD INFO',\n",
       " 'HARASSMENT - I RPT',\n",
       " '23103(A) RECKLESS ON HIGHWAY',\n",
       " '10851 VC AUTO THEFT LOCATE',\n",
       " 'TRAFFIC-ACCIDENT INJURY',\n",
       " 'MISSING PERSON',\n",
       " 'TOWED/STORED VEH-14602.6',\n",
       " 'TOWED/STORED VEH-14602.6',\n",
       " 'TRAFFIC-ACCIDENT-NON INJURY',\n",
       " 'TOWED/STORED VEHICLE',\n",
       " 'TOWED/STORED VEH-14602.6',\n",
       " '11352(A)HS SALE/TRANS CNTL SUB',\n",
       " '459 PC  BURGLARY RESIDENCE',\n",
       " 'TOWED/STORED VEH-14602.6',\n",
       " 'NON INJ HR/MAIL OUT REPORT',\n",
       " '10851 VC AUTO THEFT LOCATE',\n",
       " 'TOWED/STORED VEH-14602.6',\n",
       " 'MISSING PERSON',\n",
       " '666 PC PETTY THEFT W/PRI CONV',\n",
       " 'MISSING PERSON',\n",
       " '245(A)(1)AWDW/NO FIREARM/CIVIL',\n",
       " 'TOWED/STORED VEHICLE',\n",
       " 'TOWED/STORED VEH-14602.6',\n",
       " '11364 HS POSS DRUG PARAPH',\n",
       " '666 PC PETTY THEFT W/PRI CONV',\n",
       " 'TRAFFIC-ACCIDENT-NON INJURY',\n",
       " 'TOWED/STORED VEH-14602.6',\n",
       " '3056 PC PAROLE VIOLATION',\n",
       " '243(D) PC BATT/CIVILIAN W/INJ',\n",
       " '459 PC  BURGLARY RESIDENCE',\n",
       " '459 PC  BURGLARY VEHICLE',\n",
       " '530.5 PC USE PERSONAL ID INFO',\n",
       " 'TOWED/STORED VEHICLE',\n",
       " 'TOWED/STORED VEHICLE',\n",
       " 'TOWED/STORED VEH-14602.6',\n",
       " 'TRAFFIC-ACCIDENT INJURY',\n",
       " '602(N)TRESP DRIVE ON PRIVATE P',\n",
       " '530.5 PC USE PERSONAL ID INFO',\n",
       " 'TOWED/STORED VEH-14602.6',\n",
       " 'O/S AGENCY -ASSISTANCE- I RPT',\n",
       " 'FAMILY DISTURBANCE - I RPT',\n",
       " '240 PC ASSAULT/SIMPLE-CIVILIAN',\n",
       " 'CASUALTY REPORT',\n",
       " '459 PC  BURGLARY RESIDENCE',\n",
       " 'MISSING PERSON',\n",
       " '242 PC  BATTERY CIVILIAN',\n",
       " 'LOST PROPERTY - I RPT',\n",
       " 'TOWED/STORED VEHICLE',\n",
       " '2800.2(A) VC EVADING/RECKLESS',\n",
       " '10851 VC AUTO THEFT LOCATE',\n",
       " 'TRAFFIC-ACCIDENT INJURY',\n",
       " '10851 VC AUTO THEFT LOCATE',\n",
       " 'TOWED/STORED VEH-14602.6',\n",
       " '496(A) RECEIVE STOLEN PROPERTY',\n",
       " 'TOWED/STORED VEH-14602.6',\n",
       " 'TOWED/STORED VEHICLE',\n",
       " 'MISCELLANEOUS I RPT (ZMISC)',\n",
       " '11364 HS POSS DRUG PARAPH',\n",
       " 'TRAFFIC-ACCIDENT-NON INJURY',\n",
       " '647(F) PC PUB INTOX-DETOX ONLY',\n",
       " '647(F) PC PUB INTOX-DETOX ONLY',\n",
       " 'BATTERY - I RPT',\n",
       " 'TOWED/STORED VEH-14602.6',\n",
       " '484 PC   PETTY THEFT/INSIDE',\n",
       " 'THREATS - I RPT',\n",
       " '422 PC THREAT/INTENT TO TERROR',\n",
       " 'TOWED/STORED VEHICLE',\n",
       " 'TOWED/STORED VEH-14602.6',\n",
       " 'TOWED/STORED VEH-14602.6',\n",
       " 'TOWED/STORED VEH-14602.6',\n",
       " '245(A)(1)AWDW/NO FIREARM/CIVIL',\n",
       " '666 PC PETTY THEFT W/PRI CONV',\n",
       " '484 PETTY THEFT-SHOPLIFT',\n",
       " '11357(B)HS POSS -28.5GR MARIJ',\n",
       " 'TOWED/STORED VEH-14602.6',\n",
       " 'TOWED/STORED VEHICLE',\n",
       " 'MISSING PERSON',\n",
       " 'GANG ACTIVITY - I RPT',\n",
       " '594(B)(2)(A) VANDALISM/ -$400',\n",
       " '476 PC PASS FICTICIOUS CHECK',\n",
       " '484 PETTY THEFT-SHOPLIFT',\n",
       " 'NARCOTICS SUSP/EVID/ACT- I RPT',\n",
       " '487(A) PC GRAND THEFT',\n",
       " '12025(A)2)CNCLD GUN ON PER/FEL',\n",
       " 'TOWED/STORED VEHICLE',\n",
       " '484 PC PETTY THEFT',\n",
       " 'TOWED/STORED VEH-14602.6',\n",
       " 'TOWED/STORED VEHICLE',\n",
       " 'TOWED/STORED VEH-14602.6',\n",
       " 'TOWED/STORED VEHICLE',\n",
       " 'TOWED/STORED VEHICLE',\n",
       " 'TOWED/STORED VEHICLE',\n",
       " 'TOWED/STORED VEHICLE',\n",
       " 'TOWED/STORED VEH-14602.6',\n",
       " '12022.1 PC COMMIT FEL ON BAIL',\n",
       " 'TOWED/STORED VEHICLE',\n",
       " '242 PC  BATTERY CIVILIAN',\n",
       " 'POSSIBLE FINANCIAL CRIME-I RPT',\n",
       " '10851(A)VC TAKE VEH W/O OWNER',\n",
       " '20002(A) HIT/RUN',\n",
       " '487(A) GRAND THEFT-INSIDE',\n",
       " '484 PETTY THEFT-SHOPLIFT',\n",
       " '487(A) PC GRAND THEFT',\n",
       " '10851(A)VC TAKE VEH W/O OWNER',\n",
       " '243(E)1 BATTERY NONCOHAB SPOUS',\n",
       " '594(B)(2)(A) VANDALISM/ -$400',\n",
       " 'JUVENILE PROBLEMS - I RPT',\n",
       " '11532(A)HS LOITER DRG ACTIVITY',\n",
       " '11350(A)HS POSS CNTRL SUBST',\n",
       " '5150 WI DANGER SELF/OTHERS',\n",
       " 'TOWED/STORED VEHICLE',\n",
       " 'TOWED/STORED VEH-14602.6',\n",
       " '484 PETTY THEFT-SHOPLIFT',\n",
       " '1203.2 PC VIOLATION OF PROBATI',\n",
       " '5150 WI DANGER SELF/OTHERS',\n",
       " 'SAFEKEEPING - I RPT',\n",
       " 'MISSING PERSON LOCATE O/S ASSI',\n",
       " 'TOWED/STORED VEH-14602.6',\n",
       " '10851(A)VC TAKE VEH W/O OWNER',\n",
       " '10851(A)VC TAKE VEH W/O OWNER',\n",
       " '245(A)(1)AWDW/NO FIREARM/CIVIL',\n",
       " 'MISSING PERSON I RPT',\n",
       " '459 PC  BURGLARY-UNSPECIFIED',\n",
       " 'TOWED/STORED VEHICLE',\n",
       " '211 PC  ROBBERY UNSPECIFIED',\n",
       " '594(B)(2)(A) VANDALISM/ -$400',\n",
       " '594(B)(2)(A) VANDALISM/ -$400',\n",
       " '496(A) RECEIVE STOLEN PROPERTY',\n",
       " '10851 VC AUTO THEFT LOCATE',\n",
       " 'TOWED/STORED VEHICLE',\n",
       " '647(B) PC   PROSTITUTION',\n",
       " '5150 WI DANGER SELF/OTHERS',\n",
       " 'VANDALISM - I RPT',\n",
       " '459 PC  BURGLARY BUSINESS',\n",
       " 'CASUALTY REPORT',\n",
       " '20002(A) HIT/RUN',\n",
       " '647(F) PC DIP - DISORDERLY',\n",
       " '459 PC  BURGLARY BUSINESS',\n",
       " 'TOWED/STORED VEHICLE',\n",
       " '243(E)1 BATTERY NONCOHAB SPOUS',\n",
       " 'TRAFFIC - I RPT',\n",
       " 'TRAFFIC-ACCIDENT-NON INJURY',\n",
       " 'THREATS - I RPT',\n",
       " '487(D)GRAND THEFT FIREARM/ANIM',\n",
       " 'TOWED/STORED VEH-14602.6',\n",
       " '245(A)(2) AWDW/FIREARM/CIVILIA',\n",
       " 'TRAFFIC-ACCIDENT-NON INJURY',\n",
       " '647(B) PC   PROSTITUTION',\n",
       " 'MISSING PERSON',\n",
       " '10851(A)VC TAKE VEH W/O OWNER',\n",
       " '11377(A)HS POSS AMPHETAMINES',\n",
       " '11350(A)HS POSS CNTRL SUBST',\n",
       " '25661 BP FALSE EVIDENCE OF AGE',\n",
       " '245(A)(1)AWDW/NO FIREARM/CIVIL',\n",
       " 'MISSING PERSON',\n",
       " '20002(A) HIT/RUN',\n",
       " '11364 HS POSS DRUG PARAPH',\n",
       " 'TOWED/STORED VEHICLE',\n",
       " '594(B)(2)(A) VANDALISM/ -$400',\n",
       " '166(A)(4) WILFUL DISOBEY CT OR',\n",
       " '594(B)(2)(A) VANDALISM/ -$400',\n",
       " '459 PC  BURGLARY VEHICLE',\n",
       " '487(A) PC GRAND THEFT',\n",
       " 'FRAUD OR BUNCO - I RPT',\n",
       " '594(B)(2)(A) VANDALISM/ -$400',\n",
       " '10851(A)VC TAKE VEH W/O OWNER',\n",
       " '459 PC  BURGLARY VEHICLE',\n",
       " '459 PC  BURGLARY-UNSPECIFIED',\n",
       " 'TOWED/STORED VEHICLE',\n",
       " '5150 WI DANGER SELF/OTHERS',\n",
       " '12020(A)1) PROHIBITED FIREARM',\n",
       " '653M(B) PC ANNOY/RPT CALL HOME',\n",
       " '20002(A) HIT/RUN',\n",
       " '10851(A)VC TAKE VEH W/O OWNER',\n",
       " '484 PC PETTY THEFT',\n",
       " '459 PC  BURGLARY VEHICLE',\n",
       " 'FOUND PROPERTY - I RPT',\n",
       " '9.40.020(A) JUVENILE CURFEW',\n",
       " '4140 BP  POSS OF HYPO NEEDLE',\n",
       " '23152(A) VC DUI-ALCOHOL/DRUGS',\n",
       " 'CASUALTY REPORT',\n",
       " '11377(A)HS POSS CNTRL SUBST',\n",
       " '1203.2 PC VIOLATION OF PROBATI',\n",
       " '10851(A)VC TAKE VEH W/O OWNER',\n",
       " '245(A)(1)AWDW/NO FIREARM/CIVIL',\n",
       " '10851(A)VC TAKE VEH W/O OWNER',\n",
       " '459 PC  BURGLARY VEHICLE',\n",
       " '484G(B) PC ACCESS CARD FRAUD',\n",
       " 'HARASSMENT - I RPT',\n",
       " 'CASUALTY REPORT',\n",
       " '594(B)(1)PC  VANDALISM +$400',\n",
       " '594(B)(1)PC  VANDALISM +$400',\n",
       " '10851 VC AUTO THEFT LOCATE',\n",
       " 'TRAFFIC-ACCIDENT INJURY',\n",
       " '4140 BP  POSS OF HYPO NEEDLE',\n",
       " 'BURGLARY - I RPT',\n",
       " 'TRAFFIC-ACCIDENT INJURY',\n",
       " '1551(A) FUGITIVE FROM JUSTICE',\n",
       " 'SUSP PERS-NO CRIME - I RPT',\n",
       " 'MISSING PERSON',\n",
       " '10851(A)VC TAKE VEH W/O OWNER',\n",
       " 'TOWED/STORED VEH-14602.6',\n",
       " 'CASUALTY REPORT',\n",
       " 'TOWED/STORED VEH-14602.6',\n",
       " 'O/S AGENCY -ASSISTANCE- I RPT',\n",
       " 'LOST PROPERTY - I RPT',\n",
       " '475(C) PASS FORGED NOTE',\n",
       " 'THREATS - I RPT',\n",
       " '10851(A)VC TAKE VEH W/O OWNER',\n",
       " '459 PC  BURGLARY RESIDENCE',\n",
       " '3056 PAROLE VIO - I RPT',\n",
       " '273.6(A) PC VIO DV COURT ORDER',\n",
       " '10851(A)VC TAKE VEH W/O OWNER',\n",
       " '487(A) PC GRAND THEFT-SHOPLIFT',\n",
       " '459 PC  BURGLARY RESIDENCE',\n",
       " 'TRAFFIC-ACCIDENT INJURY',\n",
       " '11550(A)HS UNDER INFL NARCOTIC',\n",
       " '484 PETTY THEFT CLOUT UNLOCKED',\n",
       " '459 PC  BURGLARY VEHICLE',\n",
       " 'TOWED/STORED VEH-14602.6',\n",
       " 'TRAFFIC-ACCIDENT INJURY',\n",
       " '10851(A)VC TAKE VEH W/O OWNER',\n",
       " 'MISCELLANEOUS I RPT (ZMISC)',\n",
       " '148(A)(1)PC RESIST PEACE OFFCR',\n",
       " '459 PC  BURGLARY RESIDENCE',\n",
       " '484 PETTY THEFT-SHOPLIFT',\n",
       " '484G(B) PC ACCESS CARD FRAUD',\n",
       " 'GRAND THEFT - I RPT',\n",
       " '1708 US   THEFT OF MAIL',\n",
       " 'GANG ACTIVITY - I RPT',\n",
       " 'TOWED/STORED VEH-14602.6',\n",
       " 'TOWED/STORED VEHICLE',\n",
       " '487(A) PC GRAND THEFT',\n",
       " 'TOWED/STORED VEH-14602.6',\n",
       " '484 PC   PETTY THEFT/INSIDE',\n",
       " 'TOWED/STORED VEH-14602.6',\n",
       " '5150 WI DANGER SELF/OTHERS',\n",
       " 'TOWED/STORED VEH-14602.6',\n",
       " 'PERSON INFORMATION - I RPT',\n",
       " '459 PC  BURGLARY RESIDENCE',\n",
       " '242 PC  BATTERY CIVILIAN',\n",
       " '459 PC  BURGLARY BUSINESS',\n",
       " 'FRAUD OR BUNCO - I RPT',\n",
       " 'TOWED/STORED VEH-14602.6',\n",
       " '11378 HS POSS/SALE AMPHETAMINE',\n",
       " '459 PC  BURGLARY RESIDENCE',\n",
       " 'TOWED/STORED VEH-14602.6',\n",
       " 'TOWED/STORED VEHICLE',\n",
       " 'TRAFFIC-ACCIDENT INJURY',\n",
       " 'HARASSMENT - I RPT',\n",
       " 'SUSPICIOUS VEHICLE - I RPT',\n",
       " '5150 WI DANGER SELF/OTHERS',\n",
       " ...]"
      ]
     },
     "execution_count": 266,
     "metadata": {},
     "output_type": "execute_result"
    }
   ],
   "source": [
    "crime=crimes['crimedescr']\n",
    "list(crime)"
   ]
  }
 ],
 "metadata": {
  "kernelspec": {
   "display_name": "Python 3 (ipykernel)",
   "language": "python",
   "name": "python3"
  },
  "language_info": {
   "codemirror_mode": {
    "name": "ipython",
    "version": 3
   },
   "file_extension": ".py",
   "mimetype": "text/x-python",
   "name": "python",
   "nbconvert_exporter": "python",
   "pygments_lexer": "ipython3",
   "version": "3.9.13"
  }
 },
 "nbformat": 4,
 "nbformat_minor": 5
}
