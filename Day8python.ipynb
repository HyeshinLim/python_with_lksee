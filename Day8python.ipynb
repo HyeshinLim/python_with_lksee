{
 "cells": [
  {
   "cell_type": "code",
   "execution_count": 1,
   "id": "b92a2b4d-06b6-43b1-9491-d3165e7e952f",
   "metadata": {},
   "outputs": [
    {
     "name": "stdout",
     "output_type": "stream",
     "text": [
      "Hello my name is John\n"
     ]
    }
   ],
   "source": [
    "# class\n",
    "\n",
    "class Person:\n",
    "  def __init__(mysillyobject, name, age):\n",
    "    mysillyobject.name = name\n",
    "    mysillyobject.age = age\n",
    "\n",
    "  def myfunc(abc):\n",
    "    print(\"Hello my name is \" + abc.name)\n",
    "\n",
    "p1 = Person(\"John\", 36)\n",
    "p1.myfunc()\n"
   ]
  },
  {
   "cell_type": "code",
   "execution_count": 7,
   "id": "ece99e52-ca3a-4c71-b8f2-0bec7d564a99",
   "metadata": {},
   "outputs": [
    {
     "name": "stdin",
     "output_type": "stream",
     "text": [
      "이름이 무엇인가요?: cindy\n",
      "나이는 무엇인가요?: 23\n",
      "주소는 무엇인가요?: yongin\n"
     ]
    },
    {
     "name": "stdout",
     "output_type": "stream",
     "text": [
      "이름: cindy\n",
      "나이: 23\n",
      "주소: yongin\n"
     ]
    },
    {
     "name": "stdin",
     "output_type": "stream",
     "text": [
      "이름이 무엇인가요?: esther\n",
      "나이는 무엇인가요?: 22\n",
      "주소는 무엇인가요?: yongin\n"
     ]
    },
    {
     "name": "stdout",
     "output_type": "stream",
     "text": [
      "이름: esther\n",
      "나이: 22\n",
      "주소: yongin\n"
     ]
    }
   ],
   "source": [
    "class Person:\n",
    "    def __init__(self,name,age,address):\n",
    "        self.name = name\n",
    "        self.age = age\n",
    "        self.address = address\n",
    "        \n",
    "    def result(self):\n",
    "        print(f\"이름: {self.name}\\n나이: {self.age}\\n주소: {self.address}\")\n",
    "\n",
    "name = input(\"이름이 무엇인가요?:\")\n",
    "age = input(\"나이는 무엇인가요?:\")\n",
    "address = input(\"주소는 무엇인가요?:\")\n",
    "\n",
    "\n",
    "\n",
    "p1 = Person(name,age,address)\n",
    "p1.result()\n",
    "\n",
    "p2 = Person(name,age,address)\n",
    "p2.result()"
   ]
  },
  {
   "cell_type": "code",
   "execution_count": 12,
   "id": "82cde9f6-2823-4f57-817c-7066be94a2cc",
   "metadata": {},
   "outputs": [
    {
     "name": "stdout",
     "output_type": "stream",
     "text": [
      "이름: 임혜신\n",
      "나이: 23\n",
      "주소: 경기도 용인시\n"
     ]
    }
   ],
   "source": [
    "class Person:\n",
    "    def __init__(self,name,age,address):\n",
    "        self.name = name\n",
    "        self.age = age\n",
    "        self.address = address\n",
    "        \n",
    "    def result(self):\n",
    "        print(f\"이름: {self.name}\\n나이: {self.age}\\n주소: {self.address}\")\n",
    "\n",
    "p1 = Person(\"임혜신\",23,\"경기도 용인시\")\n",
    "p1.result()"
   ]
  },
  {
   "cell_type": "code",
   "execution_count": null,
   "id": "7d4000cc-17df-4584-b123-34703bd871b8",
   "metadata": {},
   "outputs": [],
   "source": []
  },
  {
   "cell_type": "code",
   "execution_count": 7,
   "id": "031e35e4-f3a4-46eb-9e41-593250637969",
   "metadata": {},
   "outputs": [
    {
     "name": "stdin",
     "output_type": "stream",
     "text": [
      "이름이 무엇인가요?: cindy\n",
      "나이는 무엇인가요?: 23\n",
      "주소는 무엇인가요?: yongin\n"
     ]
    },
    {
     "name": "stdout",
     "output_type": "stream",
     "text": [
      "이름: cindy\n",
      "나이: 23\n",
      "주소: yongin\n"
     ]
    },
    {
     "name": "stdin",
     "output_type": "stream",
     "text": [
      "이름이 무엇인가요?: esther\n",
      "나이는 무엇인가요?: 22\n",
      "주소는 무엇인가요?: yongin\n"
     ]
    },
    {
     "name": "stdout",
     "output_type": "stream",
     "text": [
      "이름: esther\n",
      "나이: 22\n",
      "주소: yongin\n"
     ]
    }
   ],
   "source": [
    "class Person:\n",
    "    def __init__(self,name,age,address):\n",
    "        self.name = name\n",
    "        self.age = age\n",
    "        self.address = address\n",
    "        \n",
    "    def result(self):\n",
    "        print(f\"이름: {self.name}\\n나이: {self.age}\\n주소: {self.address}\")\n",
    "\n",
    "name = input(\"이름이 무엇인가요?:\")\n",
    "age = input(\"나이는 무엇인가요?:\")\n",
    "address = input(\"주소는 무엇인가요?:\")\n",
    "\n",
    "p1 = Person(name,age,address)\n",
    "p1.result()\n",
    "\n",
    "name = input(\"이름이 무엇인가요?:\")\n",
    "age = input(\"나이는 무엇인가요?:\")\n",
    "address = input(\"주소는 무엇인가요?:\")\n",
    "\n",
    "p2 = Person(name,age,address)\n",
    "p2.result()"
   ]
  },
  {
   "cell_type": "code",
   "execution_count": null,
   "id": "849bfd30-21df-44e0-aef0-693f5ae9cef5",
   "metadata": {},
   "outputs": [],
   "source": [
    "class Person:\n",
    "    def __init__(self,name,age,address):\n",
    "        \n",
    "        self.name = name\n",
    "        self.age = age\n",
    "        self.address = address\n",
    "        \n",
    "        print(f\"이름: {self.name}\\n나이: {self.age}\\n주소: {self.address}\")\n",
    "\n",
    "name = input(\"이름이 무엇인가요?:\")\n",
    "age = input(\"나이는 무엇인가요?:\")\n",
    "address = input(\"주소는 무엇인가요?:\")\n",
    "\n",
    "p1 = Person(name,age,address)\n",
    "p1.result()\n",
    "\n",
    "name = input(\"이름이 무엇인가요?:\")\n",
    "age = input(\"나이는 무엇인가요?:\")\n",
    "address = input(\"주소는 무엇인가요?:\")\n",
    "\n",
    "p2 = Person(name,age,address)\n",
    "p2.result()"
   ]
  },
  {
   "cell_type": "code",
   "execution_count": null,
   "id": "d02115bd-48bf-4ea3-a36f-5b85c0708bdd",
   "metadata": {},
   "outputs": [],
   "source": [
    "class Person:\n",
    "    def __init__(self,name,age,address):\n",
    "        \n",
    "        self.name = name\n",
    "        self.age = age\n",
    "        self.address = address\n",
    "        self.__wallet = wallet\n",
    "    def pay(self,amount):\n",
    "        if self.__wallet < amount:\n",
    "            print()\n",
    "            return\n",
    "        self.__wallet -= amount\n",
    "        print(\"이제 {0}\".format(self.__wallet))\n",
    "\n",
    "maria = Person(\n",
    "maria.pay(3000)"
   ]
  },
  {
   "cell_type": "code",
   "execution_count": null,
   "id": "7bd0225f-2942-438c-a6b9-6efb68bcb18b",
   "metadata": {},
   "outputs": [],
   "source": [
    "class Annie:\n",
    "    def __init__(self):\n",
    "        hp,mana,ap = int(input(\"체력, 마나, AP를 입력하세요.\").split(','))\n",
    "        self.ph = hp\n",
    "        self.mana = mana\n",
    "        self.ap = ap\n",
    "        \n",
    "        result = ap*0.65+400\n",
    "        print(result)\n",
    "    \n",
    "a = Annie\n",
    "a()"
   ]
  },
  {
   "cell_type": "code",
   "execution_count": null,
   "id": "a6f7418b-88e5-4bfd-87a0-3f6d7e3d35aa",
   "metadata": {},
   "outputs": [],
   "source": [
    "class Annie:\n",
    "    def __init__(self,hp=0,mp=0,ap=0):\n",
    "        self.ph = hp\n",
    "        self.mp = mp\n",
    "        self.ap = ap\n",
    "      \n",
    "    def tibber(self):\n",
    "        return self.ap*0.65+400\n",
    "\n",
    "    "
   ]
  }
 ],
 "metadata": {
  "kernelspec": {
   "display_name": "Python 3 (ipykernel)",
   "language": "python",
   "name": "python3"
  },
  "language_info": {
   "codemirror_mode": {
    "name": "ipython",
    "version": 3
   },
   "file_extension": ".py",
   "mimetype": "text/x-python",
   "name": "python",
   "nbconvert_exporter": "python",
   "pygments_lexer": "ipython3",
   "version": "3.9.13"
  }
 },
 "nbformat": 4,
 "nbformat_minor": 5
}
