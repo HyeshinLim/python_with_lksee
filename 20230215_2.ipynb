{
 "cells": [
  {
   "cell_type": "code",
   "execution_count": 18,
   "metadata": {},
   "outputs": [],
   "source": [
    "import pickle \n",
    "\n",
    "with open(\"./starbucks.pkl\", \"rb\") as f:\n",
    "    star = pickle.load(f)"
   ]
  },
  {
   "cell_type": "code",
   "execution_count": 3,
   "metadata": {},
   "outputs": [
    {
     "data": {
      "text/plain": [
       "1786"
      ]
     },
     "execution_count": 3,
     "metadata": {},
     "output_type": "execute_result"
    }
   ],
   "source": [
    "len(star)"
   ]
  },
  {
   "cell_type": "code",
   "execution_count": 11,
   "metadata": {},
   "outputs": [],
   "source": [
    "f = open(\"./data/oil_gas.csv\", \"r\", encoding='utf-8-sig')"
   ]
  },
  {
   "cell_type": "code",
   "execution_count": 12,
   "metadata": {},
   "outputs": [],
   "source": [
    "data = f.read()"
   ]
  },
  {
   "cell_type": "code",
   "execution_count": 15,
   "metadata": {},
   "outputs": [],
   "source": [
    "with open(\"./data/oil_gas.csv\", \"r\", encoding='utf-8-sig') as f:\n",
    "    for idx, x in enumerate(f):\n",
    "        pass"
   ]
  },
  {
   "cell_type": "code",
   "execution_count": 16,
   "metadata": {},
   "outputs": [
    {
     "data": {
      "text/plain": [
       "9059000"
      ]
     },
     "execution_count": 16,
     "metadata": {},
     "output_type": "execute_result"
    }
   ],
   "source": [
    "idx"
   ]
  },
  {
   "cell_type": "code",
   "execution_count": 49,
   "metadata": {},
   "outputs": [],
   "source": [
    "def search_store(store_gu):\n",
    "    total = []\n",
    "    for data in star:\n",
    "        if data['gugun_name'] != None and store_gu == data['gugun_name']:\n",
    "            total.append(data['s_name'])\n",
    "    return total"
   ]
  },
  {
   "cell_type": "code",
   "execution_count": 52,
   "metadata": {},
   "outputs": [],
   "source": [
    "def search_store(store_gu):\n",
    "    return [data['s_name'] for data in star if data['gugun_name'] != None and store_gu == data['gugun_name']]"
   ]
  },
  {
   "cell_type": "code",
   "execution_count": 53,
   "metadata": {},
   "outputs": [],
   "source": [
    "rt = search_store(\"강남구\")"
   ]
  },
  {
   "cell_type": "code",
   "execution_count": 54,
   "metadata": {},
   "outputs": [
    {
     "data": {
      "text/plain": [
       "['역삼아레나빌딩',\n",
       " '논현역사거리',\n",
       " '신사역성일빌딩',\n",
       " '국기원사거리',\n",
       " '대치재경빌딩R',\n",
       " '봉은사역',\n",
       " '압구정윤성빌딩',\n",
       " '코엑스별마당',\n",
       " '삼성역섬유센터R',\n",
       " '압구정R',\n",
       " '수서역R',\n",
       " '양재강남빌딩R',\n",
       " '선릉동신빌딩R',\n",
       " '봉은사로선정릉',\n",
       " '강남오거리',\n",
       " '스타필드코엑스몰R',\n",
       " '강남구청정문',\n",
       " '도곡공원',\n",
       " '강남R',\n",
       " '대치은마사거리',\n",
       " '청담영동대로',\n",
       " '압구정',\n",
       " '신사가로수',\n",
       " '청담스타R',\n",
       " '강남우성',\n",
       " '학동사거리',\n",
       " '대치사거리',\n",
       " '포스코사거리',\n",
       " '을지병원사거리',\n",
       " '신사역',\n",
       " '도곡역',\n",
       " '서울세관사거리',\n",
       " '청담사거리',\n",
       " '한티역',\n",
       " '역삼초교사거리',\n",
       " '코엑스몰',\n",
       " '가로수길',\n",
       " '역삼대로',\n",
       " '역삼포스코',\n",
       " '강남대로',\n",
       " '청담',\n",
       " '삼성도심공항',\n",
       " '삼성교',\n",
       " '학동역',\n",
       " '대치',\n",
       " 'SSG마켓도곡R',\n",
       " '삼성',\n",
       " '선릉세화빌딩',\n",
       " '압구정역',\n",
       " '압구정로',\n",
       " '구역삼사거리',\n",
       " '큰길타워',\n",
       " '강남구청역',\n",
       " '대치역',\n",
       " '포이',\n",
       " '아크플레이스',\n",
       " '학여울역',\n",
       " '선정릉역',\n",
       " '삼성현대힐',\n",
       " 'GS타워',\n",
       " '압구정미소',\n",
       " '선릉역',\n",
       " '코엑스사거리',\n",
       " '역삼럭키',\n",
       " '청담공원',\n",
       " '신압구정',\n",
       " '아크로힐스논현',\n",
       " '강남비젼타워',\n",
       " '압구정로데오역',\n",
       " '르네상스사거리',\n",
       " '포스코',\n",
       " '선릉로',\n",
       " '논현힐탑',\n",
       " '도산가로수길',\n",
       " '대치한티',\n",
       " '수서역사거리',\n",
       " '코엑스아셈타워',\n",
       " '센터필드R',\n",
       " '도산사거리',\n",
       " '강남세곡',\n",
       " '대치삼성프라자',\n",
       " '언주역',\n",
       " '강남역신분당역사',\n",
       " '삼성역',\n",
       " '테헤란로아남타워',\n",
       " '강남논현',\n",
       " '삼성동',\n",
       " '역삼이마트']"
      ]
     },
     "execution_count": 54,
     "metadata": {},
     "output_type": "execute_result"
    }
   ],
   "source": [
    "rt"
   ]
  },
  {
   "cell_type": "code",
   "execution_count": 38,
   "metadata": {},
   "outputs": [
    {
     "data": {
      "text/plain": [
       "{'seq': 0,\n",
       " 'sido_cd': None,\n",
       " 'sido_nm': None,\n",
       " 'gugun_cd': None,\n",
       " 'gugun_nm': None,\n",
       " 'code_order': None,\n",
       " 'view_yn': None,\n",
       " 'store_num': None,\n",
       " 'sido': None,\n",
       " 'gugun': None,\n",
       " 'address': None,\n",
       " 'new_img_nm': None,\n",
       " 'p_pro_seq': 0,\n",
       " 'p_view_yn': None,\n",
       " 'p_sido_cd': '',\n",
       " 'p_gugun_cd': '',\n",
       " 'p_store_nm': None,\n",
       " 'p_theme_cd': None,\n",
       " 'p_wireless_yn': None,\n",
       " 'p_smoking_yn': None,\n",
       " 'p_book_yn': None,\n",
       " 'p_music_yn': None,\n",
       " 'p_terrace_yn': None,\n",
       " 'p_table_yn': None,\n",
       " 'p_takeout_yn': None,\n",
       " 'p_parking_yn': None,\n",
       " 'p_dollar_assent': None,\n",
       " 'p_card_recharge': None,\n",
       " 'p_subway_yn': None,\n",
       " 'stb_store_file_renew': None,\n",
       " 'stb_store_theme_renew': None,\n",
       " 'stb_store_time_renew': None,\n",
       " 'stb_store_lsm': None,\n",
       " 's_code': '1509',\n",
       " 's_name': '역삼아레나빌딩',\n",
       " 'tel': '1522-3232',\n",
       " 'fax': '02-568-3763',\n",
       " 'sido_code': '01',\n",
       " 'sido_name': '서울',\n",
       " 'gugun_code': '0101',\n",
       " 'gugun_name': '강남구',\n",
       " 'addr': '서울특별시 강남구 역삼동 721-13 아레나빌딩',\n",
       " 'park_info': None,\n",
       " 'new_state': None,\n",
       " 'theme_state': 'T05@T08@T16@T17@T20@T21@T30@@T52@P80@P90',\n",
       " 'new_bool': 0,\n",
       " 'search_text': '',\n",
       " 'ins_lat': '',\n",
       " 'ins_lng': '',\n",
       " 'in_distance': 0,\n",
       " 'out_distance': '9.27',\n",
       " 'all_search_cnt': -1,\n",
       " 'addr_search_cnt': -1,\n",
       " 'store_search_cnt': -1,\n",
       " 'rowCount': 30,\n",
       " 'store_nm': '',\n",
       " 'store_cd': 0,\n",
       " 's_biz_code': '3762',\n",
       " 'new_icon': 'N',\n",
       " 'set_user': '',\n",
       " 'favorites': 0,\n",
       " 'map_desc': None,\n",
       " 'notice': None,\n",
       " 'defaultimage': '/upload/store/2020/09/[3762]_20200917031519_6juwr.JPG',\n",
       " 'etcimage': None,\n",
       " 'in_biz_cd': None,\n",
       " 'in_store_cd': None,\n",
       " 'in_favorites': None,\n",
       " 'in_user_id': None,\n",
       " 'in_biz_cds': 0,\n",
       " 'in_biz_arr': None,\n",
       " 'in_biz_arrdata': None,\n",
       " 'in_scodes': 0,\n",
       " 'in_scode_arr': None,\n",
       " 'in_scode_arrdata': None,\n",
       " 'disp': None,\n",
       " 'set_date': None,\n",
       " 'hlytag': None,\n",
       " 'hlytag_msg': None,\n",
       " 'vSal': '',\n",
       " 'istart': 1,\n",
       " 'iend': 60,\n",
       " 'open_dt': '20190613',\n",
       " 'gold_card': 0,\n",
       " 'ip_lat': '',\n",
       " 'ip_long': '',\n",
       " 'espresso': '',\n",
       " 'new_store': '',\n",
       " 'premiere_food': '',\n",
       " 'doro_address': '서울특별시 강남구 언주로 425 (역삼동)',\n",
       " 'cold_blew': '',\n",
       " 'my_siren_order_store_yn': 'N',\n",
       " 'whcroad_yn': 'WHCROAD',\n",
       " 'skuNo': '',\n",
       " 'skuName': '',\n",
       " 'skuImgUrl': '',\n",
       " 'stock_count': 0,\n",
       " 'store_area_name': None,\n",
       " 'store_area_code': 'A01',\n",
       " 'is_open': None,\n",
       " 'gift_stock_yn': None,\n",
       " 'lat': '37.501087',\n",
       " 'lot': '127.043069',\n",
       " 't20': 0,\n",
       " 't04': 0,\n",
       " 't03': 0,\n",
       " 't01': 0,\n",
       " 't12': 0,\n",
       " 't09': 0,\n",
       " 't06': 0,\n",
       " 't10': 0,\n",
       " 'p10': 0,\n",
       " 'p50': 0,\n",
       " 'p20': 0,\n",
       " 'p60': 0,\n",
       " 'p30': 0,\n",
       " 'p70': 0,\n",
       " 'p40': 0,\n",
       " 'p80': 0,\n",
       " 't22': 0,\n",
       " 't21': 0,\n",
       " 'p90': 0,\n",
       " 't05': 0,\n",
       " 't30': 0,\n",
       " 't36': 0,\n",
       " 't27': 0,\n",
       " 't29': 0,\n",
       " 't43': 0,\n",
       " 't48': 0}"
      ]
     },
     "execution_count": 38,
     "metadata": {},
     "output_type": "execute_result"
    }
   ],
   "source": [
    "star[0]"
   ]
  },
  {
   "cell_type": "code",
   "execution_count": 21,
   "metadata": {},
   "outputs": [],
   "source": [
    "url_store = \"https://www.starbucks.co.kr/store/getStoreView.do\""
   ]
  },
  {
   "cell_type": "code",
   "execution_count": 39,
   "metadata": {},
   "outputs": [],
   "source": [
    "payload2 = {\"in_biz_cd\":\"3762\"}"
   ]
  },
  {
   "cell_type": "code",
   "execution_count": 40,
   "metadata": {},
   "outputs": [],
   "source": [
    "import requests\n",
    "r3 = requests.post(url_store, data=payload2)"
   ]
  },
  {
   "cell_type": "code",
   "execution_count": null,
   "metadata": {},
   "outputs": [],
   "source": [
    "r3.json()"
   ]
  },
  {
   "cell_type": "code",
   "execution_count": 43,
   "metadata": {},
   "outputs": [],
   "source": [
    "url_time = \"https://www.starbucks.co.kr/store/getStoreTime.do\""
   ]
  },
  {
   "cell_type": "code",
   "execution_count": 44,
   "metadata": {},
   "outputs": [],
   "source": [
    "payload3 = {\"in_biz_cd\" : \"3762\" ,\n",
    "            \"in_store_type\" : \"C\"}"
   ]
  },
  {
   "cell_type": "code",
   "execution_count": 45,
   "metadata": {},
   "outputs": [],
   "source": [
    "r4 = requests.post(url_time, data=payload3)"
   ]
  },
  {
   "cell_type": "code",
   "execution_count": 46,
   "metadata": {},
   "outputs": [
    {
     "data": {
      "text/plain": [
       "{'list': [{'mon': None,\n",
       "   'tue': None,\n",
       "   'wed': None,\n",
       "   'thur': None,\n",
       "   'fri': None,\n",
       "   'sat': None,\n",
       "   'sun': None,\n",
       "   'in_store_type': None,\n",
       "   'in_biz_cd': None,\n",
       "   'target': None,\n",
       "   'store_time_day': '15',\n",
       "   'store_time_week': '4',\n",
       "   'store_time_week_str': 'WED',\n",
       "   'store_opentime': '0700-2200',\n",
       "   'store_time_hlytag': '1'},\n",
       "  {'mon': None,\n",
       "   'tue': None,\n",
       "   'wed': None,\n",
       "   'thur': None,\n",
       "   'fri': None,\n",
       "   'sat': None,\n",
       "   'sun': None,\n",
       "   'in_store_type': None,\n",
       "   'in_biz_cd': None,\n",
       "   'target': None,\n",
       "   'store_time_day': '16',\n",
       "   'store_time_week': '5',\n",
       "   'store_time_week_str': 'THU',\n",
       "   'store_opentime': '0700-2200',\n",
       "   'store_time_hlytag': '1'},\n",
       "  {'mon': None,\n",
       "   'tue': None,\n",
       "   'wed': None,\n",
       "   'thur': None,\n",
       "   'fri': None,\n",
       "   'sat': None,\n",
       "   'sun': None,\n",
       "   'in_store_type': None,\n",
       "   'in_biz_cd': None,\n",
       "   'target': None,\n",
       "   'store_time_day': '17',\n",
       "   'store_time_week': '6',\n",
       "   'store_time_week_str': 'FRI',\n",
       "   'store_opentime': '0700-2200',\n",
       "   'store_time_hlytag': '1'},\n",
       "  {'mon': None,\n",
       "   'tue': None,\n",
       "   'wed': None,\n",
       "   'thur': None,\n",
       "   'fri': None,\n",
       "   'sat': None,\n",
       "   'sun': None,\n",
       "   'in_store_type': None,\n",
       "   'in_biz_cd': None,\n",
       "   'target': None,\n",
       "   'store_time_day': '18',\n",
       "   'store_time_week': '7',\n",
       "   'store_time_week_str': 'SAT',\n",
       "   'store_opentime': '0700-2200',\n",
       "   'store_time_hlytag': '1'},\n",
       "  {'mon': None,\n",
       "   'tue': None,\n",
       "   'wed': None,\n",
       "   'thur': None,\n",
       "   'fri': None,\n",
       "   'sat': None,\n",
       "   'sun': None,\n",
       "   'in_store_type': None,\n",
       "   'in_biz_cd': None,\n",
       "   'target': None,\n",
       "   'store_time_day': '19',\n",
       "   'store_time_week': '1',\n",
       "   'store_time_week_str': 'SUN',\n",
       "   'store_opentime': '0700-2200',\n",
       "   'store_time_hlytag': '2'},\n",
       "  {'mon': None,\n",
       "   'tue': None,\n",
       "   'wed': None,\n",
       "   'thur': None,\n",
       "   'fri': None,\n",
       "   'sat': None,\n",
       "   'sun': None,\n",
       "   'in_store_type': None,\n",
       "   'in_biz_cd': None,\n",
       "   'target': None,\n",
       "   'store_time_day': '20',\n",
       "   'store_time_week': '2',\n",
       "   'store_time_week_str': 'MON',\n",
       "   'store_opentime': '0700-2200',\n",
       "   'store_time_hlytag': '1'},\n",
       "  {'mon': None,\n",
       "   'tue': None,\n",
       "   'wed': None,\n",
       "   'thur': None,\n",
       "   'fri': None,\n",
       "   'sat': None,\n",
       "   'sun': None,\n",
       "   'in_store_type': None,\n",
       "   'in_biz_cd': None,\n",
       "   'target': None,\n",
       "   'store_time_day': '21',\n",
       "   'store_time_week': '3',\n",
       "   'store_time_week_str': 'TUE',\n",
       "   'store_opentime': '0700-2200',\n",
       "   'store_time_hlytag': '1'}]}"
      ]
     },
     "execution_count": 46,
     "metadata": {},
     "output_type": "execute_result"
    }
   ],
   "source": [
    "r4.json()"
   ]
  },
  {
   "cell_type": "code",
   "execution_count": 56,
   "metadata": {},
   "outputs": [],
   "source": [
    "from bs4 import BeautifulSoup"
   ]
  },
  {
   "cell_type": "code",
   "execution_count": 58,
   "metadata": {},
   "outputs": [],
   "source": [
    "html_doc = \"\"\"<html><head><title>The Dormouse's story</title></head>\n",
    "<body>\n",
    "<p class=\"title\"><b>The Dormouse's story</b></p>\n",
    "\n",
    "<p class=\"story\">Once upon a time there were three little sisters; and their names were\n",
    "<a href=\"http://example.com/elsie\" class=\"sister\" id=\"link1\">Elsie</a>,\n",
    "<a href=\"http://example.com/lacie\" class=\"sister\" id=\"link2\">Lacie</a> and\n",
    "<a href=\"http://example.com/tillie\" class=\"sister\" id=\"link3\">Tillie</a>;\n",
    "and they lived at the bottom of a well.</p>\n",
    "\n",
    "<p class=\"story\">...</p>\n",
    "\"\"\"\n"
   ]
  },
  {
   "cell_type": "code",
   "execution_count": 59,
   "metadata": {},
   "outputs": [],
   "source": [
    "bs = BeautifulSoup(html_doc)"
   ]
  },
  {
   "cell_type": "code",
   "execution_count": 65,
   "metadata": {},
   "outputs": [
    {
     "data": {
      "text/plain": [
       "<a class=\"sister\" href=\"http://example.com/elsie\" id=\"link1\">Elsie</a>"
      ]
     },
     "execution_count": 65,
     "metadata": {},
     "output_type": "execute_result"
    }
   ],
   "source": [
    "bs.find(\"a\", class_=\"sister\")"
   ]
  },
  {
   "cell_type": "code",
   "execution_count": 66,
   "metadata": {},
   "outputs": [
    {
     "data": {
      "text/plain": [
       "[<a class=\"sister\" href=\"http://example.com/elsie\" id=\"link1\">Elsie</a>,\n",
       " <a class=\"sister\" href=\"http://example.com/lacie\" id=\"link2\">Lacie</a>,\n",
       " <a class=\"sister\" href=\"http://example.com/tillie\" id=\"link3\">Tillie</a>]"
      ]
     },
     "execution_count": 66,
     "metadata": {},
     "output_type": "execute_result"
    }
   ],
   "source": [
    "bs.findAll(\"a\", class_=\"sister\")"
   ]
  },
  {
   "cell_type": "code",
   "execution_count": 67,
   "metadata": {},
   "outputs": [],
   "source": [
    "news_url = \"https://n.news.naver.com/mnews/article/009/0005088914?sid=105\""
   ]
  },
  {
   "cell_type": "code",
   "execution_count": 72,
   "metadata": {},
   "outputs": [],
   "source": [
    "head = {\"User-Agent\": \"Mozilla/5.0 (Windows NT 10.0; Win64; x64) AppleWebKit/537.36 (KHTML, like Gecko) Chrome/110.0.0.0 Safari/537.36\"}"
   ]
  },
  {
   "cell_type": "code",
   "execution_count": 73,
   "metadata": {},
   "outputs": [],
   "source": [
    "news_url = \"https://n.news.naver.com/mnews/article/009/0005088914?sid=105\"\n",
    "head = {\"User-Agent\": \"Mozilla/5.0 (Windows NT 10.0; Win64; x64) AppleWebKit/537.36 (KHTML, like Gecko) Chrome/110.0.0.0 Safari/537.36\"}\n",
    "naver_news = requests.get(news_url, headers=head)"
   ]
  },
  {
   "cell_type": "code",
   "execution_count": 75,
   "metadata": {},
   "outputs": [
    {
     "data": {
      "text/plain": [
       "200"
      ]
     },
     "execution_count": 75,
     "metadata": {},
     "output_type": "execute_result"
    }
   ],
   "source": [
    "naver_news.status_code"
   ]
  },
  {
   "cell_type": "code",
   "execution_count": 77,
   "metadata": {},
   "outputs": [],
   "source": [
    "bs = BeautifulSoup(naver_news.text)"
   ]
  },
  {
   "cell_type": "code",
   "execution_count": 83,
   "metadata": {},
   "outputs": [],
   "source": [
    "with open(\"./news.txt\", \"w\", encoding='utf-8') as f:\n",
    "    f.write(bs.find(\"div\", id=\"dic_area\").text.strip())"
   ]
  },
  {
   "cell_type": "code",
   "execution_count": 88,
   "metadata": {},
   "outputs": [
    {
     "data": {
      "text/plain": [
       "'2023.02.15. PM 3:46'"
      ]
     },
     "execution_count": 88,
     "metadata": {},
     "output_type": "execute_result"
    }
   ],
   "source": [
    "bs.find(\"span\", \n",
    "{\"class\" : \"media_end_head_info_datestamp_time _ARTICLE_DATE_TIME\"}).text.replace(\"오후\", \"PM\")"
   ]
  },
  {
   "cell_type": "code",
   "execution_count": 94,
   "metadata": {},
   "outputs": [],
   "source": [
    "from datetime import datetime, timedelta"
   ]
  },
  {
   "cell_type": "code",
   "execution_count": 95,
   "metadata": {},
   "outputs": [
    {
     "data": {
      "text/plain": [
       "datetime.datetime(2022, 11, 7, 3, 46)"
      ]
     },
     "execution_count": 95,
     "metadata": {},
     "output_type": "execute_result"
    }
   ],
   "source": [
    "datetime.strptime('2023.02.15. PM 3:46', \"%Y.%m.%d. %p %H:%M\") + timedelta(days= -100)"
   ]
  },
  {
   "cell_type": "code",
   "execution_count": null,
   "metadata": {},
   "outputs": [],
   "source": []
  }
 ],
 "metadata": {
  "kernelspec": {
   "display_name": "base",
   "language": "python",
   "name": "python3"
  },
  "language_info": {
   "codemirror_mode": {
    "name": "ipython",
    "version": 3
   },
   "file_extension": ".py",
   "mimetype": "text/x-python",
   "name": "python",
   "nbconvert_exporter": "python",
   "pygments_lexer": "ipython3",
   "version": "3.9.13"
  },
  "orig_nbformat": 4,
  "vscode": {
   "interpreter": {
    "hash": "98087a761fcae4c46d2ce2d90e009ea9764bea98bc0375b71c2c672c7c0af48e"
   }
  }
 },
 "nbformat": 4,
 "nbformat_minor": 2
}
