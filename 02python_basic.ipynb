{
 "cells": [
  {
   "cell_type": "code",
   "execution_count": 7,
   "id": "e2f39280-cb59-4da5-966c-88c4e714945b",
   "metadata": {},
   "outputs": [],
   "source": [
    "x = 1\n",
    "\n",
    "text = \"# 이것은\""
   ]
  },
  {
   "cell_type": "code",
   "execution_count": 8,
   "id": "11d89a20-39ef-43f3-a979-6240499997cb",
   "metadata": {},
   "outputs": [
    {
     "name": "stdout",
     "output_type": "stream",
     "text": [
      "1\n"
     ]
    }
   ],
   "source": [
    "print(x)"
   ]
  },
  {
   "cell_type": "code",
   "execution_count": 16,
   "id": "8fc42712-a2a8-4ea8-bbe8-7e0f178704f1",
   "metadata": {},
   "outputs": [
    {
     "name": "stdout",
     "output_type": "stream",
     "text": [
      "Hello world!\n",
      "Hello world!\n",
      "Python Programming\n"
     ]
    }
   ],
   "source": [
    "print(\"Hello world!\")\n",
    "print(\"Hello world!\")\n",
    "print(\"Python Programming\")     "
   ]
  },
  {
   "cell_type": "code",
   "execution_count": 18,
   "id": "ff9141ea-6f3e-4698-9b7c-e33ec4e87618",
   "metadata": {},
   "outputs": [
    {
     "name": "stdout",
     "output_type": "stream",
     "text": [
      "89\n"
     ]
    }
   ],
   "source": [
    "print (13+(22-3)*4)"
   ]
  },
  {
   "cell_type": "code",
   "execution_count": 20,
   "id": "720408e7-4722-4f87-9d70-abc4ace5e22c",
   "metadata": {},
   "outputs": [
    {
     "name": "stdout",
     "output_type": "stream",
     "text": [
      "28.2\n"
     ]
    }
   ],
   "source": [
    "print (13+((22-3)*4)/5)"
   ]
  },
  {
   "cell_type": "code",
   "execution_count": 23,
   "id": "c6169d52-9f2e-4a54-9e2a-921c0e05d11c",
   "metadata": {},
   "outputs": [
    {
     "name": "stdout",
     "output_type": "stream",
     "text": [
      "Hello world!\n",
      "Hello world!\n",
      "Python Programming\n"
     ]
    }
   ],
   "source": [
    "print(\"\"\"Hello world!\n",
    "Hello world!\n",
    "Python Programming\"\"\")"
   ]
  },
  {
   "cell_type": "code",
   "execution_count": 24,
   "id": "8869a655-d948-41c9-ba08-59efcb87eeb2",
   "metadata": {},
   "outputs": [
    {
     "name": "stdout",
     "output_type": "stream",
     "text": [
      "Hello world!\n",
      "Hello world!\n",
      "Python Programming\n"
     ]
    }
   ],
   "source": [
    "print(\"Hello world!\\nHello world!\\nPython Programming\")"
   ]
  },
  {
   "cell_type": "code",
   "execution_count": 25,
   "id": "15e85d68-5a27-4ed5-b5ec-d36b05167492",
   "metadata": {},
   "outputs": [
    {
     "data": {
      "text/plain": [
       "3"
      ]
     },
     "execution_count": 25,
     "metadata": {},
     "output_type": "execute_result"
    }
   ],
   "source": [
    "7//2"
   ]
  },
  {
   "cell_type": "code",
   "execution_count": 26,
   "id": "afad4456-13af-4f49-bc79-5838c43a04fc",
   "metadata": {},
   "outputs": [
    {
     "data": {
      "text/plain": [
       "1"
      ]
     },
     "execution_count": 26,
     "metadata": {},
     "output_type": "execute_result"
    }
   ],
   "source": [
    "5%2"
   ]
  },
  {
   "cell_type": "code",
   "execution_count": 28,
   "id": "b26f564e-8e78-44b0-b479-04e6b3d08f9f",
   "metadata": {},
   "outputs": [
    {
     "data": {
      "text/plain": [
       "1433"
      ]
     },
     "execution_count": 28,
     "metadata": {},
     "output_type": "execute_result"
    }
   ],
   "source": [
    "int('1433')"
   ]
  },
  {
   "cell_type": "code",
   "execution_count": 29,
   "id": "990652a6-f430-499f-8a8b-8e005b2e1203",
   "metadata": {},
   "outputs": [
    {
     "data": {
      "text/plain": [
       "3"
      ]
     },
     "execution_count": 29,
     "metadata": {},
     "output_type": "execute_result"
    }
   ],
   "source": [
    "int(3.14)"
   ]
  },
  {
   "cell_type": "code",
   "execution_count": 30,
   "id": "01b55396-61bd-4094-9acd-eddb44472885",
   "metadata": {},
   "outputs": [
    {
     "data": {
      "text/plain": [
       "2.0"
      ]
     },
     "execution_count": 30,
     "metadata": {},
     "output_type": "execute_result"
    }
   ],
   "source": [
    "float(6/3)"
   ]
  },
  {
   "cell_type": "code",
   "execution_count": 31,
   "id": "32cbf12e-ba92-4058-9311-cdf0a469587b",
   "metadata": {},
   "outputs": [
    {
     "data": {
      "text/plain": [
       "7"
      ]
     },
     "execution_count": 31,
     "metadata": {},
     "output_type": "execute_result"
    }
   ],
   "source": [
    "int(0.2467*12+4.159)"
   ]
  },
  {
   "cell_type": "code",
   "execution_count": 32,
   "id": "d6e9e6c8-1431-4aab-98d1-f80fe4e23d93",
   "metadata": {},
   "outputs": [
    {
     "name": "stdout",
     "output_type": "stream",
     "text": [
      "가장 시끄러운 층은 = 7 층\n"
     ]
    }
   ],
   "source": [
    "print(\"가장 시끄러운\",\"층은\",\"=\",\"7\",\"층\")"
   ]
  },
  {
   "cell_type": "code",
   "execution_count": 33,
   "id": "4f14e8f0-61af-40b4-a683-24cb966649ea",
   "metadata": {},
   "outputs": [
    {
     "name": "stdout",
     "output_type": "stream",
     "text": [
      "가장 시끄러운 층은 7 층\n"
     ]
    }
   ],
   "source": [
    "print(\"가장 시끄러운 층은 7 층\")"
   ]
  },
  {
   "cell_type": "code",
   "execution_count": 34,
   "id": "3a0ee0a5-4a24-4194-8860-309de893a0c1",
   "metadata": {},
   "outputs": [
    {
     "name": "stdout",
     "output_type": "stream",
     "text": [
      "냉장고 가격은 1272000 원 입니다.\n"
     ]
    }
   ],
   "source": [
    "price = 53000*24\n",
    "print (\"냉장고 가격은\",price,\"원 입니다.\")\n"
   ]
  },
  {
   "cell_type": "code",
   "execution_count": 47,
   "id": "e894e6b2-2120-4815-a7db-c849059eeaea",
   "metadata": {},
   "outputs": [
    {
     "name": "stdout",
     "output_type": "stream",
     "text": [
      "총 지불해야 할 금액은 16500000.0 원 입니다.\n"
     ]
    }
   ],
   "source": [
    "people = 250\n",
    "tax = 1/10\n",
    "price = 250*(20000*3*(1+tax))\n",
    "\n",
    "print(\"총 지불해야 할 금액은\",price,\"원 입니다.\")"
   ]
  },
  {
   "cell_type": "code",
   "execution_count": 48,
   "id": "0a9ed9ed-d9d4-4967-80fb-3f226cc088b2",
   "metadata": {},
   "outputs": [
    {
     "data": {
      "text/plain": [
       "'0b10001'"
      ]
     },
     "execution_count": 48,
     "metadata": {},
     "output_type": "execute_result"
    }
   ],
   "source": [
    "bin(17)"
   ]
  },
  {
   "cell_type": "code",
   "execution_count": 49,
   "id": "7cf269a6-3684-4863-bb3a-d1472d6a3ed8",
   "metadata": {},
   "outputs": [
    {
     "name": "stdout",
     "output_type": "stream",
     "text": [
      "453.0\n"
     ]
    }
   ],
   "source": [
    "AP = 380\n",
    "print (AP*0.6+225)"
   ]
  },
  {
   "cell_type": "code",
   "execution_count": 55,
   "id": "f2a1bf34-6e3c-4c91-b1ff-dc13297f3465",
   "metadata": {},
   "outputs": [
    {
     "name": "stdout",
     "output_type": "stream",
     "text": [
      "40\n"
     ]
    },
    {
     "ename": "NameError",
     "evalue": "name 'a' is not defined",
     "output_type": "error",
     "traceback": [
      "\u001b[1;31m---------------------------------------------------------------------------\u001b[0m",
      "\u001b[1;31mNameError\u001b[0m                                 Traceback (most recent call last)",
      "\u001b[1;32m~\\AppData\\Local\\Temp\\ipykernel_31304\\3581760120.py\u001b[0m in \u001b[0;36m<module>\u001b[1;34m\u001b[0m\n\u001b[0;32m      6\u001b[0m \u001b[1;32mdel\u001b[0m \u001b[0ma\u001b[0m\u001b[1;33m\u001b[0m\u001b[1;33m\u001b[0m\u001b[0m\n\u001b[0;32m      7\u001b[0m \u001b[1;33m\u001b[0m\u001b[0m\n\u001b[1;32m----> 8\u001b[1;33m \u001b[0mprint\u001b[0m\u001b[1;33m(\u001b[0m\u001b[0ma\u001b[0m\u001b[1;33m)\u001b[0m\u001b[1;33m\u001b[0m\u001b[1;33m\u001b[0m\u001b[0m\n\u001b[0m",
      "\u001b[1;31mNameError\u001b[0m: name 'a' is not defined"
     ]
    }
   ],
   "source": [
    "a=20\n",
    "a=a+20\n",
    "\n",
    "print (a)\n",
    "\n",
    "del a\n",
    "\n",
    "print(a)"
   ]
  },
  {
   "cell_type": "code",
   "execution_count": 61,
   "id": "f0499741-df56-4a0c-90ba-bbfa982a94cc",
   "metadata": {},
   "outputs": [
    {
     "name": "stdout",
     "output_type": "stream",
     "text": [
      "20\n"
     ]
    }
   ],
   "source": [
    "a=10\n",
    "a+=10\n",
    "print(a)"
   ]
  },
  {
   "cell_type": "code",
   "execution_count": 62,
   "id": "0ee7ebcb-586c-4d47-9687-9fc3305da043",
   "metadata": {},
   "outputs": [
    {
     "data": {
      "text/plain": [
       "bool"
      ]
     },
     "execution_count": 62,
     "metadata": {},
     "output_type": "execute_result"
    }
   ],
   "source": [
    "type(True)"
   ]
  },
  {
   "cell_type": "code",
   "execution_count": 63,
   "id": "a0b530d6-4827-4b36-8124-3730fa6c86c9",
   "metadata": {},
   "outputs": [
    {
     "data": {
      "text/plain": [
       "bool"
      ]
     },
     "execution_count": 63,
     "metadata": {},
     "output_type": "execute_result"
    }
   ],
   "source": [
    "type(False)"
   ]
  },
  {
   "cell_type": "code",
   "execution_count": 64,
   "id": "83c201a9-8078-4c31-bf5c-23095899fc7f",
   "metadata": {},
   "outputs": [
    {
     "data": {
      "text/plain": [
       "False"
      ]
     },
     "execution_count": 64,
     "metadata": {},
     "output_type": "execute_result"
    }
   ],
   "source": [
    "1==2"
   ]
  },
  {
   "cell_type": "code",
   "execution_count": 65,
   "id": "9876a416-55fb-4f28-9a13-8ecf801b0b71",
   "metadata": {},
   "outputs": [
    {
     "data": {
      "text/plain": [
       "True"
      ]
     },
     "execution_count": 65,
     "metadata": {},
     "output_type": "execute_result"
    }
   ],
   "source": [
    "3>=3"
   ]
  },
  {
   "cell_type": "code",
   "execution_count": 67,
   "id": "b8144169-b4ad-4d34-80d3-0c4c476a01fc",
   "metadata": {},
   "outputs": [
    {
     "name": "stdout",
     "output_type": "stream",
     "text": [
      "don't leave me alone\n"
     ]
    }
   ],
   "source": [
    "print ('don\\'t leave me alone')"
   ]
  },
  {
   "cell_type": "code",
   "execution_count": 68,
   "id": "72d68b4c-9dba-4ad6-9adb-8e4ed88ba065",
   "metadata": {},
   "outputs": [
    {
     "name": "stdout",
     "output_type": "stream",
     "text": [
      "don't leave me alone\n"
     ]
    }
   ],
   "source": [
    "print (\"don't leave me alone\")"
   ]
  },
  {
   "cell_type": "code",
   "execution_count": 70,
   "id": "6b41f965-423f-4ce1-8268-6f927d5c7b7c",
   "metadata": {},
   "outputs": [
    {
     "name": "stdout",
     "output_type": "stream",
     "text": [
      "\"안녕?\"이라는 그 인사를 듣고 나는 '누구지?'라고 생각했다.\n"
     ]
    }
   ],
   "source": [
    "print ('\"안녕?\"이라는 그 인사를 듣고 나는 \\'누구지?\\'라고 생각했다.')"
   ]
  }
 ],
 "metadata": {
  "kernelspec": {
   "display_name": "Python 3 (ipykernel)",
   "language": "python",
   "name": "python3"
  },
  "language_info": {
   "codemirror_mode": {
    "name": "ipython",
    "version": 3
   },
   "file_extension": ".py",
   "mimetype": "text/x-python",
   "name": "python",
   "nbconvert_exporter": "python",
   "pygments_lexer": "ipython3",
   "version": "3.9.13"
  }
 },
 "nbformat": 4,
 "nbformat_minor": 5
}
