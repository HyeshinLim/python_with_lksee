{
 "cells": [
  {
   "cell_type": "code",
   "execution_count": 6,
   "id": "6ecd284d-2832-44a9-a58f-f7bb1839a812",
   "metadata": {},
   "outputs": [
    {
     "ename": "TypeError",
     "evalue": "'list' object cannot be interpreted as an integer",
     "output_type": "error",
     "traceback": [
      "\u001b[1;31m---------------------------------------------------------------------------\u001b[0m",
      "\u001b[1;31mTypeError\u001b[0m                                 Traceback (most recent call last)",
      "\u001b[1;32m~\\AppData\\Local\\Temp\\ipykernel_1544\\4161019472.py\u001b[0m in \u001b[0;36m<module>\u001b[1;34m\u001b[0m\n\u001b[0;32m      1\u001b[0m \u001b[0ma\u001b[0m \u001b[1;33m=\u001b[0m \u001b[1;33m[\u001b[0m\u001b[1;34m'alpha'\u001b[0m\u001b[1;33m,\u001b[0m \u001b[1;34m'bravo'\u001b[0m\u001b[1;33m,\u001b[0m \u001b[1;34m'charlie'\u001b[0m\u001b[1;33m,\u001b[0m \u001b[1;34m'delta'\u001b[0m\u001b[1;33m,\u001b[0m \u001b[1;34m'echo'\u001b[0m\u001b[1;33m,\u001b[0m \u001b[1;34m'foxtrot'\u001b[0m\u001b[1;33m,\u001b[0m \u001b[1;34m'golf’, \"hotel'\u001b[0m\u001b[1;33m,\u001b[0m \u001b[1;34m'india'\u001b[0m\u001b[1;33m]\u001b[0m\u001b[1;33m\u001b[0m\u001b[1;33m\u001b[0m\u001b[0m\n\u001b[1;32m----> 2\u001b[1;33m \u001b[1;32mfor\u001b[0m \u001b[0mi\u001b[0m \u001b[1;32min\u001b[0m \u001b[0mrange\u001b[0m\u001b[1;33m(\u001b[0m\u001b[0ma\u001b[0m\u001b[1;33m)\u001b[0m\u001b[1;33m:\u001b[0m\u001b[1;33m\u001b[0m\u001b[1;33m\u001b[0m\u001b[0m\n\u001b[0m\u001b[0;32m      3\u001b[0m          \u001b[1;32mfor\u001b[0m \u001b[0mj\u001b[0m \u001b[1;32min\u001b[0m \u001b[0mrange\u001b[0m\u001b[1;33m(\u001b[0m\u001b[0mi\u001b[0m\u001b[1;33m)\u001b[0m\u001b[1;33m:\u001b[0m\u001b[1;33m\u001b[0m\u001b[1;33m\u001b[0m\u001b[0m\n\u001b[0;32m      4\u001b[0m              \u001b[1;32mif\u001b[0m \u001b[0mlen\u001b[0m\u001b[1;33m(\u001b[0m\u001b[0mj\u001b[0m\u001b[1;33m)\u001b[0m \u001b[1;33m==\u001b[0m \u001b[1;36m5\u001b[0m\u001b[1;33m:\u001b[0m\u001b[1;33m\u001b[0m\u001b[1;33m\u001b[0m\u001b[0m\n\u001b[0;32m      5\u001b[0m                     \u001b[0mprint\u001b[0m\u001b[1;33m(\u001b[0m\u001b[0ma\u001b[0m\u001b[1;33m)\u001b[0m\u001b[1;33m\u001b[0m\u001b[1;33m\u001b[0m\u001b[0m\n",
      "\u001b[1;31mTypeError\u001b[0m: 'list' object cannot be interpreted as an integer"
     ]
    }
   ],
   "source": [
    "a = ['alpha', 'bravo', 'charlie', 'delta', 'echo', 'foxtrot', 'golf’, \"hotel', 'india']\n",
    "for i in range(a):\n",
    "         for j in range(i):\n",
    "             if len(j) == 5:\n",
    "                    print(a)"
   ]
  },
  {
   "cell_type": "code",
   "execution_count": 14,
   "id": "b7f8ab44-508a-4f29-8b23-f67fd73220f0",
   "metadata": {},
   "outputs": [
    {
     "ename": "TypeError",
     "evalue": "'list' object is not callable",
     "output_type": "error",
     "traceback": [
      "\u001b[1;31m---------------------------------------------------------------------------\u001b[0m",
      "\u001b[1;31mTypeError\u001b[0m                                 Traceback (most recent call last)",
      "\u001b[1;32m~\\AppData\\Local\\Temp\\ipykernel_1544\\3454458424.py\u001b[0m in \u001b[0;36m<module>\u001b[1;34m\u001b[0m\n\u001b[0;32m      1\u001b[0m \u001b[0ma\u001b[0m \u001b[1;33m=\u001b[0m \u001b[1;33m[\u001b[0m\u001b[1;34m'alpha'\u001b[0m\u001b[1;33m,\u001b[0m \u001b[1;34m'bravo'\u001b[0m\u001b[1;33m,\u001b[0m \u001b[1;34m'charlie'\u001b[0m\u001b[1;33m,\u001b[0m \u001b[1;34m'delta'\u001b[0m\u001b[1;33m,\u001b[0m \u001b[1;34m'echo'\u001b[0m\u001b[1;33m,\u001b[0m \u001b[1;34m'foxtrot'\u001b[0m\u001b[1;33m,\u001b[0m \u001b[1;34m'golf’, \"hotel'\u001b[0m\u001b[1;33m,\u001b[0m \u001b[1;34m'india'\u001b[0m\u001b[1;33m]\u001b[0m\u001b[1;33m\u001b[0m\u001b[1;33m\u001b[0m\u001b[0m\n\u001b[1;32m----> 2\u001b[1;33m \u001b[0mb\u001b[0m \u001b[1;33m=\u001b[0m \u001b[1;33m[\u001b[0m\u001b[0ma\u001b[0m\u001b[1;33m(\u001b[0m\u001b[0mi\u001b[0m\u001b[1;33m)\u001b[0m \u001b[1;32mfor\u001b[0m \u001b[0mi\u001b[0m \u001b[1;32min\u001b[0m \u001b[0mrange\u001b[0m\u001b[1;33m(\u001b[0m\u001b[0mlen\u001b[0m\u001b[1;33m(\u001b[0m\u001b[0ma\u001b[0m\u001b[1;33m)\u001b[0m\u001b[1;33m)\u001b[0m \u001b[1;32mif\u001b[0m \u001b[0mlen\u001b[0m\u001b[1;33m(\u001b[0m\u001b[0ma\u001b[0m\u001b[1;33m[\u001b[0m\u001b[0mi\u001b[0m\u001b[1;33m]\u001b[0m\u001b[1;33m)\u001b[0m\u001b[1;33m==\u001b[0m\u001b[1;36m5\u001b[0m\u001b[1;33m]\u001b[0m\u001b[1;33m\u001b[0m\u001b[1;33m\u001b[0m\u001b[0m\n\u001b[0m\u001b[0;32m      3\u001b[0m \u001b[1;33m\u001b[0m\u001b[0m\n\u001b[0;32m      4\u001b[0m \u001b[0mprint\u001b[0m\u001b[1;33m(\u001b[0m\u001b[0mb\u001b[0m\u001b[1;33m)\u001b[0m\u001b[1;33m\u001b[0m\u001b[1;33m\u001b[0m\u001b[0m\n",
      "\u001b[1;32m~\\AppData\\Local\\Temp\\ipykernel_1544\\3454458424.py\u001b[0m in \u001b[0;36m<listcomp>\u001b[1;34m(.0)\u001b[0m\n\u001b[0;32m      1\u001b[0m \u001b[0ma\u001b[0m \u001b[1;33m=\u001b[0m \u001b[1;33m[\u001b[0m\u001b[1;34m'alpha'\u001b[0m\u001b[1;33m,\u001b[0m \u001b[1;34m'bravo'\u001b[0m\u001b[1;33m,\u001b[0m \u001b[1;34m'charlie'\u001b[0m\u001b[1;33m,\u001b[0m \u001b[1;34m'delta'\u001b[0m\u001b[1;33m,\u001b[0m \u001b[1;34m'echo'\u001b[0m\u001b[1;33m,\u001b[0m \u001b[1;34m'foxtrot'\u001b[0m\u001b[1;33m,\u001b[0m \u001b[1;34m'golf’, \"hotel'\u001b[0m\u001b[1;33m,\u001b[0m \u001b[1;34m'india'\u001b[0m\u001b[1;33m]\u001b[0m\u001b[1;33m\u001b[0m\u001b[1;33m\u001b[0m\u001b[0m\n\u001b[1;32m----> 2\u001b[1;33m \u001b[0mb\u001b[0m \u001b[1;33m=\u001b[0m \u001b[1;33m[\u001b[0m\u001b[0ma\u001b[0m\u001b[1;33m(\u001b[0m\u001b[0mi\u001b[0m\u001b[1;33m)\u001b[0m \u001b[1;32mfor\u001b[0m \u001b[0mi\u001b[0m \u001b[1;32min\u001b[0m \u001b[0mrange\u001b[0m\u001b[1;33m(\u001b[0m\u001b[0mlen\u001b[0m\u001b[1;33m(\u001b[0m\u001b[0ma\u001b[0m\u001b[1;33m)\u001b[0m\u001b[1;33m)\u001b[0m \u001b[1;32mif\u001b[0m \u001b[0mlen\u001b[0m\u001b[1;33m(\u001b[0m\u001b[0ma\u001b[0m\u001b[1;33m[\u001b[0m\u001b[0mi\u001b[0m\u001b[1;33m]\u001b[0m\u001b[1;33m)\u001b[0m\u001b[1;33m==\u001b[0m\u001b[1;36m5\u001b[0m\u001b[1;33m]\u001b[0m\u001b[1;33m\u001b[0m\u001b[1;33m\u001b[0m\u001b[0m\n\u001b[0m\u001b[0;32m      3\u001b[0m \u001b[1;33m\u001b[0m\u001b[0m\n\u001b[0;32m      4\u001b[0m \u001b[0mprint\u001b[0m\u001b[1;33m(\u001b[0m\u001b[0mb\u001b[0m\u001b[1;33m)\u001b[0m\u001b[1;33m\u001b[0m\u001b[1;33m\u001b[0m\u001b[0m\n",
      "\u001b[1;31mTypeError\u001b[0m: 'list' object is not callable"
     ]
    }
   ],
   "source": [
    "a = ['alpha', 'bravo', 'charlie', 'delta', 'echo', 'foxtrot', 'golf’, \"hotel', 'india']\n",
    "b = [a(i) for i in range(len(a)) if len(a[i])==5]\n",
    "\n",
    "print(b)"
   ]
  },
  {
   "cell_type": "code",
   "execution_count": null,
   "id": "183e9312-6029-4e3c-8997-fa207ed9a9f5",
   "metadata": {},
   "outputs": [],
   "source": [
    "a = ['alpha', 'bravo', 'charlie', 'delta', 'echo', 'foxtrot', 'golf’, \"hotel', 'india']\n",
    "b = "
   ]
  },
  {
   "cell_type": "code",
   "execution_count": 27,
   "id": "a4e5067e-e971-4e95-a7d5-2821f2e1e60f",
   "metadata": {},
   "outputs": [
    {
     "name": "stdin",
     "output_type": "stream",
     "text": [
      "정수 두 개를 입력하세요: 99 1\n"
     ]
    },
    {
     "name": "stdout",
     "output_type": "stream",
     "text": [
      "첫 번째 입력 값은 두 번째 입력 값보다 작게 입력하세요.\n"
     ]
    }
   ],
   "source": [
    "number1, number2 = map(int,input(\"정수 두 개를 입력하세요:\").split( ))\n",
    "\n",
    "if 1>number1>20:\n",
    "    print(\"첫 번째 값의 범위는 1 ~ 20입니다.\")\n",
    "if 10>number2>30:\n",
    "    print(\"두 번째 값의 범위는 10 ~ 30입니다.\")\n",
    "if number1>number2:\n",
    "    print(\"첫 번째 입력 값은 두 번째 입력 값보다 작게 입력하세요.\")"
   ]
  },
  {
   "cell_type": "code",
   "execution_count": 1,
   "id": "09ab01c2-d9f0-40ac-be38-6653285d2f70",
   "metadata": {},
   "outputs": [
    {
     "name": "stdin",
     "output_type": "stream",
     "text": [
      "정수 두 개를 입력하세요: 99 1\n"
     ]
    },
    {
     "name": "stdout",
     "output_type": "stream",
     "text": [
      "첫 번째 값의 범위는 1 ~ 20입니다.\n"
     ]
    },
    {
     "name": "stdin",
     "output_type": "stream",
     "text": [
      "정수 두 개를 입력하세요: 10 20\n"
     ]
    },
    {
     "name": "stdout",
     "output_type": "stream",
     "text": [
      "[1024, 2048, 4096, 8192, 16384, 32768, 65536, 131072, 262144, 524288, 1048576]\n"
     ]
    }
   ],
   "source": [
    "while True:\n",
    "    number1, number2 = map(int,input(\"정수 두 개를 입력하세요:\").split( ))\n",
    "\n",
    "    if 1>number1 or number1>20:\n",
    "        print(\"첫 번째 값의 범위는 1 ~ 20입니다.\")\n",
    "    elif 10>number2 or number2>30:\n",
    "        print(\"두 번째 값의 범위는 10 ~ 30입니다.\")\n",
    "    elif number1>number2:\n",
    "        print(\"첫 번째 입력 값은 두 번째 입력 값보다 작게 입력하세요.\")\n",
    "    else:\n",
    "        numbers = list(2**i for i in range(number1,number2+1))\n",
    "        print(numbers)\n",
    "        break"
   ]
  },
  {
   "cell_type": "code",
   "execution_count": 23,
   "id": "464072ac-b2bd-43a6-9cc7-c1871bc32e84",
   "metadata": {},
   "outputs": [
    {
     "name": "stdin",
     "output_type": "stream",
     "text": [
      "2부터 입력하신 수까지의 모든 소수를 찾는 프로그램입니다.\n",
      "찾는 범위를 입력하세요 : 8\n"
     ]
    },
    {
     "name": "stdout",
     "output_type": "stream",
     "text": [
      "소수 아님\n",
      "소수\n",
      "소수 아님\n",
      "소수\n",
      "소수\n",
      "소수\n"
     ]
    }
   ],
   "source": [
    "num = int(input(\"2부터 입력하신 수까지의 모든 소수를 찾는 프로그램입니다.\\n찾는 범위를 입력하세요 :\"))\n",
    "\n",
    "for i in range(2,num+2):\n",
    "    if num%i==0:\n",
    "        print(\"소수 아님\")\n",
    "    else:\n",
    "        print(\"소수\")"
   ]
  },
  {
   "cell_type": "code",
   "execution_count": null,
   "id": "360689df-7413-441f-b2a1-c4755f462699",
   "metadata": {},
   "outputs": [
    {
     "name": "stdout",
     "output_type": "stream",
     "text": [
      "2부터 입력하신 수까지의 모든 소수를 찾는 프로그램입니다.\n",
      "찾는 범위를 입력하세요 :\n"
     ]
    },
    {
     "name": "stdin",
     "output_type": "stream",
     "text": [
      "찾는 범위: 10\n"
     ]
    }
   ],
   "source": [
    "print(\"2부터 입력하신 수까지의 모든 소수를 찾는 프로그램입니다.\\n찾는 범위를 입력하세요 :\")\n",
    "inData = int(input(\"찾는 범위:\"))\n",
    "i = 2\n",
    "line = 0\n",
    "\n",
    "while i <= inData:\n",
    "    j = 2\n",
    "    while j <= i :\n",
    "        if i % j == 0:\n",
    "            break\n",
    "        j += 1\n",
    "    if i == j :\n",
    "        print(i, end = ' ')\n",
    "        line = line +1\n",
    "        if line == 7:\n",
    "            line = 0\n",
    "            print()\n",
    "    i+=1"
   ]
  },
  {
   "cell_type": "code",
   "execution_count": 2,
   "id": "34039c35-f3f8-4116-a3af-7a425ed9c323",
   "metadata": {},
   "outputs": [
    {
     "name": "stdout",
     "output_type": "stream",
     "text": [
      "[1, 2, 3, 2, 2, 2, 1, 2, 3, 2]\n"
     ]
    }
   ],
   "source": [
    "import random\n",
    "random_list = [random.randint(1,3) for _ in range(10)]\n",
    "print(random_list)"
   ]
  },
  {
   "cell_type": "code",
   "execution_count": 3,
   "id": "3917b527-a20a-4b0c-93f6-52a5d19d3c01",
   "metadata": {},
   "outputs": [
    {
     "name": "stdout",
     "output_type": "stream",
     "text": [
      "[65]\n"
     ]
    },
    {
     "name": "stdin",
     "output_type": "stream",
     "text": [
      "숫자를 맞춰보세요 56\n"
     ]
    },
    {
     "name": "stdout",
     "output_type": "stream",
     "text": [
      "그보다 큽니다.\n"
     ]
    },
    {
     "name": "stdin",
     "output_type": "stream",
     "text": [
      "숫자를 맞춰보세요 56\n"
     ]
    },
    {
     "name": "stdout",
     "output_type": "stream",
     "text": [
      "그보다 큽니다.\n"
     ]
    },
    {
     "name": "stdin",
     "output_type": "stream",
     "text": [
      "숫자를 맞춰보세요 65\n"
     ]
    },
    {
     "name": "stdout",
     "output_type": "stream",
     "text": [
      "맞췄습니다!3번만에 맞추셨습니다\n"
     ]
    }
   ],
   "source": [
    "import random\n",
    "random_number = [random.randint(1,100) for _ in range(1)]\n",
    "print(random_number)\n",
    "random_number = random_number[0]\n",
    "\n",
    "\n",
    "i=0\n",
    "while True:\n",
    "    input_value = int(input(\"숫자를 맞춰보세요\"))\n",
    "    if input_value < random_number:\n",
    "        print(\"그보다 큽니다.\")\n",
    "        i += 1\n",
    "    elif input_value > random_number:\n",
    "        print(\"그보다 작습니다\")\n",
    "        i += 1\n",
    "    elif input_value>100 or input_value<0:\n",
    "        print(\"1~100 사이의 숫자를 입력하세요.\")\n",
    "        i += 1\n",
    "    else: \n",
    "        i += 1\n",
    "        print(f\"맞췄습니다!{i}번만에 맞추셨습니다\")\n",
    "        break"
   ]
  },
  {
   "cell_type": "code",
   "execution_count": 10,
   "id": "060fd6ce-b6d6-4924-868e-3595c08a923e",
   "metadata": {},
   "outputs": [
    {
     "name": "stdout",
     "output_type": "stream",
     "text": [
      "A: {1, 2, 3, 4}\n",
      "B: {2, 4, 5}\n",
      "{1, 2, 3, 4, 5}\n"
     ]
    }
   ],
   "source": [
    "A = {_ for _ in range(1,5)}\n",
    "B = {_ for _ in range(2,6) if _ != 3}\n",
    "\n",
    "print(\"A:\", A)\n",
    "print(\"B:\", B)\n",
    "\n",
    "# set A와 set B의 합집합\n",
    "print(A|B)\n",
    "# {1, 2, 3, 4, 5}"
   ]
  },
  {
   "cell_type": "code",
   "execution_count": null,
   "id": "09a6c2f4-32b5-4ceb-a61f-a9b28eee6152",
   "metadata": {},
   "outputs": [],
   "source": [
    "A = {_ for _ in range(1,5)}\n",
    "B = {_ for _ in range(2,6) if _ != 3}\n",
    "\n",
    "print(\"A:\", A)\n",
    "print(\"B:\", B)\n",
    "\n",
    "print(\"\" ,set.intersection(A,B)\n",
    "print(A&B)"
   ]
  },
  {
   "cell_type": "code",
   "execution_count": 12,
   "id": "31ae53d7-108f-4603-84a1-defc85e911ea",
   "metadata": {},
   "outputs": [
    {
     "name": "stdout",
     "output_type": "stream",
     "text": [
      "A.update(B): {1, 2, 3, 4, 5}\n"
     ]
    }
   ],
   "source": [
    "A = {_ for _ in range(1,5)}\n",
    "B = {_ for _ in range(2,6) if _ != 3}\n",
    "\n",
    "A.update(B)\n",
    "print(\"A.update(B):\",A)"
   ]
  },
  {
   "cell_type": "code",
   "execution_count": 15,
   "id": "7b70130b-c597-4f20-8031-7989359f42dc",
   "metadata": {},
   "outputs": [
    {
     "name": "stdout",
     "output_type": "stream",
     "text": [
      "A: {1, 2, 3, 4}\n",
      "B: {2, 4, 5}\n",
      "A.intersection_update(B): {2, 4}\n"
     ]
    }
   ],
   "source": [
    "A = {_ for _ in range(1,5)}\n",
    "B = {_ for _ in range(2,6) if _ != 3}\n",
    "\n",
    "print(\"A:\", A)\n",
    "print(\"B:\", B)\n",
    "\n",
    "A.intersection_update(B)\n",
    "print(\"A.intersection_update(B):\",A)"
   ]
  },
  {
   "cell_type": "code",
   "execution_count": 16,
   "id": "601a4ff7-ef68-496d-8f1c-a5ecdde996fe",
   "metadata": {},
   "outputs": [
    {
     "name": "stdout",
     "output_type": "stream",
     "text": [
      "A: {1, 2, 3, 4}\n",
      "B: {2, 4, 5}\n",
      "A.difference_update(B): {1, 3}\n"
     ]
    }
   ],
   "source": [
    "A = {_ for _ in range(1,5)}\n",
    "B = {_ for _ in range(2,6) if _ != 3}\n",
    "\n",
    "print(\"A:\", A)\n",
    "print(\"B:\", B)\n",
    "\n",
    "A.difference_update(B)\n",
    "print(\"A.difference_update(B):\",A)"
   ]
  },
  {
   "cell_type": "code",
   "execution_count": 18,
   "id": "97057fb8-472e-4086-bba3-584627e30b8c",
   "metadata": {},
   "outputs": [
    {
     "name": "stdout",
     "output_type": "stream",
     "text": [
      "A: {1, 2}\n",
      "B: {1, 2}\n",
      "A.issubset(B): True\n"
     ]
    }
   ],
   "source": [
    "A = {_ for _ in range(1,3)}\n",
    "B = {_ for _ in range(1,3)}\n",
    "\n",
    "print(\"A:\", A)\n",
    "print(\"B:\", B)\n",
    "\n",
    "print(\"A.issubset(B):\",A.issubset(B))"
   ]
  },
  {
   "cell_type": "code",
   "execution_count": 20,
   "id": "db285f33-b563-4ad9-82b3-223d796d1ee7",
   "metadata": {},
   "outputs": [
    {
     "name": "stdout",
     "output_type": "stream",
     "text": [
      "A: {0, 1, 2}\n",
      "B: {0, 1}\n",
      "B.issubset(A): True\n"
     ]
    }
   ],
   "source": [
    "A = {_ for _ in range(0,3)}\n",
    "B = {_ for _ in range(0,2)}\n",
    "\n",
    "print(\"A:\", A)\n",
    "print(\"B:\", B)\n",
    "\n",
    "print(\"B.issubset(A):\",B.issubset(A))"
   ]
  },
  {
   "cell_type": "code",
   "execution_count": 21,
   "id": "905ed426-6c6d-4a9c-bac5-8718b13b5639",
   "metadata": {},
   "outputs": [
    {
     "name": "stdout",
     "output_type": "stream",
     "text": [
      "A: {0, 1, 2}\n",
      "B: {0, 1}\n",
      "A.issuperset(B): True\n"
     ]
    }
   ],
   "source": [
    "A = {_ for _ in range(0,3)}\n",
    "B = {_ for _ in range(0,2)}\n",
    "\n",
    "print(\"A:\", A)\n",
    "print(\"B:\", B)\n",
    "\n",
    "print(\"A.issuperset(B):\",A.issuperset(B))"
   ]
  },
  {
   "cell_type": "code",
   "execution_count": 21,
   "id": "cedba207-e793-4e4c-a9af-9460bcae374e",
   "metadata": {},
   "outputs": [
    {
     "name": "stdout",
     "output_type": "stream",
     "text": [
      "A: {0, 1, 2}\n",
      "B: {0, 1}\n",
      "A.issuperset(B): True\n"
     ]
    }
   ],
   "source": [
    "A = {_ for _ in range(0,3)}\n",
    "B = {_ for _ in range(0,2)}\n",
    "\n",
    "print(\"A:\", A)\n",
    "print(\"B:\", B)\n",
    "\n",
    "print(\"A.issuperset(B):\",A.issuperset(B))"
   ]
  },
  {
   "cell_type": "code",
   "execution_count": 26,
   "id": "e5073384-0a38-4bcd-84ff-2d34120d47d9",
   "metadata": {},
   "outputs": [
    {
     "name": "stdout",
     "output_type": "stream",
     "text": [
      "A: {0, 1, 2}\n",
      "B: {0, 1}\n",
      "A>B: True\n"
     ]
    }
   ],
   "source": [
    "A = {_ for _ in range(0,3)}\n",
    "B = {_ for _ in range(0,2)}\n",
    "\n",
    "print(\"A:\", A)\n",
    "print(\"B:\", B)\n",
    "\n",
    "print(\"A>B:\",A>B)"
   ]
  },
  {
   "cell_type": "code",
   "execution_count": 25,
   "id": "c40271af-041b-45fe-a126-a7f19dcfa259",
   "metadata": {},
   "outputs": [
    {
     "name": "stdout",
     "output_type": "stream",
     "text": [
      "A: {0, 1, 2}\n",
      "B: {4, 5, 6}\n",
      "A.isdisjoint(B): True\n"
     ]
    }
   ],
   "source": [
    "A = {_ for _ in range(0,3)}\n",
    "B = {_ for _ in range(4,7)}\n",
    "\n",
    "print(\"A:\", A)\n",
    "print(\"B:\", B)\n",
    "\n",
    "print(\"A.isdisjoint(B):\",A.isdisjoint(B))"
   ]
  },
  {
   "cell_type": "code",
   "execution_count": 27,
   "id": "c2fab025-df40-47cb-afa9-03f8b35f4adb",
   "metadata": {},
   "outputs": [
    {
     "name": "stdout",
     "output_type": "stream",
     "text": [
      "{1, 2, 3, 4}\n"
     ]
    }
   ],
   "source": [
    "list_sample = [1, 2, 2, 3, 3, 3, 4, 4, 4, 4]\n",
    "\n",
    "print(set(list_sample))"
   ]
  }
 ],
 "metadata": {
  "kernelspec": {
   "display_name": "Python 3 (ipykernel)",
   "language": "python",
   "name": "python3"
  },
  "language_info": {
   "codemirror_mode": {
    "name": "ipython",
    "version": 3
   },
   "file_extension": ".py",
   "mimetype": "text/x-python",
   "name": "python",
   "nbconvert_exporter": "python",
   "pygments_lexer": "ipython3",
   "version": "3.9.13"
  }
 },
 "nbformat": 4,
 "nbformat_minor": 5
}
