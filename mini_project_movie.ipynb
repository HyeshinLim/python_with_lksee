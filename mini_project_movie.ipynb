{
 "cells": [
  {
   "cell_type": "code",
   "execution_count": 1,
   "id": "0d632562-6745-4c33-b4fc-30a11b46fdc4",
   "metadata": {},
   "outputs": [],
   "source": [
    "import requests"
   ]
  },
  {
   "cell_type": "code",
   "execution_count": 2,
   "id": "5c037d9d-74ec-4473-adc0-476819ad4ab5",
   "metadata": {},
   "outputs": [],
   "source": [
    "headers = {\n",
    "        'Host': 'openapi.naver.com',\n",
    "        'User-Agent': 'curl/7.49.1',\n",
    "        'Accept': '*/*',\n",
    "        'X-Naver-Client-Id': 'VfwNYfif2UbwZMdZSrtg',\n",
    "        'X-Naver-Client-Secret': 'DozXLLUeyz',\n",
    "}"
   ]
  },
  {
   "cell_type": "code",
   "execution_count": 3,
   "id": "02a60918-40d0-40a8-8777-2d1ec010b605",
   "metadata": {},
   "outputs": [],
   "source": [
    "url = '\thttps://openapi.naver.com/v1/search/movie.json'"
   ]
  },
  {
   "cell_type": "code",
   "execution_count": 13,
   "id": "92b07652-f496-46b9-ba27-769cec4082e4",
   "metadata": {},
   "outputs": [],
   "source": [
    "params = {'query':'태극기 휘날리며', # 필수\n",
    "          'display': '5', # 출력수\n",
    "          'start': '1', # 시작위치\n",
    "          'genre': '1', # 장르\n",
    "          'country': 'KR', # 제작국가\n",
    "          'yearfrom': '2001',# 제작년도 시작\n",
    "          'yearto': '2005' # 제작년도 끝\n",
    "          }"
   ]
  },
  {
   "cell_type": "code",
   "execution_count": 14,
   "id": "79481bee-5ccb-4d07-b461-5310959b09fc",
   "metadata": {},
   "outputs": [],
   "source": [
    "response = requests.get(url,headers=headers, params=params)"
   ]
  },
  {
   "cell_type": "code",
   "execution_count": 15,
   "id": "1b375273-6e5b-40ce-a4b0-7187d06146a2",
   "metadata": {},
   "outputs": [
    {
     "name": "stdout",
     "output_type": "stream",
     "text": [
      "{\n",
      "\t\"lastBuildDate\":\"Thu, 16 Mar 2023 12:01:02 +0900\",\n",
      "\t\"total\":0,\n",
      "\t\"start\":1,\n",
      "\t\"display\":0,\n",
      "\t\"items\":[\n",
      "\t]\n",
      "}\n"
     ]
    },
    {
     "data": {
      "text/plain": [
       "{'lastBuildDate': 'Mon, 09 Aug 2021 12:24:42 +0900',\n",
       " 'total': 1,\n",
       " 'start': 1,\n",
       " 'display': 1,\n",
       " 'items': [{'title': '<b>태극기 휘날리며</b>',\n",
       "   'link': 'https://movie.naver.com/movie/bi/mi/basic.nhn?code=36666',\n",
       "   'image': 'https://ssl.pstatic.net/imgmovie/mdi/mit110/0366/36666_P123_112236.jpg',\n",
       "   'subtitle': 'TaeGukGi: Brotherhood Of War',\n",
       "   'pubDate': '2003',\n",
       "   'director': '강제규|',\n",
       "   'actor': '장동건|원빈|이은주|',\n",
       "   'userRating': '9.21'}]}"
      ]
     },
     "execution_count": 15,
     "metadata": {},
     "output_type": "execute_result"
    }
   ],
   "source": [
    "print(response.text)\n",
    "{\n",
    "  \"lastBuildDate\": \"Mon, 09 Aug 2021 12:24:42 +0900\",\n",
    "  \"total\": 1,\n",
    "  \"start\": 1,\n",
    "  \"display\": 1,\n",
    "  \"items\": [\n",
    "    {\n",
    "      \"title\": \"<b>태극기 휘날리며</b>\",\n",
    "      \"link\": \"https://movie.naver.com/movie/bi/mi/basic.nhn?code=36666\",\n",
    "      \"image\": \"https://ssl.pstatic.net/imgmovie/mdi/mit110/0366/36666_P123_112236.jpg\",\n",
    "      \"subtitle\": \"TaeGukGi: Brotherhood Of War\",\n",
    "      \"pubDate\": \"2003\",\n",
    "      \"director\": \"강제규|\",\n",
    "      \"actor\": \"장동건|원빈|이은주|\",\n",
    "      \"userRating\": \"9.21\"\n",
    "    }\n",
    "  ]\n",
    "}"
   ]
  },
  {
   "cell_type": "code",
   "execution_count": 8,
   "id": "1f52aa0c-cceb-417b-88fb-4b608b937576",
   "metadata": {},
   "outputs": [],
   "source": [
    "import json"
   ]
  },
  {
   "cell_type": "code",
   "execution_count": 9,
   "id": "3e6f8feb-fa69-443d-ba21-b0541d1159e8",
   "metadata": {},
   "outputs": [
    {
     "name": "stdout",
     "output_type": "stream",
     "text": [
      "Thu, 16 Mar 2023 11:48:09 +0900\n"
     ]
    }
   ],
   "source": [
    "jsonObject = json.loads(response.text)\n",
    "print(jsonObject.get(\"lastBuildDate\"))"
   ]
  },
  {
   "cell_type": "code",
   "execution_count": null,
   "id": "1b1a6ea3-cfe5-4c76-9fef-90b110005467",
   "metadata": {},
   "outputs": [],
   "source": []
  }
 ],
 "metadata": {
  "kernelspec": {
   "display_name": "Python 3 (ipykernel)",
   "language": "python",
   "name": "python3"
  },
  "language_info": {
   "codemirror_mode": {
    "name": "ipython",
    "version": 3
   },
   "file_extension": ".py",
   "mimetype": "text/x-python",
   "name": "python",
   "nbconvert_exporter": "python",
   "pygments_lexer": "ipython3",
   "version": "3.9.13"
  }
 },
 "nbformat": 4,
 "nbformat_minor": 5
}
