{
 "cells": [
  {
   "cell_type": "code",
   "execution_count": null,
   "id": "4a899bba-56e7-46e7-beb7-e751b0cf0066",
   "metadata": {
    "colab_type": "text",
    "id": "view-in-github"
   },
   "outputs": [],
   "source": [
    "<a href=\"https://colab.research.google.com/github/HyeshinLim/pythonbasic/blob/main/practice_review_lesson.ipynb\" target=\"_parent\"><img src=\"https://colab.research.google.com/assets/colab-badge.svg\" alt=\"Open In Colab\"/></a>"
   ]
  },
  {
   "cell_type": "markdown",
   "id": "n8kIE1h8QgiX",
   "metadata": {
    "id": "n8kIE1h8QgiX",
    "jp-MarkdownHeadingCollapsed": true,
    "tags": []
   },
   "source": [
    "# 2023-02-17 1주차 Day 4 내용 복습"
   ]
  },
  {
   "cell_type": "code",
   "execution_count": null,
   "id": "c52cc0fb-6ac1-4bc8-9884-cf2b0f3ae86a",
   "metadata": {
    "colab": {
     "base_uri": "https://localhost:8080/"
    },
    "id": "c52cc0fb-6ac1-4bc8-9884-cf2b0f3ae86a",
    "outputId": "c1bcb581-80a8-4963-c5f2-0d20ee379d67"
   },
   "outputs": [
    {
     "name": "stdout",
     "output_type": "stream",
     "text": [
      "False\n"
     ]
    }
   ],
   "source": [
    "# 공무원 시험 결과가 국어, 영어, 한국사, 선택 교과1, 선택 교과2의 점수가 리스트 형태로\n",
    "# 제공됩니다. 이때 한 과목이라도 60점 미만이면 과락입니다. 과락이면 False를 과락이\n",
    "# 아니면 True를 출력하도록 코드를 완성해보세요.\n",
    "\n",
    "## [국어, 영어, 한국사, 선택 교과1, 선택 교과2]\n",
    "##scores = [88, 73, 89, 59, 77]\n",
    "##????? \n",
    "\n",
    "#if문으로만 문제풀기\n",
    "\n",
    "scores = [88,73,89,59,77]\n",
    "\n",
    "if scores[0] < 60:\n",
    "    print(\"False\")\n",
    "elif scores[1] < 60:\n",
    "    print(\"False\")\n",
    "elif scores[2] < 60:\n",
    "    print(\"False\")\n",
    "elif scores[3] < 60:\n",
    "    print(\"False\")\n",
    "elif scores[4] < 60:\n",
    "    print(\"False\")\n",
    "else:\n",
    "    print(\"True\")"
   ]
  },
  {
   "cell_type": "code",
   "execution_count": null,
   "id": "8f229d8a-4535-4c35-89e8-ccc919b36808",
   "metadata": {
    "id": "8f229d8a-4535-4c35-89e8-ccc919b36808",
    "outputId": "b003bba2-ab3e-486d-9870-6ae2eea88738"
   },
   "outputs": [
    {
     "name": "stdout",
     "output_type": "stream",
     "text": [
      "True\n",
      "True\n",
      "True\n",
      "False\n",
      "True\n"
     ]
    }
   ],
   "source": [
    "# 공무원 시험 결과가 국어, 영어, 한국사, 선택 교과1, 선택 교과2의 점수가 리스트 형태로\n",
    "# 제공됩니다. 이때 한 과목이라도 60점 미만이면 과락입니다. 과락이면 False를 과락이\n",
    "# 아니면 True를 출력하도록 코드를 완성해보세요.\n",
    "\n",
    "## [국어, 영어, 한국사, 선택 교과1, 선택 교과2]\n",
    "##scores = [88, 73, 89, 59, 77]\n",
    "##????? \n",
    "\n",
    "#for문으로 문제풀기\n",
    "\n",
    "scores = [88,73,89,59,77]\n",
    "\n",
    "for i in scores:\n",
    "    if i<60:\n",
    "        print(\"False\")\n",
    "    else:\n",
    "        print(\"True\")\n",
    "       "
   ]
  },
  {
   "cell_type": "code",
   "execution_count": null,
   "id": "12810751-8225-4232-9d88-f1a3df9733cf",
   "metadata": {
    "id": "12810751-8225-4232-9d88-f1a3df9733cf",
    "outputId": "c742f10a-292f-4336-cb5f-0b7fbd00c863"
   },
   "outputs": [
    {
     "name": "stdin",
     "output_type": "stream",
     "text": [
      "숫자를 입력하세요: 4\n"
     ]
    },
    {
     "name": "stdout",
     "output_type": "stream",
     "text": [
      "4\t4\t4\t4\t\n",
      "3\t3\t3\t\n",
      "2\t2\t\n",
      "1\t\n"
     ]
    }
   ],
   "source": [
    "n = int(input(\"숫자를 입력하세요:\"))\n",
    "for i in range(n,0,-1):\n",
    "    for j in range(i):\n",
    "        print(i, end=\"\\t\")\n",
    "    print()"
   ]
  },
  {
   "cell_type": "code",
   "execution_count": null,
   "id": "9da550be-10af-4560-b52d-51e865f6e96b",
   "metadata": {
    "id": "9da550be-10af-4560-b52d-51e865f6e96b",
    "outputId": "8c511cde-9bd2-424d-efc7-cd3bb136caa3"
   },
   "outputs": [
    {
     "name": "stdout",
     "output_type": "stream",
     "text": [
      "* * * * * * * * * * \n",
      "*                 *\n",
      "*                 *\n",
      "*                 *\n",
      "*                 *\n",
      "*                 *\n",
      "*                 *\n",
      "*                 *\n",
      "*                 *\n",
      "* * * * * * * * * * \n"
     ]
    }
   ],
   "source": [
    "for i in range(10):\n",
    "    if i==0 or i==9:\n",
    "        print(\"* \"*10)\n",
    "    else:\n",
    "        print(\"*                 *\")"
   ]
  },
  {
   "cell_type": "markdown",
   "id": "v9I3yqiyCze7",
   "metadata": {
    "id": "v9I3yqiyCze7",
    "jp-MarkdownHeadingCollapsed": true,
    "tags": []
   },
   "source": [
    "# 2023-02-18 1주차 내용 복습 1"
   ]
  },
  {
   "cell_type": "code",
   "execution_count": null,
   "id": "fXoKUy2_DAD3",
   "metadata": {
    "colab": {
     "base_uri": "https://localhost:8080/"
    },
    "id": "fXoKUy2_DAD3",
    "outputId": "010f6300-42c8-45a7-b983-606ab9f0e217"
   },
   "outputs": [
    {
     "name": "stdout",
     "output_type": "stream",
     "text": [
      "asdf\\trr\n",
      "asdf\trr\n"
     ]
    }
   ],
   "source": [
    "# 문자열 리터럴 - raw string\n",
    "\n",
    "a = r'asdf\\trr'\n",
    "b = 'asdf\\trr'\n",
    "\n",
    "print(a)\n",
    "print(b)"
   ]
  },
  {
   "cell_type": "code",
   "execution_count": null,
   "id": "emF8ez4gJqK6",
   "metadata": {
    "colab": {
     "base_uri": "https://localhost:8080/"
    },
    "id": "emF8ez4gJqK6",
    "outputId": "4ecb86b3-e7b7-4877-b323-37413ff36345"
   },
   "outputs": [
    {
     "name": "stdout",
     "output_type": "stream",
     "text": [
      "안녕\n",
      "\n"
     ]
    }
   ],
   "source": [
    "# 문자열 리터러러 - \\ (역슬래쉬)\n",
    "\n",
    "a = \"\"\"\\\n",
    "안녕\n",
    "\"\"\"\n",
    "\n",
    "print(a)"
   ]
  },
  {
   "cell_type": "code",
   "execution_count": 4,
   "id": "JTAYN4fgKWsr",
   "metadata": {
    "colab": {
     "base_uri": "https://localhost:8080/"
    },
    "id": "JTAYN4fgKWsr",
    "outputId": "802afabe-28b4-4dee-d731-3598b59f29fb"
   },
   "outputs": [
    {
     "name": "stdout",
     "output_type": "stream",
     "text": [
      "['하람', '혜신', '하유']\n",
      "['하람', '혜신', '하윤']\n"
     ]
    }
   ],
   "source": [
    "# 리스트의 값 변경하기\n",
    "\n",
    "name = ['하람', '혜신', '하유']\n",
    "print(name)\n",
    "\n",
    "name[2] = '하윤'\n",
    "\n",
    "print(name)"
   ]
  },
  {
   "cell_type": "code",
   "execution_count": 12,
   "id": "8CVEgStZPwPx",
   "metadata": {
    "colab": {
     "base_uri": "https://localhost:8080/"
    },
    "id": "8CVEgStZPwPx",
    "outputId": "4ea837b5-fc47-4239-a332-9e696e522786"
   },
   "outputs": [
    {
     "name": "stdout",
     "output_type": "stream",
     "text": [
      "['하람', '혜신', '하윤', '영주']\n"
     ]
    }
   ],
   "source": [
    "# 리스트 더하기\n",
    "name = ['하람', '혜신', '하윤']\n",
    "name.append('영주')\n",
    "print(name)"
   ]
  },
  {
   "cell_type": "code",
   "execution_count": null,
   "id": "kATnwZpmQbJy",
   "metadata": {
    "colab": {
     "base_uri": "https://localhost:8080/"
    },
    "id": "kATnwZpmQbJy",
    "outputId": "b5d2778d-af3b-48c9-baab-181e80a79b04"
   },
   "outputs": [
    {
     "name": "stdout",
     "output_type": "stream",
     "text": [
      "[['하람', '혜신', '하윤', '석진', '정훈', '준하']]\n",
      "[['하람', '혜신', '하윤'], ['석진', '정훈', '준하']]\n",
      "하람\n"
     ]
    }
   ],
   "source": [
    "# 리스트 안에 리스트\n",
    "\n",
    "girl = ['하람','혜신','하윤']\n",
    "boy = ['석진','정훈','준하']\n",
    "\n",
    "# '+'를 쓰면 리스트를 하나로 합친다. 그래서 리스트 'friends'는 요소가 한 개다.\n",
    "friends = [girl+boy]\n",
    "print(friends)\n",
    "\n",
    "# ','를 쓰면 추가된다. 그래서 리스트 'friends'는 요소가 두 개다.\n",
    "friends = [girl,boy]\n",
    "print(friends)\n",
    "\n",
    "# 리스트 'friends' 인덱스0(첫번째 요소) 안에 인덱스0(첫번째 요소)를 출력하는 코드 \n",
    "print(friends[0][0])"
   ]
  },
  {
   "cell_type": "code",
   "execution_count": null,
   "id": "X9QSXf0yTwSC",
   "metadata": {
    "colab": {
     "base_uri": "https://localhost:8080/"
    },
    "id": "X9QSXf0yTwSC",
    "outputId": "8fbb6d95-e71b-405d-ca69-bdc656fa64ed"
   },
   "outputs": [
    {
     "name": "stdout",
     "output_type": "stream",
     "text": [
      "False\n",
      "True\n"
     ]
    }
   ],
   "source": [
    "# 리스트 요소 '찾기' 기능\n",
    "\n",
    "my_army_friends = ['석진','정훈','재욱','민성']\n",
    "print('준하' in my_army_friends)\n",
    "print('재욱' in my_army_friends)"
   ]
  },
  {
   "cell_type": "code",
   "execution_count": null,
   "id": "nQpqocVDXg8v",
   "metadata": {
    "colab": {
     "base_uri": "https://localhost:8080/"
    },
    "id": "nQpqocVDXg8v",
    "outputId": "04104721-5c0b-465a-a17a-7ca4b9059881"
   },
   "outputs": [
    {
     "name": "stdout",
     "output_type": "stream",
     "text": [
      "1. [1, 2, 3, 4, 5, 6]\n",
      "2. [1, 2, 3, 2, 4, 5, 6, 'last']\n",
      "3. [1, 2, 3, 2, 4, 5, 6, 'last', 7, 8]\n",
      "4. [1, 2, 3, 2, 4, 5, 6, 'last', 7]\n"
     ]
    }
   ],
   "source": [
    "# 리스트 매서드\n",
    "\n",
    "numbers = [1,2,3,4,5]\n",
    "\n",
    "# 맨 뒤에 요소 추가하기\n",
    "numbers.append(6)\n",
    "print(\"1.\",numbers)\n",
    "\n",
    "# 인덱스에 요소 추가하기\n",
    "numbers.insert(3,2)\n",
    "numbers.insert(len(numbers),\"last\")\n",
    "print(\"2.\",numbers)\n",
    "\n",
    "# 요소 추가하기(연장하기) 근데 대괄호를 써줘야 한다.\n",
    "# 'int' object is not iterable\n",
    "# extend() takes exactly one argument\n",
    "numbers.extend([7, 8])\n",
    "\n",
    "print(\"3.\",numbers)\n",
    "\n",
    "numbers.pop()\n",
    "print(\"4.\",numbers)"
   ]
  },
  {
   "cell_type": "code",
   "execution_count": null,
   "id": "_npWVqdGcG5C",
   "metadata": {
    "colab": {
     "base_uri": "https://localhost:8080/"
    },
    "id": "_npWVqdGcG5C",
    "outputId": "3801c8a9-3275-4c0c-cf09-8f37f62d43a0"
   },
   "outputs": [
    {
     "name": "stdout",
     "output_type": "stream",
     "text": [
      "('난', '튜', '플')\n",
      "('나', '도', '튜', '플')\n"
     ]
    }
   ],
   "source": [
    "# 튜플\n",
    "# 튜플은 소괄호 생략 가능하다\n",
    "\n",
    "Im_Tupple = '난','튜','플'\n",
    "print(Im_Tupple)\n",
    "\n",
    "Im_Tupple_too = ('나','도','튜','플')\n",
    "print(Im_Tupple_too)"
   ]
  },
  {
   "cell_type": "code",
   "execution_count": null,
   "id": "LFM9oSXQfh6R",
   "metadata": {
    "colab": {
     "base_uri": "https://localhost:8080/"
    },
    "id": "LFM9oSXQfh6R",
    "outputId": "22cb2869-dc66-4423-9806-e6defde50bf2"
   },
   "outputs": [
    {
     "name": "stdout",
     "output_type": "stream",
     "text": [
      "바닐라 레몬\n",
      "다크초코 피스타치오\n",
      "블 루 베 리\n"
     ]
    }
   ],
   "source": [
    "#Unpacking\n",
    "\n",
    "# 튜플(소괄호를 생략한)을 언팩킹\n",
    "flavor1, flavor2 = '바닐라','레몬'\n",
    "print(flavor1,flavor2)\n",
    "\n",
    "# 리스트를 언팩킹\n",
    "flavor3, flavor4 = ['다크초코','피스타치오']\n",
    "print(flavor3,flavor4)\n",
    "\n",
    "one,two,three,four = \"블루베리\"\n",
    "print(one,two,three,four)\n"
   ]
  },
  {
   "cell_type": "code",
   "execution_count": null,
   "id": "KGdlDTWKLMnt",
   "metadata": {
    "colab": {
     "base_uri": "https://localhost:8080/"
    },
    "id": "KGdlDTWKLMnt",
    "outputId": "fceadb00-f542-400e-b4b1-1ded073b6a84"
   },
   "outputs": [
    {
     "name": "stdout",
     "output_type": "stream",
     "text": [
      "파, ,도, ,솔,"
     ]
    }
   ],
   "source": [
    "for _ in (\"파 도 솔\"):\n",
    "  print(_,end=\",\")"
   ]
  },
  {
   "cell_type": "code",
   "execution_count": null,
   "id": "vZ3P5zncT2GS",
   "metadata": {
    "colab": {
     "base_uri": "https://localhost:8080/"
    },
    "id": "vZ3P5zncT2GS",
    "outputId": "04815d13-6e41-403d-8683-1eed930ecf5e"
   },
   "outputs": [
    {
     "name": "stdout",
     "output_type": "stream",
     "text": [
      "['d', 'c', 'b', 'a']\n",
      "['d', 'c', 'b', 'a']\n"
     ]
    }
   ],
   "source": [
    "# .reverse() 와 reversed()의 차이\n",
    "# .reverse()는 리스트 매소드이고 괄호 안에 아무것도 넣지 않는다. 출력은 하지 않고 거꾸로 섞는 것까지만 해서 따로 또 'print(변수)'를 해야 한다.\n",
    "# reversed()는 print(list(reversed(변수))) 이렇게 사용한다.\n",
    "\n",
    "alph = [\"a\", \"b\", \"c\", \"d\"]\n",
    "print(list(reversed(alph)))\n",
    "# ['d', 'c', 'b', 'a']\n",
    "\n",
    "alph = [\"a\", \"b\", \"c\", \"d\"]\n",
    "alph.reverse()\n",
    "print(alph)\n",
    "# ['d', 'c', 'b', 'a']"
   ]
  },
  {
   "cell_type": "code",
   "execution_count": null,
   "id": "3uMNMyNjVtWK",
   "metadata": {
    "colab": {
     "base_uri": "https://localhost:8080/"
    },
    "id": "3uMNMyNjVtWK",
    "outputId": "42909b25-6d0f-4d2d-dabf-9f6cf58573cd"
   },
   "outputs": [
    {
     "name": "stdout",
     "output_type": "stream",
     "text": [
      ":)\n",
      ":)\n",
      ":)\n",
      ":)\n",
      ":)\n",
      ":)\n",
      ":)\n",
      ":)\n",
      ":)\n",
      ":)\n"
     ]
    }
   ],
   "source": [
    "# while loop\n",
    "# while문 순서\n",
    "# 1. 초기식\n",
    "# 2. while 조건식\n",
    "# 3. 반복할 코드\n",
    "# 4. 변화식\n",
    "\n",
    "i = 0\n",
    "while i < 10:\n",
    "  print(\":)\")\n",
    "  i += 1\n",
    "# \"i가 9일 때까지만 반복해서 :)을 찍어줄게.\""
   ]
  },
  {
   "cell_type": "markdown",
   "id": "tCrk2pz3QkbQ",
   "metadata": {
    "id": "tCrk2pz3QkbQ",
    "jp-MarkdownHeadingCollapsed": true,
    "tags": []
   },
   "source": [
    "# 2023-02-19 1주차 내용 복습 2"
   ]
  },
  {
   "cell_type": "code",
   "execution_count": null,
   "id": "dAJheuuxQxCX",
   "metadata": {
    "colab": {
     "base_uri": "https://localhost:8080/"
    },
    "id": "dAJheuuxQxCX",
    "outputId": "475c63c5-eb06-4b53-d59d-a09de9956301"
   },
   "outputs": [
    {
     "name": "stdout",
     "output_type": "stream",
     "text": [
      "Hi\tHi\tHi\tHi\tHi\tHi\tHi\tHi\tHi\tHi\t_\t_\t_\t_\t_\t_\t_\t_\t_\t_\t_\t"
     ]
    }
   ],
   "source": [
    "# break\n",
    "# break는 보통 if문과 함께 쓰인다.\n",
    "\n",
    "# while loop + break\n",
    "i = 0\n",
    "while True:\n",
    "  print('Hi', end='\\t')\n",
    "  i += 1\n",
    "  if i == 10:\n",
    "    break\n",
    "\n",
    "# for loop + break\n",
    "for _ in range(1000):\n",
    "  print('_', end='\\t')\n",
    "  if _ == 10:\n",
    "    break"
   ]
  },
  {
   "cell_type": "code",
   "execution_count": 17,
   "id": "e2rw0dyaUHqw",
   "metadata": {
    "colab": {
     "base_uri": "https://localhost:8080/"
    },
    "id": "e2rw0dyaUHqw",
    "outputId": "82fadf2b-0b83-406c-8651-a89ebf6a4da6"
   },
   "outputs": [
    {
     "name": "stdout",
     "output_type": "stream",
     "text": [
      "초코\n"
     ]
    }
   ],
   "source": [
    "# dictionary\n",
    "# dict()함수 예시\n",
    "\n",
    "dict([(1,2)])\n",
    "#{1: 2}\n",
    "dict([('과자','프링글스')])\n",
    "#{'과자': '프링글스'}\n",
    "icecream = dict(아이스크림='바닐라',아이스크림2='초코',아이스크림3='딸기')\n",
    "#{'아이스크림': '바닐라', '아이스크림2': '초코', '아이스크림3': '딸기'}\n",
    "print(icecream['아이스크림2'])\n",
    "# 초코"
   ]
  },
  {
   "cell_type": "markdown",
   "id": "9a2dfccb-c33f-4ac1-9288-b3d60f5dafa2",
   "metadata": {
    "id": "xARxYUVt9PT_",
    "jp-MarkdownHeadingCollapsed": true,
    "tags": []
   },
   "source": [
    "# 2023-02-20 2주차 Day 6 내용 복습"
   ]
  },
  {
   "cell_type": "code",
   "execution_count": null,
   "id": "05fd1e4a-19d5-4a48-a004-19c3bccbf0a4",
   "metadata": {},
   "outputs": [],
   "source": [
    "# 리스트 안에 있는 리스트는 같은 주소 값을 갖는다."
   ]
  },
  {
   "cell_type": "markdown",
   "id": "e5aaa178-dcac-43f1-9a43-6ca8818f98a1",
   "metadata": {
    "jp-MarkdownHeadingCollapsed": true,
    "tags": []
   },
   "source": [
    "# 2023-02-20 1주차 수업 예제문제 풀기"
   ]
  },
  {
   "cell_type": "code",
   "execution_count": 4,
   "id": "6fa9b04e-1579-483b-8aa4-90686b59616f",
   "metadata": {
    "jp-MarkdownHeadingCollapsed": true,
    "tags": []
   },
   "outputs": [
    {
     "name": "stdout",
     "output_type": "stream",
     "text": [
      "오늘도 파이팅!\n",
      "내일도 파이팅!\n"
     ]
    }
   ],
   "source": [
    "# 문자열을 변경하고 싶을 때\n",
    "\n",
    "sentence = \"오늘도 파이팅!\"\n",
    "print(sentence)\n",
    "\n",
    "new_sentence = \"내일도\" + sentence[3::]\n",
    "print(new_sentence)"
   ]
  },
  {
   "cell_type": "code",
   "execution_count": 24,
   "id": "60277f32-8584-408a-9ddf-f4f6792b700b",
   "metadata": {},
   "outputs": [
    {
     "name": "stdout",
     "output_type": "stream",
     "text": [
      "[1, 2, 3, 4, 5, 6]\n",
      "['1', '2', '3', '4', '5', '6']\n",
      "['2', '2', '3', '4', '5', '6']\n"
     ]
    }
   ],
   "source": [
    "# list 생성하기\n",
    "\n",
    "a = [1,2,3,4,5,6]\n",
    "print(a)\n",
    "\n",
    "b = list('123456')\n",
    "print(b)\n",
    "b[0] = '2'\n",
    "print(b)"
   ]
  },
  {
   "cell_type": "code",
   "execution_count": 29,
   "id": "a74b3787-b888-4a95-9b0d-a0560f0be7c1",
   "metadata": {},
   "outputs": [
    {
     "name": "stdout",
     "output_type": "stream",
     "text": [
      "success\n",
      "success\n",
      "fail\n",
      "success\n"
     ]
    }
   ],
   "source": [
    "# 60점 미만이 있으면 fail 출력하게 만들기\n",
    "scores = [80,65,59,77]\n",
    "for i in range(len(scores)):\n",
    "    if scores[i]<60:\n",
    "        print(\"fail\")\n",
    "    else:\n",
    "        print(\"success\")"
   ]
  },
  {
   "cell_type": "code",
   "execution_count": 32,
   "id": "34fc1392-38bf-4dd9-a76d-aad5e5e134b8",
   "metadata": {},
   "outputs": [
    {
     "name": "stdout",
     "output_type": "stream",
     "text": [
      "합격\n",
      "70.25\n"
     ]
    }
   ],
   "source": [
    "# 평균이 60점 미만이 있으면 \"탈락\" 출력하게 만들기\n",
    "scores = [80,65,59,77]\n",
    "total =0\n",
    "\n",
    "for i in range(len(scores)):\n",
    "    total += scores[i]\n",
    "avg=total/len(scores)\n",
    "\n",
    "if avg <60:\n",
    "    print(\"탈락\")\n",
    "else:\n",
    "    print(\"합격\")\n",
    "print(avg)      "
   ]
  },
  {
   "cell_type": "code",
   "execution_count": 25,
   "id": "fd4ae560-1a1b-4167-9827-d68102bcc403",
   "metadata": {},
   "outputs": [
    {
     "name": "stdin",
     "output_type": "stream",
     "text": [
      "정수 4개를 입력하세요 56 56 56 56\n"
     ]
    },
    {
     "name": "stdout",
     "output_type": "stream",
     "text": [
      "탈락입니다\n",
      "탈락입니다\n",
      "탈락입니다\n",
      "탈락입니다\n"
     ]
    }
   ],
   "source": [
    "# 이용자에게 받은 정수 4개 중에 60 미만이 있으면 \"탈락\" 출력하게 만들기\n",
    "scores = list((input(\"정수 4개를 입력하세요\")).split( ))\n",
    "scores = list(map(int, scores))\n",
    "\n",
    "i = 0\n",
    "while i < len(scores):\n",
    "    if scores[i] > 60:\n",
    "        print(\"합격\")\n",
    "    else:\n",
    "        print(\"탈락\")        \n",
    "    i+=1"
   ]
  },
  {
   "cell_type": "code",
   "execution_count": 35,
   "id": "5c2d1093-3904-4fb0-bb11-9e559c2463dc",
   "metadata": {},
   "outputs": [
    {
     "name": "stdout",
     "output_type": "stream",
     "text": [
      "지금 시각은 오후 8시 오분 입니다.\n"
     ]
    }
   ],
   "source": [
    "sentence = \"지금 시각은 {}시 {}분 입니다.\".format('오후 8', '오')\n",
    "print(sentence)"
   ]
  },
  {
   "cell_type": "code",
   "execution_count": 4,
   "id": "68d31a4c-7535-471b-ba89-f317c3b0e4b6",
   "metadata": {},
   "outputs": [
    {
     "name": "stdout",
     "output_type": "stream",
     "text": [
      "지금은 ojj시 os분 입니다.\n"
     ]
    }
   ],
   "source": [
    "print(f\"지금은 {'ojj'}시 {'os'}분 입니다.\")"
   ]
  },
  {
   "cell_type": "code",
   "execution_count": 7,
   "id": "db9d6546-ce6f-4ffa-8e9d-c87ef85b4826",
   "metadata": {},
   "outputs": [
    {
     "name": "stdout",
     "output_type": "stream",
     "text": [
      "2\n",
      "3\n"
     ]
    }
   ],
   "source": [
    "a=2\n",
    "if a == 2:\n",
    "    print(a)\n",
    "print(3)"
   ]
  },
  {
   "cell_type": "markdown",
   "id": "5be59b9b-e221-4e45-a907-ad090a920ddd",
   "metadata": {
    "jp-MarkdownHeadingCollapsed": true,
    "tags": []
   },
   "source": [
    "# 2023-02-21 2주차 Day 7 내용 복습"
   ]
  },
  {
   "cell_type": "code",
   "execution_count": null,
   "id": "750aa1c7-afbe-4e0d-b4e8-34439cb7ffa1",
   "metadata": {},
   "outputs": [],
   "source": [
    "\n"
   ]
  }
 ],
 "metadata": {
  "colab": {
   "include_colab_link": true,
   "provenance": [],
   "toc_visible": true
  },
  "kernelspec": {
   "display_name": "Python 3 (ipykernel)",
   "language": "python",
   "name": "python3"
  },
  "language_info": {
   "codemirror_mode": {
    "name": "ipython",
    "version": 3
   },
   "file_extension": ".py",
   "mimetype": "text/x-python",
   "name": "python",
   "nbconvert_exporter": "python",
   "pygments_lexer": "ipython3",
   "version": "3.9.13"
  },
  "toc-autonumbering": false,
  "toc-showcode": false,
  "toc-showmarkdowntxt": false,
  "toc-showtags": false
 },
 "nbformat": 4,
 "nbformat_minor": 5
}
