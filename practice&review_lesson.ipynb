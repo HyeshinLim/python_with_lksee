{
 "cells": [
  {
   "cell_type": "code",
   "execution_count": null,
   "id": "4a899bba-56e7-46e7-beb7-e751b0cf0066",
   "metadata": {
    "colab_type": "text",
    "id": "view-in-github"
   },
   "outputs": [],
   "source": [
    "<a href=\"https://colab.research.google.com/github/HyeshinLim/pythonbasic/blob/main/practice_review_lesson.ipynb\" target=\"_parent\"><img src=\"https://colab.research.google.com/assets/colab-badge.svg\" alt=\"Open In Colab\"/></a>"
   ]
  },
  {
   "cell_type": "markdown",
   "id": "n8kIE1h8QgiX",
   "metadata": {
    "id": "n8kIE1h8QgiX",
    "jp-MarkdownHeadingCollapsed": true,
    "tags": []
   },
   "source": [
    "# 2023-02-17 1주차 Day 4 내용 복습"
   ]
  },
  {
   "cell_type": "code",
   "execution_count": null,
   "id": "c52cc0fb-6ac1-4bc8-9884-cf2b0f3ae86a",
   "metadata": {
    "colab": {
     "base_uri": "https://localhost:8080/"
    },
    "id": "c52cc0fb-6ac1-4bc8-9884-cf2b0f3ae86a",
    "outputId": "c1bcb581-80a8-4963-c5f2-0d20ee379d67"
   },
   "outputs": [
    {
     "name": "stdout",
     "output_type": "stream",
     "text": [
      "False\n"
     ]
    }
   ],
   "source": [
    "# 공무원 시험 결과가 국어, 영어, 한국사, 선택 교과1, 선택 교과2의 점수가 리스트 형태로\n",
    "# 제공됩니다. 이때 한 과목이라도 60점 미만이면 과락입니다. 과락이면 False를 과락이\n",
    "# 아니면 True를 출력하도록 코드를 완성해보세요.\n",
    "\n",
    "## [국어, 영어, 한국사, 선택 교과1, 선택 교과2]\n",
    "##scores = [88, 73, 89, 59, 77]\n",
    "##????? \n",
    "\n",
    "#if문으로만 문제풀기\n",
    "\n",
    "scores = [88,73,89,59,77]\n",
    "\n",
    "if scores[0] < 60:\n",
    "    print(\"False\")\n",
    "elif scores[1] < 60:\n",
    "    print(\"False\")\n",
    "elif scores[2] < 60:\n",
    "    print(\"False\")\n",
    "elif scores[3] < 60:\n",
    "    print(\"False\")\n",
    "elif scores[4] < 60:\n",
    "    print(\"False\")\n",
    "else:\n",
    "    print(\"True\")"
   ]
  },
  {
   "cell_type": "code",
   "execution_count": null,
   "id": "8f229d8a-4535-4c35-89e8-ccc919b36808",
   "metadata": {
    "id": "8f229d8a-4535-4c35-89e8-ccc919b36808",
    "outputId": "b003bba2-ab3e-486d-9870-6ae2eea88738"
   },
   "outputs": [
    {
     "name": "stdout",
     "output_type": "stream",
     "text": [
      "True\n",
      "True\n",
      "True\n",
      "False\n",
      "True\n"
     ]
    }
   ],
   "source": [
    "# 공무원 시험 결과가 국어, 영어, 한국사, 선택 교과1, 선택 교과2의 점수가 리스트 형태로\n",
    "# 제공됩니다. 이때 한 과목이라도 60점 미만이면 과락입니다. 과락이면 False를 과락이\n",
    "# 아니면 True를 출력하도록 코드를 완성해보세요.\n",
    "\n",
    "## [국어, 영어, 한국사, 선택 교과1, 선택 교과2]\n",
    "##scores = [88, 73, 89, 59, 77]\n",
    "##????? \n",
    "\n",
    "#for문으로 문제풀기\n",
    "\n",
    "scores = [88,73,89,59,77]\n",
    "\n",
    "for i in scores:\n",
    "    if i<60:\n",
    "        print(\"False\")\n",
    "    else:\n",
    "        print(\"True\")\n",
    "       "
   ]
  },
  {
   "cell_type": "code",
   "execution_count": null,
   "id": "12810751-8225-4232-9d88-f1a3df9733cf",
   "metadata": {
    "id": "12810751-8225-4232-9d88-f1a3df9733cf",
    "outputId": "c742f10a-292f-4336-cb5f-0b7fbd00c863"
   },
   "outputs": [
    {
     "name": "stdin",
     "output_type": "stream",
     "text": [
      "숫자를 입력하세요: 4\n"
     ]
    },
    {
     "name": "stdout",
     "output_type": "stream",
     "text": [
      "4\t4\t4\t4\t\n",
      "3\t3\t3\t\n",
      "2\t2\t\n",
      "1\t\n"
     ]
    }
   ],
   "source": [
    "n = int(input(\"숫자를 입력하세요:\"))\n",
    "for i in range(n,0,-1):\n",
    "    for j in range(i):\n",
    "        print(i, end=\"\\t\")\n",
    "    print()"
   ]
  },
  {
   "cell_type": "code",
   "execution_count": null,
   "id": "9da550be-10af-4560-b52d-51e865f6e96b",
   "metadata": {
    "id": "9da550be-10af-4560-b52d-51e865f6e96b",
    "outputId": "8c511cde-9bd2-424d-efc7-cd3bb136caa3"
   },
   "outputs": [
    {
     "name": "stdout",
     "output_type": "stream",
     "text": [
      "* * * * * * * * * * \n",
      "*                 *\n",
      "*                 *\n",
      "*                 *\n",
      "*                 *\n",
      "*                 *\n",
      "*                 *\n",
      "*                 *\n",
      "*                 *\n",
      "* * * * * * * * * * \n"
     ]
    }
   ],
   "source": [
    "for i in range(10):\n",
    "    if i==0 or i==9:\n",
    "        print(\"* \"*10)\n",
    "    else:\n",
    "        print(\"*                 *\")"
   ]
  },
  {
   "cell_type": "markdown",
   "id": "v9I3yqiyCze7",
   "metadata": {
    "id": "v9I3yqiyCze7",
    "jp-MarkdownHeadingCollapsed": true,
    "tags": []
   },
   "source": [
    "# 2023-02-18 1주차 내용 복습 1"
   ]
  },
  {
   "cell_type": "code",
   "execution_count": null,
   "id": "fXoKUy2_DAD3",
   "metadata": {
    "colab": {
     "base_uri": "https://localhost:8080/"
    },
    "id": "fXoKUy2_DAD3",
    "outputId": "010f6300-42c8-45a7-b983-606ab9f0e217"
   },
   "outputs": [
    {
     "name": "stdout",
     "output_type": "stream",
     "text": [
      "asdf\\trr\n",
      "asdf\trr\n"
     ]
    }
   ],
   "source": [
    "# 문자열 리터럴 - raw string\n",
    "\n",
    "a = r'asdf\\trr'\n",
    "b = 'asdf\\trr'\n",
    "\n",
    "print(a)\n",
    "print(b)"
   ]
  },
  {
   "cell_type": "code",
   "execution_count": null,
   "id": "emF8ez4gJqK6",
   "metadata": {
    "colab": {
     "base_uri": "https://localhost:8080/"
    },
    "id": "emF8ez4gJqK6",
    "outputId": "4ecb86b3-e7b7-4877-b323-37413ff36345"
   },
   "outputs": [
    {
     "name": "stdout",
     "output_type": "stream",
     "text": [
      "안녕\n",
      "\n"
     ]
    }
   ],
   "source": [
    "# 문자열 리터러러 - \\ (역슬래쉬)\n",
    "\n",
    "a = \"\"\"\\\n",
    "안녕\n",
    "\"\"\"\n",
    "\n",
    "print(a)"
   ]
  },
  {
   "cell_type": "code",
   "execution_count": 4,
   "id": "JTAYN4fgKWsr",
   "metadata": {
    "colab": {
     "base_uri": "https://localhost:8080/"
    },
    "id": "JTAYN4fgKWsr",
    "outputId": "802afabe-28b4-4dee-d731-3598b59f29fb"
   },
   "outputs": [
    {
     "name": "stdout",
     "output_type": "stream",
     "text": [
      "['하람', '혜신', '하유']\n",
      "['하람', '혜신', '하윤']\n"
     ]
    }
   ],
   "source": [
    "# 리스트의 값 변경하기\n",
    "\n",
    "name = ['하람', '혜신', '하유']\n",
    "print(name)\n",
    "\n",
    "name[2] = '하윤'\n",
    "\n",
    "print(name)"
   ]
  },
  {
   "cell_type": "code",
   "execution_count": 12,
   "id": "8CVEgStZPwPx",
   "metadata": {
    "colab": {
     "base_uri": "https://localhost:8080/"
    },
    "id": "8CVEgStZPwPx",
    "outputId": "4ea837b5-fc47-4239-a332-9e696e522786"
   },
   "outputs": [
    {
     "name": "stdout",
     "output_type": "stream",
     "text": [
      "['하람', '혜신', '하윤', '영주']\n"
     ]
    }
   ],
   "source": [
    "# 리스트 더하기\n",
    "name = ['하람', '혜신', '하윤']\n",
    "name.append('영주')\n",
    "print(name)"
   ]
  },
  {
   "cell_type": "code",
   "execution_count": null,
   "id": "kATnwZpmQbJy",
   "metadata": {
    "colab": {
     "base_uri": "https://localhost:8080/"
    },
    "id": "kATnwZpmQbJy",
    "outputId": "b5d2778d-af3b-48c9-baab-181e80a79b04"
   },
   "outputs": [
    {
     "name": "stdout",
     "output_type": "stream",
     "text": [
      "[['하람', '혜신', '하윤', '석진', '정훈', '준하']]\n",
      "[['하람', '혜신', '하윤'], ['석진', '정훈', '준하']]\n",
      "하람\n"
     ]
    }
   ],
   "source": [
    "# 리스트 안에 리스트\n",
    "\n",
    "girl = ['하람','혜신','하윤']\n",
    "boy = ['석진','정훈','준하']\n",
    "\n",
    "# '+'를 쓰면 리스트를 하나로 합친다. 그래서 리스트 'friends'는 요소가 한 개다.\n",
    "friends = [girl+boy]\n",
    "print(friends)\n",
    "\n",
    "# ','를 쓰면 추가된다. 그래서 리스트 'friends'는 요소가 두 개다.\n",
    "friends = [girl,boy]\n",
    "print(friends)\n",
    "\n",
    "# 리스트 'friends' 인덱스0(첫번째 요소) 안에 인덱스0(첫번째 요소)를 출력하는 코드 \n",
    "print(friends[0][0])"
   ]
  },
  {
   "cell_type": "code",
   "execution_count": null,
   "id": "X9QSXf0yTwSC",
   "metadata": {
    "colab": {
     "base_uri": "https://localhost:8080/"
    },
    "id": "X9QSXf0yTwSC",
    "outputId": "8fbb6d95-e71b-405d-ca69-bdc656fa64ed"
   },
   "outputs": [
    {
     "name": "stdout",
     "output_type": "stream",
     "text": [
      "False\n",
      "True\n"
     ]
    }
   ],
   "source": [
    "# 리스트 요소 '찾기' 기능\n",
    "\n",
    "my_army_friends = ['석진','정훈','재욱','민성']\n",
    "print('준하' in my_army_friends)\n",
    "print('재욱' in my_army_friends)"
   ]
  },
  {
   "cell_type": "code",
   "execution_count": null,
   "id": "nQpqocVDXg8v",
   "metadata": {
    "colab": {
     "base_uri": "https://localhost:8080/"
    },
    "id": "nQpqocVDXg8v",
    "outputId": "04104721-5c0b-465a-a17a-7ca4b9059881"
   },
   "outputs": [
    {
     "name": "stdout",
     "output_type": "stream",
     "text": [
      "1. [1, 2, 3, 4, 5, 6]\n",
      "2. [1, 2, 3, 2, 4, 5, 6, 'last']\n",
      "3. [1, 2, 3, 2, 4, 5, 6, 'last', 7, 8]\n",
      "4. [1, 2, 3, 2, 4, 5, 6, 'last', 7]\n"
     ]
    }
   ],
   "source": [
    "# 리스트 매서드\n",
    "\n",
    "numbers = [1,2,3,4,5]\n",
    "\n",
    "# 맨 뒤에 요소 추가하기\n",
    "numbers.append(6)\n",
    "print(\"1.\",numbers)\n",
    "\n",
    "# 인덱스에 요소 추가하기\n",
    "numbers.insert(3,2)\n",
    "numbers.insert(len(numbers),\"last\")\n",
    "print(\"2.\",numbers)\n",
    "\n",
    "# 요소 추가하기(연장하기) 근데 대괄호를 써줘야 한다.\n",
    "# 'int' object is not iterable\n",
    "# extend() takes exactly one argument\n",
    "numbers.extend([7, 8])\n",
    "\n",
    "print(\"3.\",numbers)\n",
    "\n",
    "numbers.pop()\n",
    "print(\"4.\",numbers)"
   ]
  },
  {
   "cell_type": "code",
   "execution_count": null,
   "id": "_npWVqdGcG5C",
   "metadata": {
    "colab": {
     "base_uri": "https://localhost:8080/"
    },
    "id": "_npWVqdGcG5C",
    "outputId": "3801c8a9-3275-4c0c-cf09-8f37f62d43a0"
   },
   "outputs": [
    {
     "name": "stdout",
     "output_type": "stream",
     "text": [
      "('난', '튜', '플')\n",
      "('나', '도', '튜', '플')\n"
     ]
    }
   ],
   "source": [
    "# 튜플\n",
    "# 튜플은 소괄호 생략 가능하다\n",
    "\n",
    "Im_Tupple = '난','튜','플'\n",
    "print(Im_Tupple)\n",
    "\n",
    "Im_Tupple_too = ('나','도','튜','플')\n",
    "print(Im_Tupple_too)"
   ]
  },
  {
   "cell_type": "code",
   "execution_count": null,
   "id": "LFM9oSXQfh6R",
   "metadata": {
    "colab": {
     "base_uri": "https://localhost:8080/"
    },
    "id": "LFM9oSXQfh6R",
    "outputId": "22cb2869-dc66-4423-9806-e6defde50bf2"
   },
   "outputs": [
    {
     "name": "stdout",
     "output_type": "stream",
     "text": [
      "바닐라 레몬\n",
      "다크초코 피스타치오\n",
      "블 루 베 리\n"
     ]
    }
   ],
   "source": [
    "#Unpacking\n",
    "\n",
    "# 튜플(소괄호를 생략한)을 언팩킹\n",
    "flavor1, flavor2 = '바닐라','레몬'\n",
    "print(flavor1,flavor2)\n",
    "\n",
    "# 리스트를 언팩킹\n",
    "flavor3, flavor4 = ['다크초코','피스타치오']\n",
    "print(flavor3,flavor4)\n",
    "\n",
    "one,two,three,four = \"블루베리\"\n",
    "print(one,two,three,four)\n"
   ]
  },
  {
   "cell_type": "code",
   "execution_count": null,
   "id": "KGdlDTWKLMnt",
   "metadata": {
    "colab": {
     "base_uri": "https://localhost:8080/"
    },
    "id": "KGdlDTWKLMnt",
    "outputId": "fceadb00-f542-400e-b4b1-1ded073b6a84"
   },
   "outputs": [
    {
     "name": "stdout",
     "output_type": "stream",
     "text": [
      "파, ,도, ,솔,"
     ]
    }
   ],
   "source": [
    "for _ in (\"파 도 솔\"):\n",
    "  print(_,end=\",\")"
   ]
  },
  {
   "cell_type": "code",
   "execution_count": null,
   "id": "vZ3P5zncT2GS",
   "metadata": {
    "colab": {
     "base_uri": "https://localhost:8080/"
    },
    "id": "vZ3P5zncT2GS",
    "outputId": "04815d13-6e41-403d-8683-1eed930ecf5e"
   },
   "outputs": [
    {
     "name": "stdout",
     "output_type": "stream",
     "text": [
      "['d', 'c', 'b', 'a']\n",
      "['d', 'c', 'b', 'a']\n"
     ]
    }
   ],
   "source": [
    "# .reverse() 와 reversed()의 차이\n",
    "# .reverse()는 리스트 매소드이고 괄호 안에 아무것도 넣지 않는다. 출력은 하지 않고 거꾸로 섞는 것까지만 해서 따로 또 'print(변수)'를 해야 한다.\n",
    "# reversed()는 print(list(reversed(변수))) 이렇게 사용한다.\n",
    "\n",
    "alph = [\"a\", \"b\", \"c\", \"d\"]\n",
    "print(list(reversed(alph)))\n",
    "# ['d', 'c', 'b', 'a']\n",
    "\n",
    "alph = [\"a\", \"b\", \"c\", \"d\"]\n",
    "alph.reverse()\n",
    "print(alph)\n",
    "# ['d', 'c', 'b', 'a']"
   ]
  },
  {
   "cell_type": "code",
   "execution_count": null,
   "id": "3uMNMyNjVtWK",
   "metadata": {
    "colab": {
     "base_uri": "https://localhost:8080/"
    },
    "id": "3uMNMyNjVtWK",
    "outputId": "42909b25-6d0f-4d2d-dabf-9f6cf58573cd"
   },
   "outputs": [
    {
     "name": "stdout",
     "output_type": "stream",
     "text": [
      ":)\n",
      ":)\n",
      ":)\n",
      ":)\n",
      ":)\n",
      ":)\n",
      ":)\n",
      ":)\n",
      ":)\n",
      ":)\n"
     ]
    }
   ],
   "source": [
    "# while loop\n",
    "# while문 순서\n",
    "# 1. 초기식\n",
    "# 2. while 조건식\n",
    "# 3. 반복할 코드\n",
    "# 4. 변화식\n",
    "\n",
    "i = 0\n",
    "while i < 10:\n",
    "  print(\":)\")\n",
    "  i += 1\n",
    "# \"i가 9일 때까지만 반복해서 :)을 찍어줄게.\""
   ]
  },
  {
   "cell_type": "markdown",
   "id": "tCrk2pz3QkbQ",
   "metadata": {
    "id": "tCrk2pz3QkbQ",
    "jp-MarkdownHeadingCollapsed": true,
    "tags": []
   },
   "source": [
    "# 2023-02-19 1주차 내용 복습 2"
   ]
  },
  {
   "cell_type": "code",
   "execution_count": null,
   "id": "dAJheuuxQxCX",
   "metadata": {
    "colab": {
     "base_uri": "https://localhost:8080/"
    },
    "id": "dAJheuuxQxCX",
    "outputId": "475c63c5-eb06-4b53-d59d-a09de9956301"
   },
   "outputs": [
    {
     "name": "stdout",
     "output_type": "stream",
     "text": [
      "Hi\tHi\tHi\tHi\tHi\tHi\tHi\tHi\tHi\tHi\t_\t_\t_\t_\t_\t_\t_\t_\t_\t_\t_\t"
     ]
    }
   ],
   "source": [
    "# break\n",
    "# break는 보통 if문과 함께 쓰인다.\n",
    "\n",
    "# while loop + break\n",
    "i = 0\n",
    "while True:\n",
    "  print('Hi', end='\\t')\n",
    "  i += 1\n",
    "  if i == 10:\n",
    "    break\n",
    "\n",
    "# for loop + break\n",
    "for _ in range(1000):\n",
    "  print('_', end='\\t')\n",
    "  if _ == 10:\n",
    "    break"
   ]
  },
  {
   "cell_type": "code",
   "execution_count": 17,
   "id": "e2rw0dyaUHqw",
   "metadata": {
    "colab": {
     "base_uri": "https://localhost:8080/"
    },
    "id": "e2rw0dyaUHqw",
    "outputId": "82fadf2b-0b83-406c-8651-a89ebf6a4da6"
   },
   "outputs": [
    {
     "name": "stdout",
     "output_type": "stream",
     "text": [
      "초코\n"
     ]
    }
   ],
   "source": [
    "# dictionary\n",
    "# dict()함수 예시\n",
    "\n",
    "dict([(1,2)])\n",
    "#{1: 2}\n",
    "dict([('과자','프링글스')])\n",
    "#{'과자': '프링글스'}\n",
    "icecream = dict(아이스크림='바닐라',아이스크림2='초코',아이스크림3='딸기')\n",
    "#{'아이스크림': '바닐라', '아이스크림2': '초코', '아이스크림3': '딸기'}\n",
    "print(icecream['아이스크림2'])\n",
    "# 초코"
   ]
  },
  {
   "cell_type": "markdown",
   "id": "9a2dfccb-c33f-4ac1-9288-b3d60f5dafa2",
   "metadata": {
    "id": "xARxYUVt9PT_",
    "jp-MarkdownHeadingCollapsed": true,
    "tags": []
   },
   "source": [
    "# 2023-02-20 2주차 Day 6 내용 복습"
   ]
  },
  {
   "cell_type": "code",
   "execution_count": null,
   "id": "05fd1e4a-19d5-4a48-a004-19c3bccbf0a4",
   "metadata": {},
   "outputs": [],
   "source": [
    "# 리스트 안에 있는 리스트는 같은 주소 값을 갖는다."
   ]
  },
  {
   "cell_type": "markdown",
   "id": "e5aaa178-dcac-43f1-9a43-6ca8818f98a1",
   "metadata": {
    "jp-MarkdownHeadingCollapsed": true,
    "tags": []
   },
   "source": [
    "# 2023-02-20 1주차 수업 예제문제 풀기"
   ]
  },
  {
   "cell_type": "code",
   "execution_count": 4,
   "id": "6fa9b04e-1579-483b-8aa4-90686b59616f",
   "metadata": {
    "jp-MarkdownHeadingCollapsed": true,
    "tags": []
   },
   "outputs": [
    {
     "name": "stdout",
     "output_type": "stream",
     "text": [
      "오늘도 파이팅!\n",
      "내일도 파이팅!\n"
     ]
    }
   ],
   "source": [
    "# 문자열을 변경하고 싶을 때\n",
    "\n",
    "sentence = \"오늘도 파이팅!\"\n",
    "print(sentence)\n",
    "\n",
    "new_sentence = \"내일도\" + sentence[3::]\n",
    "print(new_sentence)"
   ]
  },
  {
   "cell_type": "code",
   "execution_count": 24,
   "id": "60277f32-8584-408a-9ddf-f4f6792b700b",
   "metadata": {},
   "outputs": [
    {
     "name": "stdout",
     "output_type": "stream",
     "text": [
      "[1, 2, 3, 4, 5, 6]\n",
      "['1', '2', '3', '4', '5', '6']\n",
      "['2', '2', '3', '4', '5', '6']\n"
     ]
    }
   ],
   "source": [
    "# list 생성하기\n",
    "\n",
    "a = [1,2,3,4,5,6]\n",
    "print(a)\n",
    "\n",
    "b = list('123456')\n",
    "print(b)\n",
    "b[0] = '2'\n",
    "print(b)"
   ]
  },
  {
   "cell_type": "code",
   "execution_count": 29,
   "id": "a74b3787-b888-4a95-9b0d-a0560f0be7c1",
   "metadata": {},
   "outputs": [
    {
     "name": "stdout",
     "output_type": "stream",
     "text": [
      "success\n",
      "success\n",
      "fail\n",
      "success\n"
     ]
    }
   ],
   "source": [
    "# 60점 미만이 있으면 fail 출력하게 만들기\n",
    "scores = [80,65,59,77]\n",
    "for i in range(len(scores)):\n",
    "    if scores[i]<60:\n",
    "        print(\"fail\")\n",
    "    else:\n",
    "        print(\"success\")"
   ]
  },
  {
   "cell_type": "code",
   "execution_count": 32,
   "id": "34fc1392-38bf-4dd9-a76d-aad5e5e134b8",
   "metadata": {},
   "outputs": [
    {
     "name": "stdout",
     "output_type": "stream",
     "text": [
      "합격\n",
      "70.25\n"
     ]
    }
   ],
   "source": [
    "# 평균이 60점 미만이 있으면 \"탈락\" 출력하게 만들기\n",
    "scores = [80,65,59,77]\n",
    "total =0\n",
    "\n",
    "for i in range(len(scores)):\n",
    "    total += scores[i]\n",
    "avg=total/len(scores)\n",
    "\n",
    "if avg <60:\n",
    "    print(\"탈락\")\n",
    "else:\n",
    "    print(\"합격\")\n",
    "print(avg)      "
   ]
  },
  {
   "cell_type": "code",
   "execution_count": 25,
   "id": "fd4ae560-1a1b-4167-9827-d68102bcc403",
   "metadata": {},
   "outputs": [
    {
     "name": "stdin",
     "output_type": "stream",
     "text": [
      "정수 4개를 입력하세요 56 56 56 56\n"
     ]
    },
    {
     "name": "stdout",
     "output_type": "stream",
     "text": [
      "탈락입니다\n",
      "탈락입니다\n",
      "탈락입니다\n",
      "탈락입니다\n"
     ]
    }
   ],
   "source": [
    "# 이용자에게 받은 정수 4개 중에 60 미만이 있으면 \"탈락\" 출력하게 만들기\n",
    "scores = list((input(\"정수 4개를 입력하세요\")).split( ))\n",
    "scores = list(map(int, scores))\n",
    "\n",
    "i = 0\n",
    "while i < len(scores):\n",
    "    if scores[i] > 60:\n",
    "        print(\"합격\")\n",
    "    else:\n",
    "        print(\"탈락\")        \n",
    "    i+=1"
   ]
  },
  {
   "cell_type": "code",
   "execution_count": 35,
   "id": "5c2d1093-3904-4fb0-bb11-9e559c2463dc",
   "metadata": {},
   "outputs": [
    {
     "name": "stdout",
     "output_type": "stream",
     "text": [
      "지금 시각은 오후 8시 오분 입니다.\n"
     ]
    }
   ],
   "source": [
    "sentence = \"지금 시각은 {}시 {}분 입니다.\".format('오후 8', '오')\n",
    "print(sentence)"
   ]
  },
  {
   "cell_type": "code",
   "execution_count": 4,
   "id": "68d31a4c-7535-471b-ba89-f317c3b0e4b6",
   "metadata": {},
   "outputs": [
    {
     "name": "stdout",
     "output_type": "stream",
     "text": [
      "지금은 ojj시 os분 입니다.\n"
     ]
    }
   ],
   "source": [
    "print(f\"지금은 {'ojj'}시 {'os'}분 입니다.\")"
   ]
  },
  {
   "cell_type": "code",
   "execution_count": 7,
   "id": "db9d6546-ce6f-4ffa-8e9d-c87ef85b4826",
   "metadata": {},
   "outputs": [
    {
     "name": "stdout",
     "output_type": "stream",
     "text": [
      "2\n",
      "3\n"
     ]
    }
   ],
   "source": [
    "a=2\n",
    "if a == 2:\n",
    "    print(a)\n",
    "print(3)"
   ]
  },
  {
   "cell_type": "markdown",
   "id": "5be59b9b-e221-4e45-a907-ad090a920ddd",
   "metadata": {
    "jp-MarkdownHeadingCollapsed": true,
    "tags": []
   },
   "source": [
    "# 2023-03-02 3주차 Day 12 내용 복습"
   ]
  },
  {
   "cell_type": "code",
   "execution_count": 3,
   "id": "750aa1c7-afbe-4e0d-b4e8-34439cb7ffa1",
   "metadata": {},
   "outputs": [
    {
     "data": {
      "text/plain": [
       "array([2, 4, 6, 8])"
      ]
     },
     "execution_count": 3,
     "metadata": {},
     "output_type": "execute_result"
    }
   ],
   "source": [
    "import numpy as np\n",
    "\n",
    "a = np.array([1,2,3,4])\n",
    "a*2"
   ]
  },
  {
   "cell_type": "code",
   "execution_count": 7,
   "id": "8ba97a81-7eb0-43d0-9ab8-2ac22d2236cb",
   "metadata": {},
   "outputs": [
    {
     "data": {
      "text/plain": [
       "array([False,  True,  True])"
      ]
     },
     "execution_count": 7,
     "metadata": {},
     "output_type": "execute_result"
    }
   ],
   "source": [
    "a = np.array([5,2,4])\n",
    "b = np.array([3,5,8])\n",
    "\n",
    "a <= b"
   ]
  },
  {
   "cell_type": "code",
   "execution_count": 14,
   "id": "ba4aa6d3-f0d2-4cf0-8825-59396b3980ea",
   "metadata": {},
   "outputs": [
    {
     "data": {
      "text/plain": [
       "array([[ 5,  6,  8],\n",
       "       [15,  2,  3]])"
      ]
     },
     "execution_count": 14,
     "metadata": {},
     "output_type": "execute_result"
    }
   ],
   "source": [
    "a = np.array([[5,6,8],[15,2,3]])\n",
    "a\n",
    "# array([[ 5,  6,  8],\n",
    "#       [15,  2,  3]])\n",
    "\n",
    "# 행 갯수\n",
    "len(a)\n",
    "# 열 갯수\n",
    "len(a[0])"
   ]
  },
  {
   "cell_type": "code",
   "execution_count": 19,
   "id": "08a31492-ecda-43d0-9f5f-f6da3d876d39",
   "metadata": {},
   "outputs": [
    {
     "data": {
      "text/plain": [
       "array([[[ 1,  2],\n",
       "        [ 3,  4],\n",
       "        [ 5,  6]],\n",
       "\n",
       "       [[ 7,  8],\n",
       "        [ 9, 10],\n",
       "        [11, 12]],\n",
       "\n",
       "       [[13, 14],\n",
       "        [15, 16],\n",
       "        [17, 18]],\n",
       "\n",
       "       [[19, 20],\n",
       "        [21, 22],\n",
       "        [23, 24]]])"
      ]
     },
     "execution_count": 19,
     "metadata": {},
     "output_type": "execute_result"
    }
   ],
   "source": [
    "# 3차원 배열 구조\n",
    "# 깊이 * 행 * 열\n",
    "# depth * row * column\n",
    "# axis0 * axis1 * axis2\n",
    "\n",
    "# 4*3*2\n",
    "a = np.array([[[1,2],\n",
    "              [3,4],\n",
    "              [5,6]],\n",
    "             [[7,8],\n",
    "             [9,10],\n",
    "             [11,12]],\n",
    "             [[13,14],\n",
    "              [15,16],\n",
    "              [17,18]],\n",
    "             [[19,20],\n",
    "             [21,22],\n",
    "             [23,24]]])\n",
    "a"
   ]
  },
  {
   "cell_type": "code",
   "execution_count": 21,
   "id": "9c6cd68a-ea3c-45af-a6a8-d38a0e4995c1",
   "metadata": {},
   "outputs": [
    {
     "data": {
      "text/plain": [
       "array([[[ 1,  2,  3],\n",
       "        [ 4,  5,  6],\n",
       "        [ 7,  8,  9],\n",
       "        [10, 11, 12]],\n",
       "\n",
       "       [[13, 14, 15],\n",
       "        [16, 17, 18],\n",
       "        [19, 20, 21],\n",
       "        [22, 23, 24]]])"
      ]
     },
     "execution_count": 21,
     "metadata": {},
     "output_type": "execute_result"
    }
   ],
   "source": [
    "# 3차원 배열 구조\n",
    "# 깊이 * 행 * 열\n",
    "# depth * row * column\n",
    "# axis0 * axis1 * axis2\n",
    "\n",
    "# 4*3*2\n",
    "a = np.array([[[1,2],\n",
    "              [3,4],\n",
    "              [5,6]],\n",
    "             [[7,8],\n",
    "             [9,10],\n",
    "             [11,12]],\n",
    "             [[13,14],\n",
    "              [15,16],\n",
    "              [17,18]],\n",
    "             [[19,20],\n",
    "             [21,22],\n",
    "             [23,24]]])\n",
    "a.reshape(2,4,3)"
   ]
  },
  {
   "cell_type": "code",
   "execution_count": 21,
   "id": "7f82b207-44d0-499d-98ae-62ea26a5af1b",
   "metadata": {},
   "outputs": [
    {
     "data": {
      "text/plain": [
       "array([[[ 1,  2,  3],\n",
       "        [ 4,  5,  6],\n",
       "        [ 7,  8,  9],\n",
       "        [10, 11, 12]],\n",
       "\n",
       "       [[13, 14, 15],\n",
       "        [16, 17, 18],\n",
       "        [19, 20, 21],\n",
       "        [22, 23, 24]]])"
      ]
     },
     "execution_count": 21,
     "metadata": {},
     "output_type": "execute_result"
    }
   ],
   "source": [
    "# 3차원 배열 구조\n",
    "# 깊이 * 행 * 열\n",
    "# depth * row * column\n",
    "# axis0 * axis1 * axis2\n",
    "\n",
    "# 4*3*2\n",
    "a = np.array([[[1,2],\n",
    "              [3,4],\n",
    "              [5,6]],\n",
    "             [[7,8],\n",
    "             [9,10],\n",
    "             [11,12]],\n",
    "             [[13,14],\n",
    "              [15,16],\n",
    "              [17,18]],\n",
    "             [[19,20],\n",
    "             [21,22],\n",
    "             [23,24]]])\n",
    "a.reshape(2,4,3)"
   ]
  },
  {
   "cell_type": "code",
   "execution_count": 35,
   "id": "06abc009-1e1e-4bea-b58b-f4640b5b66b2",
   "metadata": {},
   "outputs": [
    {
     "data": {
      "text/plain": [
       "array([[3, 4],\n",
       "       [8, 9]])"
      ]
     },
     "execution_count": 35,
     "metadata": {},
     "output_type": "execute_result"
    }
   ],
   "source": [
    "a = np.array([[0,1,2,3,4],\n",
    "            [5,6,7,8,9],\n",
    "             [10,11,12,13,14]])\n",
    "a[:2,3:]\n"
   ]
  },
  {
   "cell_type": "code",
   "execution_count": 46,
   "id": "1f102064-a6b8-481c-b59b-cdc62c3e5fff",
   "metadata": {},
   "outputs": [
    {
     "data": {
      "text/plain": [
       "array([ 0,  1,  2,  3,  4,  5,  6,  7,  8,  9, 10, 11, 12, 13, 14, 15, 16,\n",
       "       17, 18, 19, 20, 21, 22, 23])"
      ]
     },
     "execution_count": 46,
     "metadata": {},
     "output_type": "execute_result"
    }
   ],
   "source": [
    "a = np.arange(24)\n",
    "\n",
    "a.reshape(3,4,-1)\n",
    "a.flatten()"
   ]
  },
  {
   "cell_type": "code",
   "execution_count": 52,
   "id": "ff75cfae-1b7e-4017-8565-58c63f5da45e",
   "metadata": {},
   "outputs": [
    {
     "data": {
      "text/plain": [
       "array([[1., 1., 1.],\n",
       "       [1., 1., 1.],\n",
       "       [0., 0., 0.],\n",
       "       [0., 0., 0.],\n",
       "       [0., 0., 0.],\n",
       "       [0., 0., 0.],\n",
       "       [0., 0., 0.]])"
      ]
     },
     "execution_count": 52,
     "metadata": {},
     "output_type": "execute_result"
    }
   ],
   "source": [
    "a = np.ones([2,3])\n",
    "b = np.zeros([5,3])\n",
    "\n",
    "c = np.vstack([a,b])\n",
    "c"
   ]
  },
  {
   "cell_type": "code",
   "execution_count": 54,
   "id": "a2c93739-05f3-4c73-b0e7-268aa6ea6521",
   "metadata": {},
   "outputs": [
    {
     "data": {
      "text/plain": [
       "array([[0., 1., 1.],\n",
       "       [0., 1., 1.],\n",
       "       [0., 1., 1.],\n",
       "       [0., 1., 1.],\n",
       "       [0., 1., 1.]])"
      ]
     },
     "execution_count": 54,
     "metadata": {},
     "output_type": "execute_result"
    }
   ],
   "source": [
    "a = np.ones([5,2])\n",
    "b = np.zeros([5,1])\n",
    "\n",
    "c = np.hstack([b,a])\n",
    "c"
   ]
  },
  {
   "cell_type": "markdown",
   "id": "388ce859-d27a-406b-b51c-d435f84b736f",
   "metadata": {
    "jp-MarkdownHeadingCollapsed": true,
    "tags": []
   },
   "source": [
    "# 2023-03-05 3주차 내용 복습"
   ]
  },
  {
   "cell_type": "code",
   "execution_count": 1,
   "id": "93b97e33-d417-4362-976a-c7a79a4c607f",
   "metadata": {},
   "outputs": [],
   "source": [
    "import numpy as np"
   ]
  },
  {
   "cell_type": "code",
   "execution_count": 11,
   "id": "d29893cb-bdcd-4ffd-8866-39f145cb2239",
   "metadata": {},
   "outputs": [
    {
     "data": {
      "text/plain": [
       "array([[1, 1],\n",
       "       [1, 1],\n",
       "       [1, 1]], dtype=int32)"
      ]
     },
     "execution_count": 11,
     "metadata": {},
     "output_type": "execute_result"
    }
   ],
   "source": [
    "a = np.zeros((3,2), dtype='i')\n",
    "b = np.ones_like(a)\n",
    "b"
   ]
  },
  {
   "cell_type": "code",
   "execution_count": null,
   "id": "a38e6851-dbce-480d-ae54-1903b20c5843",
   "metadata": {},
   "outputs": [],
   "source": [
    "a = np.zeros((4,3))\n",
    "b = np.ones((4,3))\n",
    "\n",
    "np.dstack([a,b])"
   ]
  },
  {
   "cell_type": "code",
   "execution_count": 18,
   "id": "8910330a-c380-4074-bc28-39e6a94995b5",
   "metadata": {},
   "outputs": [
    {
     "data": {
      "text/plain": [
       "array([[[0., 0., 0.],\n",
       "        [0., 0., 0.],\n",
       "        [0., 0., 0.],\n",
       "        [0., 0., 0.]],\n",
       "\n",
       "       [[1., 1., 1.],\n",
       "        [1., 1., 1.],\n",
       "        [1., 1., 1.],\n",
       "        [1., 1., 1.]]])"
      ]
     },
     "execution_count": 18,
     "metadata": {},
     "output_type": "execute_result"
    }
   ],
   "source": [
    "a = np.zeros((4,3))\n",
    "b = np.ones((4,3))\n",
    "\n",
    "np.stack([a,b])"
   ]
  },
  {
   "cell_type": "code",
   "execution_count": 25,
   "id": "7590987a-4cea-422b-b12b-6a150f2413d6",
   "metadata": {},
   "outputs": [
    {
     "data": {
      "text/plain": [
       "array([[[0., 1.],\n",
       "        [0., 1.],\n",
       "        [0., 1.]],\n",
       "\n",
       "       [[0., 1.],\n",
       "        [0., 1.],\n",
       "        [0., 1.]],\n",
       "\n",
       "       [[0., 1.],\n",
       "        [0., 1.],\n",
       "        [0., 1.]],\n",
       "\n",
       "       [[0., 1.],\n",
       "        [0., 1.],\n",
       "        [0., 1.]]])"
      ]
     },
     "execution_count": 25,
     "metadata": {},
     "output_type": "execute_result"
    }
   ],
   "source": [
    "a = np.zeros((4,3))\n",
    "b = np.ones((4,3))\n",
    "\n",
    "c = np.stack([a,b], axis=2)\n",
    "c.shape\n",
    "c"
   ]
  },
  {
   "cell_type": "code",
   "execution_count": 26,
   "id": "745d7c6f-acd3-4648-87ec-f6646ad57cb3",
   "metadata": {},
   "outputs": [
    {
     "data": {
      "text/plain": [
       "array([[[1, 2, 3, 1, 2, 3, 1, 2, 3],\n",
       "        [4, 5, 6, 4, 5, 6, 4, 5, 6],\n",
       "        [1, 2, 3, 1, 2, 3, 1, 2, 3],\n",
       "        [4, 5, 6, 4, 5, 6, 4, 5, 6]],\n",
       "\n",
       "       [[1, 2, 3, 1, 2, 3, 1, 2, 3],\n",
       "        [4, 5, 6, 4, 5, 6, 4, 5, 6],\n",
       "        [1, 2, 3, 1, 2, 3, 1, 2, 3],\n",
       "        [4, 5, 6, 4, 5, 6, 4, 5, 6]],\n",
       "\n",
       "       [[1, 2, 3, 1, 2, 3, 1, 2, 3],\n",
       "        [4, 5, 6, 4, 5, 6, 4, 5, 6],\n",
       "        [1, 2, 3, 1, 2, 3, 1, 2, 3],\n",
       "        [4, 5, 6, 4, 5, 6, 4, 5, 6]]])"
      ]
     },
     "execution_count": 26,
     "metadata": {},
     "output_type": "execute_result"
    }
   ],
   "source": [
    "a = np.array([[1,2,3],\n",
    "             [4,5,6]])\n",
    "np.tile(a,(3,2,3))"
   ]
  },
  {
   "cell_type": "code",
   "execution_count": 41,
   "id": "e4948ecc-05b2-4557-927b-c337644b599c",
   "metadata": {},
   "outputs": [
    {
     "data": {
      "text/plain": [
       "array([ 6, 15])"
      ]
     },
     "execution_count": 41,
     "metadata": {},
     "output_type": "execute_result"
    }
   ],
   "source": [
    "a = a.reshape((2,3))\n",
    "a.sum(axis=1)"
   ]
  },
  {
   "cell_type": "markdown",
   "id": "c44c621d-d676-4cfd-88fb-fd8f203e73ac",
   "metadata": {
    "tags": []
   },
   "source": [
    "# 2023-03-06 4주차 Day 14 내용 복습"
   ]
  },
  {
   "cell_type": "code",
   "execution_count": 1,
   "id": "a3d27877-f86f-47e9-9666-3ade494c6dda",
   "metadata": {},
   "outputs": [],
   "source": [
    "import pandas as pd"
   ]
  },
  {
   "cell_type": "code",
   "execution_count": 9,
   "id": "aef8e265-6099-4144-90a7-568ce59ec22a",
   "metadata": {},
   "outputs": [
    {
     "name": "stdout",
     "output_type": "stream",
     "text": [
      "12보다 큰 수 갯수: 3\n",
      "0    10\n",
      "1    11\n",
      "2    12\n",
      "3    13\n",
      "4    14\n",
      "5    15\n",
      "dtype: int64\n"
     ]
    }
   ],
   "source": [
    "a = pd.Series(range(10,16))\n",
    "print(\"12보다 큰 수 갯수:\",sum(a>12))\n",
    "print(a)"
   ]
  },
  {
   "cell_type": "code",
   "execution_count": 16,
   "id": "59d364fc-c353-44f9-b720-f9cb6cd8ba7c",
   "metadata": {},
   "outputs": [
    {
     "data": {
      "text/plain": [
       "0    10\n",
       "1    11\n",
       "2    12\n",
       "3    13\n",
       "4    14\n",
       "5    15\n",
       "Name: 10~15, dtype: int64"
      ]
     },
     "execution_count": 16,
     "metadata": {},
     "output_type": "execute_result"
    }
   ],
   "source": [
    "a.name = '10~15'\n",
    "a"
   ]
  },
  {
   "cell_type": "code",
   "execution_count": 18,
   "id": "f328e08d-5168-4136-8dd6-697aa0ddd275",
   "metadata": {},
   "outputs": [
    {
     "data": {
      "text/plain": [
       "c    3\n",
       "a    1\n",
       "b    2\n",
       "dtype: int64"
      ]
     },
     "execution_count": 18,
     "metadata": {},
     "output_type": "execute_result"
    }
   ],
   "source": [
    "d = {'a':1,'b':2, 'c':3}\n",
    "series = pd.Series(d, ['c','a','b'])\n",
    "series"
   ]
  },
  {
   "cell_type": "code",
   "execution_count": null,
   "id": "dbe04e7b-fa05-45a1-a445-b6b540ce84ce",
   "metadata": {},
   "outputs": [],
   "source": [
    "# ------Series를 만드는 방법------\n",
    "##1\n",
    "# pd.Series([데이터],[인덱스])\n",
    "\n",
    "##2\n",
    "# a={'a':1,'b':2}\n",
    "pd.Series(a)\n",
    "\n",
    "##3\n",
    "pd.Series({'a':1,'b':2})\n",
    "\n",
    "# ------Series Slicing------\n",
    "##1\n",
    "a = {'a':1, 'b':2, 'c':3, 'd':4, 'e':5}\n",
    "a = pd.Series(a)\n",
    "a['a':'b']"
   ]
  },
  {
   "cell_type": "code",
   "execution_count": 51,
   "id": "baf46f8c-bad4-474c-89eb-efb5024ba3d0",
   "metadata": {},
   "outputs": [
    {
     "data": {
      "text/plain": [
       "가   -13099.0\n",
       "나    38435.0\n",
       "다    48994.0\n",
       "dtype: float64"
      ]
     },
     "execution_count": 51,
     "metadata": {},
     "output_type": "execute_result"
    }
   ],
   "source": [
    "a1 = pd.Series([12035,95264,61348,84847],\n",
    "              ['가','나','다','마'])\n",
    "a2 = pd.Series({'가':25134,'나':56829,'다':12354,'라':56812})\n",
    "b = a1-a2\n",
    "b[b.notnull()]"
   ]
  },
  {
   "cell_type": "code",
   "execution_count": 60,
   "id": "1641c688-a781-473e-880e-b0a98be9091b",
   "metadata": {},
   "outputs": [
    {
     "data": {
      "text/plain": [
       "라   NaN\n",
       "dtype: float64"
      ]
     },
     "execution_count": 60,
     "metadata": {},
     "output_type": "execute_result"
    }
   ],
   "source": [
    "c=a2-a1\n",
    "c[c.notnull()]\n",
    "c[[c.values.argmax()]]"
   ]
  },
  {
   "cell_type": "code",
   "execution_count": null,
   "id": "3ac3295b-5a7f-4605-bd5f-fad2611cff20",
   "metadata": {},
   "outputs": [],
   "source": [
    "a1['라'] = 68451\n",
    "del a1['다']"
   ]
  },
  {
   "cell_type": "code",
   "execution_count": 74,
   "id": "6167d2c9-8610-4167-8409-2ad052bafede",
   "metadata": {},
   "outputs": [
    {
     "data": {
      "text/plain": [
       "가    12035\n",
       "마    84847\n",
       "라    68451\n",
       "dtype: int64"
      ]
     },
     "execution_count": 74,
     "metadata": {},
     "output_type": "execute_result"
    }
   ],
   "source": [
    "a1"
   ]
  },
  {
   "cell_type": "code",
   "execution_count": 78,
   "id": "5918af79-bf12-4f59-b0d8-46ac1918abf2",
   "metadata": {},
   "outputs": [
    {
     "data": {
      "text/html": [
       "<div>\n",
       "<style scoped>\n",
       "    .dataframe tbody tr th:only-of-type {\n",
       "        vertical-align: middle;\n",
       "    }\n",
       "\n",
       "    .dataframe tbody tr th {\n",
       "        vertical-align: top;\n",
       "    }\n",
       "\n",
       "    .dataframe thead th {\n",
       "        text-align: right;\n",
       "    }\n",
       "</style>\n",
       "<table border=\"1\" class=\"dataframe\">\n",
       "  <thead>\n",
       "    <tr style=\"text-align: right;\">\n",
       "      <th>시간대</th>\n",
       "      <th>09:00</th>\n",
       "      <th>12:00</th>\n",
       "      <th>15:00</th>\n",
       "      <th>18:00</th>\n",
       "    </tr>\n",
       "    <tr>\n",
       "      <th>장소</th>\n",
       "      <th></th>\n",
       "      <th></th>\n",
       "      <th></th>\n",
       "      <th></th>\n",
       "    </tr>\n",
       "  </thead>\n",
       "  <tbody>\n",
       "    <tr>\n",
       "      <th>집</th>\n",
       "      <td>11</td>\n",
       "      <td>15</td>\n",
       "      <td>18</td>\n",
       "      <td>15</td>\n",
       "    </tr>\n",
       "    <tr>\n",
       "      <th>교회</th>\n",
       "      <td>10</td>\n",
       "      <td>16</td>\n",
       "      <td>18</td>\n",
       "      <td>16</td>\n",
       "    </tr>\n",
       "    <tr>\n",
       "      <th>학원</th>\n",
       "      <td>10</td>\n",
       "      <td>14</td>\n",
       "      <td>16</td>\n",
       "      <td>14</td>\n",
       "    </tr>\n",
       "  </tbody>\n",
       "</table>\n",
       "</div>"
      ],
      "text/plain": [
       "시간대  09:00  12:00  15:00  18:00\n",
       "장소                             \n",
       "집       11     15     18     15\n",
       "교회      10     16     18     16\n",
       "학원      10     14     16     14"
      ]
     },
     "execution_count": 78,
     "metadata": {},
     "output_type": "execute_result"
    }
   ],
   "source": [
    "data = {\n",
    "    '09:00':[11,10,10],\n",
    "    '15:00':[18,18,16],\n",
    "    '18:00':[15,16,14],\n",
    "    '12:00':[15,16,14]\n",
    "}\n",
    "columns = ['09:00','12:00','15:00','18:00']\n",
    "index = ['집','교회','학원']\n",
    "\n",
    "df = pd.DataFrame(data,index,columns)\n",
    "df.columns.name = '시간대'\n",
    "df.index.name = '장소'\n",
    "\n",
    "df"
   ]
  },
  {
   "cell_type": "code",
   "execution_count": 79,
   "id": "2e0290a5-8419-4f49-8d29-1492fa3edc01",
   "metadata": {},
   "outputs": [
    {
     "data": {
      "text/html": [
       "<div>\n",
       "<style scoped>\n",
       "    .dataframe tbody tr th:only-of-type {\n",
       "        vertical-align: middle;\n",
       "    }\n",
       "\n",
       "    .dataframe tbody tr th {\n",
       "        vertical-align: top;\n",
       "    }\n",
       "\n",
       "    .dataframe thead th {\n",
       "        text-align: right;\n",
       "    }\n",
       "</style>\n",
       "<table border=\"1\" class=\"dataframe\">\n",
       "  <thead>\n",
       "    <tr style=\"text-align: right;\">\n",
       "      <th>장소</th>\n",
       "      <th>집</th>\n",
       "      <th>교회</th>\n",
       "      <th>학원</th>\n",
       "    </tr>\n",
       "    <tr>\n",
       "      <th>시간대</th>\n",
       "      <th></th>\n",
       "      <th></th>\n",
       "      <th></th>\n",
       "    </tr>\n",
       "  </thead>\n",
       "  <tbody>\n",
       "    <tr>\n",
       "      <th>09:00</th>\n",
       "      <td>11</td>\n",
       "      <td>10</td>\n",
       "      <td>10</td>\n",
       "    </tr>\n",
       "    <tr>\n",
       "      <th>12:00</th>\n",
       "      <td>15</td>\n",
       "      <td>16</td>\n",
       "      <td>14</td>\n",
       "    </tr>\n",
       "    <tr>\n",
       "      <th>15:00</th>\n",
       "      <td>18</td>\n",
       "      <td>18</td>\n",
       "      <td>16</td>\n",
       "    </tr>\n",
       "    <tr>\n",
       "      <th>18:00</th>\n",
       "      <td>15</td>\n",
       "      <td>16</td>\n",
       "      <td>14</td>\n",
       "    </tr>\n",
       "  </tbody>\n",
       "</table>\n",
       "</div>"
      ],
      "text/plain": [
       "장소      집  교회  학원\n",
       "시간대              \n",
       "09:00  11  10  10\n",
       "12:00  15  16  14\n",
       "15:00  18  18  16\n",
       "18:00  15  16  14"
      ]
     },
     "execution_count": 79,
     "metadata": {},
     "output_type": "execute_result"
    }
   ],
   "source": [
    "data = {\n",
    "    '09:00':[11,10,10],\n",
    "    '15:00':[18,18,16],\n",
    "    '18:00':[15,16,14],\n",
    "    '12:00':[15,16,14]\n",
    "}\n",
    "columns = ['09:00','12:00','15:00','18:00']\n",
    "index = ['집','교회','학원']\n",
    "\n",
    "df = pd.DataFrame(data,index,columns)\n",
    "df.columns.name = '시간대'\n",
    "df.index.name = '장소'\n",
    "\n",
    "df.T"
   ]
  },
  {
   "cell_type": "code",
   "execution_count": 103,
   "id": "af0a4541-7d49-4880-90c5-8aec09e92859",
   "metadata": {},
   "outputs": [
    {
     "data": {
      "text/plain": [
       "15"
      ]
     },
     "execution_count": 103,
     "metadata": {},
     "output_type": "execute_result"
    }
   ],
   "source": [
    "data = {\n",
    "    '09:00':[11,10,10],\n",
    "    '15:00':[18,18,16],\n",
    "    '18:00':[15,16,14],\n",
    "    '12:00':[15,16,14]\n",
    "}\n",
    "columns = ['09:00','12:00','15:00','18:00']\n",
    "index = ['집','교회','학원']\n",
    "\n",
    "df = pd.DataFrame(data,index,columns)\n",
    "df.columns.name = '시간대'\n",
    "df.index.name = '장소'\n",
    "df=df.T\n",
    "df['월비'] = (df['집']+4)\n",
    "df['집']['12:00']"
   ]
  },
  {
   "cell_type": "code",
   "execution_count": 99,
   "id": "76b11645-f0a8-4569-a497-b462bcb097b0",
   "metadata": {},
   "outputs": [
    {
     "data": {
      "text/html": [
       "<div>\n",
       "<style scoped>\n",
       "    .dataframe tbody tr th:only-of-type {\n",
       "        vertical-align: middle;\n",
       "    }\n",
       "\n",
       "    .dataframe tbody tr th {\n",
       "        vertical-align: top;\n",
       "    }\n",
       "\n",
       "    .dataframe thead th {\n",
       "        text-align: right;\n",
       "    }\n",
       "</style>\n",
       "<table border=\"1\" class=\"dataframe\">\n",
       "  <thead>\n",
       "    <tr style=\"text-align: right;\">\n",
       "      <th></th>\n",
       "      <th>0</th>\n",
       "      <th>1</th>\n",
       "      <th>2</th>\n",
       "      <th>3</th>\n",
       "      <th>4</th>\n",
       "      <th>5</th>\n",
       "      <th>6</th>\n",
       "      <th>7</th>\n",
       "    </tr>\n",
       "  </thead>\n",
       "  <tbody>\n",
       "    <tr>\n",
       "      <th>0</th>\n",
       "      <td>0</td>\n",
       "      <td>1</td>\n",
       "      <td>2</td>\n",
       "      <td>3</td>\n",
       "      <td>4</td>\n",
       "      <td>5</td>\n",
       "      <td>6</td>\n",
       "      <td>7</td>\n",
       "    </tr>\n",
       "    <tr>\n",
       "      <th>1</th>\n",
       "      <td>8</td>\n",
       "      <td>9</td>\n",
       "      <td>10</td>\n",
       "      <td>11</td>\n",
       "      <td>12</td>\n",
       "      <td>13</td>\n",
       "      <td>14</td>\n",
       "      <td>15</td>\n",
       "    </tr>\n",
       "    <tr>\n",
       "      <th>2</th>\n",
       "      <td>16</td>\n",
       "      <td>17</td>\n",
       "      <td>18</td>\n",
       "      <td>19</td>\n",
       "      <td>20</td>\n",
       "      <td>21</td>\n",
       "      <td>22</td>\n",
       "      <td>23</td>\n",
       "    </tr>\n",
       "  </tbody>\n",
       "</table>\n",
       "</div>"
      ],
      "text/plain": [
       "    0   1   2   3   4   5   6   7\n",
       "0   0   1   2   3   4   5   6   7\n",
       "1   8   9  10  11  12  13  14  15\n",
       "2  16  17  18  19  20  21  22  23"
      ]
     },
     "execution_count": 99,
     "metadata": {},
     "output_type": "execute_result"
    }
   ],
   "source": [
    "import numpy as np\n",
    "pd.DataFrame(np.arange(24).reshape(3,-1))"
   ]
  },
  {
   "cell_type": "code",
   "execution_count": 104,
   "id": "a5e32e44-cf6e-4e49-9c9e-e4c33d48a9ec",
   "metadata": {},
   "outputs": [
    {
     "data": {
      "text/plain": [
       "array(['녹차', '딸기', '민초', '바닐라', '초코'], dtype='<U3')"
      ]
     },
     "execution_count": 104,
     "metadata": {},
     "output_type": "execute_result"
    }
   ],
   "source": [
    "np.unique(['민초','민초','녹차','바닐라','초코','초코','딸기'])"
   ]
  },
  {
   "cell_type": "code",
   "execution_count": 107,
   "id": "bba9b87b-56db-444c-922c-3da3537e8503",
   "metadata": {},
   "outputs": [],
   "source": [
    "ice_cream = np.array(['민초','민초','녹차','바닐라','초코','초코','딸기'])\n",
    "flavor, count = np.unique(ice_cream, return_counts=True)"
   ]
  },
  {
   "cell_type": "code",
   "execution_count": 115,
   "id": "12265e8a-5810-439b-a5f5-4847f9823412",
   "metadata": {},
   "outputs": [
    {
     "name": "stdout",
     "output_type": "stream",
     "text": [
      "[1 1 1 2 2] ['녹차' '딸기' '민초' '바닐라' '초코']\n"
     ]
    }
   ],
   "source": [
    "count.sort()\n",
    "print(count,\n",
    "flavor)"
   ]
  },
  {
   "cell_type": "code",
   "execution_count": 116,
   "id": "424fa083-2cfc-434d-9f0f-ef458f666578",
   "metadata": {},
   "outputs": [
    {
     "data": {
      "text/plain": [
       "array([1, 2, 1, 1, 0, 1, 0, 1], dtype=int64)"
      ]
     },
     "execution_count": 116,
     "metadata": {},
     "output_type": "execute_result"
    }
   ],
   "source": [
    "np.bincount([0,1,1,2,3,5,7], minlength=7)"
   ]
  },
  {
   "cell_type": "code",
   "execution_count": 126,
   "id": "8df2e12e-2f65-45ed-934e-5c51216ed236",
   "metadata": {},
   "outputs": [
    {
     "data": {
      "text/plain": [
       "array([[1., 1., 1., 1.],\n",
       "       [1., 1., 1., 1.],\n",
       "       [1., 1., 1., 1.]])"
      ]
     },
     "execution_count": 126,
     "metadata": {},
     "output_type": "execute_result"
    }
   ],
   "source": [
    "np.ones(12).reshape(3,4)"
   ]
  },
  {
   "cell_type": "code",
   "execution_count": 140,
   "id": "47ab6c90-c3a7-4f40-a974-f3c5667c6fb8",
   "metadata": {},
   "outputs": [
    {
     "name": "stdout",
     "output_type": "stream",
     "text": [
      "[0 1 2 3]\n",
      "[2.]\n",
      "[0. 2. 4. 6.]\n",
      "<class 'numpy.ndarray'>\n"
     ]
    },
    {
     "data": {
      "text/plain": [
       "array([ True, False, False, False])"
      ]
     },
     "execution_count": 140,
     "metadata": {},
     "output_type": "execute_result"
    }
   ],
   "source": [
    "# \n",
    "a = np.arange(4)\n",
    "b = np.array([2], dtype='f')\n",
    "c = a * b\n",
    "print(a)\n",
    "print(b)\n",
    "print(c)\n",
    "print(type(c))\n",
    "\n",
    "a==c"
   ]
  },
  {
   "cell_type": "code",
   "execution_count": null,
   "id": "2eebd9ab-47fe-4a70-abb4-a529424844b8",
   "metadata": {},
   "outputs": [],
   "source": [
    "# df[인덱싱]은 column\n",
    "# df[:슬라이싱]은 row"
   ]
  }
 ],
 "metadata": {
  "colab": {
   "include_colab_link": true,
   "provenance": [],
   "toc_visible": true
  },
  "kernelspec": {
   "display_name": "Python 3 (ipykernel)",
   "language": "python",
   "name": "python3"
  },
  "language_info": {
   "codemirror_mode": {
    "name": "ipython",
    "version": 3
   },
   "file_extension": ".py",
   "mimetype": "text/x-python",
   "name": "python",
   "nbconvert_exporter": "python",
   "pygments_lexer": "ipython3",
   "version": "3.9.13"
  },
  "toc-autonumbering": false,
  "toc-showcode": false,
  "toc-showmarkdowntxt": true,
  "toc-showtags": false
 },
 "nbformat": 4,
 "nbformat_minor": 5
}
