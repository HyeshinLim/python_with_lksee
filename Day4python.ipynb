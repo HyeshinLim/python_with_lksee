{
 "cells": [
  {
   "cell_type": "code",
   "execution_count": 1,
   "id": "75960af9-3c02-4d63-9359-e7b6cf706219",
   "metadata": {},
   "outputs": [
    {
     "name": "stdout",
     "output_type": "stream",
     "text": [
      "1 2 3\n"
     ]
    }
   ],
   "source": [
    "#format 예시\n",
    "\n",
    "test = (\"{} {} {}\").format(1,2,3)\n",
    "print(test)"
   ]
  },
  {
   "cell_type": "code",
   "execution_count": 2,
   "id": "1bbd13d9-e0c5-4554-92bf-d8d393686ba9",
   "metadata": {},
   "outputs": [
    {
     "name": "stdout",
     "output_type": "stream",
     "text": [
      "1 2 3\n"
     ]
    }
   ],
   "source": [
    "#f str 예시\n",
    "\n",
    "print(f\"{1} {2} {3}\")"
   ]
  },
  {
   "cell_type": "code",
   "execution_count": 3,
   "id": "b4fe4d49-a6a0-4ecd-aac1-138448580789",
   "metadata": {},
   "outputs": [
    {
     "name": "stdout",
     "output_type": "stream",
     "text": [
      "12 3\n"
     ]
    }
   ],
   "source": [
    "#f str 예시\n",
    "\n",
    "print(f\"{1}{2} {3}\")"
   ]
  },
  {
   "cell_type": "code",
   "execution_count": 4,
   "id": "dc131eef-89d5-4e6f-b127-d821c0e7f97f",
   "metadata": {},
   "outputs": [
    {
     "data": {
      "text/plain": [
       "False"
      ]
     },
     "execution_count": 4,
     "metadata": {},
     "output_type": "execute_result"
    }
   ],
   "source": [
    "#format 예시\n",
    "\n",
    "test = (\"{} {} {}\").format(1,2,3)\n",
    "type(test) is int"
   ]
  },
  {
   "cell_type": "code",
   "execution_count": 7,
   "id": "641bd7ec-04a4-4f8e-93e8-6a66a220fa8c",
   "metadata": {},
   "outputs": [
    {
     "data": {
      "text/plain": [
       "False"
      ]
     },
     "execution_count": 7,
     "metadata": {},
     "output_type": "execute_result"
    }
   ],
   "source": [
    "#format 예시\n",
    "\n",
    "test = (\"{} {} {}\").format(1,2,3)\n",
    "type(test) is int"
   ]
  },
  {
   "cell_type": "code",
   "execution_count": 8,
   "id": "10b22a0f-cc9f-405b-9a6b-a3c01115261a",
   "metadata": {},
   "outputs": [
    {
     "data": {
      "text/plain": [
       "range(0, 8)"
      ]
     },
     "execution_count": 8,
     "metadata": {},
     "output_type": "execute_result"
    }
   ],
   "source": [
    "range(8)"
   ]
  },
  {
   "cell_type": "code",
   "execution_count": 12,
   "id": "b3a1ce58-5c92-4f75-b93d-660299a3d53a",
   "metadata": {},
   "outputs": [
    {
     "data": {
      "text/plain": [
       "[0, 1, 2, 3, 4, 5, 6, 7]"
      ]
     },
     "execution_count": 12,
     "metadata": {},
     "output_type": "execute_result"
    }
   ],
   "source": [
    "#range() 예시\n",
    "\n",
    "list(range(0,8,1))"
   ]
  },
  {
   "cell_type": "code",
   "execution_count": 16,
   "id": "7c742132-25f1-428b-981a-6295f9b2511d",
   "metadata": {},
   "outputs": [
    {
     "name": "stdout",
     "output_type": "stream",
     "text": [
      "[2, 4, 6, 8, 10, 12, 14, 16, 18, 20, 22, 24, 26, 28, 30, 32, 34, 36, 38, 40, 42, 44, 46, 48, 50, 52, 54, 56, 58, 60, 62, 64, 66, 68, 70, 72, 74, 76, 78, 80, 82, 84, 86, 88, 90, 92, 94, 96, 98]\n"
     ]
    }
   ],
   "source": [
    "#range() 예시\n",
    "\n",
    "even_number = list(range(2,100,2))\n",
    "print(even_number)"
   ]
  },
  {
   "cell_type": "code",
   "execution_count": 19,
   "id": "5160d6ec-a6dc-436f-b06b-e4dbac691950",
   "metadata": {},
   "outputs": [
    {
     "name": "stdout",
     "output_type": "stream",
     "text": [
      "Day0\n",
      "Day1\n",
      "Day2\n",
      "Day3\n",
      "Day4\n",
      "Day5\n",
      "Day6\n",
      "Day7\n",
      "Day8\n",
      "Day9\n"
     ]
    }
   ],
   "source": [
    "#for문과 range() 예시\n",
    "\n",
    "for i in range(10):\n",
    "    print(f\"Day{i}\")"
   ]
  },
  {
   "cell_type": "code",
   "execution_count": null,
   "id": "19d14339-c544-4093-a022-e1d0894003c8",
   "metadata": {},
   "outputs": [],
   "source": [
    "#for문 + range() + f-str 응용 예시\n",
    "\n",
    "for x in range(1,101,1):\n",
    "    print(f\"Hello World {x}\")"
   ]
  },
  {
   "cell_type": "code",
   "execution_count": 29,
   "id": "0cd973b3-19a3-4d1f-b664-5f79defef118",
   "metadata": {},
   "outputs": [
    {
     "name": "stdin",
     "output_type": "stream",
     "text": [
      "인사 몇 번 해드릴까요? 3\n"
     ]
    },
    {
     "name": "stdout",
     "output_type": "stream",
     "text": [
      "hello world\n",
      "hello world\n",
      "hello world\n"
     ]
    }
   ],
   "source": [
    "# for문 + range() + input() 응용 예시\n",
    "\n",
    "repeat = int(input(\"인사 몇 번 해드릴까요?\"))\n",
    "\n",
    "for x in range(1,repeat + 1):\n",
    "    print(\"hello world\")"
   ]
  },
  {
   "cell_type": "code",
   "execution_count": 38,
   "id": "3709f5de-d072-4035-8526-1fc388e29880",
   "metadata": {},
   "outputs": [
    {
     "name": "stdout",
     "output_type": "stream",
     "text": [
      "5\n",
      "6\n",
      "7\n",
      "8\n",
      "9\n",
      "0\n",
      "3\n",
      "6\n",
      "9\n",
      "-10\n",
      "-40\n",
      "-70\n"
     ]
    }
   ],
   "source": [
    "for n1 in list(range(5,10)):\n",
    "    print(n1)\n",
    "    \n",
    "for n2 in list(range(0,10,3)):\n",
    "    print(n2)\n",
    "\n",
    "for n3 in list(range(-10,-71,-30)):\n",
    "    print(n3)"
   ]
  },
  {
   "cell_type": "code",
   "execution_count": 40,
   "id": "b4f444b5-7172-49ab-a285-8e5bb80b4038",
   "metadata": {},
   "outputs": [
    {
     "name": "stdout",
     "output_type": "stream",
     "text": [
      "[5, 6, 7, 8, 9]\n",
      "[0, 3, 6, 9]\n",
      "[-10, -40, -70]\n"
     ]
    }
   ],
   "source": [
    "print(list(range(5,10)))\n",
    "\n",
    "print(list(range(0,10,3)))\n",
    "\n",
    "print(list(range(-10,-71,-30)))"
   ]
  },
  {
   "cell_type": "code",
   "execution_count": 69,
   "id": "95fbcf74-d37e-45f7-aab5-86b0f2257c77",
   "metadata": {},
   "outputs": [
    {
     "name": "stdin",
     "output_type": "stream",
     "text": [
      "자연수 하나 입력해주세요: 5\n"
     ]
    },
    {
     "name": "stdout",
     "output_type": "stream",
     "text": [
      "5\t5\t5\t5\t5\t\n",
      "4\t4\t4\t4\t\n",
      "3\t3\t3\t\n",
      "2\t2\t\n",
      "1\t\n"
     ]
    }
   ],
   "source": [
    "n = int(input(\"자연수 하나 입력해주세요:\"))\n",
    "\n",
    "for N in range(1,n+1):\n",
    "    print(N)"
   ]
  },
  {
   "cell_type": "code",
   "execution_count": 83,
   "id": "21a49a60-5281-4a2e-8e9a-bb6079d05de2",
   "metadata": {},
   "outputs": [
    {
     "name": "stdin",
     "output_type": "stream",
     "text": [
      "자연수 하나 입력해주세요: 7\n"
     ]
    },
    {
     "name": "stdout",
     "output_type": "stream",
     "text": [
      "7\t7\t7\t7\t7\t7\t7\t\n",
      "6\t6\t6\t6\t6\t6\t\n",
      "5\t5\t5\t5\t5\t\n",
      "4\t4\t4\t4\t\n",
      "3\t3\t3\t\n",
      "2\t2\t\n",
      "1\t\n"
     ]
    }
   ],
   "source": [
    "n = int(input(\"자연수 하나 입력해주세요:\"))\n",
    "\n",
    "for N in range(n,0,-1):\n",
    "    print(f\"{N}\\t\"*N)"
   ]
  },
  {
   "cell_type": "code",
   "execution_count": 84,
   "id": "b750fd12-9a93-46de-88c7-df269098930b",
   "metadata": {},
   "outputs": [
    {
     "name": "stdin",
     "output_type": "stream",
     "text": [
      "자연수 하나 입력해주세요: 7\n"
     ]
    },
    {
     "name": "stdout",
     "output_type": "stream",
     "text": [
      "7\t7\t7\t7\t7\t7\t7\t\n",
      "6\t6\t6\t6\t6\t6\t\n",
      "5\t5\t5\t5\t5\t\n",
      "4\t4\t4\t4\t\n",
      "3\t3\t3\t\n",
      "2\t2\t\n",
      "1\t\n"
     ]
    }
   ],
   "source": [
    "n = int(input(\"자연수 하나 입력해주세요:\"))\n",
    "\n",
    "for a in range(n,0,-1):\n",
    "    print((\"{}\\t\".format(a))*a)"
   ]
  },
  {
   "cell_type": "code",
   "execution_count": 85,
   "id": "64b14a22-1057-4ebc-8c40-cb19a45693cc",
   "metadata": {},
   "outputs": [
    {
     "name": "stdin",
     "output_type": "stream",
     "text": [
      "자연수 하나 입력해주세요: 8\n"
     ]
    },
    {
     "name": "stdout",
     "output_type": "stream",
     "text": [
      "8\t8\t8\t8\t8\t8\t8\t8\t\n",
      "7\t7\t7\t7\t7\t7\t7\t\n",
      "6\t6\t6\t6\t6\t6\t\n",
      "5\t5\t5\t5\t5\t\n",
      "4\t4\t4\t4\t\n",
      "3\t3\t3\t\n",
      "2\t2\t\n",
      "1\t\n"
     ]
    }
   ],
   "source": [
    "n = int(input(\"자연수 하나 입력해주세요:\"))\n",
    "\n",
    "for i in range(n,0,-1):\n",
    "    for j in range(i):\n",
    "        print(i, end='\\t')\n",
    "    print()"
   ]
  },
  {
   "cell_type": "code",
   "execution_count": null,
   "id": "3ad426b7-9577-46e5-957c-ef18e434cffd",
   "metadata": {},
   "outputs": [],
   "source": [
    "stars_quantity = 10\n",
    "\n",
    "for a in range(stars_quantity):\n",
    "        if a == 0 or a == 9:\n",
    "            print(\"* \")*10\n",
    "        else:\n",
    "            print(\"*\")"
   ]
  },
  {
   "cell_type": "code",
   "execution_count": 84,
   "id": "0e986baf-63f4-458a-9f46-b091b4c11c0c",
   "metadata": {},
   "outputs": [
    {
     "name": "stdin",
     "output_type": "stream",
     "text": [
      "자연수 하나 입력해주세요: 7\n"
     ]
    },
    {
     "name": "stdout",
     "output_type": "stream",
     "text": [
      "7\t7\t7\t7\t7\t7\t7\t\n",
      "6\t6\t6\t6\t6\t6\t\n",
      "5\t5\t5\t5\t5\t\n",
      "4\t4\t4\t4\t\n",
      "3\t3\t3\t\n",
      "2\t2\t\n",
      "1\t\n"
     ]
    }
   ],
   "source": [
    "n = int(input(\"자연수 하나 입력해주세요:\"))\n",
    "\n",
    "for a in range(n,0,-1):\n",
    "    print((\"{}\\t\".format(a))*a)"
   ]
  },
  {
   "cell_type": "code",
   "execution_count": null,
   "id": "9f2831a7-6b25-4991-ba8a-e266f06cfd6e",
   "metadata": {},
   "outputs": [],
   "source": [
    "n = int(input(\"1부터 입력한 자연수까지의 모든 홀수의 합을 구합니다\"))\n",
    "\n",
    "for total in list(range(1,n+1,2)):\n",
    "    \n",
    "    #print(total,sep='+', end='=', sum(total))\n",
    "   \n",
    "    #print((f\"{total} +\"), end='=')"
   ]
  },
  {
   "cell_type": "code",
   "execution_count": null,
   "id": "c85667d9-dfdc-46de-a900-22c4e9b1263e",
   "metadata": {},
   "outputs": [],
   "source": [
    "inserted_number = int(input(\"1부터 입력한 자연수까지의 모든 홀수의 합을 구합니다\"))\n",
    "\n",
    "result = 0\n",
    "a = list(range(1,inserted_number+1,2))\n",
    "\n",
    "\n",
    "\n",
    "print(f\" = {result}\")  "
   ]
  },
  {
   "cell_type": "code",
   "execution_count": 145,
   "id": "1a39849d-5d22-4f5a-bdd0-b0364d7ec695",
   "metadata": {},
   "outputs": [
    {
     "name": "stdin",
     "output_type": "stream",
     "text": [
      "계승을 구할 숫자를 입력하세요 4\n"
     ]
    },
    {
     "name": "stdout",
     "output_type": "stream",
     "text": [
      "24\n"
     ]
    }
   ],
   "source": [
    "n = int(input(\"계승을 구할 숫자를 입력하세요\"))\n",
    "result = 1\n",
    "\n",
    "for i in range(1,n+1):\n",
    "   \n",
    "    result*=i\n",
    "print(result)"
   ]
  },
  {
   "cell_type": "code",
   "execution_count": 155,
   "id": "adcacfd2-9bec-4bc8-9ae2-62218b12ca4b",
   "metadata": {},
   "outputs": [
    {
     "name": "stdout",
     "output_type": "stream",
     "text": [
      "시\n",
      "<class 'str'>\n",
      "미\n",
      "<class 'str'>\n",
      "라\n",
      "<class 'str'>\n"
     ]
    }
   ],
   "source": [
    "for _ in ['시', '미', '라']:\n",
    "    print(_)\n",
    "    print(type(_))"
   ]
  },
  {
   "cell_type": "code",
   "execution_count": 154,
   "id": "2293cb20-dc0a-4624-a061-bb7900154c89",
   "metadata": {},
   "outputs": [
    {
     "name": "stdout",
     "output_type": "stream",
     "text": [
      "일 <class 'str'>\n",
      "이 <class 'str'>\n",
      "삼 <class 'str'>\n"
     ]
    }
   ],
   "source": [
    "for _ in (\"일이삼\"):\n",
    "    print(_, end=\" \")\n",
    "    print(type(_))"
   ]
  },
  {
   "cell_type": "code",
   "execution_count": 149,
   "id": "7a58777b-9128-4737-be15-525d9eae2b46",
   "metadata": {},
   "outputs": [
    {
     "name": "stdout",
     "output_type": "stream",
     "text": [
      "일 이 삼 "
     ]
    }
   ],
   "source": [
    "for _ in \"일이삼\":\n",
    "    print(_, end=\" \")"
   ]
  },
  {
   "cell_type": "code",
   "execution_count": 150,
   "id": "a3c5f061-2bb3-427e-81e6-3a053f85bd87",
   "metadata": {},
   "outputs": [
    {
     "name": "stdout",
     "output_type": "stream",
     "text": [
      "일 이 삼 "
     ]
    }
   ],
   "source": [
    "for _ in \"일\"\"이\"\"삼\":\n",
    "    print(_, end=\" \")"
   ]
  },
  {
   "cell_type": "code",
   "execution_count": 151,
   "id": "e7175183-0010-4f4d-8f24-3cde66eea1fd",
   "metadata": {},
   "outputs": [
    {
     "name": "stdout",
     "output_type": "stream",
     "text": [
      "일 이 삼 "
     ]
    }
   ],
   "source": [
    "for _ in (\"일\"\"이\"\"삼\"):\n",
    "    print(_, end=\" \")"
   ]
  },
  {
   "cell_type": "code",
   "execution_count": 152,
   "id": "542d7af9-c28e-4aba-868d-876c40ce0350",
   "metadata": {},
   "outputs": [
    {
     "name": "stdout",
     "output_type": "stream",
     "text": [
      "일 이 삼 "
     ]
    }
   ],
   "source": [
    "for _ in (\"일\",\"이\",\"삼\"):\n",
    "    print(_, end=\" \")"
   ]
  },
  {
   "cell_type": "code",
   "execution_count": 162,
   "id": "d7ef9122-1240-4f5b-8ec1-f05fa9c92697",
   "metadata": {},
   "outputs": [
    {
     "name": "stdout",
     "output_type": "stream",
     "text": [
      "삼\n",
      "이\n",
      "일\n"
     ]
    }
   ],
   "source": [
    "for _ in reversed(\"일이삼\"):\n",
    "    print (_)"
   ]
  },
  {
   "cell_type": "code",
   "execution_count": 171,
   "id": "d16b672e-421e-4f3f-8c7c-e6ad2845ea38",
   "metadata": {},
   "outputs": [
    {
     "name": "stdout",
     "output_type": "stream",
     "text": [
      "100 -420 250 1030 210 770 240 "
     ]
    }
   ],
   "source": [
    "x = [10, -42, 25, 103, 21, 77, 24]\n",
    "\n",
    "for a in (x):\n",
    "    b=a*10\n",
    "    print(b, end=' ')"
   ]
  },
  {
   "cell_type": "code",
   "execution_count": 5,
   "id": "2c54f32c-ebe2-4c37-b0c8-586d64abbf9a",
   "metadata": {},
   "outputs": [
    {
     "name": "stdin",
     "output_type": "stream",
     "text": [
      "구구단을 알려드립니다. 숫자를 입력하세요 1\n"
     ]
    },
    {
     "name": "stdout",
     "output_type": "stream",
     "text": [
      "1 * 1 = 1\n"
     ]
    }
   ],
   "source": [
    "n = int(input(\"구구단을 알려드립니다. 숫자를 입력하세요\"))\n",
    "i = 1\n",
    "for i in range(1,n+1):\n",
    "    print(f\"{n} * {i} =\", (n*i))"
   ]
  },
  {
   "cell_type": "code",
   "execution_count": 12,
   "id": "d1276c19-faae-48b5-9cc0-4e3b2487107e",
   "metadata": {},
   "outputs": [
    {
     "name": "stdin",
     "output_type": "stream",
     "text": [
      "구구단을 알려드립니다. 숫자를 입력하세요 100\n"
     ]
    },
    {
     "name": "stdout",
     "output_type": "stream",
     "text": [
      "100 * 1 = 100\n",
      "100 * 2 = 200\n",
      "100 * 3 = 300\n",
      "100 * 4 = 400\n",
      "100 * 5 = 500\n",
      "100 * 6 = 600\n",
      "100 * 7 = 700\n",
      "100 * 8 = 800\n",
      "100 * 9 = 900\n"
     ]
    }
   ],
   "source": [
    "n = int(input(\"구구단을 알려드립니다. 숫자를 입력하세요\"))\n",
    "\n",
    "for i in range(1,10):\n",
    "    print(f\"{n} * {i} =\", (n*i))"
   ]
  },
  {
   "cell_type": "code",
   "execution_count": 33,
   "id": "857c737b-87a6-48e0-a451-afce638c43b6",
   "metadata": {},
   "outputs": [
    {
     "name": "stdin",
     "output_type": "stream",
     "text": [
      "자연수를 입력해주세요: 100\n"
     ]
    },
    {
     "name": "stdout",
     "output_type": "stream",
     "text": [
      "0\n"
     ]
    }
   ],
   "source": [
    "n = int(input(\"자연수를 입력해주세요:\"))\n",
    "total = 0\n",
    "\n",
    "for i in range(1,n+1):\n",
    "    i += total\n",
    "\n",
    "print(total)"
   ]
  },
  {
   "cell_type": "code",
   "execution_count": 29,
   "id": "aa7286f5-a733-43aa-95b5-899386717668",
   "metadata": {},
   "outputs": [
    {
     "name": "stdin",
     "output_type": "stream",
     "text": [
      "자연수를 입력해주세요: 100\n"
     ]
    },
    {
     "name": "stdout",
     "output_type": "stream",
     "text": [
      "5050\n"
     ]
    }
   ],
   "source": [
    "n = int(input(\"자연수를 입력해주세요:\"))\n",
    "total = 0\n",
    "\n",
    "for i in range(1,n+1):\n",
    "    total += i\n",
    "\n",
    "print(total)"
   ]
  },
  {
   "cell_type": "code",
   "execution_count": 43,
   "id": "b0bbed07-34f5-425c-bd10-8555240e1817",
   "metadata": {},
   "outputs": [
    {
     "name": "stdout",
     "output_type": "stream",
     "text": [
      "*****\n",
      "*****\n",
      "*****\n",
      "*****\n",
      "*****\n"
     ]
    }
   ],
   "source": [
    "for _ in range(5):\n",
    "    print(\"*\"*5)"
   ]
  },
  {
   "cell_type": "code",
   "execution_count": 63,
   "id": "09e5a9f4-26a3-4ecc-9b3d-cd3ca2022cc6",
   "metadata": {},
   "outputs": [
    {
     "name": "stdout",
     "output_type": "stream",
     "text": [
      "*****\n",
      "*****\n",
      "*****\n",
      "*****\n",
      "*****\n"
     ]
    }
   ],
   "source": [
    "for i in range(5):\n",
    "    for j in range(5):\n",
    "        print(\"*\", end=\"\")\n",
    "    print()"
   ]
  },
  {
   "cell_type": "code",
   "execution_count": 47,
   "id": "800d3097-bb34-48a1-8fc8-baeca43fb2db",
   "metadata": {},
   "outputs": [
    {
     "name": "stdout",
     "output_type": "stream",
     "text": [
      "\n",
      "\n",
      "*\n",
      "\n",
      "*\n",
      "**\n",
      "\n",
      "*\n",
      "**\n",
      "***\n",
      "\n",
      "*\n",
      "**\n",
      "***\n",
      "****\n"
     ]
    }
   ],
   "source": [
    "for _ in range(5):\n",
    "    print(\"*\"*i)"
   ]
  },
  {
   "cell_type": "code",
   "execution_count": 65,
   "id": "daef0ba7-cf71-4bf7-bd58-a3cd55bdd64a",
   "metadata": {},
   "outputs": [
    {
     "name": "stdin",
     "output_type": "stream",
     "text": [
      "반복할 숫자를 입력하세요: 5\n"
     ]
    },
    {
     "name": "stdout",
     "output_type": "stream",
     "text": [
      "Hi 5\n",
      "Hi 4\n",
      "Hi 3\n",
      "Hi 2\n",
      "Hi 1\n"
     ]
    }
   ],
   "source": [
    "count = int(input(\"반복할 숫자를 입력하세요:\"))\n",
    "\n",
    "while count > 0:\n",
    "    print(\"Hi\", count)\n",
    "    count -= 1"
   ]
  },
  {
   "cell_type": "code",
   "execution_count": null,
   "id": "b8a37464-041f-4197-80f3-52c072f3ff2f",
   "metadata": {},
   "outputs": [],
   "source": [
    "count = int(input(\"반복할 숫자를 입력하세요:\"))\n",
    "\n",
    "while count > 0:\n",
    "    print(\"Hi\", count)"
   ]
  },
  {
   "cell_type": "code",
   "execution_count": 6,
   "id": "5ca9b140-28bf-4e4c-9210-b8a8d5a33d9f",
   "metadata": {
    "scrolled": true,
    "tags": []
   },
   "outputs": [
    {
     "name": "stdout",
     "output_type": "stream",
     "text": [
      "2\t4\t6\t8\t10\t12\t14\t16\t18\t20\t22\t24\t26\t28\t30\t32\t34\t36\t38\t40\t42\t44\t46\t48\t50\t52\t54\t56\t58\t60\t62\t64\t66\t68\t70\t72\t74\t76\t78\t80\t82\t84\t86\t88\t90\t92\t94\t96\t98\t100\t"
     ]
    }
   ],
   "source": [
    "n = 2\n",
    "while 1<=n<=100:\n",
    "    print(n, end=\"\\t\")\n",
    "    n += 2"
   ]
  },
  {
   "cell_type": "code",
   "execution_count": 13,
   "id": "b5299db9-ce6f-401f-a4fa-1f93f5f4d729",
   "metadata": {},
   "outputs": [
    {
     "name": "stdin",
     "output_type": "stream",
     "text": [
      "구구단을 알려드립니다. 숫자를 입력하세요: 10\n"
     ]
    },
    {
     "name": "stdout",
     "output_type": "stream",
     "text": [
      "10 * 1 = 10\n",
      "10 * 2 = 20\n",
      "10 * 3 = 30\n",
      "10 * 4 = 40\n",
      "10 * 5 = 50\n",
      "10 * 6 = 60\n",
      "10 * 7 = 70\n",
      "10 * 8 = 80\n",
      "10 * 9 = 90\n"
     ]
    }
   ],
   "source": [
    "n = int(input(\"구구단을 알려드립니다. 숫자를 입력하세요:\"))\n",
    "i = 1\n",
    "\n",
    "while i <= 9:\n",
    "    print(f\"{n} * {i} =\", n*i,end=\"\\n\")\n",
    "    i += 1"
   ]
  },
  {
   "cell_type": "code",
   "execution_count": 14,
   "id": "19c89327-fc11-4579-9580-2c9cbc6bdaca",
   "metadata": {},
   "outputs": [
    {
     "name": "stdout",
     "output_type": "stream",
     "text": [
      "2\n",
      "4\n",
      "6\n"
     ]
    }
   ],
   "source": [
    "a = [2,4,6]\n",
    "i = 0\n",
    "\n",
    "while i<len(a):\n",
    "    print(a[i])\n",
    "    i+=1\n"
   ]
  },
  {
   "cell_type": "code",
   "execution_count": null,
   "id": "e1c2f172-a7ce-495b-a179-3c243636864a",
   "metadata": {},
   "outputs": [],
   "source": []
  }
 ],
 "metadata": {
  "kernelspec": {
   "display_name": "Python 3 (ipykernel)",
   "language": "python",
   "name": "python3"
  },
  "language_info": {
   "codemirror_mode": {
    "name": "ipython",
    "version": 3
   },
   "file_extension": ".py",
   "mimetype": "text/x-python",
   "name": "python",
   "nbconvert_exporter": "python",
   "pygments_lexer": "ipython3",
   "version": "3.9.13"
  }
 },
 "nbformat": 4,
 "nbformat_minor": 5
}
