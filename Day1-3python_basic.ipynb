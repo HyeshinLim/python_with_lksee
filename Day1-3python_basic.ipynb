{
 "cells": [
  {
   "cell_type": "code",
   "execution_count": 7,
   "id": "e2f39280-cb59-4da5-966c-88c4e714945b",
   "metadata": {},
   "outputs": [],
   "source": [
    "x = 1\n",
    "\n",
    "text = \"# 이것은\""
   ]
  },
  {
   "cell_type": "code",
   "execution_count": 8,
   "id": "11d89a20-39ef-43f3-a979-6240499997cb",
   "metadata": {},
   "outputs": [
    {
     "name": "stdout",
     "output_type": "stream",
     "text": [
      "1\n"
     ]
    }
   ],
   "source": [
    "print(x)"
   ]
  },
  {
   "cell_type": "code",
   "execution_count": 16,
   "id": "8fc42712-a2a8-4ea8-bbe8-7e0f178704f1",
   "metadata": {},
   "outputs": [
    {
     "name": "stdout",
     "output_type": "stream",
     "text": [
      "Hello world!\n",
      "Hello world!\n",
      "Python Programming\n"
     ]
    }
   ],
   "source": [
    "print(\"Hello world!\")\n",
    "print(\"Hello world!\")\n",
    "print(\"Python Programming\")     "
   ]
  },
  {
   "cell_type": "code",
   "execution_count": 18,
   "id": "ff9141ea-6f3e-4698-9b7c-e33ec4e87618",
   "metadata": {},
   "outputs": [
    {
     "name": "stdout",
     "output_type": "stream",
     "text": [
      "89\n"
     ]
    }
   ],
   "source": [
    "print (13+(22-3)*4)"
   ]
  },
  {
   "cell_type": "code",
   "execution_count": 20,
   "id": "720408e7-4722-4f87-9d70-abc4ace5e22c",
   "metadata": {},
   "outputs": [
    {
     "name": "stdout",
     "output_type": "stream",
     "text": [
      "28.2\n"
     ]
    }
   ],
   "source": [
    "print (13+((22-3)*4)/5)"
   ]
  },
  {
   "cell_type": "code",
   "execution_count": 23,
   "id": "c6169d52-9f2e-4a54-9e2a-921c0e05d11c",
   "metadata": {},
   "outputs": [
    {
     "name": "stdout",
     "output_type": "stream",
     "text": [
      "Hello world!\n",
      "Hello world!\n",
      "Python Programming\n"
     ]
    }
   ],
   "source": [
    "print(\"\"\"Hello world!\n",
    "Hello world!\n",
    "Python Programming\"\"\")"
   ]
  },
  {
   "cell_type": "code",
   "execution_count": 24,
   "id": "8869a655-d948-41c9-ba08-59efcb87eeb2",
   "metadata": {},
   "outputs": [
    {
     "name": "stdout",
     "output_type": "stream",
     "text": [
      "Hello world!\n",
      "Hello world!\n",
      "Python Programming\n"
     ]
    }
   ],
   "source": [
    "print(\"Hello world!\\nHello world!\\nPython Programming\")"
   ]
  },
  {
   "cell_type": "code",
   "execution_count": 25,
   "id": "15e85d68-5a27-4ed5-b5ec-d36b05167492",
   "metadata": {},
   "outputs": [
    {
     "data": {
      "text/plain": [
       "3"
      ]
     },
     "execution_count": 25,
     "metadata": {},
     "output_type": "execute_result"
    }
   ],
   "source": [
    "7//2"
   ]
  },
  {
   "cell_type": "code",
   "execution_count": 26,
   "id": "afad4456-13af-4f49-bc79-5838c43a04fc",
   "metadata": {},
   "outputs": [
    {
     "data": {
      "text/plain": [
       "1"
      ]
     },
     "execution_count": 26,
     "metadata": {},
     "output_type": "execute_result"
    }
   ],
   "source": [
    "5%2"
   ]
  },
  {
   "cell_type": "code",
   "execution_count": 28,
   "id": "b26f564e-8e78-44b0-b479-04e6b3d08f9f",
   "metadata": {},
   "outputs": [
    {
     "data": {
      "text/plain": [
       "1433"
      ]
     },
     "execution_count": 28,
     "metadata": {},
     "output_type": "execute_result"
    }
   ],
   "source": [
    "int('1433')"
   ]
  },
  {
   "cell_type": "code",
   "execution_count": 29,
   "id": "990652a6-f430-499f-8a8b-8e005b2e1203",
   "metadata": {},
   "outputs": [
    {
     "data": {
      "text/plain": [
       "3"
      ]
     },
     "execution_count": 29,
     "metadata": {},
     "output_type": "execute_result"
    }
   ],
   "source": [
    "int(3.14)"
   ]
  },
  {
   "cell_type": "code",
   "execution_count": 30,
   "id": "01b55396-61bd-4094-9acd-eddb44472885",
   "metadata": {},
   "outputs": [
    {
     "data": {
      "text/plain": [
       "2.0"
      ]
     },
     "execution_count": 30,
     "metadata": {},
     "output_type": "execute_result"
    }
   ],
   "source": [
    "float(6/3)"
   ]
  },
  {
   "cell_type": "code",
   "execution_count": 31,
   "id": "32cbf12e-ba92-4058-9311-cdf0a469587b",
   "metadata": {},
   "outputs": [
    {
     "data": {
      "text/plain": [
       "7"
      ]
     },
     "execution_count": 31,
     "metadata": {},
     "output_type": "execute_result"
    }
   ],
   "source": [
    "int(0.2467*12+4.159)"
   ]
  },
  {
   "cell_type": "code",
   "execution_count": 32,
   "id": "d6e9e6c8-1431-4aab-98d1-f80fe4e23d93",
   "metadata": {},
   "outputs": [
    {
     "name": "stdout",
     "output_type": "stream",
     "text": [
      "가장 시끄러운 층은 = 7 층\n"
     ]
    }
   ],
   "source": [
    "print(\"가장 시끄러운\",\"층은\",\"=\",\"7\",\"층\")"
   ]
  },
  {
   "cell_type": "code",
   "execution_count": 33,
   "id": "4f14e8f0-61af-40b4-a683-24cb966649ea",
   "metadata": {},
   "outputs": [
    {
     "name": "stdout",
     "output_type": "stream",
     "text": [
      "가장 시끄러운 층은 7 층\n"
     ]
    }
   ],
   "source": [
    "print(\"가장 시끄러운 층은 7 층\")"
   ]
  },
  {
   "cell_type": "code",
   "execution_count": 34,
   "id": "3a0ee0a5-4a24-4194-8860-309de893a0c1",
   "metadata": {},
   "outputs": [
    {
     "name": "stdout",
     "output_type": "stream",
     "text": [
      "냉장고 가격은 1272000 원 입니다.\n"
     ]
    }
   ],
   "source": [
    "price = 53000*24\n",
    "print (\"냉장고 가격은\",price,\"원 입니다.\")\n"
   ]
  },
  {
   "cell_type": "code",
   "execution_count": 47,
   "id": "e894e6b2-2120-4815-a7db-c849059eeaea",
   "metadata": {},
   "outputs": [
    {
     "name": "stdout",
     "output_type": "stream",
     "text": [
      "총 지불해야 할 금액은 16500000.0 원 입니다.\n"
     ]
    }
   ],
   "source": [
    "people = 250\n",
    "tax = 1/10\n",
    "price = 250*(20000*3*(1+tax))\n",
    "\n",
    "print(\"총 지불해야 할 금액은\",price,\"원 입니다.\")"
   ]
  },
  {
   "cell_type": "code",
   "execution_count": 48,
   "id": "0a9ed9ed-d9d4-4967-80fb-3f226cc088b2",
   "metadata": {},
   "outputs": [
    {
     "data": {
      "text/plain": [
       "'0b10001'"
      ]
     },
     "execution_count": 48,
     "metadata": {},
     "output_type": "execute_result"
    }
   ],
   "source": [
    "bin(17)"
   ]
  },
  {
   "cell_type": "code",
   "execution_count": 49,
   "id": "7cf269a6-3684-4863-bb3a-d1472d6a3ed8",
   "metadata": {},
   "outputs": [
    {
     "name": "stdout",
     "output_type": "stream",
     "text": [
      "453.0\n"
     ]
    }
   ],
   "source": [
    "AP = 380\n",
    "print (AP*0.6+225)"
   ]
  },
  {
   "cell_type": "code",
   "execution_count": 55,
   "id": "f2a1bf34-6e3c-4c91-b1ff-dc13297f3465",
   "metadata": {},
   "outputs": [
    {
     "name": "stdout",
     "output_type": "stream",
     "text": [
      "40\n"
     ]
    },
    {
     "ename": "NameError",
     "evalue": "name 'a' is not defined",
     "output_type": "error",
     "traceback": [
      "\u001b[1;31m---------------------------------------------------------------------------\u001b[0m",
      "\u001b[1;31mNameError\u001b[0m                                 Traceback (most recent call last)",
      "\u001b[1;32m~\\AppData\\Local\\Temp\\ipykernel_31304\\3581760120.py\u001b[0m in \u001b[0;36m<module>\u001b[1;34m\u001b[0m\n\u001b[0;32m      6\u001b[0m \u001b[1;32mdel\u001b[0m \u001b[0ma\u001b[0m\u001b[1;33m\u001b[0m\u001b[1;33m\u001b[0m\u001b[0m\n\u001b[0;32m      7\u001b[0m \u001b[1;33m\u001b[0m\u001b[0m\n\u001b[1;32m----> 8\u001b[1;33m \u001b[0mprint\u001b[0m\u001b[1;33m(\u001b[0m\u001b[0ma\u001b[0m\u001b[1;33m)\u001b[0m\u001b[1;33m\u001b[0m\u001b[1;33m\u001b[0m\u001b[0m\n\u001b[0m",
      "\u001b[1;31mNameError\u001b[0m: name 'a' is not defined"
     ]
    }
   ],
   "source": [
    "a=20\n",
    "a=a+20\n",
    "\n",
    "print (a)\n",
    "\n",
    "del a\n",
    "\n",
    "print(a)"
   ]
  },
  {
   "cell_type": "code",
   "execution_count": 61,
   "id": "f0499741-df56-4a0c-90ba-bbfa982a94cc",
   "metadata": {},
   "outputs": [
    {
     "name": "stdout",
     "output_type": "stream",
     "text": [
      "20\n"
     ]
    }
   ],
   "source": [
    "a=10\n",
    "a+=10\n",
    "print(a)"
   ]
  },
  {
   "cell_type": "code",
   "execution_count": 62,
   "id": "0ee7ebcb-586c-4d47-9687-9fc3305da043",
   "metadata": {},
   "outputs": [
    {
     "data": {
      "text/plain": [
       "bool"
      ]
     },
     "execution_count": 62,
     "metadata": {},
     "output_type": "execute_result"
    }
   ],
   "source": [
    "type(True)"
   ]
  },
  {
   "cell_type": "code",
   "execution_count": 63,
   "id": "a0b530d6-4827-4b36-8124-3730fa6c86c9",
   "metadata": {},
   "outputs": [
    {
     "data": {
      "text/plain": [
       "bool"
      ]
     },
     "execution_count": 63,
     "metadata": {},
     "output_type": "execute_result"
    }
   ],
   "source": [
    "type(False)"
   ]
  },
  {
   "cell_type": "code",
   "execution_count": 64,
   "id": "83c201a9-8078-4c31-bf5c-23095899fc7f",
   "metadata": {},
   "outputs": [
    {
     "data": {
      "text/plain": [
       "False"
      ]
     },
     "execution_count": 64,
     "metadata": {},
     "output_type": "execute_result"
    }
   ],
   "source": [
    "1==2"
   ]
  },
  {
   "cell_type": "code",
   "execution_count": 65,
   "id": "9876a416-55fb-4f28-9a13-8ecf801b0b71",
   "metadata": {},
   "outputs": [
    {
     "data": {
      "text/plain": [
       "True"
      ]
     },
     "execution_count": 65,
     "metadata": {},
     "output_type": "execute_result"
    }
   ],
   "source": [
    "3>=3"
   ]
  },
  {
   "cell_type": "code",
   "execution_count": 67,
   "id": "b8144169-b4ad-4d34-80d3-0c4c476a01fc",
   "metadata": {},
   "outputs": [
    {
     "name": "stdout",
     "output_type": "stream",
     "text": [
      "don't leave me alone\n"
     ]
    }
   ],
   "source": [
    "print ('don\\'t leave me alone')"
   ]
  },
  {
   "cell_type": "code",
   "execution_count": 68,
   "id": "72d68b4c-9dba-4ad6-9adb-8e4ed88ba065",
   "metadata": {},
   "outputs": [
    {
     "name": "stdout",
     "output_type": "stream",
     "text": [
      "don't leave me alone\n"
     ]
    }
   ],
   "source": [
    "print (\"don't leave me alone\")"
   ]
  },
  {
   "cell_type": "code",
   "execution_count": 70,
   "id": "6b41f965-423f-4ce1-8268-6f927d5c7b7c",
   "metadata": {},
   "outputs": [
    {
     "name": "stdout",
     "output_type": "stream",
     "text": [
      "\"안녕?\"이라는 그 인사를 듣고 나는 '누구지?'라고 생각했다.\n"
     ]
    }
   ],
   "source": [
    "print ('\"안녕?\"이라는 그 인사를 듣고 나는 \\'누구지?\\'라고 생각했다.')"
   ]
  },
  {
   "cell_type": "code",
   "execution_count": 1,
   "id": "c483d40f-34af-4259-ac19-e772a8d7d679",
   "metadata": {},
   "outputs": [
    {
     "name": "stdout",
     "output_type": "stream",
     "text": [
      "Hello?\n"
     ]
    }
   ],
   "source": [
    "print(\"Hello?\")"
   ]
  },
  {
   "cell_type": "code",
   "execution_count": 2,
   "id": "1b3d5e7e-080e-4c9b-bc1f-da52c237babe",
   "metadata": {},
   "outputs": [
    {
     "name": "stdout",
     "output_type": "stream",
     "text": [
      "\n",
      "\"안녕하세요.\"\n",
      "나는 파이썬을 공부하고 있습니다.\n",
      "반갑습니다.\n",
      "\n"
     ]
    }
   ],
   "source": [
    "s = \"\"\"\n",
    "\\\"안녕하세요.\\\"\n",
    "나는 파이썬을 공부하고 있습니다.\n",
    "반갑습니다.\n",
    "\"\"\"\n",
    "\n",
    "print(s)"
   ]
  },
  {
   "cell_type": "code",
   "execution_count": 5,
   "id": "906d02e9-f741-4c34-9c41-e594f53132cb",
   "metadata": {},
   "outputs": [
    {
     "name": "stdout",
     "output_type": "stream",
     "text": [
      "너무 너무 너무 너무 너무 너무 너무 너무 너무 너무 너무 너무 너무 너무 너무 너무 너무 너무 너무 너무 너무 너무 너무 너무 너무 너무 너무 너무 너무 너무 너무 너무 너무 너무 너무 너무 너무 너무 너무 너무 너무 너무 너무 너무 너무 너무 너무 너무 너무 너무 너무 너무 너무 너무 너무 너무 너무 너무 너무 너무 너무 너무 너무 너무 너무 너무 너무 너무 너무 너무 너무 너무 너무 너무 너무 너무 너무 너무 너무 너무 너무 너무 너무 너무 너무 너무 너무 너무 너무 너무 너무 너무 너무 너무 너무 너무 너무 너무 너무 너무 파이썬 공부가 즐겁습니다.\n"
     ]
    }
   ],
   "source": [
    "s = \"너무 \"\n",
    "\n",
    "print(s*100+\"파이썬 공부가 즐겁습니다.\")"
   ]
  },
  {
   "cell_type": "code",
   "execution_count": 6,
   "id": "0f3551a3-13b9-41c2-ac91-15c694fce873",
   "metadata": {},
   "outputs": [
    {
     "name": "stdout",
     "output_type": "stream",
     "text": [
      "P\n"
     ]
    }
   ],
   "source": [
    "w = \"Python\"\n",
    "print(w[0])"
   ]
  },
  {
   "cell_type": "code",
   "execution_count": 7,
   "id": "67793939-452e-4fbb-bcaa-995af426d139",
   "metadata": {},
   "outputs": [
    {
     "name": "stdout",
     "output_type": "stream",
     "text": [
      "P\n",
      "n\n",
      "n\n",
      "P\n"
     ]
    }
   ],
   "source": [
    "w = \"Python\"\n",
    "\n",
    "print(w[0])\n",
    "print(w[5])\n",
    "print(w[-1])\n",
    "print(w[-6])"
   ]
  },
  {
   "cell_type": "code",
   "execution_count": 8,
   "id": "3453ae40-0207-4473-98db-5e07ea6e1084",
   "metadata": {},
   "outputs": [
    {
     "name": "stdout",
     "output_type": "stream",
     "text": [
      "Pyt\n"
     ]
    }
   ],
   "source": [
    "w = \"Python\"\n",
    "print(w[0:3])"
   ]
  },
  {
   "cell_type": "code",
   "execution_count": 15,
   "id": "4de1b44b-b178-4674-8397-9bf091e472db",
   "metadata": {},
   "outputs": [
    {
     "name": "stdout",
     "output_type": "stream",
     "text": [
      "꺾\n"
     ]
    }
   ],
   "source": [
    "sentence = \"'중요한 것은 꺾이지 않는 마음'\"\n",
    "\n",
    "print(sentence[8])"
   ]
  },
  {
   "cell_type": "code",
   "execution_count": 23,
   "id": "6f29e149-5a0d-42dd-b489-0033094e77f8",
   "metadata": {},
   "outputs": [
    {
     "name": "stdout",
     "output_type": "stream",
     "text": [
      "P\n"
     ]
    }
   ],
   "source": [
    "w = \"Python\"\n",
    "print(w[0])"
   ]
  },
  {
   "cell_type": "code",
   "execution_count": 31,
   "id": "8aebdd9a-f218-4551-a036-73f73407c6e2",
   "metadata": {},
   "outputs": [
    {
     "name": "stdout",
     "output_type": "stream",
     "text": [
      "yhn\n"
     ]
    }
   ],
   "source": [
    "w = \"Python\"\n",
    "print(w[1::2])"
   ]
  },
  {
   "cell_type": "code",
   "execution_count": 40,
   "id": "fde958ed-f6e7-4f84-8a24-555747e03cf2",
   "metadata": {},
   "outputs": [
    {
     "name": "stdout",
     "output_type": "stream",
     "text": [
      "꺾이지 않는 마음\n"
     ]
    }
   ],
   "source": [
    "sentence = \"중요한 것은 꺾이지 않는 마음\"\n",
    "\n",
    "print(sentence[7:])"
   ]
  },
  {
   "cell_type": "code",
   "execution_count": 43,
   "id": "d9485969-6625-403f-b0c8-1f097d2f4e36",
   "metadata": {},
   "outputs": [
    {
     "data": {
      "text/plain": [
       "'HELLO'"
      ]
     },
     "execution_count": 43,
     "metadata": {},
     "output_type": "execute_result"
    }
   ],
   "source": [
    "lang = \"hello\"\n",
    "lang.upper()"
   ]
  },
  {
   "cell_type": "code",
   "execution_count": 44,
   "id": "540f8638-1667-46ea-954d-beebded26658",
   "metadata": {},
   "outputs": [
    {
     "data": {
      "text/plain": [
       "'hello'"
      ]
     },
     "execution_count": 44,
     "metadata": {},
     "output_type": "execute_result"
    }
   ],
   "source": [
    "lang = \"HELLO\"\n",
    "lang.lower()"
   ]
  },
  {
   "cell_type": "code",
   "execution_count": 85,
   "id": "c71debe8-0898-4217-b482-587685de3cd4",
   "metadata": {},
   "outputs": [
    {
     "data": {
      "text/plain": [
       "['2023-02-1', '']"
      ]
     },
     "execution_count": 85,
     "metadata": {},
     "output_type": "execute_result"
    }
   ],
   "source": [
    "date = \"2023-02-14\"\n",
    "\n",
    "date.split('4')"
   ]
  },
  {
   "cell_type": "code",
   "execution_count": 97,
   "id": "6ca1668e-332b-4ca4-a84e-a3c8d421374c",
   "metadata": {},
   "outputs": [
    {
     "name": "stdout",
     "output_type": "stream",
     "text": [
      "Python4\n"
     ]
    }
   ],
   "source": [
    "lang = \"Python3\"\n",
    "\n",
    "lang2 = lang.replace('3','4')\n",
    "\n",
    "print(lang2)"
   ]
  },
  {
   "cell_type": "code",
   "execution_count": 94,
   "id": "08f23209-4420-4201-84b2-bdabb60bdc72",
   "metadata": {},
   "outputs": [
    {
     "name": "stdout",
     "output_type": "stream",
     "text": [
      "한요중\n"
     ]
    }
   ],
   "source": [
    "sentence = \"중요한 것은 꺾이지 않는 마음\"\n",
    "\n",
    "print(sentence[:3][::-1])"
   ]
  },
  {
   "cell_type": "code",
   "execution_count": 95,
   "id": "ac5309e1-5120-494d-ac61-f74b658c53f2",
   "metadata": {},
   "outputs": [
    {
     "name": "stdout",
     "output_type": "stream",
     "text": [
      "중\n"
     ]
    }
   ],
   "source": [
    "sentence = \"중요한 것은 꺾이지 않는 마음\"\n",
    "sentence = \"대단한\" + \n",
    "print(sentence)"
   ]
  },
  {
   "cell_type": "code",
   "execution_count": 100,
   "id": "067be379-fd2f-4e60-a814-9169f19abc9e",
   "metadata": {},
   "outputs": [
    {
     "name": "stdout",
     "output_type": "stream",
     "text": [
      "16\n"
     ]
    }
   ],
   "source": [
    "sentence = \"중요한 것은 꺾이지 않는 마음\"\n",
    "\n",
    "print(len(sentence))"
   ]
  },
  {
   "cell_type": "code",
   "execution_count": 105,
   "id": "32f10c4a-eb8f-4a06-ad9b-361199a6c4e5",
   "metadata": {},
   "outputs": [
    {
     "name": "stdout",
     "output_type": "stream",
     "text": [
      "[1, 4, 9, 16]\n"
     ]
    },
    {
     "data": {
      "text/plain": [
       "list"
      ]
     },
     "execution_count": 105,
     "metadata": {},
     "output_type": "execute_result"
    }
   ],
   "source": [
    "squares = [1**2,2**2,3**2,4**2]\n",
    "print(squares)\n",
    "type(squares)"
   ]
  },
  {
   "cell_type": "code",
   "execution_count": 106,
   "id": "2128d419-2a94-4232-94e2-8f0c2f8adf71",
   "metadata": {},
   "outputs": [
    {
     "name": "stdout",
     "output_type": "stream",
     "text": [
      "[1, 4, 9, 16, 25, 36, 49]\n"
     ]
    }
   ],
   "source": [
    "squares = [1**2,2**2,3**2,4**2]\n",
    "print(squares + [25, 36, 49])"
   ]
  },
  {
   "cell_type": "code",
   "execution_count": 107,
   "id": "f4bfc2ce-b197-45ce-9f9f-f794fa281a24",
   "metadata": {},
   "outputs": [
    {
     "name": "stdout",
     "output_type": "stream",
     "text": [
      "[1, 8, 27, 64]\n"
     ]
    }
   ],
   "source": [
    "cubes = [1, 8, 27,65]\n",
    "cubes[3] = 4**3\n",
    "\n",
    "print(cubes)"
   ]
  },
  {
   "cell_type": "code",
   "execution_count": 109,
   "id": "476f1f49-530a-4d9a-9dee-641191ab2095",
   "metadata": {},
   "outputs": [
    {
     "name": "stdout",
     "output_type": "stream",
     "text": [
      "[1, 8, 27, 64]\n",
      "4\n"
     ]
    }
   ],
   "source": [
    "cubes = [1, 8, 27,65]\n",
    "cubes[3] = 4**3\n",
    "\n",
    "print(cubes)\n",
    "print(len(cubes))"
   ]
  },
  {
   "cell_type": "code",
   "execution_count": 111,
   "id": "f7d93845-cbc4-477c-ac3b-c2a3ff2e61e5",
   "metadata": {},
   "outputs": [
    {
     "name": "stdout",
     "output_type": "stream",
     "text": [
      "[['a', 'b', 'c'], ['1', '2', '3']]\n",
      "2\n"
     ]
    }
   ],
   "source": [
    "a = ['a','b','c']\n",
    "n = ['1','2','3']\n",
    "x = [a,n]\n",
    "\n",
    "print(x)\n",
    "print(len(x))"
   ]
  },
  {
   "cell_type": "code",
   "execution_count": 116,
   "id": "362da40a-7652-418b-b095-b81373cfc155",
   "metadata": {},
   "outputs": [
    {
     "name": "stdout",
     "output_type": "stream",
     "text": [
      "[['a', 'b', 'c'], ['1', '2', '3']]\n",
      "1\n",
      "2\n"
     ]
    }
   ],
   "source": [
    "a = ['a','b','c']\n",
    "n = ['1','2','3']\n",
    "x = [a,n]\n",
    "\n",
    "print(x)\n",
    "print(x[1][0])\n",
    "print(len(x))"
   ]
  },
  {
   "cell_type": "code",
   "execution_count": 124,
   "id": "e048240b-0942-440a-8268-dac4bd4e5faf",
   "metadata": {},
   "outputs": [
    {
     "name": "stdout",
     "output_type": "stream",
     "text": [
      "[['a', 'b', 'c'], ['1', '2', '3']]\n",
      "1\n",
      "2\n",
      "True\n",
      "False\n"
     ]
    }
   ],
   "source": [
    "a = ['a','b','c']\n",
    "n = ['1','2','3']\n",
    "x = [a,n]\n",
    "\n",
    "print(x)\n",
    "print(x[1][0])\n",
    "print(len(x))\n",
    "print('a' in a)\n",
    "print(1 in n)and ('1' in n)"
   ]
  },
  {
   "cell_type": "code",
   "execution_count": 149,
   "id": "8abeb086-1cd5-42b4-800e-76bff9d4775d",
   "metadata": {},
   "outputs": [
    {
     "name": "stdout",
     "output_type": "stream",
     "text": [
      "False\n"
     ]
    }
   ],
   "source": [
    "scores = [88,73,89,59,77]\n",
    "\n",
    "print(scores[0] >= 60 and scores[1] >= 60 and scores[2] >= 60 and scores[3] >= 60 in scores)"
   ]
  },
  {
   "cell_type": "code",
   "execution_count": 166,
   "id": "7d577ad3-3188-46a8-a9df-2483ebd00973",
   "metadata": {},
   "outputs": [
    {
     "name": "stdout",
     "output_type": "stream",
     "text": [
      "[1, 2, 3, 4, 5, 6, 7, 8]\n"
     ]
    }
   ],
   "source": [
    "numbers = [1,2,3,4,5,6,7]\n",
    "\n",
    "numbers.append(8)\n",
    "print(numbers)"
   ]
  },
  {
   "cell_type": "code",
   "execution_count": 163,
   "id": "824f7a6c-a56e-454b-bd43-1ebc426bba63",
   "metadata": {},
   "outputs": [
    {
     "name": "stdout",
     "output_type": "stream",
     "text": [
      "[1, 2, 3, 4, 5, 6, 7, 8]\n"
     ]
    }
   ],
   "source": [
    "numbers = [1,2,3,4,5,6,7]\n",
    "\n",
    "numbers.extend([8])\n",
    "print(numbers)"
   ]
  },
  {
   "cell_type": "code",
   "execution_count": 161,
   "id": "cd079506-8c1b-4c29-a49e-304edcd841db",
   "metadata": {},
   "outputs": [
    {
     "name": "stdout",
     "output_type": "stream",
     "text": [
      "[1, 2, 0, 3, 4, 5, 6, 7]\n"
     ]
    }
   ],
   "source": [
    "numbers = [1,2,3,4,5,6,7]\n",
    "\n",
    "\n",
    "numbers.insert(2,0)\n",
    "print(numbers)"
   ]
  },
  {
   "cell_type": "code",
   "execution_count": 157,
   "id": "dc5d4ca9-7dd8-4a08-bc96-439de1562e25",
   "metadata": {},
   "outputs": [
    {
     "name": "stdout",
     "output_type": "stream",
     "text": [
      "[1, 2, 3, 4, 0, 5, 6, 7]\n"
     ]
    }
   ],
   "source": [
    "numbers = [1,2,3,4,5,6,7]\n",
    "\n",
    "numbers.insert(4,0)\n",
    "print(numbers)"
   ]
  },
  {
   "cell_type": "code",
   "execution_count": 185,
   "id": "aee8d6bd-941e-4755-a26c-c374ea3c7826",
   "metadata": {},
   "outputs": [
    {
     "name": "stdout",
     "output_type": "stream",
     "text": [
      "2\n",
      "[0, 0, 1, 2, 3, 4, 5, 6, 7]\n"
     ]
    }
   ],
   "source": [
    "numbers = [1,2,3,4,5,6,7]\n",
    "\n",
    "numbers.insert(4,0)\n",
    "numbers.insert(6,0)\n",
    "\n",
    "numbers.sort()\n",
    "print(numbers.count(0))\n",
    "print(numbers)"
   ]
  },
  {
   "cell_type": "code",
   "execution_count": 168,
   "id": "6d3b1ffd-0c62-40ce-aa76-70762adc3341",
   "metadata": {},
   "outputs": [
    {
     "name": "stdout",
     "output_type": "stream",
     "text": [
      "[1, 2, 3, 5, 6, 7]\n"
     ]
    }
   ],
   "source": [
    "numbers = [1,2,3,4,5,6,7]\n",
    "\n",
    "numbers.remove(4)\n",
    "print(numbers)"
   ]
  },
  {
   "cell_type": "code",
   "execution_count": 186,
   "id": "c75362bc-26bc-47ff-b6a6-4ced234f2474",
   "metadata": {},
   "outputs": [
    {
     "name": "stdout",
     "output_type": "stream",
     "text": [
      "[7, 6, 5, 3, 2, 1]\n"
     ]
    }
   ],
   "source": [
    "numbers = [1,2,3,4,5,6,7]\n",
    "\n",
    "numbers.remove(4)\n",
    "numbers.reverse()\n",
    "print(numbers)"
   ]
  },
  {
   "cell_type": "code",
   "execution_count": 189,
   "id": "40f16287-134d-481d-ba43-35b7db8fb20f",
   "metadata": {},
   "outputs": [
    {
     "name": "stdout",
     "output_type": "stream",
     "text": [
      "[1, 2, 3, 4, 5, 6, 7]\n",
      "[1, 2, 3, 5, 6, 7]\n",
      "7\n",
      "[1, 2, 3, 5, 6]\n",
      "[]\n"
     ]
    }
   ],
   "source": [
    "numbers = [1,2,3,4,5,6,7]\n",
    "\n",
    "print(numbers)\n",
    "numbers.remove(4)\n",
    "print(numbers)\n",
    "print(numbers.pop())\n",
    "print(numbers)\n",
    "numbers.clear()\n",
    "print(numbers)"
   ]
  },
  {
   "cell_type": "code",
   "execution_count": 173,
   "id": "7fa5681b-24b1-439c-a878-a403cd62b731",
   "metadata": {},
   "outputs": [
    {
     "name": "stdout",
     "output_type": "stream",
     "text": [
      "7\n"
     ]
    }
   ],
   "source": [
    "sentence = \"중요한 것은 꺾이지 않는 마음\"\n",
    "\n",
    "print(sentence.index(\"꺾\"))"
   ]
  },
  {
   "cell_type": "code",
   "execution_count": 174,
   "id": "6de5336e-d781-42f8-a5a2-756f658c3c0f",
   "metadata": {},
   "outputs": [
    {
     "name": "stdout",
     "output_type": "stream",
     "text": [
      "9\n"
     ]
    }
   ],
   "source": [
    "sentence = \"중요한! 것은! 꺾이지! 않는! 마음!\"\n",
    "\n",
    "print(sentence.index(\"꺾\"))"
   ]
  },
  {
   "cell_type": "code",
   "execution_count": 175,
   "id": "29ced5d5-651a-40a9-9196-a0159e2db458",
   "metadata": {},
   "outputs": [
    {
     "name": "stdout",
     "output_type": "stream",
     "text": [
      "5\n"
     ]
    }
   ],
   "source": [
    "sentence = \"중요한! 것은! 꺾이지! 않는! 마음!\"\n",
    "\n",
    "print(sentence.count(\"!\"))"
   ]
  },
  {
   "cell_type": "code",
   "execution_count": 188,
   "id": "1f5919a6-1c7a-446d-b26d-8e033b54cb2b",
   "metadata": {},
   "outputs": [
    {
     "ename": "AttributeError",
     "evalue": "'str' object has no attribute 'clear'",
     "output_type": "error",
     "traceback": [
      "\u001b[1;31m---------------------------------------------------------------------------\u001b[0m",
      "\u001b[1;31mAttributeError\u001b[0m                            Traceback (most recent call last)",
      "\u001b[1;32m~\\AppData\\Local\\Temp\\ipykernel_15480\\1254829126.py\u001b[0m in \u001b[0;36m<module>\u001b[1;34m\u001b[0m\n\u001b[0;32m      1\u001b[0m \u001b[0msentence\u001b[0m \u001b[1;33m=\u001b[0m \u001b[1;34m\"중요한! 것은! 꺾이지! 않는! 마음!\"\u001b[0m\u001b[1;33m\u001b[0m\u001b[1;33m\u001b[0m\u001b[0m\n\u001b[1;32m----> 2\u001b[1;33m \u001b[0msentence\u001b[0m\u001b[1;33m.\u001b[0m\u001b[0mclear\u001b[0m\u001b[1;33m(\u001b[0m\u001b[1;33m)\u001b[0m\u001b[1;33m\u001b[0m\u001b[1;33m\u001b[0m\u001b[0m\n\u001b[0m\u001b[0;32m      3\u001b[0m \u001b[0mprint\u001b[0m\u001b[1;33m(\u001b[0m\u001b[0msentence\u001b[0m\u001b[1;33m)\u001b[0m\u001b[1;33m\u001b[0m\u001b[1;33m\u001b[0m\u001b[0m\n",
      "\u001b[1;31mAttributeError\u001b[0m: 'str' object has no attribute 'clear'"
     ]
    }
   ],
   "source": [
    "sentence = \"중요한! 것은! 꺾이지! 않는! 마음!\"\n",
    "sentence.clear()\n",
    "print(sentence)"
   ]
  },
  {
   "cell_type": "code",
   "execution_count": 192,
   "id": "923a914b-657e-4f68-94c5-114471a250f8",
   "metadata": {},
   "outputs": [
    {
     "name": "stdout",
     "output_type": "stream",
     "text": [
      "<class 'list'>\n"
     ]
    }
   ],
   "source": [
    "mylist = [1,2,3]\n",
    "\n",
    "\n",
    "result1 = tuple(mylist)\n",
    "\n",
    "print(type(mylist))"
   ]
  },
  {
   "cell_type": "code",
   "execution_count": 193,
   "id": "d2ad0327-4730-493a-9099-20f641f043a6",
   "metadata": {},
   "outputs": [
    {
     "name": "stdout",
     "output_type": "stream",
     "text": [
      "text1\n",
      "text2\n"
     ]
    }
   ],
   "source": [
    "s1, s2 = \"text1\", \"text2\"\n",
    "print(s1)\n",
    "print(s2)"
   ]
  },
  {
   "cell_type": "code",
   "execution_count": 199,
   "id": "b1c9364c-8f4c-4c8c-ac6b-5c49b7b469cc",
   "metadata": {},
   "outputs": [
    {
     "name": "stdin",
     "output_type": "stream",
     "text": [
      "Message 11111\n"
     ]
    },
    {
     "name": "stdout",
     "output_type": "stream",
     "text": [
      "input_value: 11111 \n",
      "type: <class 'str'>\n"
     ]
    }
   ],
   "source": [
    "input_value = input(\"Message\")\n",
    "\n",
    "print(\"input_value:\", input_value, \"\\ntype:\", type(input_value))"
   ]
  },
  {
   "cell_type": "code",
   "execution_count": 201,
   "id": "94495ca8-719e-4f35-b421-1dd0435859fd",
   "metadata": {},
   "outputs": [
    {
     "name": "stdout",
     "output_type": "stream",
     "text": [
      "input_value: 11111.0 \n",
      "type: <class 'float'>\n"
     ]
    }
   ],
   "source": [
    "input_value = float(input_value)\n",
    "\n",
    "print(\"input_value:\", input_value, \"\\ntype:\", type(input_value))"
   ]
  },
  {
   "cell_type": "code",
   "execution_count": 203,
   "id": "5235a2dd-370b-4574-a13e-741ade325151",
   "metadata": {},
   "outputs": [
    {
     "name": "stdin",
     "output_type": "stream",
     "text": [
      "정수를 입력해주세요: 1234\n"
     ]
    },
    {
     "name": "stdout",
     "output_type": "stream",
     "text": [
      "1234.0\n"
     ]
    }
   ],
   "source": [
    "input_value4 = float(input(\"정수를 입력해주세요:\"))\n",
    "print(input_value4)"
   ]
  },
  {
   "cell_type": "code",
   "execution_count": 204,
   "id": "cf1c3387-9b21-4d8e-a57a-b873c35441cb",
   "metadata": {},
   "outputs": [
    {
     "name": "stdin",
     "output_type": "stream",
     "text": [
      "정수를 입력해주세요: 1234\n"
     ]
    },
    {
     "name": "stdout",
     "output_type": "stream",
     "text": [
      "1234\n"
     ]
    }
   ],
   "source": [
    "input_value4 = int(input(\"정수를 입력해주세요:\"))\n",
    "print(input_value4)"
   ]
  },
  {
   "cell_type": "code",
   "execution_count": 210,
   "id": "0735de26-a36b-41fa-a5de-61a5880332e6",
   "metadata": {},
   "outputs": [
    {
     "name": "stdin",
     "output_type": "stream",
     "text": [
      "이름을 입력하시오: 엔코아\n"
     ]
    },
    {
     "name": "stdout",
     "output_type": "stream",
     "text": [
      "엔코아 씨, 안녕하세요?\n",
      "파이썬에 오신 것을 환영합니다.\n"
     ]
    },
    {
     "name": "stdin",
     "output_type": "stream",
     "text": [
      "첫 번째 정수를 입력하세요: 300\n",
      "두 번째 정수를 입력하세요: 400\n"
     ]
    },
    {
     "name": "stdout",
     "output_type": "stream",
     "text": [
      "300 과 400 의 합은 700 입니다.\n"
     ]
    }
   ],
   "source": [
    "input_name = input(\"이름을 입력하시오:\")\n",
    "print(input_name,\"씨, 안녕하세요?\\n파이썬에 오신 것을 환영합니다.\")\n",
    "\n",
    "input_number1 = int(input(\"첫 번째 정수를 입력하세요:\"))\n",
    "input_number2 = int(input(\"두 번째 정수를 입력하세요:\"))\n",
    "print(input_number1,\"과\",input_number2,\"의 합은\",(input_number1 + input_number2),\"입니다.\")"
   ]
  },
  {
   "cell_type": "code",
   "execution_count": 4,
   "id": "a1606271-a425-4f0c-99c7-f10835bb4a13",
   "metadata": {},
   "outputs": [
    {
     "name": "stdin",
     "output_type": "stream",
     "text": [
      "경기장은 어디입니까? r\n",
      "이긴 팀은 어디입니까? d\n",
      "진 팀은 어디입니까? f\n",
      "우수 선수는 누구입니까? g\n",
      "스코어는 몇대몇입니까? h\n"
     ]
    },
    {
     "name": "stdout",
     "output_type": "stream",
     "text": [
      "\n",
      "[속보] d 가 h 로 승리...\n",
      "오늘 r 경기장에서 야구 경기가 있었습니다. d 와 f 는 치열한 공방전을 펼쳤습니다.\n",
      "이 경기에서 g 가 맹활약을 했습니다.\n",
      "그 끝내 d 가 f 를 h 로 승리하였습니다.\n"
     ]
    }
   ],
   "source": [
    "stadium = input(\"경기장은 어디입니까?\")\n",
    "team_won = input(\"이긴 팀은 어디입니까?\")\n",
    "team_lose =input(\"진 팀은 어디입니까?\")\n",
    "player = input(\"우수 선수는 누구입니까?\")\n",
    "score =input(\"스코어는 몇대몇입니까?\")\n",
    "\n",
    "print(\"\\n[속보]\",team_won,\"가\",score,\"로 승리...\\n오늘\",stadium,\"경기장에서 야구 경기가 있었습니다.\",team_won,\"와\",team_lose,\"는 치열한 공방전을 펼쳤습니다.\\n이 경기에서\",player,\"가 맹활약을 했습니다.\\n그 끝내\",team_won,\"가\",team_lose,\"를\",score,\"로 승리하였습니다.\")"
   ]
  },
  {
   "cell_type": "code",
   "execution_count": 7,
   "id": "f143e3dc-d3b2-4eff-9238-4e247c9a1769",
   "metadata": {},
   "outputs": [
    {
     "name": "stdout",
     "output_type": "stream",
     "text": [
      "['1902', '590', '5506']\n",
      "['19', '2.59', '.55', '6']\n",
      "<class 'list'>\n"
     ]
    }
   ],
   "source": [
    "result = '1902.590.5506'.split('.')\n",
    "print(result)\n",
    "\n",
    "\n",
    "result = '1902.590.5506'.split('0')\n",
    "print(result)\n",
    "print(type(result))"
   ]
  },
  {
   "cell_type": "code",
   "execution_count": 17,
   "id": "59de767b-4281-4e76-8265-a8d7d25eef66",
   "metadata": {},
   "outputs": [
    {
     "name": "stdin",
     "output_type": "stream",
     "text": [
      "hh:mm:ss의 형태로 시간을 입력해주세요 16:13:15\n"
     ]
    },
    {
     "name": "stdout",
     "output_type": "stream",
     "text": [
      "실행결과:\n",
      "시: 16 \n",
      "분: 13 \n",
      "초: 15\n"
     ]
    }
   ],
   "source": [
    "time = input(\"hh:mm:ss의 형태로 시간을 입력해주세요\")\n",
    "\n",
    "print(\"실행결과:\"\n",
    "\"\\n시:\",time[:2], \n",
    "\"\\n분:\",time[3:5],\n",
    "\"\\n초:\",time[6:8])"
   ]
  },
  {
   "cell_type": "code",
   "execution_count": 13,
   "id": "f2098c9f-6c07-48fd-972f-d35c4d9ecb37",
   "metadata": {},
   "outputs": [
    {
     "name": "stdin",
     "output_type": "stream",
     "text": [
      "hh:mm:ss의 형태로 시간을 입력해주세요 16:30:15\n"
     ]
    },
    {
     "name": "stdout",
     "output_type": "stream",
     "text": [
      "실행결과:\n",
      "시: 16\n",
      "분: 30\n",
      "초: 15\n"
     ]
    }
   ],
   "source": [
    "time = input(\"hh:mm:ss의 형태로 시간을 입력해주세요\")\n",
    "\n",
    "print(\"실행결과:\")\n",
    "print(\"시:\",time[:2]) \n",
    "print(\"분:\",time[3:5])\n",
    "print(\"초:\",time[6:8])"
   ]
  },
  {
   "cell_type": "code",
   "execution_count": 18,
   "id": "bb39d220-f077-4e15-9680-b39bbda586f6",
   "metadata": {},
   "outputs": [
    {
     "name": "stdin",
     "output_type": "stream",
     "text": [
      "hh:mm:ss의 형태로 시간을 입력해주세요 15:30:45\n"
     ]
    },
    {
     "name": "stdout",
     "output_type": "stream",
     "text": [
      "실행결과:\n",
      "시: 15\n",
      "분: 30\n",
      "초: 45\n"
     ]
    }
   ],
   "source": [
    "text = input(\"hh:mm:ss의 형태로 시간을 입력해주세요\")\n",
    "time = text.split(\":\")\n",
    "\n",
    "print(\"실행결과:\")\n",
    "print(\"시:\",time[0]) \n",
    "print(\"분:\",time[1])\n",
    "print(\"초:\",time[2])"
   ]
  },
  {
   "cell_type": "code",
   "execution_count": 20,
   "id": "36a0d776-40a7-4731-a538-cf78050bf847",
   "metadata": {},
   "outputs": [
    {
     "name": "stdin",
     "output_type": "stream",
     "text": [
      "hh:mm:ss의 형태로 시간을 입력해주세요 16:40:20\n"
     ]
    },
    {
     "name": "stdout",
     "output_type": "stream",
     "text": [
      "실행결과: \n",
      "시: 16 \n",
      "분: 40 \n",
      "초: 20\n"
     ]
    }
   ],
   "source": [
    "text = input(\"hh:mm:ss의 형태로 시간을 입력해주세요\")\n",
    "time = text.split(\":\")\n",
    "\n",
    "print(\"실행결과:\",\n",
    "\"\\n시:\",time[0], \n",
    "\"\\n분:\",time[1],\n",
    "\"\\n초:\",time[2])"
   ]
  },
  {
   "cell_type": "code",
   "execution_count": 24,
   "id": "9fb994a1-80fd-4c16-9610-ac9dcfecb191",
   "metadata": {},
   "outputs": [
    {
     "name": "stdout",
     "output_type": "stream",
     "text": [
      "[1, 3, 8, 6]\n"
     ]
    }
   ],
   "source": [
    "n = [1.53,3.8,8.02,6.23]\n",
    "n = list(map(int,n))\n",
    "n.sort\n",
    "\n",
    "print(n)"
   ]
  },
  {
   "cell_type": "code",
   "execution_count": 34,
   "id": "0c60b9e2-fffc-4028-9a0e-231e6372a043",
   "metadata": {},
   "outputs": [
    {
     "name": "stdin",
     "output_type": "stream",
     "text": [
      "국어, 영어, 수학, 과학 점수를 입력해주세요. 100, 96, 98, 100\n"
     ]
    },
    {
     "ename": "ValueError",
     "evalue": "invalid literal for int() with base 10: '100, 96, 98, 100'",
     "output_type": "error",
     "traceback": [
      "\u001b[1;31m---------------------------------------------------------------------------\u001b[0m",
      "\u001b[1;31mValueError\u001b[0m                                Traceback (most recent call last)",
      "\u001b[1;32m~\\AppData\\Local\\Temp\\ipykernel_16344\\3376731470.py\u001b[0m in \u001b[0;36m<module>\u001b[1;34m\u001b[0m\n\u001b[1;32m----> 1\u001b[1;33m \u001b[0mkor\u001b[0m\u001b[1;33m,\u001b[0m \u001b[0meng\u001b[0m\u001b[1;33m,\u001b[0m \u001b[0mmat\u001b[0m\u001b[1;33m,\u001b[0m \u001b[0msci\u001b[0m \u001b[1;33m=\u001b[0m \u001b[0mint\u001b[0m\u001b[1;33m(\u001b[0m\u001b[0minput\u001b[0m\u001b[1;33m(\u001b[0m\u001b[1;34m\"국어, 영어, 수학, 과학 점수를 입력해주세요.\"\u001b[0m\u001b[1;33m)\u001b[0m\u001b[1;33m)\u001b[0m\u001b[1;33m.\u001b[0m\u001b[0msplit\u001b[0m\u001b[1;33m(\u001b[0m\u001b[1;34m','\u001b[0m\u001b[1;33m)\u001b[0m\u001b[1;33m\u001b[0m\u001b[1;33m\u001b[0m\u001b[0m\n\u001b[0m\u001b[0;32m      2\u001b[0m \u001b[1;33m\u001b[0m\u001b[0m\n\u001b[0;32m      3\u001b[0m \u001b[0mprint\u001b[0m\u001b[1;33m(\u001b[0m\u001b[0mkor\u001b[0m\u001b[1;33m,\u001b[0m \u001b[0meng\u001b[0m\u001b[1;33m,\u001b[0m \u001b[0mmat\u001b[0m\u001b[1;33m,\u001b[0m \u001b[0msci\u001b[0m\u001b[1;33m)\u001b[0m\u001b[1;33m\u001b[0m\u001b[1;33m\u001b[0m\u001b[0m\n",
      "\u001b[1;31mValueError\u001b[0m: invalid literal for int() with base 10: '100, 96, 98, 100'"
     ]
    }
   ],
   "source": [
    "kor, eng, mat, sci = int(input(\"국어, 영어, 수학, 과학 점수를 입력해주세요.\")).split(',')\n",
    "\n",
    "print(kor, eng, mat, sci)"
   ]
  },
  {
   "cell_type": "code",
   "execution_count": 44,
   "id": "e1e36dc1-07f7-4604-9677-7b529cdb8270",
   "metadata": {},
   "outputs": [
    {
     "name": "stdin",
     "output_type": "stream",
     "text": [
      "국어, 영어, 수학, 과학 점수를 입력해주세요. 96,100,98,100\n"
     ]
    },
    {
     "name": "stdout",
     "output_type": "stream",
     "text": [
      "실행 결과:\n",
      "평균 점수는 98.5 입니다.\n"
     ]
    }
   ],
   "source": [
    "scores = input(\"국어, 영어, 수학, 과학 점수를 입력해주세요.\")\n",
    "scores = scores.split(',')\n",
    "\n",
    "score = list(map(int,scores))\n",
    "avr_score = (score[0]+score[1]+score[2]+score[3])/4\n",
    "print(\"실행 결과:\"\n",
    "\"\\n평균 점수는\",avr_score,\"입니다.\")"
   ]
  },
  {
   "cell_type": "code",
   "execution_count": 53,
   "id": "2b793cfe-12e2-4895-a256-54971f08d882",
   "metadata": {},
   "outputs": [
    {
     "name": "stdin",
     "output_type": "stream",
     "text": [
      "국어, 영어, 수학, 과학 점수를 입력해주세요. 65,95,84,26\n"
     ]
    },
    {
     "name": "stdout",
     "output_type": "stream",
     "text": [
      "('65', '95', '84')\n"
     ]
    }
   ],
   "source": [
    "kor, eng, mat, sci = input(\"국어, 영어, 수학, 과학 점수를 입력해주세요.\").split(',')\n",
    "scores = kor, eng, mat, sci\n",
    "\n",
    "print(scores[0:3])\n",
    "#score = list(map(int,scores))\n",
    "\n",
    "#avg_score = (score[0]+score[1]+score[2]+score[3])/4\n",
    "#print(\"실행 결과:\"\n",
    "#\"\\n평균 점수는\",avg_score,\"입니다.\")"
   ]
  },
  {
   "cell_type": "code",
   "execution_count": 55,
   "id": "af9f6707-fe21-4972-8ea1-b669b9f35911",
   "metadata": {},
   "outputs": [
    {
     "name": "stdin",
     "output_type": "stream",
     "text": [
      "국어, 영어, 수학, 과학 점수를 입력해주세요. 98,100,96,100\n"
     ]
    },
    {
     "name": "stdout",
     "output_type": "stream",
     "text": [
      "실행 결과:\n",
      "평균 점수는 98.5 입니다.\n"
     ]
    }
   ],
   "source": [
    "kor, eng, mat, sci = list(map(int, input(\"국어, 영어, 수학, 과학 점수를 입력해주세요.\").split(',')))\n",
    "# kor, eng, mat, sci = ['98','96','100','100']\n",
    "# ['98','96','100','100']\n",
    "\n",
    "# scores = kor, eng, mat, sci\n",
    "# scores = ('98','96','100','100')\n",
    "                          \n",
    "# score = list(map(int,scores))\n",
    "\n",
    "# avg_score = (score[0]+score[1]+score[2]+score[3])/4\n",
    "\n",
    "avg_score = (kor + eng + mat + sci) / 4\n",
    "print(\"실행 결과:\"\n",
    "\"\\n평균 점수는\",avg_score,\"입니다.\")"
   ]
  },
  {
   "cell_type": "code",
   "execution_count": 1,
   "id": "53e7b39d-178d-43aa-a666-a4db67ba8be5",
   "metadata": {},
   "outputs": [
    {
     "name": "stdin",
     "output_type": "stream",
     "text": [
      "정수 외에 다른 값을 입력해보세요. 5.5\n"
     ]
    },
    {
     "name": "stdout",
     "output_type": "stream",
     "text": [
      "<class 'str'> 5.5\n"
     ]
    }
   ],
   "source": [
    "a = input(\"정수 외에 다른 값을 입력해보세요.\")\n",
    "\n",
    "print(type(a),a)"
   ]
  },
  {
   "cell_type": "code",
   "execution_count": 10,
   "id": "2f8040bd-cb19-4cea-86b5-fb3bb7fa7b24",
   "metadata": {},
   "outputs": [
    {
     "name": "stdout",
     "output_type": "stream",
     "text": [
      "Hi.\n",
      "Hello\n",
      "Hey:)"
     ]
    }
   ],
   "source": [
    "print(\"Hi.\",\"Hello\",\"Hey\", sep=\"\\n\", end=\":)\")"
   ]
  },
  {
   "cell_type": "code",
   "execution_count": 13,
   "id": "c0e1f8bf-6cc8-49e9-8a99-a07b8691718b",
   "metadata": {},
   "outputs": [
    {
     "name": "stdout",
     "output_type": "stream",
     "text": [
      "2023/2/15 10:19:35\n"
     ]
    }
   ],
   "source": [
    "y = '2023'\n",
    "m = '2'\n",
    "d = '15'\n",
    "hh = '10'\n",
    "mm = '19'\n",
    "ss = '35'\n",
    "\n",
    "print(y, m, d, sep='/', end=' ')\n",
    "print(hh, mm, ss, sep=':')"
   ]
  },
  {
   "cell_type": "code",
   "execution_count": 9,
   "id": "0138e0e1-980c-4c2b-bf49-1ad56b1ed024",
   "metadata": {},
   "outputs": [
    {
     "name": "stdin",
     "output_type": "stream",
     "text": [
      "사과와 귤을 몇개 드릴까요? 10,20\n"
     ]
    },
    {
     "name": "stdout",
     "output_type": "stream",
     "text": [
      "총 가격은 14000원 입니다.\n"
     ]
    }
   ],
   "source": [
    "a, t = map(int,input(\"사과와 귤을 몇개 드릴까요?\").split(','))\n",
    "price = a*1000 + t*200\n",
    "\n",
    "print(\"총 가격은 \",price,\"원 입니다.\", sep='')"
   ]
  },
  {
   "cell_type": "code",
   "execution_count": 14,
   "id": "11c7baaf-3ebe-409a-946a-ede69a509e4b",
   "metadata": {},
   "outputs": [
    {
     "name": "stdout",
     "output_type": "stream",
     "text": [
      "1 2 3 4\n",
      "1, 2 3 4\n"
     ]
    }
   ],
   "source": [
    "print(\"{} {} {} {}\".format(1,2,3,4))\n",
    "print(\"{}, {} {} {}\".format(1,2,3,4))"
   ]
  },
  {
   "cell_type": "code",
   "execution_count": 18,
   "id": "c96b1dcd-0ac4-45b8-96fc-3b4e50e0bb00",
   "metadata": {},
   "outputs": [
    {
     "name": "stdout",
     "output_type": "stream",
     "text": [
      "오늘은\n",
      "15일 입니다.\n",
      "\n"
     ]
    }
   ],
   "source": [
    "import time\n",
    "\n",
    "today = \"\"\"오늘은\n",
    "{}일 입니다.\n",
    "\"\"\".format(time.localtime().tm_mday)\n",
    "\n",
    "print(today)"
   ]
  },
  {
   "cell_type": "code",
   "execution_count": 23,
   "id": "cb69df68-60a9-411c-93ad-1bb7b8f1e968",
   "metadata": {},
   "outputs": [
    {
     "name": "stdout",
     "output_type": "stream",
     "text": [
      "안녕안녕 혜신, 1, 2)아\n"
     ]
    }
   ],
   "source": [
    "a = \"안녕안녕 {}, {}, {}아\".format(\"혜신\",\"1\",\"2)\")\n",
    "\n",
    "print(a)"
   ]
  },
  {
   "cell_type": "code",
   "execution_count": 30,
   "id": "4e8c582d-5022-4259-8af8-08f38ae4905b",
   "metadata": {},
   "outputs": [
    {
     "name": "stdout",
     "output_type": "stream",
     "text": [
      "왜 은행은 주말에 안 할까\n"
     ]
    }
   ],
   "source": [
    "print(f\"{'왜 은행은 주말에 안 할까'}\")"
   ]
  },
  {
   "cell_type": "code",
   "execution_count": 61,
   "id": "4f32ca73-1b15-4849-a9bb-0ce0960bffc5",
   "metadata": {},
   "outputs": [
    {
     "name": "stdout",
     "output_type": "stream",
     "text": [
      "땡\n"
     ]
    }
   ],
   "source": [
    "a = \"얍얍얍\"\n",
    "\n",
    "if type(a) is int:\n",
    "    print(\"정수입니다.\")\n",
    "elif type(a) is float:\n",
    "    print(\"실수입니다.\")\n",
    "else:\n",
    "    print(\"땡\")"
   ]
  },
  {
   "cell_type": "code",
   "execution_count": 83,
   "id": "146975e7-48e0-4cb3-a2b8-835a550b23c0",
   "metadata": {},
   "outputs": [
    {
     "name": "stdin",
     "output_type": "stream",
     "text": [
      "아이디를 입력하세요. cindy\n",
      "회원 등급을 입력해주세요 8\n"
     ]
    },
    {
     "name": "stdout",
     "output_type": "stream",
     "text": [
      "제한적인 권한을 갖습니다.\n"
     ]
    }
   ],
   "source": [
    "ID = input(\"아이디를 입력하세요.\")\n",
    "\n",
    "if ID == 'admin':\n",
    "    print(\"최고 관리자, 모든 권한을 갖습니다.\")\n",
    "elif ID != 'admin':\n",
    "    ID = int(input(\"회원 등급을 입력해주세요\"))\n",
    "    ID >= 1 and ID <=3\n",
    "    print(\"제한적인 권한을 갖습니다.\")\n",
    "else:\n",
    "    print(\"권한이 없습니다.\")"
   ]
  },
  {
   "cell_type": "code",
   "execution_count": 91,
   "id": "de78a784-ef77-45f8-bfad-d5080765bdc3",
   "metadata": {},
   "outputs": [
    {
     "name": "stdin",
     "output_type": "stream",
     "text": [
      "아이디를 입력하세요. cindy\n",
      "회원 등급을 입력해주세요 3\n"
     ]
    },
    {
     "name": "stdout",
     "output_type": "stream",
     "text": [
      "제한적인 권한을 갖습니다.\n"
     ]
    }
   ],
   "source": [
    "ID = input(\"아이디를 입력하세요.\")\n",
    "\n",
    "if ID == 'admin':\n",
    "    print(\"최고 관리자, 모든 권한을 갖습니다.\")\n",
    "else:\n",
    "    grade = int(input(\"회원 등급을 입력해주세요\"))\n",
    "    if grade <= 3 and grade >=1:\n",
    "        print(\"제한적인 권한을 갖습니다.\")\n",
    "    else:\n",
    "        print(\"권한이 없습니다.\")"
   ]
  },
  {
   "cell_type": "code",
   "execution_count": 84,
   "id": "628bc668-a55d-4047-8d9c-92d966e32da1",
   "metadata": {},
   "outputs": [
    {
     "name": "stdin",
     "output_type": "stream",
     "text": [
      "아이디를 입력하세요: cindy\n",
      "님등몇? 4\n"
     ]
    },
    {
     "name": "stdout",
     "output_type": "stream",
     "text": [
      "권한이 없습니다.\n"
     ]
    }
   ],
   "source": [
    "id = input(\"아이디를 입력하세요:\")\n",
    "if id == \"admin\":\n",
    "    print(\"최고관리자, 모든 권한을 갖습니다.\")\n",
    "else:\n",
    "    grade = int(input(\"님등몇?\"))\n",
    "    if 1<=grade<=3:\n",
    "        print(\"제한적인 권한을 갖습니다.\")\n",
    "    else:\n",
    "        print(\"권한이 없습니다.\")"
   ]
  },
  {
   "cell_type": "code",
   "execution_count": 96,
   "id": "d31d5097-2764-49b0-ad36-3cac7060173d",
   "metadata": {},
   "outputs": [
    {
     "name": "stdout",
     "output_type": "stream",
     "text": [
      "\n"
     ]
    }
   ],
   "source": [
    "a = \"\"\n",
    "\n",
    "if type(a) is int:\n",
    "    print(\"정수입니다.\")\n",
    "pass\n",
    "\n",
    "print(a)"
   ]
  },
  {
   "cell_type": "code",
   "execution_count": 99,
   "id": "55998834-1a47-4852-8bdc-c8e40dc8e51f",
   "metadata": {},
   "outputs": [],
   "source": [
    "a = \"\"\n",
    "\n",
    "if type(a) is int:\n",
    "    print(\"정수입니다.\")"
   ]
  },
  {
   "cell_type": "code",
   "execution_count": 110,
   "id": "82486e47-420e-4894-a45c-de6c9ba1131a",
   "metadata": {},
   "outputs": [
    {
     "name": "stdin",
     "output_type": "stream",
     "text": [
      "자연수 하나 입력해주세요: 60\n"
     ]
    },
    {
     "name": "stdout",
     "output_type": "stream",
     "text": [
      "10\n"
     ]
    }
   ],
   "source": [
    "#내가 쓴 코드 \n",
    "n = int(input(\"자연수 하나 입력해주세요:\"))\n",
    "result = n-50\n",
    "\n",
    "if result < 0:\n",
    "    print(\"0\")\n",
    "else:\n",
    "    print(result)"
   ]
  },
  {
   "cell_type": "code",
   "execution_count": 111,
   "id": "6633823f-58aa-4118-be31-f973bd34f9b2",
   "metadata": {},
   "outputs": [
    {
     "name": "stdin",
     "output_type": "stream",
     "text": [
      "자연수 하나 입력해주세요: 62\n"
     ]
    },
    {
     "name": "stdout",
     "output_type": "stream",
     "text": [
      "12\n"
     ]
    }
   ],
   "source": [
    "# 강사님 코드\n",
    "n = int(input(\"자연수 하나 입력해주세요:\"))\n",
    "result = n-50\n",
    "\n",
    "if result < 0:\n",
    "    result = 0\n",
    "\n",
    "print(result)"
   ]
  },
  {
   "cell_type": "code",
   "execution_count": 4,
   "id": "2cc2200f-91e5-486d-a93a-da8e90bbebdd",
   "metadata": {},
   "outputs": [
    {
     "name": "stdin",
     "output_type": "stream",
     "text": [
      "자연수 하나 입력해주세요 6\n"
     ]
    },
    {
     "name": "stdout",
     "output_type": "stream",
     "text": [
      "짝수입니다.\n"
     ]
    }
   ],
   "source": [
    "n = int(input(\"자연수 하나 입력해주세요\"))\n",
    "\n",
    "if n%2==0:\n",
    "    print(\"짝수입니다.\")\n",
    "else:\n",
    "    print(\"홀수입니다.\")"
   ]
  },
  {
   "cell_type": "code",
   "execution_count": 10,
   "id": "5e1c113e-0f0f-4170-9369-ce97df120314",
   "metadata": {},
   "outputs": [
    {
     "name": "stdin",
     "output_type": "stream",
     "text": [
      "소프트웨어 설계 점수를 입력하세요. 100\n",
      "소프트웨어 개발 점수를 입력하세요. 110\n",
      "데이터베이스 구축 점수를 입력하세요. 150\n",
      "프로그래밍 언어 활용 점수를 입력하세요. 150\n",
      "정보시스템 구축관리 점수를 입력하세요. 150\n"
     ]
    },
    {
     "name": "stdout",
     "output_type": "stream",
     "text": [
      "잘못된 점수입니다.\n"
     ]
    }
   ],
   "source": [
    "soft1 = int(input(\"소프트웨어 설계 점수를 입력하세요.\"))\n",
    "soft2 = int(input(\"소프트웨어 개발 점수를 입력하세요.\"))\n",
    "data = int(input(\"데이터베이스 구축 점수를 입력하세요.\"))\n",
    "pro = int(input(\"프로그래밍 언어 활용 점수를 입력하세요.\"))\n",
    "infor = int(input(\"정보시스템 구축관리 점수를 입력하세요.\"))\n",
    "\n",
    "if 0<soft1>100 or 0<soft2>100 or 0<data>100 or 0<pro>100 or 0<infor>100:\n",
    "        print(\"잘못된 점수입니다.\")\n",
    "else:\n",
    "    avg = (soft1+soft2+data+pro+infor)/5\n",
    "    if avg >= 60:\n",
    "        print(\"합격\")\n",
    "    else:\n",
    "        print(\"불합격\")"
   ]
  },
  {
   "cell_type": "code",
   "execution_count": 17,
   "id": "fb60a621-7814-4696-b5cd-e33674b6d5a7",
   "metadata": {},
   "outputs": [
    {
     "name": "stdin",
     "output_type": "stream",
     "text": [
      "현재 물의 온도를 입력해주세요. -2\n"
     ]
    },
    {
     "name": "stdout",
     "output_type": "stream",
     "text": [
      "고체로 예상됩니다.\n"
     ]
    }
   ],
   "source": [
    "water = int(input(\"현재 물의 온도를 입력해주세요.\"))\n",
    "\n",
    "if water>=100:\n",
    "    print(\"기체로 예상됩니다.\")\n",
    "elif 0<=water<100:\n",
    "    print(\"액체로 예상됩니다.\")\n",
    "else:\n",
    "    print(\"고체로 예상됩니다.\")"
   ]
  },
  {
   "cell_type": "code",
   "execution_count": 18,
   "id": "3f02b037-8e48-4f81-8b49-b03c543791d6",
   "metadata": {},
   "outputs": [
    {
     "name": "stdin",
     "output_type": "stream",
     "text": [
      "현재 물의 온도를 입력해주세요. 26.3\n"
     ]
    },
    {
     "name": "stdout",
     "output_type": "stream",
     "text": [
      "액체로 예상됩니다.\n"
     ]
    }
   ],
   "source": [
    "water = float(input(\"현재 물의 온도를 입력해주세요.\"))\n",
    "\n",
    "if water>=100:\n",
    "    print(\"기체로 예상됩니다.\")\n",
    "elif 0<=water<100:\n",
    "    print(\"액체로 예상됩니다.\")\n",
    "else:\n",
    "    print(\"고체로 예상됩니다.\")"
   ]
  },
  {
   "cell_type": "code",
   "execution_count": 21,
   "id": "f6fc9c5c-3d78-457a-8d72-e9010cb09f64",
   "metadata": {},
   "outputs": [
    {
     "name": "stdin",
     "output_type": "stream",
     "text": [
      "자신의 나이를 입력하세요: 2\n"
     ]
    },
    {
     "name": "stdout",
     "output_type": "stream",
     "text": [
      "무료입니다\n"
     ]
    }
   ],
   "source": [
    "age = int(input(\"자신의 나이를 입력하세요:\"))\n",
    "\n",
    "if age>19:\n",
    "    print(\"1500원\")\n",
    "elif 18>=age>12:\n",
    "    print(\"800원\")\n",
    "else:\n",
    "    print(\"무료입니다\")"
   ]
  },
  {
   "cell_type": "code",
   "execution_count": 21,
   "id": "78331f25-42e0-47d9-bb19-f54272adc1b9",
   "metadata": {},
   "outputs": [
    {
     "name": "stdin",
     "output_type": "stream",
     "text": [
      "자신의 나이를 입력하세요: 2\n"
     ]
    },
    {
     "name": "stdout",
     "output_type": "stream",
     "text": [
      "무료입니다\n"
     ]
    }
   ],
   "source": [
    "age = int(input(\"자신의 나이를 입력하세요:\"))\n",
    "\n",
    "if age>=19:\n",
    "    print(\"1500원\")\n",
    "elif 19>age>11:\n",
    "    print(\"1100원\")\n",
    "elif 12>age>5\n",
    "    print(\"800원\")\n",
    "else age<:\n",
    "    print(\"무료입니다\")"
   ]
  },
  {
   "cell_type": "code",
   "execution_count": 24,
   "id": "6fcb6422-0609-4034-a449-b47c0b47fd3e",
   "metadata": {},
   "outputs": [
    {
     "name": "stdin",
     "output_type": "stream",
     "text": [
      "발주 수량을 입력하세요: 900\n"
     ]
    },
    {
     "name": "stdout",
     "output_type": "stream",
     "text": [
      "900 개를 주문하셨습니다.\n"
     ]
    },
    {
     "ename": "AttributeError",
     "evalue": "'tuple' object has no attribute 'sep'",
     "output_type": "error",
     "traceback": [
      "\u001b[1;31m---------------------------------------------------------------------------\u001b[0m",
      "\u001b[1;31mAttributeError\u001b[0m                            Traceback (most recent call last)",
      "\u001b[1;32m~\\AppData\\Local\\Temp\\ipykernel_9012\\1141612045.py\u001b[0m in \u001b[0;36m<module>\u001b[1;34m\u001b[0m\n\u001b[0;32m      6\u001b[0m \u001b[1;33m\u001b[0m\u001b[0m\n\u001b[0;32m      7\u001b[0m     \u001b[0mprint\u001b[0m\u001b[1;33m(\u001b[0m\u001b[0mproduct\u001b[0m\u001b[1;33m,\u001b[0m\u001b[1;34m\"개를 주문하셨습니다.\"\u001b[0m\u001b[1;33m)\u001b[0m\u001b[1;33m\u001b[0m\u001b[1;33m\u001b[0m\u001b[0m\n\u001b[1;32m----> 8\u001b[1;33m     \u001b[0mprint\u001b[0m\u001b[1;33m(\u001b[0m\u001b[1;33m(\u001b[0m\u001b[1;34m\"적용 할인율은 \"\u001b[0m\u001b[1;33m,\u001b[0m\u001b[0mpercent\u001b[0m\u001b[1;33m,\u001b[0m\u001b[1;34m\"%입니다.\"\u001b[0m\u001b[1;33m)\u001b[0m\u001b[1;33m.\u001b[0m\u001b[0msep\u001b[0m\u001b[1;33m(\u001b[0m\u001b[1;34m''\u001b[0m\u001b[1;33m)\u001b[0m\u001b[1;33m)\u001b[0m\u001b[1;33m\u001b[0m\u001b[1;33m\u001b[0m\u001b[0m\n\u001b[0m\u001b[0;32m      9\u001b[0m     \u001b[0mprint\u001b[0m\u001b[1;33m(\u001b[0m\u001b[1;33m(\u001b[0m\u001b[1;34m\"총 발주 금액은 $\"\u001b[0m\u001b[1;33m,\u001b[0m\u001b[0mtotal_price\u001b[0m\u001b[1;33m,\u001b[0m\u001b[1;34m\"입니다.\"\u001b[0m\u001b[1;33m)\u001b[0m\u001b[1;33m.\u001b[0m\u001b[0msep\u001b[0m\u001b[1;33m(\u001b[0m\u001b[1;34m''\u001b[0m\u001b[1;33m)\u001b[0m\u001b[1;33m)\u001b[0m\u001b[1;33m\u001b[0m\u001b[1;33m\u001b[0m\u001b[0m\n\u001b[0;32m     10\u001b[0m \u001b[1;33m\u001b[0m\u001b[0m\n",
      "\u001b[1;31mAttributeError\u001b[0m: 'tuple' object has no attribute 'sep'"
     ]
    }
   ],
   "source": [
    "product = int(input(\"발주 수량을 입력하세요:\"))\n",
    "\n",
    "if product < 1000:\n",
    "    percent = 0\n",
    "    total_price = 10*product\n",
    "    \n",
    "    print(product,\"개를 주문하셨습니다.\", sep=\"\")\n",
    "    print(\"적용 할인율은\",percent,\"%입니다.\")\n",
    "    print(\"총 발주 금액은 $\",total_price,\"입니다.\")\n",
    "    \n",
    "elif 1000<= product <= 1500:\n",
    "    percent = 5\n",
    "    total_price = int(10*product*0.95)\n",
    "    \n",
    "    print(product,\"개를 주문하셨습니다.\")\n",
    "    print(\"적용 할인율은\",percent,\"%입니다.\")\n",
    "    print(\"총 발주 금액은 $\",total_price,\"입니다.\")\n",
    "    \n",
    "elif 1500< product <2000:\n",
    "    percent = 10\n",
    "    total_price = int(10*product*0.90)\n",
    "    \n",
    "    print(product,\"개를 주문하셨습니다.\")\n",
    "    print(\"적용 할인율은\",percent,\"%입니다.\")\n",
    "    print(\"총 발주 금액은 $\",total_price,\"입니다.\")\n",
    "\n",
    "else:\n",
    "    percent = 20\n",
    "    total_price = int(10*product*0.80)\n",
    "    \n",
    "    print(product,\"개를 주문하셨습니다.\")\n",
    "    print(\"적용 할인율은\",percent,\"%입니다.\")\n",
    "    print(\"총 발주 금액은 $\",total_price,\"입니다.\")\n"
   ]
  },
  {
   "cell_type": "code",
   "execution_count": 52,
   "id": "5f0373de-323b-457b-9df8-50a2eb5d5f1a",
   "metadata": {},
   "outputs": [
    {
     "name": "stdin",
     "output_type": "stream",
     "text": [
      "주민번호 뒷자리를 입력하세요: 5555522\n"
     ]
    },
    {
     "name": "stdout",
     "output_type": "stream",
     "text": [
      "잘못된 입력입니다.\n"
     ]
    }
   ],
   "source": [
    "number = input(\"주민번호 뒷자리를 입력하세요:\")\n",
    "\n",
    "if len(number) != 7:\n",
    "    print(\"자리수를 잘못 입력했습니다.\")\n",
    "    \n",
    "elif number[0] == '1' or number[0] =='3':\n",
    "    print(\"남자\")\n",
    "    \n",
    "elif number[0] == '2' or number[0] =='4':\n",
    "    print(\"여자\")\n",
    "    \n",
    "else:\n",
    "    print(\"잘못된 입력입니다.\")"
   ]
  },
  {
   "cell_type": "code",
   "execution_count": 69,
   "id": "71c67add-40b4-4da6-ba6b-f5c578ab62da",
   "metadata": {},
   "outputs": [
    {
     "name": "stdin",
     "output_type": "stream",
     "text": [
      "확인할 연도를 입력하세요: 2023\n"
     ]
    },
    {
     "name": "stdout",
     "output_type": "stream",
     "text": [
      "평년입니다.\n"
     ]
    }
   ],
   "source": [
    "year = int(input(\"확인할 연도를 입력하세요:\"))\n",
    "\n",
    "if year%100==0 and year%400!=0:\n",
    "    print(\"평년입니다.\")\n",
    "\n",
    "elif year%4==0:\n",
    "    print(\"윤년입니다.\")\n",
    "    \n",
    "else:\n",
    "    print(\"평년입니다.\")"
   ]
  },
  {
   "cell_type": "code",
   "execution_count": 72,
   "id": "ef0c512f-03bd-4e4a-bf38-6c8fd5bb5e13",
   "metadata": {},
   "outputs": [
    {
     "name": "stdin",
     "output_type": "stream",
     "text": [
      "확인할 연도를 입력하세요: 2000\n"
     ]
    },
    {
     "name": "stdout",
     "output_type": "stream",
     "text": [
      "평년입니다.\n"
     ]
    }
   ],
   "source": [
    "year = int(input(\"확인할 연도를 입력하세요:\"))\n",
    "\n",
    "if year % 4 == 0 and (year % 100 != 0 or year % 400 == 0):\n",
    "    print(\"평년입니다.\")\n",
    "\n",
    "else:\n",
    "    print(\"평년입니다.\")"
   ]
  }
 ],
 "metadata": {
  "kernelspec": {
   "display_name": "Python 3 (ipykernel)",
   "language": "python",
   "name": "python3"
  },
  "language_info": {
   "codemirror_mode": {
    "name": "ipython",
    "version": 3
   },
   "file_extension": ".py",
   "mimetype": "text/x-python",
   "name": "python",
   "nbconvert_exporter": "python",
   "pygments_lexer": "ipython3",
   "version": "3.9.13"
  }
 },
 "nbformat": 4,
 "nbformat_minor": 5
}
