{
 "cells": [
  {
   "cell_type": "code",
   "execution_count": 2,
   "id": "7bf093e8-cfa5-4bd7-a2f5-69ad1e1a2424",
   "metadata": {},
   "outputs": [
    {
     "name": "stdout",
     "output_type": "stream",
     "text": [
      "1 2 3 4 5 6 7 8 9 10 "
     ]
    }
   ],
   "source": [
    "for i in range(1,11):\n",
    "    print(i, end=\" \")"
   ]
  },
  {
   "cell_type": "code",
   "execution_count": 1,
   "id": "64b4cbe4-7732-4831-b710-805a5f87d36d",
   "metadata": {},
   "outputs": [
    {
     "name": "stdout",
     "output_type": "stream",
     "text": [
      "1 2 3 4 5 6 7 8 9 10 "
     ]
    }
   ],
   "source": [
    "i = 0\n",
    "while i <10:\n",
    "    i += 1\n",
    "    print(i, end=\" \")"
   ]
  },
  {
   "cell_type": "code",
   "execution_count": 9,
   "id": "2efb5eb6-a274-428e-8ead-b84b783c812b",
   "metadata": {},
   "outputs": [
    {
     "ename": "TypeError",
     "evalue": "tuple indices must be integers or slices, not tuple",
     "output_type": "error",
     "traceback": [
      "\u001b[1;31m---------------------------------------------------------------------------\u001b[0m",
      "\u001b[1;31mTypeError\u001b[0m                                 Traceback (most recent call last)",
      "\u001b[1;32m~\\AppData\\Local\\Temp\\ipykernel_11456\\2346606431.py\u001b[0m in \u001b[0;36m<module>\u001b[1;34m\u001b[0m\n\u001b[0;32m      2\u001b[0m \u001b[0mi\u001b[0m\u001b[1;33m=\u001b[0m\u001b[1;36m1\u001b[0m\u001b[1;33m\u001b[0m\u001b[1;33m\u001b[0m\u001b[0m\n\u001b[0;32m      3\u001b[0m \u001b[1;32mwhile\u001b[0m \u001b[0mi\u001b[0m \u001b[1;33m<=\u001b[0m \u001b[0mlen\u001b[0m\u001b[1;33m(\u001b[0m\u001b[0mclass_a\u001b[0m\u001b[1;33m)\u001b[0m\u001b[1;33m:\u001b[0m\u001b[1;33m\u001b[0m\u001b[1;33m\u001b[0m\u001b[0m\n\u001b[1;32m----> 4\u001b[1;33m     \u001b[0mi\u001b[0m \u001b[1;33m+=\u001b[0m \u001b[0mclass_a\u001b[0m\u001b[1;33m[\u001b[0m\u001b[1;36m0\u001b[0m\u001b[1;33m,\u001b[0m\u001b[0mlen\u001b[0m\u001b[1;33m(\u001b[0m\u001b[0mclass_a\u001b[0m\u001b[1;33m)\u001b[0m\u001b[1;33m]\u001b[0m\u001b[1;33m\u001b[0m\u001b[1;33m\u001b[0m\u001b[0m\n\u001b[0m\u001b[0;32m      5\u001b[0m     \u001b[0mprint\u001b[0m\u001b[1;33m(\u001b[0m\u001b[1;36m1\u001b[0m\u001b[1;33m)\u001b[0m\u001b[1;33m\u001b[0m\u001b[1;33m\u001b[0m\u001b[0m\n",
      "\u001b[1;31mTypeError\u001b[0m: tuple indices must be integers or slices, not tuple"
     ]
    }
   ],
   "source": [
    "class_a = (70, 60, 55, 75, 95, 90, 80, 80, 85, 100)\n",
    "i=1\n",
    "while i <= len(class_a):\n",
    "    i += class_a[0,len(class_a)]\n",
    "    print(1)"
   ]
  },
  {
   "cell_type": "code",
   "execution_count": 12,
   "id": "50792b9a-2c52-4a84-83da-3b8e5d7b0c44",
   "metadata": {},
   "outputs": [
    {
     "name": "stdout",
     "output_type": "stream",
     "text": [
      "79.0\n"
     ]
    }
   ],
   "source": [
    "class_a = (70, 60, 55, 75, 95, 90, 80, 80, 85, 100)\n",
    "total = 0\n",
    "i = 0\n",
    "while i < len(class_a):\n",
    "        total += class_a[i]\n",
    "        i += 1\n",
    "average = total / len(class_a)\n",
    "\n",
    "print(average)"
   ]
  },
  {
   "cell_type": "code",
   "execution_count": 12,
   "id": "bb73fd93-5c3a-4b48-b276-b5a55b21f083",
   "metadata": {},
   "outputs": [
    {
     "name": "stdout",
     "output_type": "stream",
     "text": [
      "79.0\n"
     ]
    }
   ],
   "source": [
    "class_a = (70, 60, 55, 75, 95, 90, 80, 80, 85, 100)\n",
    "total = 0\n",
    "i = 0\n",
    "while i < len(class_a):\n",
    "        total += class_a[i]\n",
    "        i += 1\n",
    "average = total / len(class_a)\n",
    "\n",
    "print(average)"
   ]
  },
  {
   "cell_type": "code",
   "execution_count": 3,
   "id": "7eef3476-e869-4590-8bb0-88f4fa0b54ee",
   "metadata": {},
   "outputs": [
    {
     "name": "stdout",
     "output_type": "stream",
     "text": [
      "5050\n"
     ]
    }
   ],
   "source": [
    "i = 0\n",
    "total = 0\n",
    "while True:\n",
    "    if i == 100:\n",
    "        break\n",
    "    i += 1    \n",
    "    total += i\n",
    "\n",
    "print(total)"
   ]
  },
  {
   "cell_type": "code",
   "execution_count": 10,
   "id": "9c324987-95f8-4c28-80cc-a356fc9580ac",
   "metadata": {},
   "outputs": [
    {
     "name": "stdout",
     "output_type": "stream",
     "text": [
      "5050\n"
     ]
    }
   ],
   "source": [
    "i = 0\n",
    "total = 0\n",
    "while True:\n",
    "    i += 1    \n",
    "    total += i\n",
    "    if i == 100:\n",
    "        break\n",
    "print(total)"
   ]
  },
  {
   "cell_type": "code",
   "execution_count": null,
   "id": "6288bea7-ecfc-4216-b2ec-75a7a9285b78",
   "metadata": {},
   "outputs": [],
   "source": [
    "while True:\n",
    "    input_value = input()"
   ]
  },
  {
   "cell_type": "code",
   "execution_count": 13,
   "id": "6886d109-4045-4eea-95df-f5c6ef95ea06",
   "metadata": {},
   "outputs": [
    {
     "name": "stdin",
     "output_type": "stream",
     "text": [
      "시작하는 정수 입력: 1\n",
      "끝나는 정수 입력 100\n"
     ]
    },
    {
     "name": "stdout",
     "output_type": "stream",
     "text": [
      "1부터 100까지의 합은 166650입니다.\n"
     ]
    }
   ],
   "source": [
    "# 내가 쓴 코드\n",
    "# for문\n",
    "\n",
    "n = int(input(\"시작하는 정수 입력:\"))\n",
    "m = int(input(\"끝나는 정수 입력\"))\n",
    "\n",
    "i = 0\n",
    "total = 0\n",
    "\n",
    "for i in range(m-n+1):\n",
    "    i += n\n",
    "    for j in range(i):\n",
    "        total += j\n",
    "\n",
    "\n",
    "print(f\"{n}부터 {m}까지의 합은 {total }입니다.\")"
   ]
  },
  {
   "cell_type": "code",
   "execution_count": 17,
   "id": "7c2c03dd-f417-41d2-833b-059bc1e7b788",
   "metadata": {},
   "outputs": [
    {
     "name": "stdin",
     "output_type": "stream",
     "text": [
      "시작하는 정수 입력: 1\n",
      "끝나는 정수 입력 100\n"
     ]
    },
    {
     "name": "stdout",
     "output_type": "stream",
     "text": [
      "1부터 100까지의 합은 5050입니다.\n"
     ]
    }
   ],
   "source": [
    "# 강사님 코드\n",
    "# for문\n",
    "\n",
    "n = int(input(\"시작하는 정수 입력:\"))\n",
    "m = int(input(\"끝나는 정수 입력\"))\n",
    "\n",
    "total = 0\n",
    "\n",
    "for i in range(n,m+1):\n",
    "        total += i\n",
    "\n",
    "print(f\"{n}부터 {m}까지의 합은 {total }입니다.\")"
   ]
  },
  {
   "cell_type": "code",
   "execution_count": 13,
   "id": "aff42b79-f076-43db-97e7-38b7e8e99755",
   "metadata": {},
   "outputs": [
    {
     "name": "stdin",
     "output_type": "stream",
     "text": [
      "시작하는 정수 입력: 1\n",
      "끝나는 정수 입력 100\n"
     ]
    },
    {
     "name": "stdout",
     "output_type": "stream",
     "text": [
      "1부터 100까지의 합은 166650입니다.\n"
     ]
    }
   ],
   "source": [
    "# 내가 쓴 코드\n",
    "#while문\n",
    "\n",
    "n = int(input(\"시작하는 정수 입력:\"))\n",
    "m = int(input(\"끝나는 정수 입력\"))\n",
    "\n",
    "i = 0\n",
    "total = 0\n",
    "\n",
    "while \n",
    "\n",
    "\n",
    "print(f\"{n}부터 {m}까지의 합은 {total }입니다.\")"
   ]
  },
  {
   "cell_type": "code",
   "execution_count": 18,
   "id": "f41dd4d4-943e-40e0-b2fa-94d60ce71b97",
   "metadata": {},
   "outputs": [
    {
     "name": "stdout",
     "output_type": "stream",
     "text": [
      "{'나': '피곤'}\n"
     ]
    }
   ],
   "source": [
    "key_value = {\"나\":\"피곤\"}\n",
    "print(key_value)"
   ]
  },
  {
   "cell_type": "code",
   "execution_count": 22,
   "id": "5b5b70cd-4b82-4ea7-b9ea-ffe4242ed55e",
   "metadata": {},
   "outputs": [
    {
     "name": "stdout",
     "output_type": "stream",
     "text": [
      "{1: 5}\n"
     ]
    }
   ],
   "source": [
    "key_value = {1:5}\n",
    "print(key_value)"
   ]
  },
  {
   "cell_type": "code",
   "execution_count": 34,
   "id": "e6f5e254-9fdb-4ea5-a73d-fbf2f34ef78e",
   "metadata": {},
   "outputs": [
    {
     "name": "stdin",
     "output_type": "stream",
     "text": [
      "과일 이름을 입력하세요. 사과\n"
     ]
    },
    {
     "name": "stdout",
     "output_type": "stream",
     "text": [
      "사과의 가격은 1000원 입니다.\n"
     ]
    }
   ],
   "source": [
    "search = input(\"과일 이름을 입력하세요.\")\n",
    "\n",
    "menu = {'사과':1000,'바나나':700,'오렌지':1500,'파인애플':2000}\n",
    "menu[search]\n",
    "\n",
    "print(f\"{search}의 가격은 {menu[search]}원 입니다.\")"
   ]
  },
  {
   "cell_type": "code",
   "execution_count": 38,
   "id": "55a9bd06-b2ad-4fdf-a77b-60b116fbb08d",
   "metadata": {},
   "outputs": [
    {
     "name": "stdin",
     "output_type": "stream",
     "text": [
      "과일 이름을 입력하세요. 체리\n"
     ]
    },
    {
     "name": "stdout",
     "output_type": "stream",
     "text": [
      "체리의 가격은 2000원 입니다.\n"
     ]
    }
   ],
   "source": [
    "search = input(\"과일 이름을 입력하세요.\")\n",
    "\n",
    "fruit = ['체리','키위','레몬']\n",
    "price = [2000,3000,2500]\n",
    "\n",
    "menu = dict(zip(fruit,price))\n",
    "menu[search]\n",
    "\n",
    "print(f\"{search}의 가격은 {menu[search]}원 입니다.\")"
   ]
  },
  {
   "cell_type": "code",
   "execution_count": 42,
   "id": "3dee477a-f94a-4761-8eda-306774f26e33",
   "metadata": {},
   "outputs": [
    {
     "name": "stdin",
     "output_type": "stream",
     "text": [
      "과일 이름을 입력하세요. 레몬\n"
     ]
    },
    {
     "name": "stdout",
     "output_type": "stream",
     "text": [
      "레몬의 가격은 2700원 입니다.\n"
     ]
    }
   ],
   "source": [
    "search = input(\"과일 이름을 입력하세요.\")\n",
    "\n",
    "fruit = ['체리','키위','레몬']\n",
    "price = [2000,3000,2700]\n",
    "\n",
    "menu = dict(zip(fruit,price))\n",
    "menu[search]\n",
    "\n",
    "print(f\"{search}의 가격은 {menu[search]}원 입니다.\")"
   ]
  },
  {
   "cell_type": "code",
   "execution_count": 37,
   "id": "711b23cf-fb0a-4505-863d-3cc76e0ae026",
   "metadata": {},
   "outputs": [
    {
     "name": "stdout",
     "output_type": "stream",
     "text": [
      "{'체리': 2000, '키위': 3000, '레몬': 2500}\n"
     ]
    }
   ],
   "source": [
    "fruit = ['체리','키위','레몬']\n",
    "price = [2000,3000,2500]\n",
    "\n",
    "menu = dict(zip(fruit,price))\n",
    "print(menu)"
   ]
  },
  {
   "cell_type": "code",
   "execution_count": 6,
   "id": "5028eaaf-6ddc-4e06-be4e-ff5fa9238d92",
   "metadata": {},
   "outputs": [
    {
     "name": "stdin",
     "output_type": "stream",
     "text": [
      "이름 가\n"
     ]
    },
    {
     "name": "stdout",
     "output_type": "stream",
     "text": [
      "가의 나이는 1입니다\n"
     ]
    }
   ],
   "source": [
    "input_value = input(\"이름\")\n",
    "\n",
    "name = ['가','나','다','라']\n",
    "age = [1,2,3,4]\n",
    "\n",
    "a = dict(zip(name,age))\n",
    "a[input_value]\n",
    "\n",
    "print(f\"{input_value}의 나이는 {a[input_value]}입니다\")"
   ]
  },
  {
   "cell_type": "code",
   "execution_count": 3,
   "id": "76a90af8-8498-46dd-adea-e0d0f667041e",
   "metadata": {},
   "outputs": [
    {
     "name": "stdin",
     "output_type": "stream",
     "text": [
      "이름을 기입해주세요 뽀로로 루피 크롱 스누피\n",
      "몸무게를 입력해주세요 20.4 16.2 22.3 5.2\n"
     ]
    },
    {
     "name": "stdout",
     "output_type": "stream",
     "text": [
      "{'뽀로로': 20.4, '루피': 16.2, '크롱': 22.3, '스누피': 5.2}\n"
     ]
    }
   ],
   "source": [
    "name = input(\"이름을 기입해주세요\").split()\n",
    "weight = input(\"몸무게를 입력해주세요\").split(\" \")\n",
    "\n",
    "weight = list(map(float,weight))\n",
    "    \n",
    "a = dict(zip(name,weight))\n",
    "print(a)"
   ]
  },
  {
   "cell_type": "code",
   "execution_count": 8,
   "id": "34194994-07cb-4eb0-896e-adafb5108918",
   "metadata": {},
   "outputs": [
    {
     "name": "stdin",
     "output_type": "stream",
     "text": [
      "이름은 무엇인가요? 조세연\n"
     ]
    },
    {
     "name": "stdout",
     "output_type": "stream",
     "text": [
      "조세연님 몸무게는 잘 모르겠어요.. ㅜ\n"
     ]
    }
   ],
   "source": [
    "dict_a = dict(zip((\"뽀로로\",\"루피\",\"크롱\"),(12.2,14.5,78.5)))\n",
    "name = input(\"이름은 무엇인가요?\")\n",
    "if name in dict_a :\n",
    "    print(f\"아, {name}님이시군요! {dict_a[name]}kg이시네요!\")\n",
    "else:\n",
    "    print(f\"{name}님 몸무게는 잘 모르겠어요.. ㅜ\")"
   ]
  },
  {
   "cell_type": "code",
   "execution_count": 11,
   "id": "7e659649-1d57-46b0-9b18-1481e4d844e3",
   "metadata": {},
   "outputs": [
    {
     "name": "stdout",
     "output_type": "stream",
     "text": [
      "{'체리': 2000, '키위': 3000, '레몬': 2500, '샤인머스켓': 5000}\n"
     ]
    }
   ],
   "source": [
    "fruit = ['체리','키위','레몬']\n",
    "price = [2000,3000,2500]\n",
    "\n",
    "menu = dict(zip(fruit,price))\n",
    "menu[\"샤인머스켓\"] = 5000 \n",
    "print(menu)"
   ]
  },
  {
   "cell_type": "code",
   "execution_count": 12,
   "id": "9c58ec8f-8b19-4dfa-a23a-93e3dbb6ed75",
   "metadata": {},
   "outputs": [
    {
     "name": "stdout",
     "output_type": "stream",
     "text": [
      "[1, 2, 3, 4, 5, 6, 7, 8, 9]\n"
     ]
    }
   ],
   "source": [
    "list_c = [i for i in range(1, 10)]\n",
    "print(list_c)"
   ]
  },
  {
   "cell_type": "code",
   "execution_count": 13,
   "id": "5f8ac2f9-3b56-4c61-b8d5-44b89468cc21",
   "metadata": {},
   "outputs": [
    {
     "name": "stdout",
     "output_type": "stream",
     "text": [
      "<class 'list'>\n",
      "[1, 4, 9, 16, 25, 36, 49, 64, 81]\n"
     ]
    }
   ],
   "source": [
    "prac_result = [i**2 for i in range(1,10)]\n",
    "print(type(prac_result))\n",
    "print(prac_result)"
   ]
  },
  {
   "cell_type": "code",
   "execution_count": 13,
   "id": "a2fc8a60-bbae-4391-8c3e-48a6ea396b67",
   "metadata": {},
   "outputs": [
    {
     "name": "stdout",
     "output_type": "stream",
     "text": [
      "<class 'list'>\n",
      "[1, 4, 9, 16, 25, 36, 49, 64, 81]\n"
     ]
    }
   ],
   "source": [
    "prac_result = [i*i for i in range(1,10)]\n",
    "print(type(prac_result))\n",
    "print(prac_result)"
   ]
  },
  {
   "cell_type": "code",
   "execution_count": 14,
   "id": "f545b149-4c46-4059-8472-66b89d3a38ae",
   "metadata": {},
   "outputs": [
    {
     "name": "stdout",
     "output_type": "stream",
     "text": [
      "[1, 3, 5, 7, 9]\n"
     ]
    }
   ],
   "source": [
    "prac_result2 = [i for i in range(1,10,2)]\n",
    "print(prac_result2)"
   ]
  },
  {
   "cell_type": "code",
   "execution_count": 22,
   "id": "d3b51d54-01b9-4699-a35b-706acfeb9d61",
   "metadata": {},
   "outputs": [
    {
     "name": "stdout",
     "output_type": "stream",
     "text": [
      "['a', 'b', 'c', 'd', 'e', 'f', 'g']\n"
     ]
    }
   ],
   "source": [
    "a = 'abcdefg'\n",
    "prac_result3 = [i for i in a]\n",
    "\n",
    "print(prac_result3)"
   ]
  },
  {
   "cell_type": "code",
   "execution_count": 21,
   "id": "38f5c7c8-5505-402f-bc32-7d40037fbabe",
   "metadata": {},
   "outputs": [
    {
     "name": "stdout",
     "output_type": "stream",
     "text": [
      "[1, 2, 3, 4, 5, 6]\n"
     ]
    }
   ],
   "source": [
    "k = 'abcdefghigklmopqrstuvwxyz'\n",
    "r = [x for x in k]\n",
    "print(r)"
   ]
  },
  {
   "cell_type": "code",
   "execution_count": 32,
   "id": "bcd4b43d-3d7b-41a8-a8d5-8f9b15f0a1e1",
   "metadata": {},
   "outputs": [
    {
     "ename": "NameError",
     "evalue": "name 'i' is not defined",
     "output_type": "error",
     "traceback": [
      "\u001b[1;31m---------------------------------------------------------------------------\u001b[0m",
      "\u001b[1;31mNameError\u001b[0m                                 Traceback (most recent call last)",
      "\u001b[1;32m~\\AppData\\Local\\Temp\\ipykernel_17900\\938456477.py\u001b[0m in \u001b[0;36m<module>\u001b[1;34m\u001b[0m\n\u001b[1;32m----> 1\u001b[1;33m \u001b[0mprac_result4\u001b[0m \u001b[1;33m=\u001b[0m \u001b[1;33m[\u001b[0m\u001b[0mi\u001b[0m \u001b[1;32mfor\u001b[0m \u001b[0mi\u001b[0m \u001b[1;32min\u001b[0m \u001b[1;33m(\u001b[0m\u001b[0mrange\u001b[0m\u001b[1;33m(\u001b[0m\u001b[1;36m2\u001b[0m\u001b[1;33m,\u001b[0m\u001b[1;36m11\u001b[0m\u001b[1;33m)\u001b[0m\u001b[1;33m)\u001b[0m \u001b[1;33m+\u001b[0m \u001b[0mi\u001b[0m \u001b[1;32mfor\u001b[0m \u001b[0mi\u001b[0m \u001b[1;32min\u001b[0m \u001b[1;34m\"JQKA\"\u001b[0m\u001b[1;33m]\u001b[0m\u001b[1;33m\u001b[0m\u001b[1;33m\u001b[0m\u001b[0m\n\u001b[0m\u001b[0;32m      2\u001b[0m \u001b[0mprint\u001b[0m\u001b[1;33m(\u001b[0m\u001b[0mprac_result4\u001b[0m\u001b[1;33m)\u001b[0m\u001b[1;33m\u001b[0m\u001b[1;33m\u001b[0m\u001b[0m\n",
      "\u001b[1;31mNameError\u001b[0m: name 'i' is not defined"
     ]
    }
   ],
   "source": [
    "prac_result4 = [i for i in (range(2,11)) + i for i in \"JQKA\"]\n",
    "print(prac_result4)"
   ]
  },
  {
   "cell_type": "code",
   "execution_count": 35,
   "id": "680d9223-70af-473a-8aa5-a2c7c3817310",
   "metadata": {},
   "outputs": [
    {
     "name": "stdout",
     "output_type": "stream",
     "text": [
      "['2', '3', '4', '5', '6', '7', '8', '9', '10', 'J', 'Q', 'K', 'A']\n"
     ]
    }
   ],
   "source": [
    "prac_result4 = [str(i) for i in range(2,11)] + [i for i in 'JQKA']\n",
    "print(prac_result4)"
   ]
  },
  {
   "cell_type": "code",
   "execution_count": 41,
   "id": "e40ba9ba-691a-49d9-88ad-68d5617b68bf",
   "metadata": {},
   "outputs": [
    {
     "name": "stdout",
     "output_type": "stream",
     "text": [
      "[\"['2', '3', '4', '5', '6', '7', '8', '9', '10', 'J', 'Q', 'K', 'A']\", \"['2', '3', '4', '5', '6', '7', '8', '9', '10', 'J', 'Q', 'K', 'A']\", \"['2', '3', '4', '5', '6', '7', '8', '9', '10', 'J', 'Q', 'K', 'A']\", \"['2', '3', '4', '5', '6', '7', '8', '9', '10', 'J', 'Q', 'K', 'A']\"]\n"
     ]
    }
   ],
   "source": [
    "prac_result5 = [str(prac_result4) for i in range(4)]\n",
    "print(prac_result5)"
   ]
  },
  {
   "cell_type": "code",
   "execution_count": 47,
   "id": "ad1bab3b-c4db-493e-a3c3-6670a02b6d0c",
   "metadata": {},
   "outputs": [
    {
     "name": "stdout",
     "output_type": "stream",
     "text": [
      "[['2', '3', '4', '5', '6', '7', '8', '9', '10', 'J', 'Q', 'K', 'A'], ['2', '3', '4', '5', '6', '7', '8', '9', '10', 'J', 'Q', 'K', 'A'], ['2', '3', '4', '5', '6', '7', '8', '9', '10', 'J', 'Q', 'K', 'A'], ['2', '3', '4', '5', '6', '7', '8', '9', '10', 'J', 'Q', 'K', 'A']]\n"
     ]
    }
   ],
   "source": [
    "# \n",
    "\n",
    "prac_result5 = [(prac_result4) for _ in range(4)]\n",
    "print(prac_result5)"
   ]
  },
  {
   "cell_type": "code",
   "execution_count": 48,
   "id": "a792ede3-7d8e-4f28-8293-5dd0b359739c",
   "metadata": {},
   "outputs": [
    {
     "name": "stdout",
     "output_type": "stream",
     "text": [
      "['two', '3', '4', '5', '6', '7', '8', '9', '10', 'J', 'Q', 'K', 'A']\n"
     ]
    }
   ],
   "source": [
    "prac_result4[0] = \"two\"\n",
    "print(prac_result4)"
   ]
  },
  {
   "cell_type": "code",
   "execution_count": 49,
   "id": "65a24340-7d0b-44c0-9c8b-d037116b3fc6",
   "metadata": {},
   "outputs": [
    {
     "name": "stdout",
     "output_type": "stream",
     "text": [
      "[['two', '3', '4', '5', '6', '7', '8', '9', '10', 'J', 'Q', 'K', 'A'], ['two', '3', '4', '5', '6', '7', '8', '9', '10', 'J', 'Q', 'K', 'A'], ['two', '3', '4', '5', '6', '7', '8', '9', '10', 'J', 'Q', 'K', 'A'], ['two', '3', '4', '5', '6', '7', '8', '9', '10', 'J', 'Q', 'K', 'A']]\n"
     ]
    }
   ],
   "source": [
    "print(prac_result5)"
   ]
  },
  {
   "cell_type": "code",
   "execution_count": 50,
   "id": "faae433f-6a94-48d5-b6c7-542f7fa255b4",
   "metadata": {},
   "outputs": [
    {
     "name": "stdout",
     "output_type": "stream",
     "text": [
      "[1, 4, 9]\n"
     ]
    }
   ],
   "source": [
    "oldlist = [1, 2, 'A', False, 3]\n",
    " \n",
    "newlist = [i*i for i in oldlist if type(i)==int]\n",
    " \n",
    "print(newlist)"
   ]
  },
  {
   "cell_type": "code",
   "execution_count": 54,
   "id": "44260eae-9893-4b70-b4f6-22b2dd61bbeb",
   "metadata": {},
   "outputs": [
    {
     "name": "stdout",
     "output_type": "stream",
     "text": [
      "[1, 2, 3]\n"
     ]
    }
   ],
   "source": [
    "oldlist = [1, 2, 'A', False, 3]\n",
    " \n",
    "newlist = [i for i in oldlist if type(i)==int]\n",
    " \n",
    "print(newlist)"
   ]
  },
  {
   "cell_type": "code",
   "execution_count": 56,
   "id": "438661f8-e384-4a32-a16c-31bae1fb2833",
   "metadata": {},
   "outputs": [
    {
     "name": "stdout",
     "output_type": "stream",
     "text": [
      "2436647227776\n",
      "2436647121984\n",
      "False\n",
      "True\n"
     ]
    }
   ],
   "source": [
    "old_list = list(range(10))\n",
    "new_list = old_list[:]\n",
    "\n",
    "print(id(old_list))\n",
    "print(id(new_list))\n",
    "# ID값을 비교\n",
    "print(old_list is new_list)\n",
    "# (결과)값을 비교\n",
    "print(old_list == new_list)"
   ]
  },
  {
   "cell_type": "code",
   "execution_count": null,
   "id": "d1a71ef1-b50a-4711-a852-321e8674477b",
   "metadata": {},
   "outputs": [],
   "source": []
  }
 ],
 "metadata": {
  "kernelspec": {
   "display_name": "Python 3 (ipykernel)",
   "language": "python",
   "name": "python3"
  },
  "language_info": {
   "codemirror_mode": {
    "name": "ipython",
    "version": 3
   },
   "file_extension": ".py",
   "mimetype": "text/x-python",
   "name": "python",
   "nbconvert_exporter": "python",
   "pygments_lexer": "ipython3",
   "version": "3.9.13"
  }
 },
 "nbformat": 4,
 "nbformat_minor": 5
}
