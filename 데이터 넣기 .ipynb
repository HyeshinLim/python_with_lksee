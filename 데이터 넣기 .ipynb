{
 "cells": [
  {
   "cell_type": "markdown",
   "id": "d6b52180-c36f-44d8-a9d9-9b6c1b5e3d19",
   "metadata": {},
   "source": [
    "pip install pymysql"
   ]
  },
  {
   "cell_type": "code",
   "execution_count": 1,
   "id": "75126425-e532-4828-9064-7ea15c6cc078",
   "metadata": {},
   "outputs": [],
   "source": [
    "import pymysql"
   ]
  },
  {
   "cell_type": "code",
   "execution_count": 43,
   "id": "4e2ccdc9-9cbe-4ebf-894f-06dd65957dc4",
   "metadata": {},
   "outputs": [],
   "source": [
    "try:\n",
    "    con = pymysql.connect(host='192.168.56.101', \n",
    "                          user='encore', password='123', \n",
    "                          charset='utf8', db='play')\n",
    "    cur = con.cursor()\n",
    "except Exception as e:\n",
    "    print (\"error ->\", e)\n",
    "    "
   ]
  },
  {
   "cell_type": "code",
   "execution_count": null,
   "id": "6e99c2ac-8cfa-4765-9162-6ac5d88d46a9",
   "metadata": {},
   "outputs": [],
   "source": [
    "cur.execute(\"\"\"CREATE TABLE `class3` (\n",
    "\t`InvoiceNo` VARCHAR(30), \n",
    " `StockCode` VARCHAR(30),\n",
    " `Description` VARCHAR(255),\n",
    " `Quantity` INT(3),\n",
    " `UnitPrice` FLOAT(5,2),\n",
    " \t`CustomerID` VARCHAR(30),\n",
    " `Country` VARCHAR(45),\n",
    " `InvoiceDate` DATE \n",
    ")\"\"\")"
   ]
  },
  {
   "cell_type": "code",
   "execution_count": 52,
   "id": "ee0143fd-b800-40aa-bc77-2c1858e3a362",
   "metadata": {},
   "outputs": [
    {
     "name": "stderr",
     "output_type": "stream",
     "text": [
      "39492it [01:03, 624.77it/s]\n"
     ]
    }
   ],
   "source": [
    "sql = \"INSERT INTO newjeans VALUES(%s, %s, %s,%s,%s,%s,%s,%s)\"\n",
    "with open(\"./data/dataset3.csv\", \"r\", encoding='utf-8') as f:\n",
    "    for idx, line in tqdm(enumerate(f)):\n",
    "        if idx != 0:\n",
    "            cur.execute(sql, [x.replace('\"', \"\") for x in line.split(\";\")])\n",
    "con.commit()"
   ]
  },
  {
   "cell_type": "code",
   "execution_count": 53,
   "id": "8ffc078c-55bd-4694-a80a-74f280214012",
   "metadata": {},
   "outputs": [
    {
     "data": {
      "text/plain": [
       "1"
      ]
     },
     "execution_count": 53,
     "metadata": {},
     "output_type": "execute_result"
    }
   ],
   "source": [
    "cur.execute(\"select count(*) from newjeans\")"
   ]
  },
  {
   "cell_type": "code",
   "execution_count": 54,
   "id": "3be8461a-71ae-427c-b994-55962424cde5",
   "metadata": {},
   "outputs": [
    {
     "data": {
      "text/plain": [
       "((39491,),)"
      ]
     },
     "execution_count": 54,
     "metadata": {},
     "output_type": "execute_result"
    }
   ],
   "source": [
    "cur.fetchall()"
   ]
  },
  {
   "cell_type": "code",
   "execution_count": null,
   "id": "ca2499da-9c6d-4ac0-a1ea-54fde8d57891",
   "metadata": {},
   "outputs": [],
   "source": []
  }
 ],
 "metadata": {
  "kernelspec": {
   "display_name": "Python 3 (ipykernel)",
   "language": "python",
   "name": "python3"
  },
  "language_info": {
   "codemirror_mode": {
    "name": "ipython",
    "version": 3
   },
   "file_extension": ".py",
   "mimetype": "text/x-python",
   "name": "python",
   "nbconvert_exporter": "python",
   "pygments_lexer": "ipython3",
   "version": "3.9.13"
  }
 },
 "nbformat": 4,
 "nbformat_minor": 5
}
