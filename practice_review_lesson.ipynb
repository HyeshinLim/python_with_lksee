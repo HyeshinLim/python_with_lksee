{
 "cells": [
  {
   "cell_type": "code",
   "execution_count": 14,
   "id": "c52cc0fb-6ac1-4bc8-9884-cf2b0f3ae86a",
   "metadata": {},
   "outputs": [
    {
     "name": "stdout",
     "output_type": "stream",
     "text": [
      "False\n"
     ]
    }
   ],
   "source": [
    "# 공무원 시험 결과가 국어, 영어, 한국사, 선택 교과1, 선택 교과2의 점수가 리스트 형태로\n",
    "# 제공됩니다. 이때 한 과목이라도 60점 미만이면 과락입니다. 과락이면 False를 과락이\n",
    "# 아니면 True를 출력하도록 코드를 완성해보세요.\n",
    "\n",
    "## [국어, 영어, 한국사, 선택 교과1, 선택 교과2]\n",
    "##scores = [88, 73, 89, 59, 77]\n",
    "##????? \n",
    "\n",
    "#if문으로만 문제풀기\n",
    "\n",
    "scores = [88,73,89,59,77]\n",
    "\n",
    "if scores[0] < 60:\n",
    "    print(\"False\")\n",
    "elif scores[1] < 60:\n",
    "    print(\"False\")\n",
    "elif scores[2] < 60:\n",
    "    print(\"False\")\n",
    "elif scores[3] < 60:\n",
    "    print(\"False\")\n",
    "elif scores[4] < 60:\n",
    "    print(\"False\")\n",
    "else:\n",
    "    print(\"True\")"
   ]
  },
  {
   "cell_type": "code",
   "execution_count": 22,
   "id": "8f229d8a-4535-4c35-89e8-ccc919b36808",
   "metadata": {},
   "outputs": [
    {
     "name": "stdout",
     "output_type": "stream",
     "text": [
      "True\n",
      "True\n",
      "True\n",
      "False\n",
      "True\n"
     ]
    }
   ],
   "source": [
    "# 공무원 시험 결과가 국어, 영어, 한국사, 선택 교과1, 선택 교과2의 점수가 리스트 형태로\n",
    "# 제공됩니다. 이때 한 과목이라도 60점 미만이면 과락입니다. 과락이면 False를 과락이\n",
    "# 아니면 True를 출력하도록 코드를 완성해보세요.\n",
    "\n",
    "## [국어, 영어, 한국사, 선택 교과1, 선택 교과2]\n",
    "##scores = [88, 73, 89, 59, 77]\n",
    "##????? \n",
    "\n",
    "#for문으로 문제풀기\n",
    "\n",
    "scores = [88,73,89,59,77]\n",
    "\n",
    "for i in scores:\n",
    "    if i<60:\n",
    "        print(\"False\")\n",
    "    else:\n",
    "        print(\"True\")\n",
    "       "
   ]
  }
 ],
 "metadata": {
  "kernelspec": {
   "display_name": "Python 3 (ipykernel)",
   "language": "python",
   "name": "python3"
  },
  "language_info": {
   "codemirror_mode": {
    "name": "ipython",
    "version": 3
   },
   "file_extension": ".py",
   "mimetype": "text/x-python",
   "name": "python",
   "nbconvert_exporter": "python",
   "pygments_lexer": "ipython3",
   "version": "3.9.13"
  }
 },
 "nbformat": 4,
 "nbformat_minor": 5
}
